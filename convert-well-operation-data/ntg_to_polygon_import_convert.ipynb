{
 "cells": [
  {
   "cell_type": "markdown",
   "id": "5fd28253",
   "metadata": {
    "toc": true
   },
   "source": [
    "<h1>Содержание<span class=\"tocSkip\"></span></h1>\n",
    "<div class=\"toc\"><ul class=\"toc-item\"><li><span><a href=\"#Импорт-данных-и-обзор\" data-toc-modified-id=\"Импорт-данных-и-обзор-1\"><span class=\"toc-item-num\">1&nbsp;&nbsp;</span>Импорт данных и обзор</a></span></li><li><span><a href=\"#Предобработка\" data-toc-modified-id=\"Предобработка-2\"><span class=\"toc-item-num\">2&nbsp;&nbsp;</span>Предобработка</a></span></li><li><span><a href=\"#Выделение-переведенных-скважин\" data-toc-modified-id=\"Выделение-переведенных-скважин-3\"><span class=\"toc-item-num\">3&nbsp;&nbsp;</span>Выделение переведенных скважин</a></span></li><li><span><a href=\"#Подготовка-данных-к-выгрузке\" data-toc-modified-id=\"Подготовка-данных-к-выгрузке-4\"><span class=\"toc-item-num\">4&nbsp;&nbsp;</span>Подготовка данных к выгрузке</a></span><ul class=\"toc-item\"><li><span><a href=\"#Готовим-лист-ONE\" data-toc-modified-id=\"Готовим-лист-ONE-4.1\"><span class=\"toc-item-num\">4.1&nbsp;&nbsp;</span>Готовим лист ONE</a></span></li><li><span><a href=\"#Готовим-лист-TWO\" data-toc-modified-id=\"Готовим-лист-TWO-4.2\"><span class=\"toc-item-num\">4.2&nbsp;&nbsp;</span>Готовим лист TWO</a></span></li><li><span><a href=\"#Готовим-лист-THREE\" data-toc-modified-id=\"Готовим-лист-THREE-4.3\"><span class=\"toc-item-num\">4.3&nbsp;&nbsp;</span>Готовим лист THREE</a></span></li></ul></li><li><span><a href=\"#Выгрузка-в-Excel\" data-toc-modified-id=\"Выгрузка-в-Excel-5\"><span class=\"toc-item-num\">5&nbsp;&nbsp;</span>Выгрузка в Excel</a></span></li></ul></div>"
   ]
  },
  {
   "cell_type": "code",
   "execution_count": 1,
   "id": "34bf3360",
   "metadata": {},
   "outputs": [],
   "source": [
    "import pandas as pd\n",
    "import numpy as np\n",
    "from openpyxl import load_workbook\n",
    "from datetime import datetime"
   ]
  },
  {
   "cell_type": "markdown",
   "id": "14de76d4",
   "metadata": {},
   "source": [
    "## Импорт данных и обзор"
   ]
  },
  {
   "cell_type": "code",
   "execution_count": 2,
   "id": "654f9a29",
   "metadata": {},
   "outputs": [],
   "source": [
    "try:\n",
    "    data = pd.read_excel(\n",
    "        'выгрузка ngt.xlsx')\n",
    "except ImportError:\n",
    "    print('Ошибка в импорте')"
   ]
  },
  {
   "cell_type": "code",
   "execution_count": 3,
   "id": "81c844d8",
   "metadata": {},
   "outputs": [
    {
     "data": {
      "text/html": [
       "<div>\n",
       "<style scoped>\n",
       "    .dataframe tbody tr th:only-of-type {\n",
       "        vertical-align: middle;\n",
       "    }\n",
       "\n",
       "    .dataframe tbody tr th {\n",
       "        vertical-align: top;\n",
       "    }\n",
       "\n",
       "    .dataframe thead th {\n",
       "        text-align: right;\n",
       "    }\n",
       "</style>\n",
       "<table border=\"1\" class=\"dataframe\">\n",
       "  <thead>\n",
       "    <tr style=\"text-align: right;\">\n",
       "      <th></th>\n",
       "      <th>№ скважины</th>\n",
       "      <th>Дата</th>\n",
       "      <th>Время работы в добыче, часы</th>\n",
       "      <th>Время работы под закачкой, часы</th>\n",
       "      <th>Дебит нефти за посл.месяц, м3/сут</th>\n",
       "      <th>Дебит попутного газа,  м3/сут</th>\n",
       "      <th>Дебит попутного газа, тыс. м3/сут</th>\n",
       "      <th>Дебит воды за последний месяц, м3/сут</th>\n",
       "      <th>Приемистость за последний месяц, м3/сут</th>\n",
       "      <th>Координата X</th>\n",
       "      <th>Координата Y</th>\n",
       "      <th>Пластовое давление (ТР), атм</th>\n",
       "      <th>Забойное давление (ТР), атм</th>\n",
       "      <th>ГДИС - Дата</th>\n",
       "      <th>ГДИС - Pпл на ВНК, атм.</th>\n",
       "      <th>ГДИС - Рзаб, атм</th>\n",
       "    </tr>\n",
       "  </thead>\n",
       "  <tbody>\n",
       "    <tr>\n",
       "      <th>0</th>\n",
       "      <td>2892</td>\n",
       "      <td>2001-11-01</td>\n",
       "      <td>0.0</td>\n",
       "      <td>0.0</td>\n",
       "      <td>0.0</td>\n",
       "      <td>0.0</td>\n",
       "      <td>0.0</td>\n",
       "      <td>0.0</td>\n",
       "      <td>0.0</td>\n",
       "      <td>424533</td>\n",
       "      <td>7049854</td>\n",
       "      <td>NaN</td>\n",
       "      <td>NaN</td>\n",
       "      <td>NaT</td>\n",
       "      <td>NaN</td>\n",
       "      <td>NaN</td>\n",
       "    </tr>\n",
       "    <tr>\n",
       "      <th>1</th>\n",
       "      <td>2892</td>\n",
       "      <td>2001-12-01</td>\n",
       "      <td>0.0</td>\n",
       "      <td>0.0</td>\n",
       "      <td>0.0</td>\n",
       "      <td>0.0</td>\n",
       "      <td>0.0</td>\n",
       "      <td>0.0</td>\n",
       "      <td>0.0</td>\n",
       "      <td>424533</td>\n",
       "      <td>7049854</td>\n",
       "      <td>NaN</td>\n",
       "      <td>NaN</td>\n",
       "      <td>NaT</td>\n",
       "      <td>NaN</td>\n",
       "      <td>NaN</td>\n",
       "    </tr>\n",
       "    <tr>\n",
       "      <th>2</th>\n",
       "      <td>2892</td>\n",
       "      <td>2002-01-01</td>\n",
       "      <td>0.0</td>\n",
       "      <td>0.0</td>\n",
       "      <td>0.0</td>\n",
       "      <td>0.0</td>\n",
       "      <td>0.0</td>\n",
       "      <td>0.0</td>\n",
       "      <td>0.0</td>\n",
       "      <td>424533</td>\n",
       "      <td>7049854</td>\n",
       "      <td>NaN</td>\n",
       "      <td>NaN</td>\n",
       "      <td>NaT</td>\n",
       "      <td>NaN</td>\n",
       "      <td>NaN</td>\n",
       "    </tr>\n",
       "    <tr>\n",
       "      <th>3</th>\n",
       "      <td>2892</td>\n",
       "      <td>2002-02-01</td>\n",
       "      <td>0.0</td>\n",
       "      <td>0.0</td>\n",
       "      <td>0.0</td>\n",
       "      <td>0.0</td>\n",
       "      <td>0.0</td>\n",
       "      <td>0.0</td>\n",
       "      <td>0.0</td>\n",
       "      <td>424533</td>\n",
       "      <td>7049854</td>\n",
       "      <td>NaN</td>\n",
       "      <td>NaN</td>\n",
       "      <td>NaT</td>\n",
       "      <td>NaN</td>\n",
       "      <td>NaN</td>\n",
       "    </tr>\n",
       "    <tr>\n",
       "      <th>4</th>\n",
       "      <td>2892</td>\n",
       "      <td>2002-03-01</td>\n",
       "      <td>0.0</td>\n",
       "      <td>0.0</td>\n",
       "      <td>0.0</td>\n",
       "      <td>0.0</td>\n",
       "      <td>0.0</td>\n",
       "      <td>0.0</td>\n",
       "      <td>0.0</td>\n",
       "      <td>424533</td>\n",
       "      <td>7049854</td>\n",
       "      <td>NaN</td>\n",
       "      <td>NaN</td>\n",
       "      <td>NaT</td>\n",
       "      <td>NaN</td>\n",
       "      <td>NaN</td>\n",
       "    </tr>\n",
       "  </tbody>\n",
       "</table>\n",
       "</div>"
      ],
      "text/plain": [
       "  № скважины       Дата  Время работы в добыче, часы  \\\n",
       "0       2892 2001-11-01                          0.0   \n",
       "1       2892 2001-12-01                          0.0   \n",
       "2       2892 2002-01-01                          0.0   \n",
       "3       2892 2002-02-01                          0.0   \n",
       "4       2892 2002-03-01                          0.0   \n",
       "\n",
       "   Время работы под закачкой, часы  Дебит нефти за посл.месяц, м3/сут  \\\n",
       "0                              0.0                                0.0   \n",
       "1                              0.0                                0.0   \n",
       "2                              0.0                                0.0   \n",
       "3                              0.0                                0.0   \n",
       "4                              0.0                                0.0   \n",
       "\n",
       "   Дебит попутного газа,  м3/сут  Дебит попутного газа, тыс. м3/сут  \\\n",
       "0                            0.0                                0.0   \n",
       "1                            0.0                                0.0   \n",
       "2                            0.0                                0.0   \n",
       "3                            0.0                                0.0   \n",
       "4                            0.0                                0.0   \n",
       "\n",
       "   Дебит воды за последний месяц, м3/сут  \\\n",
       "0                                    0.0   \n",
       "1                                    0.0   \n",
       "2                                    0.0   \n",
       "3                                    0.0   \n",
       "4                                    0.0   \n",
       "\n",
       "   Приемистость за последний месяц, м3/сут  Координата X  Координата Y  \\\n",
       "0                                      0.0        424533       7049854   \n",
       "1                                      0.0        424533       7049854   \n",
       "2                                      0.0        424533       7049854   \n",
       "3                                      0.0        424533       7049854   \n",
       "4                                      0.0        424533       7049854   \n",
       "\n",
       "   Пластовое давление (ТР), атм  Забойное давление (ТР), атм ГДИС - Дата  \\\n",
       "0                           NaN                          NaN         NaT   \n",
       "1                           NaN                          NaN         NaT   \n",
       "2                           NaN                          NaN         NaT   \n",
       "3                           NaN                          NaN         NaT   \n",
       "4                           NaN                          NaN         NaT   \n",
       "\n",
       "   ГДИС - Pпл на ВНК, атм.  ГДИС - Рзаб, атм  \n",
       "0                      NaN               NaN  \n",
       "1                      NaN               NaN  \n",
       "2                      NaN               NaN  \n",
       "3                      NaN               NaN  \n",
       "4                      NaN               NaN  "
      ]
     },
     "execution_count": 3,
     "metadata": {},
     "output_type": "execute_result"
    }
   ],
   "source": [
    "data.head()"
   ]
  },
  {
   "cell_type": "code",
   "execution_count": 4,
   "id": "ceb8336f",
   "metadata": {},
   "outputs": [
    {
     "name": "stdout",
     "output_type": "stream",
     "text": [
      "<class 'pandas.core.frame.DataFrame'>\n",
      "RangeIndex: 8058 entries, 0 to 8057\n",
      "Data columns (total 16 columns):\n",
      " #   Column                                   Non-Null Count  Dtype         \n",
      "---  ------                                   --------------  -----         \n",
      " 0   № скважины                               8058 non-null   object        \n",
      " 1   Дата                                     8058 non-null   datetime64[ns]\n",
      " 2   Время работы в добыче, часы              7821 non-null   float64       \n",
      " 3   Время работы под закачкой, часы          7821 non-null   float64       \n",
      " 4   Дебит нефти за посл.месяц, м3/сут        7821 non-null   float64       \n",
      " 5   Дебит попутного газа,  м3/сут            8058 non-null   float64       \n",
      " 6   Дебит попутного газа, тыс. м3/сут        8058 non-null   float64       \n",
      " 7   Дебит воды за последний месяц, м3/сут    7821 non-null   float64       \n",
      " 8   Приемистость за последний месяц, м3/сут  7821 non-null   float64       \n",
      " 9   Координата X                             8058 non-null   int64         \n",
      " 10  Координата Y                             8058 non-null   int64         \n",
      " 11  Пластовое давление (ТР), атм             3356 non-null   float64       \n",
      " 12  Забойное давление (ТР), атм              3356 non-null   float64       \n",
      " 13  ГДИС - Дата                              4179 non-null   datetime64[ns]\n",
      " 14  ГДИС - Pпл на ВНК, атм.                  4179 non-null   float64       \n",
      " 15  ГДИС - Рзаб, атм                         4179 non-null   float64       \n",
      "dtypes: datetime64[ns](2), float64(11), int64(2), object(1)\n",
      "memory usage: 1007.4+ KB\n"
     ]
    }
   ],
   "source": [
    "data.info()"
   ]
  },
  {
   "cell_type": "markdown",
   "id": "8b68b77e",
   "metadata": {},
   "source": [
    "## Предобработка"
   ]
  },
  {
   "cell_type": "markdown",
   "id": "d7cd603b",
   "metadata": {},
   "source": [
    "Переименование колонок по стандарту"
   ]
  },
  {
   "cell_type": "code",
   "execution_count": 5,
   "id": "825504e8",
   "metadata": {},
   "outputs": [],
   "source": [
    "try:\n",
    "    data = data.rename(columns={\n",
    "        '№ скважины': 'well',\n",
    "        'Дата': 'date',\n",
    "        'Время работы в добыче, часы': 'prodaction_work_time_h',\n",
    "        'Время работы под закачкой, часы': 'injection_work_time_h',\n",
    "        'Дебит нефти за посл.месяц, м3/сут': 'last_month_oil_flow_rate_m3_d',\n",
    "        'Дебит попутного газа, тыс. м3/сут': 'last_month_gas_flow_rate_m3_d',\n",
    "        'Дебит воды за последний месяц, м3/сут': 'last_month_water_flow_rate_m3_d',\n",
    "        'Приемистость за последний месяц, м3/сут': 'last_month_pick_up_rate_m3_d',\n",
    "        'Пластовое давление (ТР), атм': 'reservoir_pressure_TR_atm',\n",
    "        'Забойное давление (ТР), атм': 'downhole_pressure_TR_atm',\n",
    "        'ГДИС - Дата': 'GDI_date',\n",
    "        'ГДИС - Pпл на ВНК, атм.': 'GDI_reservoir_pressure_atm',\n",
    "        'ГДИС - Рзаб, атм': 'GDI_downhole_pressure_atm',\n",
    "        'Координата X': 'well_x',\n",
    "        'Координата Y': 'well_y'\n",
    "    })\n",
    "\n",
    "except Exception:\n",
    "    print('Ошибка в названиях колонок')"
   ]
  },
  {
   "cell_type": "markdown",
   "id": "408e506b",
   "metadata": {},
   "source": [
    "Убираем ненужное (часто в выгруженном файле больше данных, чем нам необходимо)"
   ]
  },
  {
   "cell_type": "code",
   "execution_count": 6,
   "id": "759b6130",
   "metadata": {},
   "outputs": [],
   "source": [
    "data = data[[\n",
    "    'well',\n",
    "    'date',\n",
    "    'prodaction_work_time_h',\n",
    "    'injection_work_time_h',\n",
    "    'last_month_oil_flow_rate_m3_d',\n",
    "    'last_month_gas_flow_rate_m3_d',\n",
    "    'last_month_water_flow_rate_m3_d',\n",
    "    'last_month_pick_up_rate_m3_d',\n",
    "    'reservoir_pressure_TR_atm',\n",
    "    'downhole_pressure_TR_atm',\n",
    "    'GDI_date',\n",
    "    'GDI_reservoir_pressure_atm',\n",
    "    'GDI_downhole_pressure_atm',\n",
    "    'well_x',\n",
    "    'well_y'\n",
    "]]"
   ]
  },
  {
   "cell_type": "markdown",
   "id": "0e1e1c04",
   "metadata": {},
   "source": [
    "Замена 0 на `NaN`, чтобы потом произвести очистку"
   ]
  },
  {
   "cell_type": "code",
   "execution_count": 7,
   "id": "2fe40a10",
   "metadata": {},
   "outputs": [],
   "source": [
    "data = data.replace(0, np.nan)"
   ]
  },
  {
   "cell_type": "markdown",
   "id": "c4e687d1",
   "metadata": {},
   "source": [
    "В названиях скважин есть и int и object строки, приводим все к типу object."
   ]
  },
  {
   "cell_type": "code",
   "execution_count": 8,
   "id": "4d34c12a",
   "metadata": {},
   "outputs": [],
   "source": [
    "def convert_well_name(name):\n",
    "    return str(name)"
   ]
  },
  {
   "cell_type": "code",
   "execution_count": 9,
   "id": "b3e2b375",
   "metadata": {},
   "outputs": [],
   "source": [
    "data['well'] = data['well'].apply(convert_well_name)"
   ]
  },
  {
   "cell_type": "markdown",
   "id": "aa1e8e1a",
   "metadata": {},
   "source": [
    "Удаление скважин, которые не добывали и не закачивали (или по ним нет данных)\n",
    "Их названия выводятся на экран."
   ]
  },
  {
   "cell_type": "code",
   "execution_count": 10,
   "id": "2e5a5ed2",
   "metadata": {
    "scrolled": true
   },
   "outputs": [
    {
     "name": "stdout",
     "output_type": "stream",
     "text": [
      "2893\n",
      "458P\n"
     ]
    }
   ],
   "source": [
    "for well in data['well'].unique():\n",
    "    if data[data['well'] == well]['prodaction_work_time_h'].sum() == 0 and \\\n",
    "            data[data['well'] == well]['injection_work_time_h'].sum() == 0:\n",
    "        data = data.drop(index=data[data['well'] == well].index)\n",
    "        print(well)"
   ]
  },
  {
   "cell_type": "markdown",
   "id": "4023eea2",
   "metadata": {},
   "source": [
    "Удаление полностью дублированных строк"
   ]
  },
  {
   "cell_type": "code",
   "execution_count": 11,
   "id": "43d3da13",
   "metadata": {},
   "outputs": [],
   "source": [
    "data = data.drop_duplicates(subset=['well', 'date'])"
   ]
  },
  {
   "cell_type": "markdown",
   "id": "ab22fbd5",
   "metadata": {},
   "source": [
    "## Выделение переведенных скважин"
   ]
  },
  {
   "cell_type": "markdown",
   "id": "3c45f635",
   "metadata": {},
   "source": [
    "Находим те скважины, которые были добывающими, а потом их перевели в нагнетательные(не обязательно навсегда, могли и вернуть обратно). Добавляем к названию скважины в этот период окончание `_inj`. Для скважин, которые были переведены в течение одного месяца (то есть в один месяц у них есть данные по закачке и добыче), создадим дубликаты записей в этих скважинах за такие месяцы"
   ]
  },
  {
   "cell_type": "markdown",
   "id": "684f47bd",
   "metadata": {},
   "source": [
    "Вначале объявим функцию переименования скважин."
   ]
  },
  {
   "cell_type": "code",
   "execution_count": 12,
   "id": "b06c1b07",
   "metadata": {},
   "outputs": [],
   "source": [
    "def add_inj_to_well_name(name):\n",
    "    \"\"\"Добавляет _inj к названию скважины\"\"\"\n",
    "    return name + '_inj'"
   ]
  },
  {
   "cell_type": "markdown",
   "id": "34ca5766",
   "metadata": {},
   "source": [
    "Cоздадим датафрейм со скважинами, который были переведены в процессе месяца."
   ]
  },
  {
   "cell_type": "code",
   "execution_count": 13,
   "id": "ac0a8596",
   "metadata": {},
   "outputs": [],
   "source": [
    "t = data[\n",
    "    (data['injection_work_time_h'] > 0) & (data['prodaction_work_time_h'] > 0)\n",
    "    ]"
   ]
  },
  {
   "cell_type": "markdown",
   "id": "39ff57a4",
   "metadata": {},
   "source": [
    "Обнулим информацию о добыче на скважинах, имеющих сопадение по месяцу"
   ]
  },
  {
   "cell_type": "code",
   "execution_count": 14,
   "id": "318f44da",
   "metadata": {
    "scrolled": true
   },
   "outputs": [
    {
     "name": "stderr",
     "output_type": "stream",
     "text": [
      "C:\\Users\\Admin\\AppData\\Local\\Temp\\ipykernel_15020\\3327022253.py:1: SettingWithCopyWarning: \n",
      "A value is trying to be set on a copy of a slice from a DataFrame.\n",
      "Try using .loc[row_indexer,col_indexer] = value instead\n",
      "\n",
      "See the caveats in the documentation: https://pandas.pydata.org/pandas-docs/stable/user_guide/indexing.html#returning-a-view-versus-a-copy\n",
      "  t.loc[:, [\n"
     ]
    }
   ],
   "source": [
    "t.loc[:, [\n",
    "    'prodaction_work_time_h',\n",
    "    'last_month_oil_flow_rate_m3_d',\n",
    "    'last_month_gas_flow_rate_m3_d',\n",
    "    'last_month_water_flow_rate_m3_d'\n",
    "    ]] = np.nan\n",
    "\n",
    "data.loc[\n",
    "    (data['injection_work_time_h'] > 0) & (data['prodaction_work_time_h'] > 0),\n",
    "    ['injection_work_time_h', 'last_month_pick_up_rate_m3_d']] = np.nan"
   ]
  },
  {
   "cell_type": "markdown",
   "id": "b066c5f9",
   "metadata": {},
   "source": [
    "Добавим их к нашему датафрейму, чтобы получились копии уже без данных по добыче"
   ]
  },
  {
   "cell_type": "code",
   "execution_count": 15,
   "id": "14d8bfd7",
   "metadata": {},
   "outputs": [],
   "source": [
    "data = pd.concat([data, t], ignore_index=True)"
   ]
  },
  {
   "cell_type": "markdown",
   "id": "58b37d3b",
   "metadata": {},
   "source": [
    "Объявим функцию определения типа скважины (добывающая или нагнетательная).\n",
    "\n",
    "Название не важно, просто создается еще одно колонка со статусом. То есть функция категоризируем работу каждой скважины по времени."
   ]
  },
  {
   "cell_type": "code",
   "execution_count": 16,
   "id": "bed5faae",
   "metadata": {},
   "outputs": [],
   "source": [
    "def well_type_def(row):\n",
    "    \"\"\"Определить тип скважины\"\"\"\n",
    "    prod_time = row['prodaction_work_time_h']\n",
    "    inj_time = row['injection_work_time_h']\n",
    "    if prod_time > 0 and np.isnan(inj_time):\n",
    "        return 'prod'\n",
    "    elif np.isnan(prod_time) and inj_time > 0:\n",
    "        return 'inj'\n",
    "    elif prod_time > 0 and inj_time > 0:\n",
    "        return 'prod/inj'\n",
    "    else:\n",
    "        return np.nan"
   ]
  },
  {
   "cell_type": "code",
   "execution_count": 17,
   "id": "11a2fb02",
   "metadata": {},
   "outputs": [],
   "source": [
    "data['well_type'] = data.apply(well_type_def, axis=1)"
   ]
  },
  {
   "cell_type": "markdown",
   "id": "1a64cbc6",
   "metadata": {},
   "source": [
    "Теперь надо заполнить пропуски в этой колонке предыдущим значением.\n",
    "Причем отдельно для каждой скважины."
   ]
  },
  {
   "cell_type": "code",
   "execution_count": 18,
   "id": "a5c52b08",
   "metadata": {},
   "outputs": [
    {
     "name": "stderr",
     "output_type": "stream",
     "text": [
      "C:\\Users\\Admin\\AppData\\Local\\Temp\\ipykernel_15020\\4238128760.py:3: SettingWithCopyWarning: \n",
      "A value is trying to be set on a copy of a slice from a DataFrame.\n",
      "Try using .loc[row_indexer,col_indexer] = value instead\n",
      "\n",
      "See the caveats in the documentation: https://pandas.pydata.org/pandas-docs/stable/user_guide/indexing.html#returning-a-view-versus-a-copy\n",
      "  t['well_type'] = t['well_type'].fillna(method='ffill')\n",
      "C:\\Users\\Admin\\AppData\\Local\\Temp\\ipykernel_15020\\4238128760.py:4: SettingWithCopyWarning: \n",
      "A value is trying to be set on a copy of a slice from a DataFrame.\n",
      "Try using .loc[row_indexer,col_indexer] = value instead\n",
      "\n",
      "See the caveats in the documentation: https://pandas.pydata.org/pandas-docs/stable/user_guide/indexing.html#returning-a-view-versus-a-copy\n",
      "  t['well_type'] = t['well_type'].fillna(method='bfill')\n"
     ]
    }
   ],
   "source": [
    "for well in data.well.unique():\n",
    "    t = data[data['well'] == well]\n",
    "    t['well_type'] = t['well_type'].fillna(method='ffill')\n",
    "    t['well_type'] = t['well_type'].fillna(method='bfill')\n",
    "    data.loc[t.index, 'well_type'] = t"
   ]
  },
  {
   "cell_type": "markdown",
   "id": "9073db12",
   "metadata": {},
   "source": [
    "Найдем номера тех, которые изначально только закачивали (а не переводились, чтобы потом их названия не трогать, при добавлении суффикса `inj`)"
   ]
  },
  {
   "cell_type": "code",
   "execution_count": 19,
   "id": "5bf79fe0",
   "metadata": {},
   "outputs": [],
   "source": [
    "well_name = data.groupby('well')[[\n",
    "    'prodaction_work_time_h',\n",
    "    'injection_work_time_h'\n",
    "    ]].sum() > 0\n",
    "well_name = well_name[\n",
    "    (well_name['prodaction_work_time_h'] == False) &\n",
    "    (well_name['injection_work_time_h'] == True)\n",
    "    ]\n",
    "well_name = well_name.index.values.tolist()"
   ]
  },
  {
   "cell_type": "markdown",
   "id": "4e395d8a",
   "metadata": {},
   "source": [
    "Переименуем те скважины, которые были переведены."
   ]
  },
  {
   "cell_type": "code",
   "execution_count": 20,
   "id": "a0936c22",
   "metadata": {},
   "outputs": [],
   "source": [
    "data.loc[~(data['well'].isin(well_name)) & (data['well_type'] == 'inj'), 'well'] = \\\n",
    "data.loc[ ~(data['well'].isin(well_name)) & (data['well_type'] == 'inj'), 'well'].apply(add_inj_to_well_name)"
   ]
  },
  {
   "cell_type": "markdown",
   "id": "be6e77d4",
   "metadata": {},
   "source": [
    "## Подготовка данных к выгрузке"
   ]
  },
  {
   "cell_type": "markdown",
   "id": "7a4f855a",
   "metadata": {},
   "source": [
    "### Готовим лист ONE"
   ]
  },
  {
   "cell_type": "markdown",
   "id": "1079e1bb",
   "metadata": {},
   "source": [
    "Вначале создадим таблицу с нужными данными."
   ]
  },
  {
   "cell_type": "code",
   "execution_count": 21,
   "id": "8dab0285",
   "metadata": {},
   "outputs": [],
   "source": [
    "rates = data[[\n",
    "    'well',\n",
    "    'date',\n",
    "    'prodaction_work_time_h',\n",
    "    'injection_work_time_h',\n",
    "    'last_month_oil_flow_rate_m3_d',\n",
    "    'last_month_gas_flow_rate_m3_d',\n",
    "    'last_month_water_flow_rate_m3_d',\n",
    "    'last_month_pick_up_rate_m3_d'\n",
    "]]"
   ]
  },
  {
   "cell_type": "markdown",
   "id": "9cf4a37d",
   "metadata": {},
   "source": [
    "Теперь прогоним все скважины и дополним даты нулями, чтобы не было пропусков. Частота - 1 месяц\n",
    "\n",
    "Вначале создадим пустой датафрейм"
   ]
  },
  {
   "cell_type": "code",
   "execution_count": 22,
   "id": "f0884038",
   "metadata": {},
   "outputs": [],
   "source": [
    "rate = rates[0:0]"
   ]
  },
  {
   "cell_type": "code",
   "execution_count": 23,
   "id": "d090e53e",
   "metadata": {},
   "outputs": [
    {
     "name": "stderr",
     "output_type": "stream",
     "text": [
      "C:\\Users\\Admin\\AppData\\Local\\Temp\\ipykernel_15020\\1459813174.py:3: SettingWithCopyWarning: \n",
      "A value is trying to be set on a copy of a slice from a DataFrame\n",
      "\n",
      "See the caveats in the documentation: https://pandas.pydata.org/pandas-docs/stable/user_guide/indexing.html#returning-a-view-versus-a-copy\n",
      "  rates.drop(rates.index[rates['well'] == well], inplace=True)\n",
      "C:\\Users\\Admin\\AppData\\Local\\Temp\\ipykernel_15020\\1459813174.py:3: SettingWithCopyWarning: \n",
      "A value is trying to be set on a copy of a slice from a DataFrame\n",
      "\n",
      "See the caveats in the documentation: https://pandas.pydata.org/pandas-docs/stable/user_guide/indexing.html#returning-a-view-versus-a-copy\n",
      "  rates.drop(rates.index[rates['well'] == well], inplace=True)\n",
      "C:\\Users\\Admin\\AppData\\Local\\Temp\\ipykernel_15020\\1459813174.py:3: SettingWithCopyWarning: \n",
      "A value is trying to be set on a copy of a slice from a DataFrame\n",
      "\n",
      "See the caveats in the documentation: https://pandas.pydata.org/pandas-docs/stable/user_guide/indexing.html#returning-a-view-versus-a-copy\n",
      "  rates.drop(rates.index[rates['well'] == well], inplace=True)\n",
      "C:\\Users\\Admin\\AppData\\Local\\Temp\\ipykernel_15020\\1459813174.py:3: SettingWithCopyWarning: \n",
      "A value is trying to be set on a copy of a slice from a DataFrame\n",
      "\n",
      "See the caveats in the documentation: https://pandas.pydata.org/pandas-docs/stable/user_guide/indexing.html#returning-a-view-versus-a-copy\n",
      "  rates.drop(rates.index[rates['well'] == well], inplace=True)\n",
      "C:\\Users\\Admin\\AppData\\Local\\Temp\\ipykernel_15020\\1459813174.py:3: SettingWithCopyWarning: \n",
      "A value is trying to be set on a copy of a slice from a DataFrame\n",
      "\n",
      "See the caveats in the documentation: https://pandas.pydata.org/pandas-docs/stable/user_guide/indexing.html#returning-a-view-versus-a-copy\n",
      "  rates.drop(rates.index[rates['well'] == well], inplace=True)\n",
      "C:\\Users\\Admin\\AppData\\Local\\Temp\\ipykernel_15020\\1459813174.py:3: SettingWithCopyWarning: \n",
      "A value is trying to be set on a copy of a slice from a DataFrame\n",
      "\n",
      "See the caveats in the documentation: https://pandas.pydata.org/pandas-docs/stable/user_guide/indexing.html#returning-a-view-versus-a-copy\n",
      "  rates.drop(rates.index[rates['well'] == well], inplace=True)\n",
      "C:\\Users\\Admin\\AppData\\Local\\Temp\\ipykernel_15020\\1459813174.py:3: SettingWithCopyWarning: \n",
      "A value is trying to be set on a copy of a slice from a DataFrame\n",
      "\n",
      "See the caveats in the documentation: https://pandas.pydata.org/pandas-docs/stable/user_guide/indexing.html#returning-a-view-versus-a-copy\n",
      "  rates.drop(rates.index[rates['well'] == well], inplace=True)\n",
      "C:\\Users\\Admin\\AppData\\Local\\Temp\\ipykernel_15020\\1459813174.py:3: SettingWithCopyWarning: \n",
      "A value is trying to be set on a copy of a slice from a DataFrame\n",
      "\n",
      "See the caveats in the documentation: https://pandas.pydata.org/pandas-docs/stable/user_guide/indexing.html#returning-a-view-versus-a-copy\n",
      "  rates.drop(rates.index[rates['well'] == well], inplace=True)\n",
      "C:\\Users\\Admin\\AppData\\Local\\Temp\\ipykernel_15020\\1459813174.py:3: SettingWithCopyWarning: \n",
      "A value is trying to be set on a copy of a slice from a DataFrame\n",
      "\n",
      "See the caveats in the documentation: https://pandas.pydata.org/pandas-docs/stable/user_guide/indexing.html#returning-a-view-versus-a-copy\n",
      "  rates.drop(rates.index[rates['well'] == well], inplace=True)\n",
      "C:\\Users\\Admin\\AppData\\Local\\Temp\\ipykernel_15020\\1459813174.py:3: SettingWithCopyWarning: \n",
      "A value is trying to be set on a copy of a slice from a DataFrame\n",
      "\n",
      "See the caveats in the documentation: https://pandas.pydata.org/pandas-docs/stable/user_guide/indexing.html#returning-a-view-versus-a-copy\n",
      "  rates.drop(rates.index[rates['well'] == well], inplace=True)\n",
      "C:\\Users\\Admin\\AppData\\Local\\Temp\\ipykernel_15020\\1459813174.py:3: SettingWithCopyWarning: \n",
      "A value is trying to be set on a copy of a slice from a DataFrame\n",
      "\n",
      "See the caveats in the documentation: https://pandas.pydata.org/pandas-docs/stable/user_guide/indexing.html#returning-a-view-versus-a-copy\n",
      "  rates.drop(rates.index[rates['well'] == well], inplace=True)\n",
      "C:\\Users\\Admin\\AppData\\Local\\Temp\\ipykernel_15020\\1459813174.py:3: SettingWithCopyWarning: \n",
      "A value is trying to be set on a copy of a slice from a DataFrame\n",
      "\n",
      "See the caveats in the documentation: https://pandas.pydata.org/pandas-docs/stable/user_guide/indexing.html#returning-a-view-versus-a-copy\n",
      "  rates.drop(rates.index[rates['well'] == well], inplace=True)\n",
      "C:\\Users\\Admin\\AppData\\Local\\Temp\\ipykernel_15020\\1459813174.py:3: SettingWithCopyWarning: \n",
      "A value is trying to be set on a copy of a slice from a DataFrame\n",
      "\n",
      "See the caveats in the documentation: https://pandas.pydata.org/pandas-docs/stable/user_guide/indexing.html#returning-a-view-versus-a-copy\n",
      "  rates.drop(rates.index[rates['well'] == well], inplace=True)\n",
      "C:\\Users\\Admin\\AppData\\Local\\Temp\\ipykernel_15020\\1459813174.py:3: SettingWithCopyWarning: \n",
      "A value is trying to be set on a copy of a slice from a DataFrame\n",
      "\n",
      "See the caveats in the documentation: https://pandas.pydata.org/pandas-docs/stable/user_guide/indexing.html#returning-a-view-versus-a-copy\n",
      "  rates.drop(rates.index[rates['well'] == well], inplace=True)\n",
      "C:\\Users\\Admin\\AppData\\Local\\Temp\\ipykernel_15020\\1459813174.py:3: SettingWithCopyWarning: \n",
      "A value is trying to be set on a copy of a slice from a DataFrame\n",
      "\n",
      "See the caveats in the documentation: https://pandas.pydata.org/pandas-docs/stable/user_guide/indexing.html#returning-a-view-versus-a-copy\n",
      "  rates.drop(rates.index[rates['well'] == well], inplace=True)\n",
      "C:\\Users\\Admin\\AppData\\Local\\Temp\\ipykernel_15020\\1459813174.py:3: SettingWithCopyWarning: \n",
      "A value is trying to be set on a copy of a slice from a DataFrame\n",
      "\n",
      "See the caveats in the documentation: https://pandas.pydata.org/pandas-docs/stable/user_guide/indexing.html#returning-a-view-versus-a-copy\n",
      "  rates.drop(rates.index[rates['well'] == well], inplace=True)\n",
      "C:\\Users\\Admin\\AppData\\Local\\Temp\\ipykernel_15020\\1459813174.py:3: SettingWithCopyWarning: \n",
      "A value is trying to be set on a copy of a slice from a DataFrame\n",
      "\n",
      "See the caveats in the documentation: https://pandas.pydata.org/pandas-docs/stable/user_guide/indexing.html#returning-a-view-versus-a-copy\n",
      "  rates.drop(rates.index[rates['well'] == well], inplace=True)\n",
      "C:\\Users\\Admin\\AppData\\Local\\Temp\\ipykernel_15020\\1459813174.py:3: SettingWithCopyWarning: \n",
      "A value is trying to be set on a copy of a slice from a DataFrame\n",
      "\n",
      "See the caveats in the documentation: https://pandas.pydata.org/pandas-docs/stable/user_guide/indexing.html#returning-a-view-versus-a-copy\n",
      "  rates.drop(rates.index[rates['well'] == well], inplace=True)\n",
      "C:\\Users\\Admin\\AppData\\Local\\Temp\\ipykernel_15020\\1459813174.py:3: SettingWithCopyWarning: \n",
      "A value is trying to be set on a copy of a slice from a DataFrame\n",
      "\n",
      "See the caveats in the documentation: https://pandas.pydata.org/pandas-docs/stable/user_guide/indexing.html#returning-a-view-versus-a-copy\n",
      "  rates.drop(rates.index[rates['well'] == well], inplace=True)\n",
      "C:\\Users\\Admin\\AppData\\Local\\Temp\\ipykernel_15020\\1459813174.py:3: SettingWithCopyWarning: \n",
      "A value is trying to be set on a copy of a slice from a DataFrame\n",
      "\n",
      "See the caveats in the documentation: https://pandas.pydata.org/pandas-docs/stable/user_guide/indexing.html#returning-a-view-versus-a-copy\n",
      "  rates.drop(rates.index[rates['well'] == well], inplace=True)\n",
      "C:\\Users\\Admin\\AppData\\Local\\Temp\\ipykernel_15020\\1459813174.py:3: SettingWithCopyWarning: \n",
      "A value is trying to be set on a copy of a slice from a DataFrame\n",
      "\n",
      "See the caveats in the documentation: https://pandas.pydata.org/pandas-docs/stable/user_guide/indexing.html#returning-a-view-versus-a-copy\n",
      "  rates.drop(rates.index[rates['well'] == well], inplace=True)\n",
      "C:\\Users\\Admin\\AppData\\Local\\Temp\\ipykernel_15020\\1459813174.py:3: SettingWithCopyWarning: \n",
      "A value is trying to be set on a copy of a slice from a DataFrame\n",
      "\n",
      "See the caveats in the documentation: https://pandas.pydata.org/pandas-docs/stable/user_guide/indexing.html#returning-a-view-versus-a-copy\n",
      "  rates.drop(rates.index[rates['well'] == well], inplace=True)\n",
      "C:\\Users\\Admin\\AppData\\Local\\Temp\\ipykernel_15020\\1459813174.py:3: SettingWithCopyWarning: \n",
      "A value is trying to be set on a copy of a slice from a DataFrame\n",
      "\n",
      "See the caveats in the documentation: https://pandas.pydata.org/pandas-docs/stable/user_guide/indexing.html#returning-a-view-versus-a-copy\n",
      "  rates.drop(rates.index[rates['well'] == well], inplace=True)\n",
      "C:\\Users\\Admin\\AppData\\Local\\Temp\\ipykernel_15020\\1459813174.py:3: SettingWithCopyWarning: \n",
      "A value is trying to be set on a copy of a slice from a DataFrame\n",
      "\n",
      "See the caveats in the documentation: https://pandas.pydata.org/pandas-docs/stable/user_guide/indexing.html#returning-a-view-versus-a-copy\n",
      "  rates.drop(rates.index[rates['well'] == well], inplace=True)\n",
      "C:\\Users\\Admin\\AppData\\Local\\Temp\\ipykernel_15020\\1459813174.py:3: SettingWithCopyWarning: \n",
      "A value is trying to be set on a copy of a slice from a DataFrame\n",
      "\n",
      "See the caveats in the documentation: https://pandas.pydata.org/pandas-docs/stable/user_guide/indexing.html#returning-a-view-versus-a-copy\n",
      "  rates.drop(rates.index[rates['well'] == well], inplace=True)\n",
      "C:\\Users\\Admin\\AppData\\Local\\Temp\\ipykernel_15020\\1459813174.py:3: SettingWithCopyWarning: \n",
      "A value is trying to be set on a copy of a slice from a DataFrame\n",
      "\n",
      "See the caveats in the documentation: https://pandas.pydata.org/pandas-docs/stable/user_guide/indexing.html#returning-a-view-versus-a-copy\n",
      "  rates.drop(rates.index[rates['well'] == well], inplace=True)\n"
     ]
    },
    {
     "name": "stderr",
     "output_type": "stream",
     "text": [
      "C:\\Users\\Admin\\AppData\\Local\\Temp\\ipykernel_15020\\1459813174.py:3: SettingWithCopyWarning: \n",
      "A value is trying to be set on a copy of a slice from a DataFrame\n",
      "\n",
      "See the caveats in the documentation: https://pandas.pydata.org/pandas-docs/stable/user_guide/indexing.html#returning-a-view-versus-a-copy\n",
      "  rates.drop(rates.index[rates['well'] == well], inplace=True)\n",
      "C:\\Users\\Admin\\AppData\\Local\\Temp\\ipykernel_15020\\1459813174.py:3: SettingWithCopyWarning: \n",
      "A value is trying to be set on a copy of a slice from a DataFrame\n",
      "\n",
      "See the caveats in the documentation: https://pandas.pydata.org/pandas-docs/stable/user_guide/indexing.html#returning-a-view-versus-a-copy\n",
      "  rates.drop(rates.index[rates['well'] == well], inplace=True)\n",
      "C:\\Users\\Admin\\AppData\\Local\\Temp\\ipykernel_15020\\1459813174.py:3: SettingWithCopyWarning: \n",
      "A value is trying to be set on a copy of a slice from a DataFrame\n",
      "\n",
      "See the caveats in the documentation: https://pandas.pydata.org/pandas-docs/stable/user_guide/indexing.html#returning-a-view-versus-a-copy\n",
      "  rates.drop(rates.index[rates['well'] == well], inplace=True)\n",
      "C:\\Users\\Admin\\AppData\\Local\\Temp\\ipykernel_15020\\1459813174.py:3: SettingWithCopyWarning: \n",
      "A value is trying to be set on a copy of a slice from a DataFrame\n",
      "\n",
      "See the caveats in the documentation: https://pandas.pydata.org/pandas-docs/stable/user_guide/indexing.html#returning-a-view-versus-a-copy\n",
      "  rates.drop(rates.index[rates['well'] == well], inplace=True)\n",
      "C:\\Users\\Admin\\AppData\\Local\\Temp\\ipykernel_15020\\1459813174.py:3: SettingWithCopyWarning: \n",
      "A value is trying to be set on a copy of a slice from a DataFrame\n",
      "\n",
      "See the caveats in the documentation: https://pandas.pydata.org/pandas-docs/stable/user_guide/indexing.html#returning-a-view-versus-a-copy\n",
      "  rates.drop(rates.index[rates['well'] == well], inplace=True)\n",
      "C:\\Users\\Admin\\AppData\\Local\\Temp\\ipykernel_15020\\1459813174.py:3: SettingWithCopyWarning: \n",
      "A value is trying to be set on a copy of a slice from a DataFrame\n",
      "\n",
      "See the caveats in the documentation: https://pandas.pydata.org/pandas-docs/stable/user_guide/indexing.html#returning-a-view-versus-a-copy\n",
      "  rates.drop(rates.index[rates['well'] == well], inplace=True)\n",
      "C:\\Users\\Admin\\AppData\\Local\\Temp\\ipykernel_15020\\1459813174.py:3: SettingWithCopyWarning: \n",
      "A value is trying to be set on a copy of a slice from a DataFrame\n",
      "\n",
      "See the caveats in the documentation: https://pandas.pydata.org/pandas-docs/stable/user_guide/indexing.html#returning-a-view-versus-a-copy\n",
      "  rates.drop(rates.index[rates['well'] == well], inplace=True)\n",
      "C:\\Users\\Admin\\AppData\\Local\\Temp\\ipykernel_15020\\1459813174.py:3: SettingWithCopyWarning: \n",
      "A value is trying to be set on a copy of a slice from a DataFrame\n",
      "\n",
      "See the caveats in the documentation: https://pandas.pydata.org/pandas-docs/stable/user_guide/indexing.html#returning-a-view-versus-a-copy\n",
      "  rates.drop(rates.index[rates['well'] == well], inplace=True)\n",
      "C:\\Users\\Admin\\AppData\\Local\\Temp\\ipykernel_15020\\1459813174.py:3: SettingWithCopyWarning: \n",
      "A value is trying to be set on a copy of a slice from a DataFrame\n",
      "\n",
      "See the caveats in the documentation: https://pandas.pydata.org/pandas-docs/stable/user_guide/indexing.html#returning-a-view-versus-a-copy\n",
      "  rates.drop(rates.index[rates['well'] == well], inplace=True)\n",
      "C:\\Users\\Admin\\AppData\\Local\\Temp\\ipykernel_15020\\1459813174.py:3: SettingWithCopyWarning: \n",
      "A value is trying to be set on a copy of a slice from a DataFrame\n",
      "\n",
      "See the caveats in the documentation: https://pandas.pydata.org/pandas-docs/stable/user_guide/indexing.html#returning-a-view-versus-a-copy\n",
      "  rates.drop(rates.index[rates['well'] == well], inplace=True)\n",
      "C:\\Users\\Admin\\AppData\\Local\\Temp\\ipykernel_15020\\1459813174.py:3: SettingWithCopyWarning: \n",
      "A value is trying to be set on a copy of a slice from a DataFrame\n",
      "\n",
      "See the caveats in the documentation: https://pandas.pydata.org/pandas-docs/stable/user_guide/indexing.html#returning-a-view-versus-a-copy\n",
      "  rates.drop(rates.index[rates['well'] == well], inplace=True)\n",
      "C:\\Users\\Admin\\AppData\\Local\\Temp\\ipykernel_15020\\1459813174.py:3: SettingWithCopyWarning: \n",
      "A value is trying to be set on a copy of a slice from a DataFrame\n",
      "\n",
      "See the caveats in the documentation: https://pandas.pydata.org/pandas-docs/stable/user_guide/indexing.html#returning-a-view-versus-a-copy\n",
      "  rates.drop(rates.index[rates['well'] == well], inplace=True)\n",
      "C:\\Users\\Admin\\AppData\\Local\\Temp\\ipykernel_15020\\1459813174.py:3: SettingWithCopyWarning: \n",
      "A value is trying to be set on a copy of a slice from a DataFrame\n",
      "\n",
      "See the caveats in the documentation: https://pandas.pydata.org/pandas-docs/stable/user_guide/indexing.html#returning-a-view-versus-a-copy\n",
      "  rates.drop(rates.index[rates['well'] == well], inplace=True)\n",
      "C:\\Users\\Admin\\AppData\\Local\\Temp\\ipykernel_15020\\1459813174.py:3: SettingWithCopyWarning: \n",
      "A value is trying to be set on a copy of a slice from a DataFrame\n",
      "\n",
      "See the caveats in the documentation: https://pandas.pydata.org/pandas-docs/stable/user_guide/indexing.html#returning-a-view-versus-a-copy\n",
      "  rates.drop(rates.index[rates['well'] == well], inplace=True)\n",
      "C:\\Users\\Admin\\AppData\\Local\\Temp\\ipykernel_15020\\1459813174.py:3: SettingWithCopyWarning: \n",
      "A value is trying to be set on a copy of a slice from a DataFrame\n",
      "\n",
      "See the caveats in the documentation: https://pandas.pydata.org/pandas-docs/stable/user_guide/indexing.html#returning-a-view-versus-a-copy\n",
      "  rates.drop(rates.index[rates['well'] == well], inplace=True)\n",
      "C:\\Users\\Admin\\AppData\\Local\\Temp\\ipykernel_15020\\1459813174.py:3: SettingWithCopyWarning: \n",
      "A value is trying to be set on a copy of a slice from a DataFrame\n",
      "\n",
      "See the caveats in the documentation: https://pandas.pydata.org/pandas-docs/stable/user_guide/indexing.html#returning-a-view-versus-a-copy\n",
      "  rates.drop(rates.index[rates['well'] == well], inplace=True)\n",
      "C:\\Users\\Admin\\AppData\\Local\\Temp\\ipykernel_15020\\1459813174.py:3: SettingWithCopyWarning: \n",
      "A value is trying to be set on a copy of a slice from a DataFrame\n",
      "\n",
      "See the caveats in the documentation: https://pandas.pydata.org/pandas-docs/stable/user_guide/indexing.html#returning-a-view-versus-a-copy\n",
      "  rates.drop(rates.index[rates['well'] == well], inplace=True)\n",
      "C:\\Users\\Admin\\AppData\\Local\\Temp\\ipykernel_15020\\1459813174.py:3: SettingWithCopyWarning: \n",
      "A value is trying to be set on a copy of a slice from a DataFrame\n",
      "\n",
      "See the caveats in the documentation: https://pandas.pydata.org/pandas-docs/stable/user_guide/indexing.html#returning-a-view-versus-a-copy\n",
      "  rates.drop(rates.index[rates['well'] == well], inplace=True)\n",
      "C:\\Users\\Admin\\AppData\\Local\\Temp\\ipykernel_15020\\1459813174.py:3: SettingWithCopyWarning: \n",
      "A value is trying to be set on a copy of a slice from a DataFrame\n",
      "\n",
      "See the caveats in the documentation: https://pandas.pydata.org/pandas-docs/stable/user_guide/indexing.html#returning-a-view-versus-a-copy\n",
      "  rates.drop(rates.index[rates['well'] == well], inplace=True)\n"
     ]
    }
   ],
   "source": [
    "for well in rates['well'].unique():\n",
    "    temp = rates[rates['well'] == well]\n",
    "    rates.drop(rates.index[rates['well'] == well], inplace=True)\n",
    "    all_month = pd.DataFrame(\n",
    "        pd.date_range(temp['date'].min(), temp['date'].max(), freq='1MS'),\n",
    "        columns=['date'])\n",
    "    temp = all_month.merge(right=temp, how='left', on='date')\n",
    "    temp['well'] = well\n",
    "    rate = pd.concat([rate, temp])\n",
    "\n",
    "        \n",
    "rates = pd.concat([rates, rate])"
   ]
  },
  {
   "cell_type": "code",
   "execution_count": 24,
   "id": "c4a9b9d5",
   "metadata": {},
   "outputs": [],
   "source": [
    "rates = rates.fillna(0)"
   ]
  },
  {
   "cell_type": "markdown",
   "id": "25ef8b0d",
   "metadata": {},
   "source": [
    "Газ надо перевести из тыс.м3 в м3, посчитать дебит жидкости."
   ]
  },
  {
   "cell_type": "code",
   "execution_count": 25,
   "id": "4cd7cc7e",
   "metadata": {},
   "outputs": [],
   "source": [
    "rates['last_month_gas_flow_rate_m3_d'] = rates['last_month_gas_flow_rate_m3_d'] * 1000\n",
    "rates['liquid_rate'] = \\\n",
    "    rates['last_month_water_flow_rate_m3_d'] + rates['last_month_oil_flow_rate_m3_d']"
   ]
  },
  {
   "cell_type": "markdown",
   "id": "ba958192",
   "metadata": {},
   "source": [
    "Отсортируем (для красоты)"
   ]
  },
  {
   "cell_type": "code",
   "execution_count": 26,
   "id": "d9cf26cd",
   "metadata": {},
   "outputs": [],
   "source": [
    "rates = rates.sort_values(by=['well', 'date']).reset_index(drop=True)"
   ]
  },
  {
   "cell_type": "markdown",
   "id": "fb963c04",
   "metadata": {},
   "source": [
    "Переименуем колонки как надо"
   ]
  },
  {
   "cell_type": "code",
   "execution_count": 27,
   "id": "c5ca4705",
   "metadata": {},
   "outputs": [],
   "source": [
    "columns = {\n",
    "    'well': 'Well ID',\n",
    "    'date': 'Date',\n",
    "    'prodaction_work_time_h': 'Prod. Time',\n",
    "    'injection_work_time_h': 'Inj. Time',\n",
    "    'last_month_oil_flow_rate_m3_d': 'Oil Rate',\n",
    "    'last_month_gas_flow_rate_m3_d': 'Gas Rate',\n",
    "    'last_month_water_flow_rate_m3_d': 'Water Rate',\n",
    "    'liquid_rate': 'Liquid Rate',\n",
    "    'last_month_pick_up_rate_m3_d': 'Water Injection Rate',\n",
    "}\n",
    "\n",
    "rates = rates.rename(columns=columns)"
   ]
  },
  {
   "cell_type": "markdown",
   "id": "83a3d74b",
   "metadata": {},
   "source": [
    "`Gas Injection Rate` нужна для корректной работы софта, но в нешем случае таких данных точно никогда нет, поэтому просто оставим ее пустой."
   ]
  },
  {
   "cell_type": "code",
   "execution_count": 28,
   "id": "df8da661",
   "metadata": {},
   "outputs": [],
   "source": [
    "rates['Gas Injection Rate'] = np.nan"
   ]
  },
  {
   "cell_type": "code",
   "execution_count": 29,
   "id": "f7752681",
   "metadata": {},
   "outputs": [],
   "source": [
    "rates = rates[[\n",
    "    'Well ID',\n",
    "    'Date',\n",
    "    'Prod. Time',\n",
    "    'Inj. Time',\n",
    "    'Oil Rate',\n",
    "    'Gas Rate',\n",
    "    'Water Rate',\n",
    "    'Liquid Rate',\n",
    "    'Water Injection Rate',\n",
    "    'Gas Injection Rate']]"
   ]
  },
  {
   "cell_type": "markdown",
   "id": "1e23ad58",
   "metadata": {},
   "source": [
    "Добавим индекс с нужной строкой - она покажет софту единицы измерения. В нашем случае всегда одинаковые."
   ]
  },
  {
   "cell_type": "code",
   "execution_count": 30,
   "id": "fb8da790",
   "metadata": {},
   "outputs": [],
   "source": [
    "rates.columns = pd.MultiIndex.from_tuples(\n",
    "    zip(rates.columns, [\n",
    "        'num',\n",
    "        'dd.mm.yyyy',\n",
    "        'hrs',\n",
    "        'hrs',\n",
    "        'm3/d',\n",
    "        'm3/d',\n",
    "        'm3/d',\n",
    "        'm3/d',\n",
    "        'm3/d',\n",
    "        'm3/d']))"
   ]
  },
  {
   "cell_type": "markdown",
   "id": "53b662ec",
   "metadata": {},
   "source": [
    "Сделаем ресет индексов (для красоты)"
   ]
  },
  {
   "cell_type": "code",
   "execution_count": 31,
   "id": "96187154",
   "metadata": {},
   "outputs": [],
   "source": [
    "rates = rates.reset_index(drop=True)"
   ]
  },
  {
   "cell_type": "markdown",
   "id": "d11b96ed",
   "metadata": {},
   "source": [
    "### Готовим лист TWO"
   ]
  },
  {
   "cell_type": "markdown",
   "id": "ebe7f268",
   "metadata": {},
   "source": [
    "Здесь будут координаты скважин"
   ]
  },
  {
   "cell_type": "code",
   "execution_count": 32,
   "id": "ed131d1c",
   "metadata": {},
   "outputs": [],
   "source": [
    "well_xy = data.groupby('well')[['well_x', 'well_y']].max()"
   ]
  },
  {
   "cell_type": "markdown",
   "id": "a45294cd",
   "metadata": {},
   "source": [
    "Производим те же самые операции"
   ]
  },
  {
   "cell_type": "code",
   "execution_count": 33,
   "id": "9320f74d",
   "metadata": {},
   "outputs": [],
   "source": [
    "well_xy = well_xy.reset_index(drop=False)\n",
    "\n",
    "well_xy = well_xy.sort_values(by=['well'])\n",
    "\n",
    "columns = {\n",
    "    'well': 'Well ID',\n",
    "    'well_x': 'X',\n",
    "    'well_y': 'Y'\n",
    "}\n",
    "\n",
    "well_xy = well_xy.rename(columns=columns)\n",
    "\n",
    "well_xy.columns = pd.MultiIndex.from_tuples(\n",
    "    zip(well_xy.columns, ['num', 'm', 'm'])\n",
    ")\n",
    "\n",
    "well_xy = well_xy.reset_index(drop=True)"
   ]
  },
  {
   "cell_type": "markdown",
   "id": "0a825a0b",
   "metadata": {},
   "source": [
    "### Готовим лист THREE"
   ]
  },
  {
   "cell_type": "markdown",
   "id": "9982800d",
   "metadata": {},
   "source": [
    "Здесб будут давления"
   ]
  },
  {
   "cell_type": "markdown",
   "id": "7b2bb894",
   "metadata": {},
   "source": [
    "Создадим 2 датафрейма и сделаем одинаковые названия колонок.\n",
    "Один фрейм по данным ГДИ, второй по ТР."
   ]
  },
  {
   "cell_type": "code",
   "execution_count": 34,
   "id": "6e5b9d34",
   "metadata": {},
   "outputs": [],
   "source": [
    "pressure_TR = data[[\n",
    "    'well', 'date', 'reservoir_pressure_TR_atm', 'downhole_pressure_TR_atm', 'well_type'\n",
    "    ]]\n",
    "pressure_TR = pressure_TR.rename(columns={\n",
    "    'reservoir_pressure_TR_atm': 'reservoir_pressure',\n",
    "    'downhole_pressure_TR_atm': 'downhole_pressure',\n",
    "})"
   ]
  },
  {
   "cell_type": "code",
   "execution_count": 35,
   "id": "9135cd08",
   "metadata": {},
   "outputs": [],
   "source": [
    "pressure_GDI = data[[\n",
    "    'well', 'GDI_date',\n",
    "    'GDI_reservoir_pressure_atm',\n",
    "    'GDI_downhole_pressure_atm', \n",
    "    'well_type'\n",
    "]]\n",
    "pressure_GDI = pressure_GDI.rename(columns={\n",
    "    'GDI_date': 'date',\n",
    "    'GDI_reservoir_pressure_atm': 'reservoir_pressure',\n",
    "    'GDI_downhole_pressure_atm': 'downhole_pressure',\n",
    "})"
   ]
  },
  {
   "cell_type": "markdown",
   "id": "12df8f2e",
   "metadata": {},
   "source": [
    "Уберем пропуски, в которых нет данных"
   ]
  },
  {
   "cell_type": "code",
   "execution_count": 36,
   "id": "94af98f9",
   "metadata": {},
   "outputs": [],
   "source": [
    "pressure_GDI = pressure_GDI[pressure_GDI['reservoir_pressure'].notna()]"
   ]
  },
  {
   "cell_type": "markdown",
   "id": "6250bef8",
   "metadata": {},
   "source": [
    "Отсортируем по скважине и дате"
   ]
  },
  {
   "cell_type": "markdown",
   "id": "040cdecf",
   "metadata": {},
   "source": [
    "Иногда бывают проблемы с датами, для этого объявим функцию, которая приводит точно к правильному формату."
   ]
  },
  {
   "cell_type": "code",
   "execution_count": 37,
   "id": "a407181c",
   "metadata": {},
   "outputs": [],
   "source": [
    "def fix_time(row):\n",
    "    date_fix = str(row['date'])\n",
    "    date_fix = datetime.strptime(date_fix, \"%Y-%m-%d %H:%M:%S\")\n",
    "    return date_fix"
   ]
  },
  {
   "cell_type": "code",
   "execution_count": 38,
   "id": "cd223d1a",
   "metadata": {},
   "outputs": [],
   "source": [
    "pressure_GDI['date'] = pressure_GDI.apply(fix_time, axis=1)\n",
    "\n",
    "\n",
    "pressure_GDI = pressure_GDI.sort_values(by=['well', 'date'])"
   ]
  },
  {
   "cell_type": "markdown",
   "id": "4d34bafa",
   "metadata": {},
   "source": [
    "Удалим дубликаты, оставив только первое значение (так как сортировка изначально по времени, то это будет адекватно). Но, из предположения, что это значение может быть измерено позже (мало ли), не просто дропнем их, а удалим, сравнив каждый с последующим. То есть, если одно значение будет измерено в разные даты (например, давление вернулось к начальному после каких-то изменений), оно сохранится."
   ]
  },
  {
   "cell_type": "code",
   "execution_count": 39,
   "id": "72bcc1a9",
   "metadata": {},
   "outputs": [],
   "source": [
    "pressure_GDI = pressure_GDI.loc[\n",
    "    (pressure_GDI[['well', 'reservoir_pressure']].shift() !=\n",
    "     pressure_GDI[['well', 'reservoir_pressure']]).any(axis=1)]"
   ]
  },
  {
   "cell_type": "markdown",
   "id": "ba764bf4",
   "metadata": {},
   "source": [
    "Теперь разберемся с pressure_TR. Удалим строки, в которых вообще нет данных, а остальные NaN заменим на 0, для корректного сравнения."
   ]
  },
  {
   "cell_type": "code",
   "execution_count": 40,
   "id": "82914572",
   "metadata": {},
   "outputs": [],
   "source": [
    "pressure_TR = pressure_TR.dropna(\n",
    "    subset=['reservoir_pressure', 'downhole_pressure'], how='all'\n",
    "    )\n",
    "pressure_TR = pressure_TR.replace(np.nan, 0)"
   ]
  },
  {
   "cell_type": "markdown",
   "id": "c3238c08",
   "metadata": {},
   "source": [
    "Разобьем датафрейм на 2, в одном пластовое, в другом забойное давления (потому что повторяться они могут в разное время по-разному). И произведем описанную выше очистку дубликатов."
   ]
  },
  {
   "cell_type": "code",
   "execution_count": 41,
   "id": "07328b36",
   "metadata": {},
   "outputs": [],
   "source": [
    "pressure_TR_pr = pressure_TR[['well', 'date', 'reservoir_pressure', 'well_type']]\n",
    "pressure_TR_dh = pressure_TR[['well', 'date', 'downhole_pressure', 'well_type']]\n",
    "\n",
    "pressure_TR_pr = pressure_TR_pr.loc[\n",
    "    (pressure_TR_pr[['well', 'reservoir_pressure']].shift() !=\n",
    "     pressure_TR_pr[['well', 'reservoir_pressure']]).any(axis=1)\n",
    "    ]\n",
    "\n",
    "pressure_TR_dh = pressure_TR_dh.loc[\n",
    "    (pressure_TR_dh[['well', 'downhole_pressure']].shift() !=\n",
    "     pressure_TR_dh[['well', 'downhole_pressure']]).any(axis=1)\n",
    "    ]"
   ]
  },
  {
   "cell_type": "markdown",
   "id": "217ac7c5",
   "metadata": {},
   "source": [
    "Объединим таблицы обратно."
   ]
  },
  {
   "cell_type": "code",
   "execution_count": 42,
   "id": "d25c1f63",
   "metadata": {},
   "outputs": [],
   "source": [
    "pressure_TR = pd.merge(\n",
    "    pressure_TR_pr, pressure_TR_dh, how='outer', on=['well', 'date', 'well_type']\n",
    "    )"
   ]
  },
  {
   "cell_type": "markdown",
   "id": "8e417f4d",
   "metadata": {},
   "source": [
    "Теперь соединим pressure_TR и pressure_GDI на основание скважины и даты, сохранив все значения. Заменим обратно 0 на NaN"
   ]
  },
  {
   "cell_type": "code",
   "execution_count": 43,
   "id": "1378e832",
   "metadata": {},
   "outputs": [],
   "source": [
    "pressure = pd.merge(\n",
    "    pressure_TR, pressure_GDI, how='outer', on=['well', 'date', 'well_type']\n",
    "    )\n",
    "pressure = pressure.replace(0, np.nan)"
   ]
  },
  {
   "cell_type": "markdown",
   "id": "585828ba",
   "metadata": {},
   "source": [
    "Сейчас нам нужно заполнить все пропуски в данных из GDI данными из TR (потому что GDI актуальнее).\n",
    "\n",
    "Сделаем это и удалим лишние колонки, а оставшиеся переименуем правильно."
   ]
  },
  {
   "cell_type": "code",
   "execution_count": 44,
   "id": "27ed062d",
   "metadata": {},
   "outputs": [],
   "source": [
    "pressure['reservoir_pressure_y'] = pressure['reservoir_pressure_y'].fillna(\n",
    "    pressure['reservoir_pressure_x']\n",
    "    )\n",
    "pressure['downhole_pressure_y'] = pressure['downhole_pressure_y'].fillna(\n",
    "    pressure['downhole_pressure_x']\n",
    "    )\n",
    "pressure.drop(\n",
    "    [\"reservoir_pressure_x\", \"downhole_pressure_x\"], inplace=True, axis=1\n",
    "    )\n",
    "\n",
    "pressure.rename(columns={\n",
    "    'reservoir_pressure_y': 'reservoir_pressure',\n",
    "    'downhole_pressure_y': 'downhole_pressure'}, inplace=True\n",
    "    )"
   ]
  },
  {
   "cell_type": "markdown",
   "id": "d5ac53be",
   "metadata": {},
   "source": [
    "Отстортируем, сбросим индексы"
   ]
  },
  {
   "cell_type": "code",
   "execution_count": 45,
   "id": "974a7bfb",
   "metadata": {},
   "outputs": [],
   "source": [
    "pressure = pressure.dropna(\n",
    "    subset=['reservoir_pressure', 'downhole_pressure'], how='all'\n",
    "    )\n",
    "pressure = pressure.sort_values(by=['well', 'date'])\n",
    "pressure = pressure.reset_index(drop=True)"
   ]
  },
  {
   "cell_type": "markdown",
   "id": "c500046d",
   "metadata": {},
   "source": [
    "Добавим еще один столбец (но в нашем случае в нем никогда нет данных)"
   ]
  },
  {
   "cell_type": "code",
   "execution_count": 46,
   "id": "c8fc8f61",
   "metadata": {},
   "outputs": [],
   "source": [
    "pressure['THP'] = np.nan\n",
    "pressure = pressure.drop('well_type', axis=1)"
   ]
  },
  {
   "cell_type": "markdown",
   "id": "ca1e1d7b",
   "metadata": {},
   "source": [
    "Переименуем колонки"
   ]
  },
  {
   "cell_type": "code",
   "execution_count": 47,
   "id": "504250a8",
   "metadata": {},
   "outputs": [],
   "source": [
    "pressure.columns = pd.MultiIndex.from_tuples(\n",
    "    zip(\n",
    "        ['Well ID', 'Date', 'Pe', 'BHP', 'THP'], ['num', 'dd.mm.yyyy', 'atm', 'atm', '-']\n",
    "        ))"
   ]
  },
  {
   "cell_type": "markdown",
   "id": "e08d5d11",
   "metadata": {},
   "source": [
    "## Выгрузка в Excel"
   ]
  },
  {
   "cell_type": "markdown",
   "id": "2f080a1e",
   "metadata": {},
   "source": [
    "Сохраняем как надо, в 3 разных листа. Вместо NaN - пустые ячейки."
   ]
  },
  {
   "cell_type": "code",
   "execution_count": 48,
   "id": "0c150eeb",
   "metadata": {},
   "outputs": [],
   "source": [
    "with pd.ExcelWriter('import.xlsx') as writer:\n",
    "    rates.to_excel(writer, sheet_name='ONE', na_rep='')\n",
    "    well_xy.to_excel(writer, sheet_name='TWO',  na_rep='')\n",
    "    pressure.to_excel(writer, sheet_name='THREE',  na_rep='')"
   ]
  },
  {
   "cell_type": "markdown",
   "id": "ef446179",
   "metadata": {},
   "source": [
    "В Pandas еще не реализовано удаление индексов из файлов с мультииндексным названием колонок, и из-за них же появляется лишняя строка, так что удалим лишнее с помощью другой библиотеки."
   ]
  },
  {
   "cell_type": "code",
   "execution_count": 49,
   "id": "00d26b65",
   "metadata": {},
   "outputs": [],
   "source": [
    "wb = load_workbook('import.xlsx')\n",
    "\n",
    "for sheet in wb.sheetnames:\n",
    "    ws = wb[sheet]\n",
    "    ws.delete_rows(3, 1)\n",
    "    ws.delete_cols(1, 1)\n",
    "wb.save('import.xlsx')\n",
    "wb.close()"
   ]
  },
  {
   "cell_type": "code",
   "execution_count": null,
   "id": "fdeef787",
   "metadata": {},
   "outputs": [],
   "source": []
  }
 ],
 "metadata": {
  "kernelspec": {
   "display_name": "Python 3 (ipykernel)",
   "language": "python",
   "name": "python3"
  },
  "language_info": {
   "codemirror_mode": {
    "name": "ipython",
    "version": 3
   },
   "file_extension": ".py",
   "mimetype": "text/x-python",
   "name": "python",
   "nbconvert_exporter": "python",
   "pygments_lexer": "ipython3",
   "version": "3.9.13"
  },
  "toc": {
   "base_numbering": 1,
   "nav_menu": {},
   "number_sections": true,
   "sideBar": true,
   "skip_h1_title": true,
   "title_cell": "Содержание",
   "title_sidebar": "Содержание",
   "toc_cell": true,
   "toc_position": {
    "height": "calc(100% - 180px)",
    "left": "10px",
    "top": "150px",
    "width": "299.2px"
   },
   "toc_section_display": true,
   "toc_window_display": true
  },
  "varInspector": {
   "cols": {
    "lenName": 16,
    "lenType": 16,
    "lenVar": 40
   },
   "kernels_config": {
    "python": {
     "delete_cmd_postfix": "",
     "delete_cmd_prefix": "del ",
     "library": "var_list.py",
     "varRefreshCmd": "print(var_dic_list())"
    },
    "r": {
     "delete_cmd_postfix": ") ",
     "delete_cmd_prefix": "rm(",
     "library": "var_list.r",
     "varRefreshCmd": "cat(var_dic_list()) "
    }
   },
   "types_to_exclude": [
    "module",
    "function",
    "builtin_function_or_method",
    "instance",
    "_Feature"
   ],
   "window_display": false
  }
 },
 "nbformat": 4,
 "nbformat_minor": 5
}
