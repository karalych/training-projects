{
 "cells": [
  {
   "cell_type": "code",
   "execution_count": 1,
   "metadata": {},
   "outputs": [],
   "source": [
    "import warnings\n",
    "warnings.filterwarnings(\"ignore\")\n",
    "\n",
    "import pandas as pd\n",
    "import numpy as np\n",
    "import matplotlib.pyplot as plt\n",
    "import lightgbm as lgb\n",
    "from tqdm import tqdm\n",
    "from sklearn.model_selection import train_test_split, GridSearchCV\n",
    "from sklearn.preprocessing import OrdinalEncoder, OneHotEncoder, StandardScaler\n",
    "from sklearn.metrics import mean_squared_error\n",
    "from sklearn.ensemble import RandomForestRegressor\n",
    "from sklearn.linear_model import LinearRegression\n",
    "from sklearn.dummy import DummyRegressor"
   ]
  },
  {
   "cell_type": "markdown",
   "metadata": {},
   "source": [
    "## Подготовка данных"
   ]
  },
  {
   "cell_type": "code",
   "execution_count": 2,
   "metadata": {},
   "outputs": [],
   "source": [
    "try:\n",
    "    data = pd.read_csv('/datasets/autos.csv')\n",
    "except:\n",
    "    data = pd.read_csv('autos.csv')"
   ]
  },
  {
   "cell_type": "code",
   "execution_count": 3,
   "metadata": {},
   "outputs": [
    {
     "data": {
      "text/plain": [
       "(354369, 16)"
      ]
     },
     "execution_count": 3,
     "metadata": {},
     "output_type": "execute_result"
    }
   ],
   "source": [
    "data.shape"
   ]
  },
  {
   "cell_type": "code",
   "execution_count": 4,
   "metadata": {},
   "outputs": [
    {
     "name": "stdout",
     "output_type": "stream",
     "text": [
      "<class 'pandas.core.frame.DataFrame'>\n",
      "RangeIndex: 354369 entries, 0 to 354368\n",
      "Data columns (total 16 columns):\n",
      " #   Column             Non-Null Count   Dtype \n",
      "---  ------             --------------   ----- \n",
      " 0   DateCrawled        354369 non-null  object\n",
      " 1   Price              354369 non-null  int64 \n",
      " 2   VehicleType        316879 non-null  object\n",
      " 3   RegistrationYear   354369 non-null  int64 \n",
      " 4   Gearbox            334536 non-null  object\n",
      " 5   Power              354369 non-null  int64 \n",
      " 6   Model              334664 non-null  object\n",
      " 7   Kilometer          354369 non-null  int64 \n",
      " 8   RegistrationMonth  354369 non-null  int64 \n",
      " 9   FuelType           321474 non-null  object\n",
      " 10  Brand              354369 non-null  object\n",
      " 11  Repaired           283215 non-null  object\n",
      " 12  DateCreated        354369 non-null  object\n",
      " 13  NumberOfPictures   354369 non-null  int64 \n",
      " 14  PostalCode         354369 non-null  int64 \n",
      " 15  LastSeen           354369 non-null  object\n",
      "dtypes: int64(7), object(9)\n",
      "memory usage: 43.3+ MB\n"
     ]
    }
   ],
   "source": [
    "data.info()"
   ]
  },
  {
   "cell_type": "code",
   "execution_count": 5,
   "metadata": {},
   "outputs": [
    {
     "data": {
      "text/html": [
       "<div>\n",
       "<style scoped>\n",
       "    .dataframe tbody tr th:only-of-type {\n",
       "        vertical-align: middle;\n",
       "    }\n",
       "\n",
       "    .dataframe tbody tr th {\n",
       "        vertical-align: top;\n",
       "    }\n",
       "\n",
       "    .dataframe thead th {\n",
       "        text-align: right;\n",
       "    }\n",
       "</style>\n",
       "<table border=\"1\" class=\"dataframe\">\n",
       "  <thead>\n",
       "    <tr style=\"text-align: right;\">\n",
       "      <th></th>\n",
       "      <th>DateCrawled</th>\n",
       "      <th>Price</th>\n",
       "      <th>VehicleType</th>\n",
       "      <th>RegistrationYear</th>\n",
       "      <th>Gearbox</th>\n",
       "      <th>Power</th>\n",
       "      <th>Model</th>\n",
       "      <th>Kilometer</th>\n",
       "      <th>RegistrationMonth</th>\n",
       "      <th>FuelType</th>\n",
       "      <th>Brand</th>\n",
       "      <th>Repaired</th>\n",
       "      <th>DateCreated</th>\n",
       "      <th>NumberOfPictures</th>\n",
       "      <th>PostalCode</th>\n",
       "      <th>LastSeen</th>\n",
       "    </tr>\n",
       "  </thead>\n",
       "  <tbody>\n",
       "    <tr>\n",
       "      <th>0</th>\n",
       "      <td>2016-03-24 11:52:17</td>\n",
       "      <td>480</td>\n",
       "      <td>NaN</td>\n",
       "      <td>1993</td>\n",
       "      <td>manual</td>\n",
       "      <td>0</td>\n",
       "      <td>golf</td>\n",
       "      <td>150000</td>\n",
       "      <td>0</td>\n",
       "      <td>petrol</td>\n",
       "      <td>volkswagen</td>\n",
       "      <td>NaN</td>\n",
       "      <td>2016-03-24 00:00:00</td>\n",
       "      <td>0</td>\n",
       "      <td>70435</td>\n",
       "      <td>2016-04-07 03:16:57</td>\n",
       "    </tr>\n",
       "    <tr>\n",
       "      <th>1</th>\n",
       "      <td>2016-03-24 10:58:45</td>\n",
       "      <td>18300</td>\n",
       "      <td>coupe</td>\n",
       "      <td>2011</td>\n",
       "      <td>manual</td>\n",
       "      <td>190</td>\n",
       "      <td>NaN</td>\n",
       "      <td>125000</td>\n",
       "      <td>5</td>\n",
       "      <td>gasoline</td>\n",
       "      <td>audi</td>\n",
       "      <td>yes</td>\n",
       "      <td>2016-03-24 00:00:00</td>\n",
       "      <td>0</td>\n",
       "      <td>66954</td>\n",
       "      <td>2016-04-07 01:46:50</td>\n",
       "    </tr>\n",
       "    <tr>\n",
       "      <th>2</th>\n",
       "      <td>2016-03-14 12:52:21</td>\n",
       "      <td>9800</td>\n",
       "      <td>suv</td>\n",
       "      <td>2004</td>\n",
       "      <td>auto</td>\n",
       "      <td>163</td>\n",
       "      <td>grand</td>\n",
       "      <td>125000</td>\n",
       "      <td>8</td>\n",
       "      <td>gasoline</td>\n",
       "      <td>jeep</td>\n",
       "      <td>NaN</td>\n",
       "      <td>2016-03-14 00:00:00</td>\n",
       "      <td>0</td>\n",
       "      <td>90480</td>\n",
       "      <td>2016-04-05 12:47:46</td>\n",
       "    </tr>\n",
       "    <tr>\n",
       "      <th>3</th>\n",
       "      <td>2016-03-17 16:54:04</td>\n",
       "      <td>1500</td>\n",
       "      <td>small</td>\n",
       "      <td>2001</td>\n",
       "      <td>manual</td>\n",
       "      <td>75</td>\n",
       "      <td>golf</td>\n",
       "      <td>150000</td>\n",
       "      <td>6</td>\n",
       "      <td>petrol</td>\n",
       "      <td>volkswagen</td>\n",
       "      <td>no</td>\n",
       "      <td>2016-03-17 00:00:00</td>\n",
       "      <td>0</td>\n",
       "      <td>91074</td>\n",
       "      <td>2016-03-17 17:40:17</td>\n",
       "    </tr>\n",
       "    <tr>\n",
       "      <th>4</th>\n",
       "      <td>2016-03-31 17:25:20</td>\n",
       "      <td>3600</td>\n",
       "      <td>small</td>\n",
       "      <td>2008</td>\n",
       "      <td>manual</td>\n",
       "      <td>69</td>\n",
       "      <td>fabia</td>\n",
       "      <td>90000</td>\n",
       "      <td>7</td>\n",
       "      <td>gasoline</td>\n",
       "      <td>skoda</td>\n",
       "      <td>no</td>\n",
       "      <td>2016-03-31 00:00:00</td>\n",
       "      <td>0</td>\n",
       "      <td>60437</td>\n",
       "      <td>2016-04-06 10:17:21</td>\n",
       "    </tr>\n",
       "  </tbody>\n",
       "</table>\n",
       "</div>"
      ],
      "text/plain": [
       "           DateCrawled  Price VehicleType  RegistrationYear Gearbox  Power  \\\n",
       "0  2016-03-24 11:52:17    480         NaN              1993  manual      0   \n",
       "1  2016-03-24 10:58:45  18300       coupe              2011  manual    190   \n",
       "2  2016-03-14 12:52:21   9800         suv              2004    auto    163   \n",
       "3  2016-03-17 16:54:04   1500       small              2001  manual     75   \n",
       "4  2016-03-31 17:25:20   3600       small              2008  manual     69   \n",
       "\n",
       "   Model  Kilometer  RegistrationMonth  FuelType       Brand Repaired  \\\n",
       "0   golf     150000                  0    petrol  volkswagen      NaN   \n",
       "1    NaN     125000                  5  gasoline        audi      yes   \n",
       "2  grand     125000                  8  gasoline        jeep      NaN   \n",
       "3   golf     150000                  6    petrol  volkswagen       no   \n",
       "4  fabia      90000                  7  gasoline       skoda       no   \n",
       "\n",
       "           DateCreated  NumberOfPictures  PostalCode             LastSeen  \n",
       "0  2016-03-24 00:00:00                 0       70435  2016-04-07 03:16:57  \n",
       "1  2016-03-24 00:00:00                 0       66954  2016-04-07 01:46:50  \n",
       "2  2016-03-14 00:00:00                 0       90480  2016-04-05 12:47:46  \n",
       "3  2016-03-17 00:00:00                 0       91074  2016-03-17 17:40:17  \n",
       "4  2016-03-31 00:00:00                 0       60437  2016-04-06 10:17:21  "
      ]
     },
     "execution_count": 5,
     "metadata": {},
     "output_type": "execute_result"
    }
   ],
   "source": [
    "data.head()"
   ]
  },
  {
   "cell_type": "markdown",
   "metadata": {},
   "source": [
    "**Вывод:** видим не очень большой датафрейм (всего 16 признаков), но с большим количеством записей. Явно есть пропуски, незначимые признаки и другие проблемы, начнем его изучение."
   ]
  },
  {
   "cell_type": "markdown",
   "metadata": {},
   "source": [
    "### Поиск простых дубликатов"
   ]
  },
  {
   "cell_type": "markdown",
   "metadata": {},
   "source": [
    "Пока мы не выполнили преобразований над данными (не убрали лишние столбцы с датой), можно проверить их на простые дубликаты."
   ]
  },
  {
   "cell_type": "code",
   "execution_count": 6,
   "metadata": {},
   "outputs": [
    {
     "data": {
      "text/plain": [
       "4"
      ]
     },
     "execution_count": 6,
     "metadata": {},
     "output_type": "execute_result"
    }
   ],
   "source": [
    "data.duplicated().sum()"
   ]
  },
  {
   "cell_type": "code",
   "execution_count": 7,
   "metadata": {},
   "outputs": [],
   "source": [
    "data = data.drop_duplicates()"
   ]
  },
  {
   "cell_type": "markdown",
   "metadata": {},
   "source": [
    "**Вывод:** в данных было всего 4 полных дубликата, удалили их."
   ]
  },
  {
   "cell_type": "markdown",
   "metadata": {},
   "source": [
    "### Удаление ненужных данных"
   ]
  },
  {
   "cell_type": "markdown",
   "metadata": {},
   "source": [
    "Вначале посмотрим, когда были выгружены анкеты"
   ]
  },
  {
   "cell_type": "code",
   "execution_count": 8,
   "metadata": {},
   "outputs": [],
   "source": [
    "data['DateCrawled'] = pd.to_datetime(data['DateCrawled'], format='%Y-%m-%d %H:%M:%S')"
   ]
  },
  {
   "cell_type": "code",
   "execution_count": 9,
   "metadata": {},
   "outputs": [
    {
     "data": {
      "text/plain": [
       "array([2016], dtype=int64)"
      ]
     },
     "execution_count": 9,
     "metadata": {},
     "output_type": "execute_result"
    }
   ],
   "source": [
    "data['DateCrawled'].dt.year.unique()"
   ]
  },
  {
   "cell_type": "markdown",
   "metadata": {},
   "source": [
    "Нам не нужны признаки, связанные с владельцем: `NumberOfPictures`, `PostalCode` и `LastSeen`, а также дата скачивания анкеты `DateCrawled`. Врядли сильно влияет на цену месяц регистрации `RegistrationMonth`.\n",
    "\n",
    "Удалим эти признаки."
   ]
  },
  {
   "cell_type": "code",
   "execution_count": 10,
   "metadata": {},
   "outputs": [],
   "source": [
    "data = data.drop(['PostalCode', 'LastSeen', 'DateCrawled', 'RegistrationMonth', 'NumberOfPictures'], axis=1)"
   ]
  },
  {
   "cell_type": "markdown",
   "metadata": {},
   "source": [
    "**Вывод:** избавились от неинформативных признаков `NumberOfPictures`, `PostalCode`, `LastSeen`, `DateCrawled` и `RegistrationMonth`."
   ]
  },
  {
   "cell_type": "markdown",
   "metadata": {},
   "source": [
    "### Переименования колонок"
   ]
  },
  {
   "cell_type": "code",
   "execution_count": 11,
   "metadata": {},
   "outputs": [],
   "source": [
    "data = data.rename(str.lower, axis='columns')\n",
    "\n",
    "data = data.rename(columns={\n",
    "    'vehicletype': 'vehicle_type',\n",
    "    'registrationyear': 'registration_year',\n",
    "    'fueltype': 'fuel_type',\n",
    "    'datecreated': 'date_created'\n",
    "})"
   ]
  },
  {
   "cell_type": "code",
   "execution_count": 12,
   "metadata": {},
   "outputs": [
    {
     "name": "stdout",
     "output_type": "stream",
     "text": [
      "<class 'pandas.core.frame.DataFrame'>\n",
      "Int64Index: 354365 entries, 0 to 354368\n",
      "Data columns (total 11 columns):\n",
      " #   Column             Non-Null Count   Dtype \n",
      "---  ------             --------------   ----- \n",
      " 0   price              354365 non-null  int64 \n",
      " 1   vehicle_type       316875 non-null  object\n",
      " 2   registration_year  354365 non-null  int64 \n",
      " 3   gearbox            334532 non-null  object\n",
      " 4   power              354365 non-null  int64 \n",
      " 5   model              334660 non-null  object\n",
      " 6   kilometer          354365 non-null  int64 \n",
      " 7   fuel_type          321470 non-null  object\n",
      " 8   brand              354365 non-null  object\n",
      " 9   repaired           283211 non-null  object\n",
      " 10  date_created       354365 non-null  object\n",
      "dtypes: int64(4), object(7)\n",
      "memory usage: 32.4+ MB\n"
     ]
    }
   ],
   "source": [
    "data.info()"
   ]
  },
  {
   "cell_type": "markdown",
   "metadata": {},
   "source": [
    "**Вывод:** привели названия колонок к станадртному виду."
   ]
  },
  {
   "cell_type": "markdown",
   "metadata": {},
   "source": [
    "### Проверка необходимости учета инфляции"
   ]
  },
  {
   "cell_type": "markdown",
   "metadata": {},
   "source": [
    "Дата создания тоже нам не нужна, но, наверное, стоит проверить хотя бы год создания, чтобы удостоверится, что в цены не внесет свой вклад инфляция.\n",
    "\n",
    "Приведем столбец `DateCreated` к нужному типу и посчитаем, сколько различных лет охватывает наш датасет."
   ]
  },
  {
   "cell_type": "code",
   "execution_count": 13,
   "metadata": {},
   "outputs": [
    {
     "data": {
      "text/plain": [
       "array([2016, 2015, 2014], dtype=int64)"
      ]
     },
     "execution_count": 13,
     "metadata": {},
     "output_type": "execute_result"
    }
   ],
   "source": [
    "data['date_created'] = pd.to_datetime(data['date_created'], format='%Y-%m-%d %H:%M:%S')\n",
    "\n",
    "data['date_created'].dt.year.unique()"
   ]
  },
  {
   "cell_type": "code",
   "execution_count": 14,
   "metadata": {},
   "outputs": [],
   "source": [
    "data = data.drop(['date_created'], axis=1)"
   ]
  },
  {
   "cell_type": "markdown",
   "metadata": {},
   "source": [
    "В целом, 3 года - большой срок. Однако непонятно, какой уровень среднегодовой инфляции принять, так как мы не знаем страну. Пока удалю эти данные."
   ]
  },
  {
   "cell_type": "markdown",
   "metadata": {},
   "source": [
    "**Вывод:** удилили дату создания объявления."
   ]
  },
  {
   "cell_type": "markdown",
   "metadata": {},
   "source": [
    "### Поиск пропусков"
   ]
  },
  {
   "cell_type": "markdown",
   "metadata": {},
   "source": [
    "Посмотрим, сколько всего имеется пропусков."
   ]
  },
  {
   "cell_type": "code",
   "execution_count": 15,
   "metadata": {
    "scrolled": true
   },
   "outputs": [
    {
     "data": {
      "text/plain": [
       "price                    0\n",
       "vehicle_type         37490\n",
       "registration_year        0\n",
       "gearbox              19833\n",
       "power                    0\n",
       "model                19705\n",
       "kilometer                0\n",
       "fuel_type            32895\n",
       "brand                    0\n",
       "repaired             71154\n",
       "dtype: int64"
      ]
     },
     "execution_count": 15,
     "metadata": {},
     "output_type": "execute_result"
    }
   ],
   "source": [
    "data.isna().sum()"
   ]
  },
  {
   "cell_type": "markdown",
   "metadata": {},
   "source": [
    "Много где нет информации о ремонтах. Проверим, какое соотношение отремонтированных/не бывших в ремонте машин."
   ]
  },
  {
   "cell_type": "code",
   "execution_count": 16,
   "metadata": {},
   "outputs": [
    {
     "data": {
      "image/png": "[encoded data removed]",
      "text/plain": [
       "<Figure size 640x480 with 1 Axes>"
      ]
     },
     "metadata": {},
     "output_type": "display_data"
    }
   ],
   "source": [
    "data['repaired'].hist();"
   ]
  },
  {
   "cell_type": "markdown",
   "metadata": {},
   "source": [
    "Проще всего заполнить пропуски значением `0` - машина не ремонтировалась."
   ]
  },
  {
   "cell_type": "code",
   "execution_count": 17,
   "metadata": {},
   "outputs": [],
   "source": [
    "data['repaired'] = data['repaired'].fillna(0)"
   ]
  },
  {
   "cell_type": "markdown",
   "metadata": {},
   "source": [
    "Разберемся с остальными колонками. Они все связаны с конструкцией машины. Скорее всего, наиболее праильным будет заполнить их значениями, характерными для этих машин. Модель восстановить адекватно никак не получится, признаки в этой колонке удалим.\n",
    "\n",
    "А вот остальные заполним по наиболее популярному для данной модели значению."
   ]
  },
  {
   "cell_type": "code",
   "execution_count": 18,
   "metadata": {},
   "outputs": [],
   "source": [
    "data = data[data['model'].notna()]"
   ]
  },
  {
   "cell_type": "code",
   "execution_count": 19,
   "metadata": {},
   "outputs": [],
   "source": [
    "columns_pass = ['vehicle_type', 'fuel_type', 'gearbox']"
   ]
  },
  {
   "cell_type": "code",
   "execution_count": 20,
   "metadata": {},
   "outputs": [],
   "source": [
    "def get_fill_value(data, key):\n",
    "    key = tuple(key) if key.shape[0] > 1 else key[0]\n",
    "    return data.loc[key] if data.index.isin([key]).any() else np.nan"
   ]
  },
  {
   "cell_type": "code",
   "execution_count": 21,
   "metadata": {
    "scrolled": true
   },
   "outputs": [
    {
     "name": "stderr",
     "output_type": "stream",
     "text": [
      "100%|████████████████████████████████████████████████████████████████████████████████████| 3/3 [01:21<00:00, 27.02s/it]"
     ]
    },
    {
     "name": "stdout",
     "output_type": "stream",
     "text": [
      "CPU times: total: 1min 20s\n",
      "Wall time: 1min 21s\n"
     ]
    },
    {
     "name": "stderr",
     "output_type": "stream",
     "text": [
      "\n"
     ]
    }
   ],
   "source": [
    "%%time\n",
    "for column in tqdm(columns_pass):\n",
    "    group_list = ['brand', 'model']\n",
    "\n",
    "    fill_values = data.groupby(group_list)[column].agg(lambda x: x.value_counts().idxmax())\n",
    "    empty_idx = data[data[column].isna()].index\n",
    "\n",
    "    data.loc[empty_idx, column] = data.loc[empty_idx][group_list].apply(lambda x: get_fill_value(fill_values, x), axis=1)"
   ]
  },
  {
   "cell_type": "code",
   "execution_count": 22,
   "metadata": {
    "scrolled": true
   },
   "outputs": [
    {
     "data": {
      "text/plain": [
       "price                0\n",
       "vehicle_type         0\n",
       "registration_year    0\n",
       "gearbox              0\n",
       "power                0\n",
       "model                0\n",
       "kilometer            0\n",
       "fuel_type            0\n",
       "brand                0\n",
       "repaired             0\n",
       "dtype: int64"
      ]
     },
     "execution_count": 22,
     "metadata": {},
     "output_type": "execute_result"
    }
   ],
   "source": [
    "data.isna().sum()"
   ]
  },
  {
   "cell_type": "markdown",
   "metadata": {},
   "source": [
    "**Вывод:** заполнение пропусков выполнили, отлично. \n",
    "\n",
    "- В признаке `repaired` пропуски заменены на 0.\n",
    "- Пропуски в признаке `model` удалили.\n",
    "- В признаках `vehicle_type`, `fuel_type`, `gearbox` - заменили на наиболее часто встречающийся тип для данной модели."
   ]
  },
  {
   "cell_type": "markdown",
   "metadata": {},
   "source": [
    "### Смена типов данных"
   ]
  },
  {
   "cell_type": "markdown",
   "metadata": {},
   "source": [
    "Неправильный тип данных в колонках `repaired` и `gearbox` - должен быть булев. Остальные колонки правильные. Заменим значения в колонках на 1 или 0."
   ]
  },
  {
   "cell_type": "code",
   "execution_count": 23,
   "metadata": {},
   "outputs": [],
   "source": [
    "data['is_auto_gearbox'] = data['gearbox'].map({'auto': 1, 'manual': 0})\n",
    "data = data.drop(['gearbox'], axis=1)"
   ]
  },
  {
   "cell_type": "code",
   "execution_count": 24,
   "metadata": {},
   "outputs": [],
   "source": [
    "data['repaired'] = data['repaired'].map({'yes': 1, 'no': 0}) "
   ]
  },
  {
   "cell_type": "code",
   "execution_count": 25,
   "metadata": {},
   "outputs": [],
   "source": [
    "data['repaired'] = data['repaired'].astype('bool')\n",
    "data['is_auto_gearbox'] = data['is_auto_gearbox'].astype('bool')"
   ]
  },
  {
   "cell_type": "code",
   "execution_count": 26,
   "metadata": {},
   "outputs": [
    {
     "name": "stdout",
     "output_type": "stream",
     "text": [
      "<class 'pandas.core.frame.DataFrame'>\n",
      "Int64Index: 334660 entries, 0 to 354368\n",
      "Data columns (total 10 columns):\n",
      " #   Column             Non-Null Count   Dtype \n",
      "---  ------             --------------   ----- \n",
      " 0   price              334660 non-null  int64 \n",
      " 1   vehicle_type       334660 non-null  object\n",
      " 2   registration_year  334660 non-null  int64 \n",
      " 3   power              334660 non-null  int64 \n",
      " 4   model              334660 non-null  object\n",
      " 5   kilometer          334660 non-null  int64 \n",
      " 6   fuel_type          334660 non-null  object\n",
      " 7   brand              334660 non-null  object\n",
      " 8   repaired           334660 non-null  bool  \n",
      " 9   is_auto_gearbox    334660 non-null  bool  \n",
      "dtypes: bool(2), int64(4), object(4)\n",
      "memory usage: 31.7+ MB\n"
     ]
    }
   ],
   "source": [
    "data.info()"
   ]
  },
  {
   "cell_type": "markdown",
   "metadata": {},
   "source": [
    "**Вывод:** типы данных теперь правильные. Выполнена замена типов в признаках `repaired` и `gearbox` на bool. Для последнего создан новый признак `is_auto_gearbox`, а прошлый удален."
   ]
  },
  {
   "cell_type": "markdown",
   "metadata": {},
   "source": [
    "### Поиск сложных дубликатов"
   ]
  },
  {
   "cell_type": "markdown",
   "metadata": {},
   "source": [
    "Проверим дубликаты в категориальных признаках."
   ]
  },
  {
   "cell_type": "code",
   "execution_count": 27,
   "metadata": {},
   "outputs": [
    {
     "data": {
      "text/plain": [
       "array(['sedan', 'suv', 'small', 'convertible', 'bus', 'wagon', 'coupe',\n",
       "       'other'], dtype=object)"
      ]
     },
     "execution_count": 27,
     "metadata": {},
     "output_type": "execute_result"
    }
   ],
   "source": [
    "data.vehicle_type.unique()"
   ]
  },
  {
   "cell_type": "code",
   "execution_count": 28,
   "metadata": {},
   "outputs": [
    {
     "data": {
      "text/plain": [
       "array(['golf', 'grand', 'fabia', '3er', '2_reihe', 'other', 'c_max',\n",
       "       '3_reihe', 'passat', 'navara', 'ka', 'polo', 'twingo', 'a_klasse',\n",
       "       'scirocco', '5er', 'meriva', 'arosa', 'c4', 'civic', 'transporter',\n",
       "       'punto', 'e_klasse', 'clio', 'kadett', 'kangoo', 'corsa', 'one',\n",
       "       'fortwo', '1er', 'b_klasse', 'signum', 'astra', 'a8', 'jetta',\n",
       "       'fiesta', 'c_klasse', 'micra', 'vito', 'sprinter', '156', 'escort',\n",
       "       'forester', 'xc_reihe', 'scenic', 'a4', 'a1', 'insignia', 'combo',\n",
       "       'focus', 'tt', 'a6', 'jazz', 'omega', 'slk', '7er', '80', '147',\n",
       "       '100', 'z_reihe', 'sportage', 'sorento', 'v40', 'ibiza', 'mustang',\n",
       "       'eos', 'touran', 'getz', 'a3', 'almera', 'megane', 'lupo', 'r19',\n",
       "       'zafira', 'caddy', 'mondeo', 'cordoba', 'colt', 'impreza',\n",
       "       'vectra', 'berlingo', 'tiguan', 'i_reihe', 'espace', 'sharan',\n",
       "       '6_reihe', 'panda', 'up', 'seicento', 'ceed', '5_reihe', 'yeti',\n",
       "       'octavia', 'mii', 'rx_reihe', '6er', 'modus', 'fox', 'matiz',\n",
       "       'beetle', 'c1', 'rio', 'touareg', 'logan', 'spider', 'cuore',\n",
       "       's_max', 'a2', 'galaxy', 'c3', 'viano', 's_klasse', '1_reihe',\n",
       "       'avensis', 'roomster', 'sl', 'kaefer', 'santa', 'cooper', 'leon',\n",
       "       '4_reihe', 'a5', '500', 'laguna', 'ptcruiser', 'clk', 'primera',\n",
       "       'x_reihe', 'exeo', '159', 'transit', 'juke', 'qashqai', 'carisma',\n",
       "       'accord', 'corolla', 'lanos', 'phaeton', 'verso', 'swift', 'rav',\n",
       "       'picanto', 'boxster', 'kalos', 'superb', 'stilo', 'alhambra',\n",
       "       'mx_reihe', 'roadster', 'ypsilon', 'cayenne', 'galant', 'justy',\n",
       "       '90', 'sirion', 'crossfire', 'agila', 'duster', 'cr_reihe', 'v50',\n",
       "       'c_reihe', 'v_klasse', 'm_klasse', 'yaris', 'c5', 'aygo', 'cc',\n",
       "       'carnival', 'fusion', '911', 'bora', 'forfour', 'm_reihe', 'cl',\n",
       "       'tigra', '300c', 'spark', 'v70', 'kuga', 'x_type', 'ducato',\n",
       "       's_type', 'x_trail', 'toledo', 'altea', 'voyager', 'calibra',\n",
       "       'bravo', 'antara', 'tucson', 'citigo', 'jimny', 'wrangler',\n",
       "       'lybra', 'q7', 'lancer', 'captiva', 'c2', 'discovery',\n",
       "       'freelander', 'sandero', 'note', '900', 'cherokee', 'clubman',\n",
       "       'samara', 'defender', '601', 'cx_reihe', 'legacy', 'pajero',\n",
       "       'auris', 'niva', 's60', 'nubira', 'vivaro', 'g_klasse', 'lodgy',\n",
       "       '850', 'range_rover', 'q3', 'serie_2', 'glk', 'charade', 'croma',\n",
       "       'outlander', 'doblo', 'musa', 'move', '9000', 'v60', '145', 'aveo',\n",
       "       '200', 'b_max', 'range_rover_sport', 'terios', 'rangerover', 'q5',\n",
       "       'range_rover_evoque', 'materia', 'delta', 'gl', 'kalina', 'amarok',\n",
       "       'elefantino', 'i3', 'kappa', 'serie_3', 'serie_1'], dtype=object)"
      ]
     },
     "execution_count": 28,
     "metadata": {},
     "output_type": "execute_result"
    }
   ],
   "source": [
    "data.model.unique()"
   ]
  },
  {
   "cell_type": "code",
   "execution_count": 29,
   "metadata": {},
   "outputs": [
    {
     "data": {
      "text/plain": [
       "array(['petrol', 'gasoline', 'lpg', 'other', 'hybrid', 'cng', 'electric'],\n",
       "      dtype=object)"
      ]
     },
     "execution_count": 29,
     "metadata": {},
     "output_type": "execute_result"
    }
   ],
   "source": [
    "data.fuel_type.unique()"
   ]
  },
  {
   "cell_type": "code",
   "execution_count": 30,
   "metadata": {
    "scrolled": true
   },
   "outputs": [
    {
     "data": {
      "text/plain": [
       "array(['volkswagen', 'jeep', 'skoda', 'bmw', 'peugeot', 'ford', 'mazda',\n",
       "       'nissan', 'renault', 'mercedes_benz', 'opel', 'seat', 'citroen',\n",
       "       'honda', 'fiat', 'mini', 'smart', 'hyundai', 'audi', 'alfa_romeo',\n",
       "       'subaru', 'volvo', 'mitsubishi', 'kia', 'suzuki', 'lancia',\n",
       "       'toyota', 'chevrolet', 'dacia', 'daihatsu', 'chrysler', 'jaguar',\n",
       "       'daewoo', 'porsche', 'rover', 'saab', 'land_rover', 'trabant',\n",
       "       'lada'], dtype=object)"
      ]
     },
     "execution_count": 30,
     "metadata": {},
     "output_type": "execute_result"
    }
   ],
   "source": [
    "data.brand.unique()"
   ]
  },
  {
   "cell_type": "markdown",
   "metadata": {},
   "source": [
    "**Вывод:** сложных дубликатов в категориальных признаках не замечено."
   ]
  },
  {
   "cell_type": "markdown",
   "metadata": {},
   "source": [
    "### Удаление выбросов"
   ]
  },
  {
   "cell_type": "markdown",
   "metadata": {},
   "source": [
    "Вначале разделим признаки на численные и категориальные."
   ]
  },
  {
   "cell_type": "code",
   "execution_count": 31,
   "metadata": {},
   "outputs": [
    {
     "name": "stdout",
     "output_type": "stream",
     "text": [
      "Числовые колонки: ['price' 'registration_year' 'power' 'kilometer']\n",
      "Категориальные колонки: ['vehicle_type' 'model' 'fuel_type' 'brand']\n"
     ]
    }
   ],
   "source": [
    "data_numeric = data.select_dtypes(include=[np.number])\n",
    "numeric_cols = data_numeric.columns.values\n",
    "print('Числовые колонки:', numeric_cols)\n",
    "\n",
    "data_non_numeric = data.select_dtypes(exclude=[np.number, 'datetime', 'bool'])\n",
    "non_numeric_cols = data_non_numeric.columns.values\n",
    "print('Категориальные колонки:',non_numeric_cols)"
   ]
  },
  {
   "cell_type": "markdown",
   "metadata": {},
   "source": [
    "Теперь посмотрим на выбросы в числовых колонках."
   ]
  },
  {
   "cell_type": "code",
   "execution_count": 32,
   "metadata": {},
   "outputs": [
    {
     "data": {
      "image/png": "[encoded data removed]",
      "text/plain": [
       "<Figure size 640x480 with 1 Axes>"
      ]
     },
     "metadata": {},
     "output_type": "display_data"
    },
    {
     "data": {
      "image/png": "[encoded data removed]",
      "text/plain": [
       "<Figure size 640x480 with 1 Axes>"
      ]
     },
     "metadata": {},
     "output_type": "display_data"
    },
    {
     "data": {
      "image/png": "[encoded data removed]",
      "text/plain": [
       "<Figure size 640x480 with 1 Axes>"
      ]
     },
     "metadata": {},
     "output_type": "display_data"
    },
    {
     "data": {
      "image/png": "[encoded data removed]",
      "text/plain": [
       "<Figure size 640x480 with 1 Axes>"
      ]
     },
     "metadata": {},
     "output_type": "display_data"
    }
   ],
   "source": [
    "for column in numeric_cols:\n",
    "    fig, ax = plt.subplots()\n",
    "    ax = data.boxplot(column=column).set_title(f'Распределение данных в столбце {column}')"
   ]
  },
  {
   "cell_type": "markdown",
   "metadata": {},
   "source": [
    "Признаки `power` и `registration_year` явно нуждаются в очистке. Не может быть 10000 год регистрации, как и 20 000 л.с. в машине. Ограничим их физически осуществимыми значениями."
   ]
  },
  {
   "cell_type": "code",
   "execution_count": 33,
   "metadata": {},
   "outputs": [
    {
     "data": {
      "text/plain": [
       "count    334660.000000\n",
       "mean       2003.924024\n",
       "std          69.377633\n",
       "min        1000.000000\n",
       "1%         1982.000000\n",
       "50%        2003.000000\n",
       "99%        2018.000000\n",
       "max        9999.000000\n",
       "Name: registration_year, dtype: float64"
      ]
     },
     "execution_count": 33,
     "metadata": {},
     "output_type": "execute_result"
    }
   ],
   "source": [
    "data.registration_year.describe(percentiles=[.01, .5, .99])"
   ]
  },
  {
   "cell_type": "code",
   "execution_count": 34,
   "metadata": {},
   "outputs": [],
   "source": [
    "data = data.query('registration_year <= 2016 & registration_year >= 1960')"
   ]
  },
  {
   "cell_type": "code",
   "execution_count": 35,
   "metadata": {},
   "outputs": [
    {
     "data": {
      "image/png": "[encoded data removed]",
      "text/plain": [
       "<Figure size 640x480 with 1 Axes>"
      ]
     },
     "metadata": {},
     "output_type": "display_data"
    }
   ],
   "source": [
    "data.boxplot(column='registration_year').set_title('Распределение данных в столбце registration_year');"
   ]
  },
  {
   "cell_type": "code",
   "execution_count": 36,
   "metadata": {
    "scrolled": true
   },
   "outputs": [
    {
     "data": {
      "text/plain": [
       "count    321950.000000\n",
       "mean        112.270005\n",
       "std         182.023515\n",
       "min           0.000000\n",
       "1%            0.000000\n",
       "50%         105.000000\n",
       "99%         300.000000\n",
       "max       20000.000000\n",
       "Name: power, dtype: float64"
      ]
     },
     "execution_count": 36,
     "metadata": {},
     "output_type": "execute_result"
    }
   ],
   "source": [
    "data.power.describe(percentiles=[.01, .5, .99])"
   ]
  },
  {
   "cell_type": "code",
   "execution_count": 37,
   "metadata": {},
   "outputs": [],
   "source": [
    "data = data.query('power <= 400 & power > 10')"
   ]
  },
  {
   "cell_type": "code",
   "execution_count": 38,
   "metadata": {},
   "outputs": [
    {
     "data": {
      "image/png": "[encoded data removed]",
      "text/plain": [
       "<Figure size 640x480 with 1 Axes>"
      ]
     },
     "metadata": {},
     "output_type": "display_data"
    }
   ],
   "source": [
    "data.boxplot(column='power').set_title('Распределение данных в столбце power');"
   ]
  },
  {
   "cell_type": "markdown",
   "metadata": {},
   "source": [
    "Числовые колонки почистили, теперь посмотрим на категориальные."
   ]
  },
  {
   "cell_type": "code",
   "execution_count": 39,
   "metadata": {},
   "outputs": [
    {
     "name": "stdout",
     "output_type": "stream",
     "text": [
      "vehicle_type\n",
      "sedan          86458\n",
      "small          71678\n",
      "wagon          59782\n",
      "bus            26834\n",
      "convertible    18368\n",
      "coupe          14441\n",
      "suv            10585\n",
      "other           2316\n",
      "Name: vehicle_type, dtype: int64\n",
      "\n",
      "model\n",
      "kappa                 13\n",
      "gl                    12\n",
      "elefantino             7\n",
      "i3                     5\n",
      "serie_2                5\n",
      "samara                 5\n",
      "kalina                 5\n",
      "serie_3                3\n",
      "range_rover_evoque     2\n",
      "rangerover             2\n",
      "Name: model, dtype: int64\n",
      "\n",
      "fuel_type\n",
      "petrol      195621\n",
      "gasoline     89554\n",
      "lpg           4504\n",
      "cng            472\n",
      "hybrid         180\n",
      "other           74\n",
      "electric        57\n",
      "Name: fuel_type, dtype: int64\n",
      "\n",
      "brand\n",
      "porsche       578\n",
      "jeep          556\n",
      "saab          469\n",
      "land_rover    461\n",
      "jaguar        435\n",
      "daewoo        388\n",
      "lancia        375\n",
      "rover         333\n",
      "trabant       284\n",
      "lada          154\n",
      "Name: brand, dtype: int64\n",
      "\n"
     ]
    }
   ],
   "source": [
    "for column in non_numeric_cols:\n",
    "    print(column)\n",
    "    print(data[column].value_counts().tail(10))\n",
    "    print('')"
   ]
  },
  {
   "cell_type": "markdown",
   "metadata": {},
   "source": [
    "Довольно мало автомобилей с типома топлива `other` и `electric` - можно их удалить."
   ]
  },
  {
   "cell_type": "code",
   "execution_count": 40,
   "metadata": {},
   "outputs": [],
   "source": [
    "data = data[~data['fuel_type'].isin(['other', 'electric'])]"
   ]
  },
  {
   "cell_type": "markdown",
   "metadata": {},
   "source": [
    "Посмотрим отдельно на признак `model`"
   ]
  },
  {
   "cell_type": "code",
   "execution_count": 41,
   "metadata": {},
   "outputs": [
    {
     "data": {
      "text/plain": [
       "lodgy                 30\n",
       "delta                 28\n",
       "b_max                 25\n",
       "9000                  24\n",
       "musa                  21\n",
       "charade               20\n",
       "materia               17\n",
       "200                   16\n",
       "amarok                15\n",
       "q3                    14\n",
       "kappa                 13\n",
       "gl                    12\n",
       "elefantino             7\n",
       "i3                     5\n",
       "serie_2                5\n",
       "samara                 5\n",
       "kalina                 5\n",
       "serie_3                3\n",
       "rangerover             2\n",
       "range_rover_evoque     2\n",
       "Name: model, dtype: int64"
      ]
     },
     "execution_count": 41,
     "metadata": {},
     "output_type": "execute_result"
    }
   ],
   "source": [
    "data.model.value_counts().tail(20)"
   ]
  },
  {
   "cell_type": "markdown",
   "metadata": {},
   "source": [
    "Довольно много моделей, представленных менее чем 20 объявлениями - избавимся и от них."
   ]
  },
  {
   "cell_type": "code",
   "execution_count": 42,
   "metadata": {},
   "outputs": [],
   "source": [
    "data = data[~data['model'].isin(data.model.value_counts().tail(14).index)]"
   ]
  },
  {
   "cell_type": "markdown",
   "metadata": {},
   "source": [
    "Теперь посмотрим на целевой признак, `price`"
   ]
  },
  {
   "cell_type": "code",
   "execution_count": 43,
   "metadata": {},
   "outputs": [
    {
     "data": {
      "image/png": "[encoded data removed]",
      "text/plain": [
       "<Figure size 640x480 with 1 Axes>"
      ]
     },
     "metadata": {},
     "output_type": "display_data"
    }
   ],
   "source": [
    "data.boxplot(column='price').set_title('Распределение данных в столбце price');"
   ]
  },
  {
   "cell_type": "markdown",
   "metadata": {},
   "source": [
    "Немного странным кажется то, что цены начинаются с 0. Немного ограничим их снизу."
   ]
  },
  {
   "cell_type": "code",
   "execution_count": 44,
   "metadata": {},
   "outputs": [],
   "source": [
    "data = data[data['price'] > 10]"
   ]
  },
  {
   "cell_type": "markdown",
   "metadata": {},
   "source": [
    "**Вывод:** избавились от выбросов в числовых и категориальных признаках. Были удалены:\n",
    "\n",
    "* Объявления с годом регистрации автомобиля ранее 1960 и позднее 2018.\n",
    "* Объявления с мощностью автомобиля менее 11 и более 400 л.с.\n",
    "* Объявления с типом топлива `other` и `eletcric`.\n",
    "* Объявления с моделями, представленными менее чем 20 объявлениями.\n",
    "* Объявления с ценой менее 10\n"
   ]
  },
  {
   "cell_type": "markdown",
   "metadata": {},
   "source": [
    "### Изучение корреляций"
   ]
  },
  {
   "cell_type": "code",
   "execution_count": 45,
   "metadata": {
    "scrolled": true
   },
   "outputs": [
    {
     "data": {
      "text/html": [
       "<div>\n",
       "<style scoped>\n",
       "    .dataframe tbody tr th:only-of-type {\n",
       "        vertical-align: middle;\n",
       "    }\n",
       "\n",
       "    .dataframe tbody tr th {\n",
       "        vertical-align: top;\n",
       "    }\n",
       "\n",
       "    .dataframe thead th {\n",
       "        text-align: right;\n",
       "    }\n",
       "</style>\n",
       "<table border=\"1\" class=\"dataframe\">\n",
       "  <thead>\n",
       "    <tr style=\"text-align: right;\">\n",
       "      <th></th>\n",
       "      <th>price</th>\n",
       "      <th>registration_year</th>\n",
       "      <th>power</th>\n",
       "      <th>kilometer</th>\n",
       "    </tr>\n",
       "  </thead>\n",
       "  <tbody>\n",
       "    <tr>\n",
       "      <th>price</th>\n",
       "      <td>1.000000</td>\n",
       "      <td>0.518665</td>\n",
       "      <td>0.509948</td>\n",
       "      <td>-0.395031</td>\n",
       "    </tr>\n",
       "    <tr>\n",
       "      <th>registration_year</th>\n",
       "      <td>0.518665</td>\n",
       "      <td>1.000000</td>\n",
       "      <td>0.142586</td>\n",
       "      <td>-0.325049</td>\n",
       "    </tr>\n",
       "    <tr>\n",
       "      <th>power</th>\n",
       "      <td>0.509948</td>\n",
       "      <td>0.142586</td>\n",
       "      <td>1.000000</td>\n",
       "      <td>0.106613</td>\n",
       "    </tr>\n",
       "    <tr>\n",
       "      <th>kilometer</th>\n",
       "      <td>-0.395031</td>\n",
       "      <td>-0.325049</td>\n",
       "      <td>0.106613</td>\n",
       "      <td>1.000000</td>\n",
       "    </tr>\n",
       "  </tbody>\n",
       "</table>\n",
       "</div>"
      ],
      "text/plain": [
       "                      price  registration_year     power  kilometer\n",
       "price              1.000000           0.518665  0.509948  -0.395031\n",
       "registration_year  0.518665           1.000000  0.142586  -0.325049\n",
       "power              0.509948           0.142586  1.000000   0.106613\n",
       "kilometer         -0.395031          -0.325049  0.106613   1.000000"
      ]
     },
     "execution_count": 45,
     "metadata": {},
     "output_type": "execute_result"
    }
   ],
   "source": [
    "data[numeric_cols].corr()"
   ]
  },
  {
   "cell_type": "markdown",
   "metadata": {},
   "source": [
    "**Вывод:** сильно скореллированных друг с другом обучающих признаков нет."
   ]
  },
  {
   "cell_type": "markdown",
   "metadata": {},
   "source": [
    "### Вывод\n",
    "\n",
    "Подготовили данные: переименовали колонки, удалили дубликаты, привели правильные типы, избавились от выбросов и заполнили пропуски. Можно приступать к обучению."
   ]
  },
  {
   "cell_type": "markdown",
   "metadata": {},
   "source": [
    "## Обучение моделей"
   ]
  },
  {
   "cell_type": "markdown",
   "metadata": {},
   "source": [
    "### Разделение датасетов"
   ]
  },
  {
   "cell_type": "markdown",
   "metadata": {},
   "source": [
    "Разделим наши данные на обучающую, валидационную и тестовую выборки. Выбираем разделение 80:10:10, обучим модель на 80%, валидационная выборка составит 10%, тестовая также 10%."
   ]
  },
  {
   "cell_type": "code",
   "execution_count": 46,
   "metadata": {},
   "outputs": [],
   "source": [
    "features = data.drop(['price'], axis=1)\n",
    "target = data['price']"
   ]
  },
  {
   "cell_type": "code",
   "execution_count": 47,
   "metadata": {},
   "outputs": [],
   "source": [
    "features_train, features_valid_test, target_train, target_valid_test = train_test_split(\n",
    "    features, target, test_size=0.2, random_state=1)\n",
    "\n",
    "features_valid, features_test, target_valid, target_test = train_test_split(\n",
    "    features_valid_test, target_valid_test, test_size=0.5, random_state=1)"
   ]
  },
  {
   "cell_type": "code",
   "execution_count": 48,
   "metadata": {},
   "outputs": [
    {
     "name": "stdout",
     "output_type": "stream",
     "text": [
      "Обучающая выборка: признаки (227230, 9)\n",
      "Валидационная выборка: признаки (28404, 9)\n",
      "Тестовая выборка: признаки (28404, 9)\n",
      "\n",
      "Обучающая выборка: цель (227230,)\n",
      "Валидационная выборка: цель (28404,)\n",
      "Тестовая выборка: цель (28404,)\n"
     ]
    }
   ],
   "source": [
    "print('Обучающая выборка: признаки', features_train.shape)\n",
    "print('Валидационная выборка: признаки', features_valid.shape)\n",
    "print('Тестовая выборка: признаки', features_test.shape)\n",
    "print('')\n",
    "print('Обучающая выборка: цель', target_train.shape)\n",
    "print('Валидационная выборка: цель', target_valid.shape)\n",
    "print('Тестовая выборка: цель', target_test.shape)"
   ]
  },
  {
   "cell_type": "markdown",
   "metadata": {},
   "source": [
    "Признаки разделили, можно приступать к обучению. По условию, нам надо применить одну модель градиентного бустинга и как минимум одну - не бустинга. Выберем 3 модели: `LightGBM`, `LinearRegression`, `RandomForestRegressor`."
   ]
  },
  {
   "cell_type": "markdown",
   "metadata": {},
   "source": [
    "Для `LigthGBM` достаточно провести ordinal encoding категориальных признаков. Поэтому вначале попробуем поработать с бустингом, затем перейдем на более простые модели. Из них, для регрессии необходима дополнительно стандартизация признаков, исходя из этого, приходим к следующему порядку использования моделей:\n",
    "\n",
    "- LigthGBM - LGBMRegressor\n",
    "- RandomForestRegressor\n",
    "- LinearRegression"
   ]
  },
  {
   "cell_type": "markdown",
   "metadata": {},
   "source": [
    "### Ordinal Encoding"
   ]
  },
  {
   "cell_type": "markdown",
   "metadata": {},
   "source": [
    "Для начала проведем Ordinal Encoding на категориальных признаках. Это в любом случае понадобится для LightGBM модели."
   ]
  },
  {
   "cell_type": "code",
   "execution_count": 49,
   "metadata": {},
   "outputs": [
    {
     "name": "stdout",
     "output_type": "stream",
     "text": [
      "Не попало в тренировочную для признака \"vehicle_type\" set(), set()\n",
      "Не попало в тренировочную для признака \"model\" set(), set()\n",
      "Не попало в тренировочную для признака \"fuel_type\" set(), set()\n",
      "Не попало в тренировочную для признака \"brand\" set(), set()\n"
     ]
    }
   ],
   "source": [
    "for col in non_numeric_cols:\n",
    "    models_train = set(features_train[col].unique())\n",
    "    models_valid = set(features_valid[col].unique())\n",
    "    models_test = set(features_test[col].unique())\n",
    "\n",
    "    print(f'Не попало в тренировочную для признака \"{col}\" {models_test - models_train}, {models_valid - models_train}')"
   ]
  },
  {
   "cell_type": "markdown",
   "metadata": {},
   "source": [
    "В тренировочную выборку попали все возможные варианты признаков, отлично."
   ]
  },
  {
   "cell_type": "code",
   "execution_count": 50,
   "metadata": {},
   "outputs": [],
   "source": [
    "oe = OrdinalEncoder(handle_unknown='error')\n",
    "\n",
    "oe.fit(features_train[non_numeric_cols])\n",
    "features_train[non_numeric_cols] = oe.transform(features_train[non_numeric_cols])\n",
    "features_valid[non_numeric_cols] = oe.transform(features_valid[non_numeric_cols])\n",
    "features_test[non_numeric_cols] = oe.transform(features_test[non_numeric_cols])"
   ]
  },
  {
   "cell_type": "markdown",
   "metadata": {},
   "source": [
    "### LGBMRegressor"
   ]
  },
  {
   "cell_type": "markdown",
   "metadata": {},
   "source": [
    "Обучим модель LGBMRegressor, будем варьировать гиперпараметрами learning_rate и n_estimators. Выберем наилучшую модель по RMSE и посчитаем ее время работы"
   ]
  },
  {
   "cell_type": "code",
   "execution_count": 51,
   "metadata": {},
   "outputs": [
    {
     "name": "stderr",
     "output_type": "stream",
     "text": [
      "  0%|                                                                                            | 0/4 [00:00<?, ?it/s]\n",
      "  0%|                                                                                            | 0/7 [00:00<?, ?it/s]\u001b[A\n",
      " 14%|████████████                                                                        | 1/7 [00:00<00:04,  1.39it/s]\u001b[A\n",
      " 29%|████████████████████████                                                            | 2/7 [00:01<00:03,  1.41it/s]\u001b[A\n",
      " 43%|████████████████████████████████████                                                | 3/7 [00:02<00:02,  1.36it/s]\u001b[A\n",
      " 57%|████████████████████████████████████████████████                                    | 4/7 [00:02<00:02,  1.32it/s]\u001b[A\n",
      " 71%|████████████████████████████████████████████████████████████                        | 5/7 [00:03<00:01,  1.28it/s]\u001b[A\n",
      " 86%|████████████████████████████████████████████████████████████████████████            | 6/7 [00:04<00:00,  1.20it/s]\u001b[A\n",
      "100%|████████████████████████████████████████████████████████████████████████████████████| 7/7 [00:05<00:00,  1.24it/s]\u001b[A\n",
      " 25%|█████████████████████                                                               | 1/4 [00:05<00:17,  5.67s/it]\n",
      "  0%|                                                                                            | 0/7 [00:00<?, ?it/s]\u001b[A\n",
      " 14%|████████████                                                                        | 1/7 [00:01<00:07,  1.27s/it]\u001b[A\n",
      " 29%|████████████████████████                                                            | 2/7 [00:02<00:06,  1.24s/it]\u001b[A\n",
      " 43%|████████████████████████████████████                                                | 3/7 [00:03<00:04,  1.23s/it]\u001b[A\n",
      " 57%|████████████████████████████████████████████████                                    | 4/7 [00:04<00:03,  1.18s/it]\u001b[A\n",
      " 71%|████████████████████████████████████████████████████████████                        | 5/7 [00:05<00:02,  1.07s/it]\u001b[A\n",
      " 86%|████████████████████████████████████████████████████████████████████████            | 6/7 [00:06<00:01,  1.02s/it]\u001b[A\n",
      "100%|████████████████████████████████████████████████████████████████████████████████████| 7/7 [00:07<00:00,  1.05s/it]\u001b[A\n",
      " 50%|██████████████████████████████████████████                                          | 2/4 [00:13<00:13,  6.68s/it]\n",
      "  0%|                                                                                            | 0/7 [00:00<?, ?it/s]\u001b[A\n",
      " 14%|████████████                                                                        | 1/7 [00:01<00:06,  1.05s/it]\u001b[A\n",
      " 29%|████████████████████████                                                            | 2/7 [00:02<00:05,  1.17s/it]\u001b[A\n",
      " 43%|████████████████████████████████████                                                | 3/7 [00:03<00:04,  1.17s/it]\u001b[A\n",
      " 57%|████████████████████████████████████████████████                                    | 4/7 [00:04<00:03,  1.15s/it]\u001b[A\n",
      " 71%|████████████████████████████████████████████████████████████                        | 5/7 [00:05<00:02,  1.14s/it]\u001b[A\n",
      " 86%|████████████████████████████████████████████████████████████████████████            | 6/7 [00:06<00:01,  1.07s/it]\u001b[A\n",
      "100%|████████████████████████████████████████████████████████████████████████████████████| 7/7 [00:07<00:00,  1.12s/it]\u001b[A\n",
      " 75%|███████████████████████████████████████████████████████████████                     | 3/4 [00:20<00:07,  7.20s/it]\n",
      "  0%|                                                                                            | 0/7 [00:00<?, ?it/s]\u001b[A\n",
      " 14%|████████████                                                                        | 1/7 [00:02<00:16,  2.75s/it]\u001b[A\n",
      " 29%|████████████████████████                                                            | 2/7 [00:05<00:12,  2.48s/it]\u001b[A\n",
      " 43%|████████████████████████████████████                                                | 3/7 [00:06<00:08,  2.06s/it]\u001b[A\n",
      " 57%|████████████████████████████████████████████████                                    | 4/7 [00:08<00:05,  1.99s/it]\u001b[A\n",
      " 71%|████████████████████████████████████████████████████████████                        | 5/7 [00:09<00:03,  1.81s/it]\u001b[A\n",
      " 86%|████████████████████████████████████████████████████████████████████████            | 6/7 [00:11<00:01,  1.68s/it]\u001b[A\n",
      "100%|████████████████████████████████████████████████████████████████████████████████████| 7/7 [00:12<00:00,  1.83s/it]\u001b[A\n",
      "100%|████████████████████████████████████████████████████████████████████████████████████| 4/4 [00:33<00:00,  8.43s/it]"
     ]
    },
    {
     "name": "stdout",
     "output_type": "stream",
     "text": [
      "CPU times: total: 3min 30s\n",
      "Wall time: 33.7 s\n"
     ]
    },
    {
     "name": "stderr",
     "output_type": "stream",
     "text": [
      "\n"
     ]
    }
   ],
   "source": [
    "%%time\n",
    "test_of_lgb_model = pd.DataFrame(columns=['learning_rate', 'n_estimators', 'rmse'])\n",
    "for est in tqdm(range(50, 250, 50)):\n",
    "    for rates in tqdm(np.arange(0.05, 0.4, 0.05)):\n",
    "        lgb_model = lgb.LGBMRegressor(\n",
    "            n_estimators=est, \n",
    "            learning_rate=rates\n",
    "        )\n",
    "        lgb_model.fit(features_train, target_train)\n",
    "        lgb_pred = lgb_model.predict(features_valid)\n",
    "        test_of_lgb_model = test_of_lgb_model.append(\n",
    "            pd.DataFrame([[rates, est, mean_squared_error(target_valid, lgb_pred) ** .5]],\n",
    "                         columns=['learning_rate', 'n_estimators', 'rmse']\n",
    "                        ), ignore_index=True)"
   ]
  },
  {
   "cell_type": "code",
   "execution_count": 52,
   "metadata": {
    "scrolled": true
   },
   "outputs": [
    {
     "data": {
      "text/html": [
       "<div>\n",
       "<style scoped>\n",
       "    .dataframe tbody tr th:only-of-type {\n",
       "        vertical-align: middle;\n",
       "    }\n",
       "\n",
       "    .dataframe tbody tr th {\n",
       "        vertical-align: top;\n",
       "    }\n",
       "\n",
       "    .dataframe thead th {\n",
       "        text-align: right;\n",
       "    }\n",
       "</style>\n",
       "<table border=\"1\" class=\"dataframe\">\n",
       "  <thead>\n",
       "    <tr style=\"text-align: right;\">\n",
       "      <th></th>\n",
       "      <th>learning_rate</th>\n",
       "      <th>n_estimators</th>\n",
       "      <th>rmse</th>\n",
       "    </tr>\n",
       "  </thead>\n",
       "  <tbody>\n",
       "    <tr>\n",
       "      <th>26</th>\n",
       "      <td>0.30</td>\n",
       "      <td>200</td>\n",
       "      <td>1534.668081</td>\n",
       "    </tr>\n",
       "    <tr>\n",
       "      <th>27</th>\n",
       "      <td>0.35</td>\n",
       "      <td>200</td>\n",
       "      <td>1538.315253</td>\n",
       "    </tr>\n",
       "    <tr>\n",
       "      <th>25</th>\n",
       "      <td>0.25</td>\n",
       "      <td>200</td>\n",
       "      <td>1540.065907</td>\n",
       "    </tr>\n",
       "    <tr>\n",
       "      <th>24</th>\n",
       "      <td>0.20</td>\n",
       "      <td>200</td>\n",
       "      <td>1550.262993</td>\n",
       "    </tr>\n",
       "    <tr>\n",
       "      <th>19</th>\n",
       "      <td>0.30</td>\n",
       "      <td>150</td>\n",
       "      <td>1550.708063</td>\n",
       "    </tr>\n",
       "    <tr>\n",
       "      <th>20</th>\n",
       "      <td>0.35</td>\n",
       "      <td>150</td>\n",
       "      <td>1553.715970</td>\n",
       "    </tr>\n",
       "    <tr>\n",
       "      <th>18</th>\n",
       "      <td>0.25</td>\n",
       "      <td>150</td>\n",
       "      <td>1558.164219</td>\n",
       "    </tr>\n",
       "    <tr>\n",
       "      <th>17</th>\n",
       "      <td>0.20</td>\n",
       "      <td>150</td>\n",
       "      <td>1566.312725</td>\n",
       "    </tr>\n",
       "    <tr>\n",
       "      <th>23</th>\n",
       "      <td>0.15</td>\n",
       "      <td>200</td>\n",
       "      <td>1567.012235</td>\n",
       "    </tr>\n",
       "    <tr>\n",
       "      <th>13</th>\n",
       "      <td>0.35</td>\n",
       "      <td>100</td>\n",
       "      <td>1577.222099</td>\n",
       "    </tr>\n",
       "    <tr>\n",
       "      <th>12</th>\n",
       "      <td>0.30</td>\n",
       "      <td>100</td>\n",
       "      <td>1579.077935</td>\n",
       "    </tr>\n",
       "    <tr>\n",
       "      <th>16</th>\n",
       "      <td>0.15</td>\n",
       "      <td>150</td>\n",
       "      <td>1586.295559</td>\n",
       "    </tr>\n",
       "    <tr>\n",
       "      <th>11</th>\n",
       "      <td>0.25</td>\n",
       "      <td>100</td>\n",
       "      <td>1587.321514</td>\n",
       "    </tr>\n",
       "    <tr>\n",
       "      <th>22</th>\n",
       "      <td>0.10</td>\n",
       "      <td>200</td>\n",
       "      <td>1593.422535</td>\n",
       "    </tr>\n",
       "    <tr>\n",
       "      <th>10</th>\n",
       "      <td>0.20</td>\n",
       "      <td>100</td>\n",
       "      <td>1593.650850</td>\n",
       "    </tr>\n",
       "    <tr>\n",
       "      <th>9</th>\n",
       "      <td>0.15</td>\n",
       "      <td>100</td>\n",
       "      <td>1617.636342</td>\n",
       "    </tr>\n",
       "    <tr>\n",
       "      <th>15</th>\n",
       "      <td>0.10</td>\n",
       "      <td>150</td>\n",
       "      <td>1618.438652</td>\n",
       "    </tr>\n",
       "    <tr>\n",
       "      <th>6</th>\n",
       "      <td>0.35</td>\n",
       "      <td>50</td>\n",
       "      <td>1628.604665</td>\n",
       "    </tr>\n",
       "    <tr>\n",
       "      <th>5</th>\n",
       "      <td>0.30</td>\n",
       "      <td>50</td>\n",
       "      <td>1631.170714</td>\n",
       "    </tr>\n",
       "    <tr>\n",
       "      <th>4</th>\n",
       "      <td>0.25</td>\n",
       "      <td>50</td>\n",
       "      <td>1644.960435</td>\n",
       "    </tr>\n",
       "    <tr>\n",
       "      <th>21</th>\n",
       "      <td>0.05</td>\n",
       "      <td>200</td>\n",
       "      <td>1654.024337</td>\n",
       "    </tr>\n",
       "    <tr>\n",
       "      <th>8</th>\n",
       "      <td>0.10</td>\n",
       "      <td>100</td>\n",
       "      <td>1656.538514</td>\n",
       "    </tr>\n",
       "    <tr>\n",
       "      <th>3</th>\n",
       "      <td>0.20</td>\n",
       "      <td>50</td>\n",
       "      <td>1657.690790</td>\n",
       "    </tr>\n",
       "    <tr>\n",
       "      <th>14</th>\n",
       "      <td>0.05</td>\n",
       "      <td>150</td>\n",
       "      <td>1684.919329</td>\n",
       "    </tr>\n",
       "    <tr>\n",
       "      <th>2</th>\n",
       "      <td>0.15</td>\n",
       "      <td>50</td>\n",
       "      <td>1688.405385</td>\n",
       "    </tr>\n",
       "    <tr>\n",
       "      <th>7</th>\n",
       "      <td>0.05</td>\n",
       "      <td>100</td>\n",
       "      <td>1744.167766</td>\n",
       "    </tr>\n",
       "    <tr>\n",
       "      <th>1</th>\n",
       "      <td>0.10</td>\n",
       "      <td>50</td>\n",
       "      <td>1745.902785</td>\n",
       "    </tr>\n",
       "    <tr>\n",
       "      <th>0</th>\n",
       "      <td>0.05</td>\n",
       "      <td>50</td>\n",
       "      <td>1952.457493</td>\n",
       "    </tr>\n",
       "  </tbody>\n",
       "</table>\n",
       "</div>"
      ],
      "text/plain": [
       "    learning_rate n_estimators         rmse\n",
       "26           0.30          200  1534.668081\n",
       "27           0.35          200  1538.315253\n",
       "25           0.25          200  1540.065907\n",
       "24           0.20          200  1550.262993\n",
       "19           0.30          150  1550.708063\n",
       "20           0.35          150  1553.715970\n",
       "18           0.25          150  1558.164219\n",
       "17           0.20          150  1566.312725\n",
       "23           0.15          200  1567.012235\n",
       "13           0.35          100  1577.222099\n",
       "12           0.30          100  1579.077935\n",
       "16           0.15          150  1586.295559\n",
       "11           0.25          100  1587.321514\n",
       "22           0.10          200  1593.422535\n",
       "10           0.20          100  1593.650850\n",
       "9            0.15          100  1617.636342\n",
       "15           0.10          150  1618.438652\n",
       "6            0.35           50  1628.604665\n",
       "5            0.30           50  1631.170714\n",
       "4            0.25           50  1644.960435\n",
       "21           0.05          200  1654.024337\n",
       "8            0.10          100  1656.538514\n",
       "3            0.20           50  1657.690790\n",
       "14           0.05          150  1684.919329\n",
       "2            0.15           50  1688.405385\n",
       "7            0.05          100  1744.167766\n",
       "1            0.10           50  1745.902785\n",
       "0            0.05           50  1952.457493"
      ]
     },
     "execution_count": 52,
     "metadata": {},
     "output_type": "execute_result"
    }
   ],
   "source": [
    "test_of_lgb_model.sort_values(by='rmse', ascending=True)"
   ]
  },
  {
   "cell_type": "markdown",
   "metadata": {},
   "source": [
    "Выбираем модель с гиперпараметрами `n_estimators=200`, `learning_rate=0.3`."
   ]
  },
  {
   "cell_type": "code",
   "execution_count": 53,
   "metadata": {},
   "outputs": [],
   "source": [
    "lgb_model = lgb.LGBMRegressor(n_estimators=200, learning_rate=0.3)"
   ]
  },
  {
   "cell_type": "code",
   "execution_count": 54,
   "metadata": {},
   "outputs": [
    {
     "name": "stdout",
     "output_type": "stream",
     "text": [
      "CPU times: total: 6.55 s\n",
      "Wall time: 1.07 s\n"
     ]
    },
    {
     "data": {
      "text/plain": [
       "LGBMRegressor(learning_rate=0.3, n_estimators=200)"
      ]
     },
     "execution_count": 54,
     "metadata": {},
     "output_type": "execute_result"
    }
   ],
   "source": [
    "%%time\n",
    "lgb_model.fit(features_train, target_train);"
   ]
  },
  {
   "cell_type": "code",
   "execution_count": 55,
   "metadata": {},
   "outputs": [
    {
     "name": "stdout",
     "output_type": "stream",
     "text": [
      "CPU times: total: 547 ms\n",
      "Wall time: 78.7 ms\n"
     ]
    }
   ],
   "source": [
    "%%time\n",
    "lgb_pred = lgb_model.predict(features_valid)"
   ]
  },
  {
   "cell_type": "code",
   "execution_count": 56,
   "metadata": {},
   "outputs": [
    {
     "data": {
      "text/plain": [
       "1534.6680807982677"
      ]
     },
     "execution_count": 56,
     "metadata": {},
     "output_type": "execute_result"
    }
   ],
   "source": [
    "mean_squared_error(target_valid, lgb_pred) ** .5"
   ]
  },
  {
   "cell_type": "code",
   "execution_count": 57,
   "metadata": {},
   "outputs": [
    {
     "data": {
      "image/png": "[encoded data removed]",
      "text/plain": [
       "<Figure size 640x480 with 1 Axes>"
      ]
     },
     "metadata": {},
     "output_type": "display_data"
    }
   ],
   "source": [
    "_ = lgb.plot_importance(lgb_model)"
   ]
  },
  {
   "cell_type": "markdown",
   "metadata": {},
   "source": [
    "### Random Forest"
   ]
  },
  {
   "cell_type": "markdown",
   "metadata": {},
   "source": [
    "Обучим модель Random Forest, будем варьировать гиперпараметрами n_estimators и max_depth. Выберем наилучшую модель по RMSE и посчитаем ее время работы."
   ]
  },
  {
   "cell_type": "code",
   "execution_count": 58,
   "metadata": {
    "scrolled": true
   },
   "outputs": [
    {
     "name": "stderr",
     "output_type": "stream",
     "text": [
      "  0%|                                                                                            | 0/5 [00:00<?, ?it/s]\n",
      "  0%|                                                                                            | 0/4 [00:00<?, ?it/s]\u001b[A\n",
      " 25%|█████████████████████                                                               | 1/4 [00:04<00:14,  4.99s/it]\u001b[A\n",
      " 50%|██████████████████████████████████████████                                          | 2/4 [00:12<00:13,  6.63s/it]\u001b[A\n",
      " 75%|███████████████████████████████████████████████████████████████                     | 3/4 [00:19<00:06,  6.80s/it]\u001b[A\n",
      "100%|████████████████████████████████████████████████████████████████████████████████████| 4/4 [00:26<00:00,  6.54s/it]\u001b[A\n",
      " 20%|████████████████▊                                                                   | 1/5 [00:26<01:44, 26.17s/it]\n",
      "  0%|                                                                                            | 0/4 [00:00<?, ?it/s]\u001b[A\n",
      " 25%|█████████████████████                                                               | 1/4 [00:08<00:24,  8.04s/it]\u001b[A\n",
      " 50%|██████████████████████████████████████████                                          | 2/4 [00:20<00:20, 10.36s/it]\u001b[A\n",
      " 75%|███████████████████████████████████████████████████████████████                     | 3/4 [00:33<00:11, 11.74s/it]\u001b[A\n",
      "100%|████████████████████████████████████████████████████████████████████████████████████| 4/4 [00:46<00:00, 11.69s/it]\u001b[A\n",
      " 40%|█████████████████████████████████▌                                                  | 2/5 [01:12<01:54, 38.30s/it]\n",
      "  0%|                                                                                            | 0/4 [00:00<?, ?it/s]\u001b[A\n",
      " 25%|█████████████████████                                                               | 1/4 [00:12<00:36, 12.17s/it]\u001b[A\n",
      " 50%|██████████████████████████████████████████                                          | 2/4 [00:30<00:31, 15.55s/it]\u001b[A\n",
      " 75%|███████████████████████████████████████████████████████████████                     | 3/4 [00:49<00:17, 17.26s/it]\u001b[A\n",
      "100%|████████████████████████████████████████████████████████████████████████████████████| 4/4 [01:09<00:00, 17.30s/it]\u001b[A\n",
      " 60%|██████████████████████████████████████████████████▍                                 | 3/5 [02:22<01:44, 52.42s/it]\n",
      "  0%|                                                                                            | 0/4 [00:00<?, ?it/s]\u001b[A\n",
      " 25%|█████████████████████                                                               | 1/4 [00:16<00:48, 16.01s/it]\u001b[A\n",
      " 50%|██████████████████████████████████████████                                          | 2/4 [00:41<00:42, 21.42s/it]\u001b[A\n",
      " 75%|███████████████████████████████████████████████████████████████                     | 3/4 [01:09<00:24, 24.36s/it]\u001b[A\n",
      "100%|████████████████████████████████████████████████████████████████████████████████████| 4/4 [01:34<00:00, 23.58s/it]\u001b[A\n",
      " 80%|███████████████████████████████████████████████████████████████████▏                | 4/5 [03:56<01:08, 68.97s/it]\n",
      "  0%|                                                                                            | 0/4 [00:00<?, ?it/s]\u001b[A\n",
      " 25%|█████████████████████                                                               | 1/4 [00:19<00:58, 19.49s/it]\u001b[A\n",
      " 50%|██████████████████████████████████████████                                          | 2/4 [00:51<00:53, 26.64s/it]\u001b[A\n",
      " 75%|███████████████████████████████████████████████████████████████                     | 3/4 [01:27<00:31, 31.27s/it]\u001b[A\n",
      "100%|████████████████████████████████████████████████████████████████████████████████████| 4/4 [02:04<00:00, 31.00s/it]\u001b[A\n",
      "100%|████████████████████████████████████████████████████████████████████████████████████| 5/5 [06:00<00:00, 72.12s/it]\n"
     ]
    }
   ],
   "source": [
    "test_rf = pd.DataFrame(columns=['n_estimators', 'max_depth', 'rmse'])\n",
    "\n",
    "for est in tqdm(range(10, 60, 10)):\n",
    "    for depth in tqdm(range(10, 50, 10)):\n",
    "        rf_model = RandomForestRegressor(n_estimators=est, max_depth=depth, random_state=0)\n",
    "        rf_model.fit(features_train, target_train)\n",
    "        rf_pred = rf_model.predict(features_valid)\n",
    "        test_rf = test_rf.append(\n",
    "            pd.DataFrame([[est, depth, mean_squared_error(target_valid, rf_pred) ** .5]],\n",
    "            columns=['n_estimators', 'max_depth', 'rmse']), ignore_index=True\n",
    "        )"
   ]
  },
  {
   "cell_type": "code",
   "execution_count": 59,
   "metadata": {},
   "outputs": [
    {
     "data": {
      "text/html": [
       "<div>\n",
       "<style scoped>\n",
       "    .dataframe tbody tr th:only-of-type {\n",
       "        vertical-align: middle;\n",
       "    }\n",
       "\n",
       "    .dataframe tbody tr th {\n",
       "        vertical-align: top;\n",
       "    }\n",
       "\n",
       "    .dataframe thead th {\n",
       "        text-align: right;\n",
       "    }\n",
       "</style>\n",
       "<table border=\"1\" class=\"dataframe\">\n",
       "  <thead>\n",
       "    <tr style=\"text-align: right;\">\n",
       "      <th></th>\n",
       "      <th>n_estimators</th>\n",
       "      <th>max_depth</th>\n",
       "      <th>rmse</th>\n",
       "    </tr>\n",
       "  </thead>\n",
       "  <tbody>\n",
       "    <tr>\n",
       "      <th>17</th>\n",
       "      <td>50</td>\n",
       "      <td>20</td>\n",
       "      <td>1519.322954</td>\n",
       "    </tr>\n",
       "    <tr>\n",
       "      <th>13</th>\n",
       "      <td>40</td>\n",
       "      <td>20</td>\n",
       "      <td>1522.253644</td>\n",
       "    </tr>\n",
       "    <tr>\n",
       "      <th>9</th>\n",
       "      <td>30</td>\n",
       "      <td>20</td>\n",
       "      <td>1526.710444</td>\n",
       "    </tr>\n",
       "    <tr>\n",
       "      <th>19</th>\n",
       "      <td>50</td>\n",
       "      <td>40</td>\n",
       "      <td>1529.758534</td>\n",
       "    </tr>\n",
       "    <tr>\n",
       "      <th>5</th>\n",
       "      <td>20</td>\n",
       "      <td>20</td>\n",
       "      <td>1530.222192</td>\n",
       "    </tr>\n",
       "    <tr>\n",
       "      <th>18</th>\n",
       "      <td>50</td>\n",
       "      <td>30</td>\n",
       "      <td>1531.268534</td>\n",
       "    </tr>\n",
       "    <tr>\n",
       "      <th>15</th>\n",
       "      <td>40</td>\n",
       "      <td>40</td>\n",
       "      <td>1533.859999</td>\n",
       "    </tr>\n",
       "    <tr>\n",
       "      <th>14</th>\n",
       "      <td>40</td>\n",
       "      <td>30</td>\n",
       "      <td>1535.627623</td>\n",
       "    </tr>\n",
       "    <tr>\n",
       "      <th>11</th>\n",
       "      <td>30</td>\n",
       "      <td>40</td>\n",
       "      <td>1538.843971</td>\n",
       "    </tr>\n",
       "    <tr>\n",
       "      <th>10</th>\n",
       "      <td>30</td>\n",
       "      <td>30</td>\n",
       "      <td>1539.992755</td>\n",
       "    </tr>\n",
       "    <tr>\n",
       "      <th>7</th>\n",
       "      <td>20</td>\n",
       "      <td>40</td>\n",
       "      <td>1542.624868</td>\n",
       "    </tr>\n",
       "    <tr>\n",
       "      <th>6</th>\n",
       "      <td>20</td>\n",
       "      <td>30</td>\n",
       "      <td>1542.990906</td>\n",
       "    </tr>\n",
       "    <tr>\n",
       "      <th>1</th>\n",
       "      <td>10</td>\n",
       "      <td>20</td>\n",
       "      <td>1551.153380</td>\n",
       "    </tr>\n",
       "    <tr>\n",
       "      <th>3</th>\n",
       "      <td>10</td>\n",
       "      <td>40</td>\n",
       "      <td>1562.515290</td>\n",
       "    </tr>\n",
       "    <tr>\n",
       "      <th>2</th>\n",
       "      <td>10</td>\n",
       "      <td>30</td>\n",
       "      <td>1564.544210</td>\n",
       "    </tr>\n",
       "    <tr>\n",
       "      <th>16</th>\n",
       "      <td>50</td>\n",
       "      <td>10</td>\n",
       "      <td>1835.145976</td>\n",
       "    </tr>\n",
       "    <tr>\n",
       "      <th>12</th>\n",
       "      <td>40</td>\n",
       "      <td>10</td>\n",
       "      <td>1837.025118</td>\n",
       "    </tr>\n",
       "    <tr>\n",
       "      <th>4</th>\n",
       "      <td>20</td>\n",
       "      <td>10</td>\n",
       "      <td>1837.087890</td>\n",
       "    </tr>\n",
       "    <tr>\n",
       "      <th>8</th>\n",
       "      <td>30</td>\n",
       "      <td>10</td>\n",
       "      <td>1837.248299</td>\n",
       "    </tr>\n",
       "    <tr>\n",
       "      <th>0</th>\n",
       "      <td>10</td>\n",
       "      <td>10</td>\n",
       "      <td>1846.775216</td>\n",
       "    </tr>\n",
       "  </tbody>\n",
       "</table>\n",
       "</div>"
      ],
      "text/plain": [
       "   n_estimators max_depth         rmse\n",
       "17           50        20  1519.322954\n",
       "13           40        20  1522.253644\n",
       "9            30        20  1526.710444\n",
       "19           50        40  1529.758534\n",
       "5            20        20  1530.222192\n",
       "18           50        30  1531.268534\n",
       "15           40        40  1533.859999\n",
       "14           40        30  1535.627623\n",
       "11           30        40  1538.843971\n",
       "10           30        30  1539.992755\n",
       "7            20        40  1542.624868\n",
       "6            20        30  1542.990906\n",
       "1            10        20  1551.153380\n",
       "3            10        40  1562.515290\n",
       "2            10        30  1564.544210\n",
       "16           50        10  1835.145976\n",
       "12           40        10  1837.025118\n",
       "4            20        10  1837.087890\n",
       "8            30        10  1837.248299\n",
       "0            10        10  1846.775216"
      ]
     },
     "execution_count": 59,
     "metadata": {},
     "output_type": "execute_result"
    }
   ],
   "source": [
    "test_rf.sort_values(by='rmse', ascending=True)"
   ]
  },
  {
   "cell_type": "markdown",
   "metadata": {},
   "source": [
    "Выбираем модель с гиперпараметрами `n_estimators=20`, `max_depth=20` - по ошибке они близко всего к предыдущей модели, а по их значению модель должна обучаться быстрее остальных."
   ]
  },
  {
   "cell_type": "code",
   "execution_count": 60,
   "metadata": {},
   "outputs": [],
   "source": [
    "rf_model = RandomForestRegressor(n_estimators=20, max_depth=20, random_state=0)"
   ]
  },
  {
   "cell_type": "code",
   "execution_count": 61,
   "metadata": {},
   "outputs": [
    {
     "name": "stdout",
     "output_type": "stream",
     "text": [
      "CPU times: total: 12.4 s\n",
      "Wall time: 12.9 s\n"
     ]
    },
    {
     "data": {
      "text/plain": [
       "RandomForestRegressor(max_depth=20, n_estimators=20, random_state=0)"
      ]
     },
     "execution_count": 61,
     "metadata": {},
     "output_type": "execute_result"
    }
   ],
   "source": [
    "%%time\n",
    "rf_model.fit(features_train, target_train);"
   ]
  },
  {
   "cell_type": "code",
   "execution_count": 62,
   "metadata": {},
   "outputs": [
    {
     "name": "stdout",
     "output_type": "stream",
     "text": [
      "CPU times: total: 188 ms\n",
      "Wall time: 217 ms\n"
     ]
    }
   ],
   "source": [
    "%%time\n",
    "rf_pred = rf_model.predict(features_valid)"
   ]
  },
  {
   "cell_type": "code",
   "execution_count": 63,
   "metadata": {},
   "outputs": [
    {
     "data": {
      "text/plain": [
       "1530.2221916895367"
      ]
     },
     "execution_count": 63,
     "metadata": {},
     "output_type": "execute_result"
    }
   ],
   "source": [
    "mean_squared_error(target_valid, rf_pred) ** .5"
   ]
  },
  {
   "cell_type": "code",
   "execution_count": 64,
   "metadata": {},
   "outputs": [
    {
     "data": {
      "image/png": "[encoded data removed]",
      "text/plain": [
       "<Figure size 640x480 with 1 Axes>"
      ]
     },
     "metadata": {},
     "output_type": "display_data"
    }
   ],
   "source": [
    "(\n",
    "    pd.DataFrame(\n",
    "        rf_model.feature_importances_,\n",
    "        index=features_train.columns,\n",
    "        columns=['Feature importance']\n",
    "    ).plot(kind='barh')\n",
    ");"
   ]
  },
  {
   "cell_type": "markdown",
   "metadata": {},
   "source": [
    "### Подготовка признаков"
   ]
  },
  {
   "cell_type": "code",
   "execution_count": 65,
   "metadata": {},
   "outputs": [],
   "source": [
    "features_train_lm, features_valid_lm, features_test_lm = features_train.copy(), features_valid.copy(), features_test.copy()"
   ]
  },
  {
   "cell_type": "markdown",
   "metadata": {},
   "source": [
    "#### Масштабирование численных признаков"
   ]
  },
  {
   "cell_type": "markdown",
   "metadata": {},
   "source": [
    "Проведем масштабирование численных признаков для реализации алгоритма линейной регрессии."
   ]
  },
  {
   "cell_type": "code",
   "execution_count": 66,
   "metadata": {},
   "outputs": [],
   "source": [
    "numeric_cols = np.delete(numeric_cols, 0)"
   ]
  },
  {
   "cell_type": "code",
   "execution_count": 67,
   "metadata": {},
   "outputs": [],
   "source": [
    "scaler = StandardScaler()\n",
    "scaler.fit(features_train_lm[numeric_cols])\n",
    "\n",
    "features_train_lm[numeric_cols] = scaler.transform(features_train_lm[numeric_cols])\n",
    "features_valid_lm[numeric_cols] = scaler.transform(features_valid_lm[numeric_cols])\n",
    "features_test_lm[numeric_cols] = scaler.transform(features_test_lm[numeric_cols])"
   ]
  },
  {
   "cell_type": "markdown",
   "metadata": {},
   "source": [
    "#### Кодирование категориальных признаков"
   ]
  },
  {
   "cell_type": "code",
   "execution_count": 68,
   "metadata": {},
   "outputs": [],
   "source": [
    "ohe = OneHotEncoder(drop='first', handle_unknown='error', sparse=False)"
   ]
  },
  {
   "cell_type": "code",
   "execution_count": 69,
   "metadata": {
    "scrolled": false
   },
   "outputs": [
    {
     "data": {
      "text/plain": [
       "OneHotEncoder(drop='first', sparse=False)"
      ]
     },
     "execution_count": 69,
     "metadata": {},
     "output_type": "execute_result"
    }
   ],
   "source": [
    "ohe.fit(features_train_lm[non_numeric_cols])"
   ]
  },
  {
   "cell_type": "code",
   "execution_count": 70,
   "metadata": {},
   "outputs": [],
   "source": [
    "features_train_lm[ohe.get_feature_names()] = \\\n",
    "    ohe.transform(features_train_lm[non_numeric_cols])"
   ]
  },
  {
   "cell_type": "code",
   "execution_count": 71,
   "metadata": {},
   "outputs": [],
   "source": [
    "features_valid_lm[ohe.get_feature_names()] = \\\n",
    "    ohe.transform(features_valid_lm[non_numeric_cols])\n",
    "\n",
    "features_test_lm[ohe.get_feature_names()] = \\\n",
    "    ohe.transform(features_test_lm[non_numeric_cols])"
   ]
  },
  {
   "cell_type": "markdown",
   "metadata": {},
   "source": [
    "### Linear Regression"
   ]
  },
  {
   "cell_type": "markdown",
   "metadata": {},
   "source": [
    "Обучим модель линейной регрессии и посмотрим результат."
   ]
  },
  {
   "cell_type": "code",
   "execution_count": 72,
   "metadata": {},
   "outputs": [],
   "source": [
    "lr_model = LinearRegression()"
   ]
  },
  {
   "cell_type": "code",
   "execution_count": 73,
   "metadata": {},
   "outputs": [
    {
     "name": "stdout",
     "output_type": "stream",
     "text": [
      "CPU times: total: 19.6 s\n",
      "Wall time: 13.1 s\n"
     ]
    },
    {
     "data": {
      "text/plain": [
       "LinearRegression()"
      ]
     },
     "execution_count": 73,
     "metadata": {},
     "output_type": "execute_result"
    }
   ],
   "source": [
    "%%time\n",
    "lr_model.fit(features_train_lm, target_train);"
   ]
  },
  {
   "cell_type": "code",
   "execution_count": 74,
   "metadata": {},
   "outputs": [
    {
     "name": "stdout",
     "output_type": "stream",
     "text": [
      "CPU times: total: 609 ms\n",
      "Wall time: 689 ms\n"
     ]
    }
   ],
   "source": [
    "%%time\n",
    "lr_pred = lr_model.predict(features_valid_lm)"
   ]
  },
  {
   "cell_type": "code",
   "execution_count": 75,
   "metadata": {},
   "outputs": [
    {
     "data": {
      "text/plain": [
       "2556.96014153947"
      ]
     },
     "execution_count": 75,
     "metadata": {},
     "output_type": "execute_result"
    }
   ],
   "source": [
    "mean_squared_error(target_valid, lr_pred) ** .5"
   ]
  },
  {
   "cell_type": "code",
   "execution_count": 76,
   "metadata": {},
   "outputs": [
    {
     "data": {
      "text/plain": [
       "LinearRegression()"
      ]
     },
     "execution_count": 76,
     "metadata": {},
     "output_type": "execute_result"
    }
   ],
   "source": [
    "lr_model"
   ]
  },
  {
   "cell_type": "markdown",
   "metadata": {},
   "source": [
    "## Анализ моделей"
   ]
  },
  {
   "cell_type": "markdown",
   "metadata": {},
   "source": [
    "Результаты тестирования моделей приведены в таблице"
   ]
  },
  {
   "cell_type": "markdown",
   "metadata": {},
   "source": [
    "| Модель                | RMSE    | CPU times обучения | CPU times предсказания |\n",
    "| --------------------- | ------  | ------------------ | ---------------------- |\n",
    "| LGBMRegressor         | 1534.67 | 6.55 s             | 547 ms                 |\n",
    "| RandomForestRegressor | 1530.22 | 12.4 s             | 188 ms                 |\n",
    "| LinearRegression      | 2556.96 | 19.6 s             | 609 ms                 |"
   ]
  },
  {
   "cell_type": "markdown",
   "metadata": {},
   "source": [
    "Выбор не совсем очевиден, однако, считаю, что модель RandomForestRegressor сработала лучше всех. Хоть она и обучается в 2 раза дольше, но зато предсказывает в 3 раза быстрее LGBMRegressor. При этом точность модели чуть выше. Модель Линейной регрессии не проходит по условию на минимальное RMSE."
   ]
  },
  {
   "cell_type": "markdown",
   "metadata": {},
   "source": [
    "## Тестирование модели"
   ]
  },
  {
   "cell_type": "markdown",
   "metadata": {},
   "source": [
    "Посчитаем RMSE на тестовой выборке."
   ]
  },
  {
   "cell_type": "code",
   "execution_count": 77,
   "metadata": {},
   "outputs": [],
   "source": [
    "rf_model = RandomForestRegressor(n_estimators=20, max_depth=20, random_state=0)\n",
    "rf_model.fit(features_train, target_train)\n",
    "rf_pred = lgb_model.predict(features_test)"
   ]
  },
  {
   "cell_type": "code",
   "execution_count": 78,
   "metadata": {},
   "outputs": [
    {
     "name": "stdout",
     "output_type": "stream",
     "text": [
      "RMSE на тестовой выборке: 1537.416010454178\n"
     ]
    }
   ],
   "source": [
    "print('RMSE на тестовой выборке:', mean_squared_error(target_test, rf_pred) ** .5)"
   ]
  },
  {
   "cell_type": "code",
   "execution_count": 79,
   "metadata": {},
   "outputs": [
    {
     "name": "stdout",
     "output_type": "stream",
     "text": [
      "Итоговое RMSE на dummy-модели по медиане: 4884.119589999078\n"
     ]
    }
   ],
   "source": [
    "dummy_model = DummyRegressor(strategy='median')\n",
    "\n",
    "dummy_model.fit(features_train, target_train)\n",
    "dummy_pred = dummy_model.predict(features_test)\n",
    "\n",
    "rmse = mean_squared_error(target_test, dummy_pred) ** .5\n",
    "    \n",
    "print('Итоговое RMSE на dummy-модели по медиане:', rmse)"
   ]
  },
  {
   "cell_type": "markdown",
   "metadata": {},
   "source": [
    "**Вывод:** модель прошла проверку на адекватность. RandomForestRegressor - наш фаворит."
   ]
  },
  {
   "cell_type": "markdown",
   "metadata": {},
   "source": [
    "## Заключение"
   ]
  },
  {
   "cell_type": "markdown",
   "metadata": {},
   "source": [
    "После длительной предобработки, включающей в себя переименование, чистку выбросов, заполнение пропусков, смену типов данных и удаление дубликатов, провели обучение 3 моделей: `LGBMRegressor`, `RandomForestRegressor` и `LinearRegression`.  По метрике RMSE и скорости работы наилучшей моделью стоит признать **LGBMRegressor** с гиперпараметрами n_estimators=150, learning_rate=0.25. \n",
    "\n",
    "Значение CPU Time = 6.38 s, RMSE = 1679.68."
   ]
  }
 ],
 "metadata": {
  "ExecuteTimeLog": [
   {
    "duration": 407,
    "start_time": "2023-03-28T12:15:49.325Z"
   },
   {
    "duration": 1052,
    "start_time": "2023-03-28T12:15:59.670Z"
   },
   {
    "duration": 113,
    "start_time": "2023-03-28T12:18:13.699Z"
   },
   {
    "duration": 20,
    "start_time": "2023-03-28T12:18:22.379Z"
   },
   {
    "duration": 14,
    "start_time": "2023-03-28T12:27:59.727Z"
   },
   {
    "duration": 29,
    "start_time": "2023-03-28T12:31:09.910Z"
   },
   {
    "duration": 92,
    "start_time": "2023-03-28T12:31:15.882Z"
   },
   {
    "duration": 79,
    "start_time": "2023-03-28T12:38:10.029Z"
   },
   {
    "duration": 129,
    "start_time": "2023-03-28T12:39:09.059Z"
   },
   {
    "duration": 24,
    "start_time": "2023-03-28T12:39:18.804Z"
   },
   {
    "duration": 22,
    "start_time": "2023-03-28T12:41:06.932Z"
   },
   {
    "duration": 48,
    "start_time": "2023-03-28T12:41:54.188Z"
   },
   {
    "duration": 48,
    "start_time": "2023-03-28T12:42:07.429Z"
   },
   {
    "duration": 8,
    "start_time": "2023-03-28T13:04:34.620Z"
   },
   {
    "duration": 81,
    "start_time": "2023-03-28T13:04:42.543Z"
   },
   {
    "duration": 82,
    "start_time": "2023-03-28T13:04:50.633Z"
   },
   {
    "duration": 57,
    "start_time": "2023-03-28T13:05:27.501Z"
   },
   {
    "duration": 10,
    "start_time": "2023-03-28T13:21:32.673Z"
   },
   {
    "duration": 6,
    "start_time": "2023-03-28T13:21:36.901Z"
   },
   {
    "duration": 3,
    "start_time": "2023-03-28T13:21:41.420Z"
   },
   {
    "duration": 942,
    "start_time": "2023-03-28T13:21:49.375Z"
   },
   {
    "duration": 5,
    "start_time": "2023-03-28T13:21:50.319Z"
   },
   {
    "duration": 172,
    "start_time": "2023-03-28T13:21:50.991Z"
   },
   {
    "duration": 14,
    "start_time": "2023-03-28T13:21:51.639Z"
   },
   {
    "duration": 19,
    "start_time": "2023-03-28T13:21:52.835Z"
   },
   {
    "duration": 34,
    "start_time": "2023-03-28T13:21:53.514Z"
   },
   {
    "duration": 93,
    "start_time": "2023-03-28T13:21:54.783Z"
   },
   {
    "duration": 99,
    "start_time": "2023-03-28T13:21:57.488Z"
   },
   {
    "duration": 1312,
    "start_time": "2023-03-28T13:21:59.224Z"
   },
   {
    "duration": 26,
    "start_time": "2023-03-28T13:23:17.188Z"
   },
   {
    "duration": 19,
    "start_time": "2023-03-28T13:24:13.539Z"
   },
   {
    "duration": 34,
    "start_time": "2023-03-28T13:25:17.362Z"
   },
   {
    "duration": 27,
    "start_time": "2023-03-28T13:25:33.493Z"
   },
   {
    "duration": 28,
    "start_time": "2023-03-28T13:34:18.787Z"
   },
   {
    "duration": 7,
    "start_time": "2023-03-28T13:34:23.142Z"
   },
   {
    "duration": 14,
    "start_time": "2023-03-28T13:34:29.403Z"
   },
   {
    "duration": 410,
    "start_time": "2023-03-28T13:38:51.759Z"
   },
   {
    "duration": 1037,
    "start_time": "2023-03-28T13:38:52.228Z"
   },
   {
    "duration": 9,
    "start_time": "2023-03-28T13:38:53.268Z"
   },
   {
    "duration": 165,
    "start_time": "2023-03-28T13:38:53.279Z"
   },
   {
    "duration": 16,
    "start_time": "2023-03-28T13:38:53.447Z"
   },
   {
    "duration": 34,
    "start_time": "2023-03-28T13:38:54.039Z"
   },
   {
    "duration": 106,
    "start_time": "2023-03-28T13:38:54.759Z"
   },
   {
    "duration": 112,
    "start_time": "2023-03-28T13:38:55.130Z"
   },
   {
    "duration": 107,
    "start_time": "2023-03-28T13:38:56.353Z"
   },
   {
    "duration": 34,
    "start_time": "2023-03-28T13:38:57.588Z"
   },
   {
    "duration": 59,
    "start_time": "2023-03-28T13:38:58.983Z"
   },
   {
    "duration": 52,
    "start_time": "2023-03-28T13:38:59.600Z"
   },
   {
    "duration": 12,
    "start_time": "2023-03-28T13:39:10.338Z"
   },
   {
    "duration": 157,
    "start_time": "2023-03-28T13:39:15.602Z"
   },
   {
    "duration": 21,
    "start_time": "2023-03-28T13:40:22.697Z"
   },
   {
    "duration": 91,
    "start_time": "2023-03-28T13:41:53.430Z"
   },
   {
    "duration": 101,
    "start_time": "2023-03-28T13:41:57.376Z"
   },
   {
    "duration": 3,
    "start_time": "2023-03-28T13:46:55.231Z"
   },
   {
    "duration": 850,
    "start_time": "2023-03-28T13:46:55.530Z"
   },
   {
    "duration": 3,
    "start_time": "2023-03-28T13:46:56.382Z"
   },
   {
    "duration": 145,
    "start_time": "2023-03-28T13:46:56.387Z"
   },
   {
    "duration": 16,
    "start_time": "2023-03-28T13:46:56.539Z"
   },
   {
    "duration": 19,
    "start_time": "2023-03-28T13:46:56.557Z"
   },
   {
    "duration": 34,
    "start_time": "2023-03-28T13:46:56.770Z"
   },
   {
    "duration": 114,
    "start_time": "2023-03-28T13:46:56.930Z"
   },
   {
    "duration": 114,
    "start_time": "2023-03-28T13:46:57.799Z"
   },
   {
    "duration": 25,
    "start_time": "2023-03-28T13:46:59.099Z"
   },
   {
    "duration": 43,
    "start_time": "2023-03-28T13:47:00.750Z"
   },
   {
    "duration": 43,
    "start_time": "2023-03-28T13:47:01.130Z"
   },
   {
    "duration": 59,
    "start_time": "2023-03-28T13:47:02.922Z"
   },
   {
    "duration": 59,
    "start_time": "2023-03-28T13:48:48.483Z"
   },
   {
    "duration": 27,
    "start_time": "2023-03-28T13:50:00.067Z"
   },
   {
    "duration": 3,
    "start_time": "2023-03-28T13:55:04.747Z"
   },
   {
    "duration": 1128,
    "start_time": "2023-03-28T13:55:05.078Z"
   },
   {
    "duration": 5,
    "start_time": "2023-03-28T13:55:06.211Z"
   },
   {
    "duration": 178,
    "start_time": "2023-03-28T13:55:06.219Z"
   },
   {
    "duration": 48,
    "start_time": "2023-03-28T13:55:06.399Z"
   },
   {
    "duration": 30,
    "start_time": "2023-03-28T13:55:06.449Z"
   },
   {
    "duration": 57,
    "start_time": "2023-03-28T13:55:07.415Z"
   },
   {
    "duration": 156,
    "start_time": "2023-03-28T13:55:07.831Z"
   },
   {
    "duration": 119,
    "start_time": "2023-03-28T13:56:15.981Z"
   },
   {
    "duration": 19,
    "start_time": "2023-03-28T13:56:17.256Z"
   },
   {
    "duration": 54,
    "start_time": "2023-03-28T13:56:41.477Z"
   },
   {
    "duration": 58,
    "start_time": "2023-03-28T13:56:41.867Z"
   },
   {
    "duration": 73,
    "start_time": "2023-03-28T13:56:43.091Z"
   },
   {
    "duration": 857,
    "start_time": "2023-03-28T14:01:12.459Z"
   },
   {
    "duration": 224,
    "start_time": "2023-03-28T14:01:28.830Z"
   },
   {
    "duration": 325,
    "start_time": "2023-03-28T14:02:05.263Z"
   },
   {
    "duration": 193,
    "start_time": "2023-03-28T14:02:13.238Z"
   },
   {
    "duration": 8,
    "start_time": "2023-03-28T14:04:41.685Z"
   },
   {
    "duration": 12,
    "start_time": "2023-03-28T14:04:46.937Z"
   },
   {
    "duration": 57,
    "start_time": "2023-03-28T14:07:30.630Z"
   },
   {
    "duration": 67,
    "start_time": "2023-03-28T14:07:34.988Z"
   },
   {
    "duration": 11,
    "start_time": "2023-03-28T14:07:42.699Z"
   },
   {
    "duration": 76,
    "start_time": "2023-03-28T14:07:59.674Z"
   },
   {
    "duration": 17,
    "start_time": "2023-03-28T14:09:43.403Z"
   },
   {
    "duration": 7,
    "start_time": "2023-03-28T14:10:41.364Z"
   },
   {
    "duration": 21,
    "start_time": "2023-03-28T14:10:46.080Z"
   },
   {
    "duration": 41,
    "start_time": "2023-03-28T14:10:51.481Z"
   },
   {
    "duration": 50,
    "start_time": "2023-03-28T14:11:41.336Z"
   },
   {
    "duration": 467,
    "start_time": "2023-03-28T14:12:07.591Z"
   },
   {
    "duration": 158,
    "start_time": "2023-03-28T14:12:16.245Z"
   },
   {
    "duration": 62,
    "start_time": "2023-03-28T14:12:36.787Z"
   },
   {
    "duration": 96,
    "start_time": "2023-03-28T14:12:47.235Z"
   },
   {
    "duration": 43,
    "start_time": "2023-03-28T14:12:56.138Z"
   },
   {
    "duration": 55,
    "start_time": "2023-03-28T14:13:21.442Z"
   },
   {
    "duration": 66,
    "start_time": "2023-03-28T14:13:24.043Z"
   },
   {
    "duration": 63,
    "start_time": "2023-03-28T14:13:38.069Z"
   },
   {
    "duration": 75,
    "start_time": "2023-03-28T14:13:51.198Z"
   },
   {
    "duration": 85,
    "start_time": "2023-03-28T14:13:54.555Z"
   },
   {
    "duration": 59,
    "start_time": "2023-03-28T14:14:05.161Z"
   },
   {
    "duration": 70,
    "start_time": "2023-03-28T14:14:08.470Z"
   },
   {
    "duration": 435,
    "start_time": "2023-03-29T17:12:42.239Z"
   },
   {
    "duration": 3317,
    "start_time": "2023-03-29T17:12:43.569Z"
   },
   {
    "duration": 9,
    "start_time": "2023-03-29T17:12:46.888Z"
   },
   {
    "duration": 147,
    "start_time": "2023-03-29T17:12:46.899Z"
   },
   {
    "duration": 27,
    "start_time": "2023-03-29T17:12:47.049Z"
   },
   {
    "duration": 31,
    "start_time": "2023-03-29T17:12:49.356Z"
   },
   {
    "duration": 85,
    "start_time": "2023-03-29T17:12:50.474Z"
   },
   {
    "duration": 99,
    "start_time": "2023-03-29T17:12:51.068Z"
   },
   {
    "duration": 112,
    "start_time": "2023-03-29T17:14:40.156Z"
   },
   {
    "duration": 61,
    "start_time": "2023-03-29T17:16:14.231Z"
   },
   {
    "duration": 40,
    "start_time": "2023-03-29T17:16:14.880Z"
   },
   {
    "duration": 49,
    "start_time": "2023-03-29T17:16:21.363Z"
   },
   {
    "duration": 546,
    "start_time": "2023-03-29T17:16:35.521Z"
   },
   {
    "duration": 15,
    "start_time": "2023-03-29T17:16:37.641Z"
   },
   {
    "duration": 46,
    "start_time": "2023-03-29T17:16:41.108Z"
   },
   {
    "duration": 43,
    "start_time": "2023-03-29T17:16:41.899Z"
   },
   {
    "duration": 46,
    "start_time": "2023-03-29T17:17:44.975Z"
   },
   {
    "duration": 70,
    "start_time": "2023-03-29T17:18:39.509Z"
   },
   {
    "duration": 633,
    "start_time": "2023-03-29T17:18:43.709Z"
   },
   {
    "duration": 591,
    "start_time": "2023-03-29T17:19:00.529Z"
   },
   {
    "duration": 56,
    "start_time": "2023-03-29T17:19:11.631Z"
   },
   {
    "duration": 71,
    "start_time": "2023-03-29T17:19:20.734Z"
   },
   {
    "duration": 691,
    "start_time": "2023-03-29T17:19:39.672Z"
   },
   {
    "duration": 43,
    "start_time": "2023-03-29T17:20:17.868Z"
   },
   {
    "duration": 54,
    "start_time": "2023-03-29T17:20:25.332Z"
   },
   {
    "duration": 10564,
    "start_time": "2023-03-29T17:27:33.748Z"
   },
   {
    "duration": 73,
    "start_time": "2023-03-29T17:30:23.831Z"
   },
   {
    "duration": 20,
    "start_time": "2023-03-29T17:31:59.524Z"
   },
   {
    "duration": 17,
    "start_time": "2023-03-29T17:32:07.505Z"
   },
   {
    "duration": 32,
    "start_time": "2023-03-29T17:32:23.036Z"
   },
   {
    "duration": 26368,
    "start_time": "2023-03-29T17:33:06.074Z"
   },
   {
    "duration": 71,
    "start_time": "2023-03-29T17:35:14.715Z"
   },
   {
    "duration": 43,
    "start_time": "2023-03-29T17:36:18.773Z"
   },
   {
    "duration": 56,
    "start_time": "2023-03-29T17:36:24.141Z"
   },
   {
    "duration": 3,
    "start_time": "2023-03-29T17:39:09.370Z"
   },
   {
    "duration": 80353,
    "start_time": "2023-03-29T17:39:10.193Z"
   },
   {
    "duration": 60,
    "start_time": "2023-03-29T17:40:45.619Z"
   },
   {
    "duration": 6,
    "start_time": "2023-03-29T17:43:05.113Z"
   },
   {
    "duration": 78206,
    "start_time": "2023-03-29T17:45:24.689Z"
   },
   {
    "duration": 59,
    "start_time": "2023-03-29T17:46:48.229Z"
   },
   {
    "duration": 9,
    "start_time": "2023-03-29T17:47:03.120Z"
   },
   {
    "duration": 57,
    "start_time": "2023-03-29T17:49:45.594Z"
   },
   {
    "duration": 3,
    "start_time": "2023-03-29T17:50:29.118Z"
   },
   {
    "duration": 824,
    "start_time": "2023-03-29T17:50:29.965Z"
   },
   {
    "duration": 4,
    "start_time": "2023-03-29T17:50:31.113Z"
   },
   {
    "duration": 117,
    "start_time": "2023-03-29T17:50:31.500Z"
   },
   {
    "duration": 13,
    "start_time": "2023-03-29T17:50:31.857Z"
   },
   {
    "duration": 21,
    "start_time": "2023-03-29T17:50:32.857Z"
   },
   {
    "duration": 54,
    "start_time": "2023-03-29T17:50:33.604Z"
   },
   {
    "duration": 90,
    "start_time": "2023-03-29T17:50:34.068Z"
   },
   {
    "duration": 84,
    "start_time": "2023-03-29T17:50:35.085Z"
   },
   {
    "duration": 109,
    "start_time": "2023-03-29T17:50:36.928Z"
   },
   {
    "duration": 187,
    "start_time": "2023-03-29T17:50:37.592Z"
   },
   {
    "duration": 22,
    "start_time": "2023-03-29T17:50:38.125Z"
   },
   {
    "duration": 33,
    "start_time": "2023-03-29T17:50:49.466Z"
   },
   {
    "duration": 2,
    "start_time": "2023-03-29T17:50:49.815Z"
   },
   {
    "duration": 47430,
    "start_time": "2023-03-29T17:50:50.880Z"
   },
   {
    "duration": 0,
    "start_time": "2023-03-29T17:51:38.312Z"
   },
   {
    "duration": 2,
    "start_time": "2023-03-29T17:51:59.601Z"
   },
   {
    "duration": 70136,
    "start_time": "2023-03-29T17:52:00.696Z"
   },
   {
    "duration": 66,
    "start_time": "2023-03-29T17:53:10.834Z"
   },
   {
    "duration": 46,
    "start_time": "2023-03-29T17:53:36.023Z"
   },
   {
    "duration": 23,
    "start_time": "2023-03-29T17:53:36.968Z"
   },
   {
    "duration": 55,
    "start_time": "2023-03-29T17:53:43.122Z"
   },
   {
    "duration": 6,
    "start_time": "2023-03-29T17:54:11.712Z"
   },
   {
    "duration": 61,
    "start_time": "2023-03-29T17:54:15.036Z"
   },
   {
    "duration": 880,
    "start_time": "2023-03-29T17:54:19.312Z"
   },
   {
    "duration": 0,
    "start_time": "2023-03-29T17:54:20.193Z"
   },
   {
    "duration": 59,
    "start_time": "2023-03-29T17:54:29.939Z"
   },
   {
    "duration": 4,
    "start_time": "2023-03-29T17:55:15.292Z"
   },
   {
    "duration": 56,
    "start_time": "2023-03-29T17:55:38.117Z"
   },
   {
    "duration": 453,
    "start_time": "2023-03-29T17:56:07.448Z"
   },
   {
    "duration": 896,
    "start_time": "2023-03-29T17:56:08.307Z"
   },
   {
    "duration": 9,
    "start_time": "2023-03-29T17:56:09.205Z"
   },
   {
    "duration": 142,
    "start_time": "2023-03-29T17:56:09.216Z"
   },
   {
    "duration": 18,
    "start_time": "2023-03-29T17:56:09.360Z"
   },
   {
    "duration": 27,
    "start_time": "2023-03-29T17:56:10.131Z"
   },
   {
    "duration": 80,
    "start_time": "2023-03-29T17:56:10.725Z"
   },
   {
    "duration": 100,
    "start_time": "2023-03-29T17:56:11.050Z"
   },
   {
    "duration": 98,
    "start_time": "2023-03-29T17:56:11.927Z"
   },
   {
    "duration": 76,
    "start_time": "2023-03-29T17:56:13.260Z"
   },
   {
    "duration": 435,
    "start_time": "2023-03-29T17:56:13.799Z"
   },
   {
    "duration": 23,
    "start_time": "2023-03-29T17:56:14.339Z"
   },
   {
    "duration": 45,
    "start_time": "2023-03-29T17:56:15.513Z"
   },
   {
    "duration": 3,
    "start_time": "2023-03-29T17:56:15.939Z"
   },
   {
    "duration": 78156,
    "start_time": "2023-03-29T17:56:16.987Z"
   },
   {
    "duration": 75,
    "start_time": "2023-03-29T17:57:35.150Z"
   },
   {
    "duration": 57,
    "start_time": "2023-03-29T17:57:39.034Z"
   },
   {
    "duration": 28,
    "start_time": "2023-03-29T17:57:40.427Z"
   },
   {
    "duration": 7,
    "start_time": "2023-03-29T17:57:42.002Z"
   },
   {
    "duration": 58,
    "start_time": "2023-03-29T17:57:42.816Z"
   },
   {
    "duration": 149,
    "start_time": "2023-03-29T17:58:32.201Z"
   },
   {
    "duration": 162,
    "start_time": "2023-03-29T17:58:37.527Z"
   },
   {
    "duration": 865,
    "start_time": "2023-03-29T18:00:07.874Z"
   },
   {
    "duration": 8,
    "start_time": "2023-03-29T18:00:08.741Z"
   },
   {
    "duration": 160,
    "start_time": "2023-03-29T18:00:08.751Z"
   },
   {
    "duration": 18,
    "start_time": "2023-03-29T18:00:08.912Z"
   },
   {
    "duration": 440,
    "start_time": "2023-03-29T18:00:09.361Z"
   },
   {
    "duration": 368,
    "start_time": "2023-03-29T18:02:24.251Z"
   },
   {
    "duration": 25,
    "start_time": "2023-03-29T18:02:27.693Z"
   },
   {
    "duration": 27,
    "start_time": "2023-03-29T18:02:28.325Z"
   },
   {
    "duration": 78,
    "start_time": "2023-03-29T18:02:28.508Z"
   },
   {
    "duration": 69,
    "start_time": "2023-03-29T18:02:29.189Z"
   },
   {
    "duration": 66,
    "start_time": "2023-03-29T18:02:30.742Z"
   },
   {
    "duration": 180,
    "start_time": "2023-03-29T18:02:30.810Z"
   },
   {
    "duration": 20,
    "start_time": "2023-03-29T18:02:31.465Z"
   },
   {
    "duration": 36,
    "start_time": "2023-03-29T18:02:33.292Z"
   },
   {
    "duration": 3,
    "start_time": "2023-03-29T18:02:33.648Z"
   },
   {
    "duration": 77221,
    "start_time": "2023-03-29T18:02:35.492Z"
   },
   {
    "duration": 81,
    "start_time": "2023-03-29T18:03:52.715Z"
   },
   {
    "duration": 62,
    "start_time": "2023-03-29T18:03:52.798Z"
   },
   {
    "duration": 23,
    "start_time": "2023-03-29T18:03:52.862Z"
   },
   {
    "duration": 11,
    "start_time": "2023-03-29T18:03:52.887Z"
   },
   {
    "duration": 73,
    "start_time": "2023-03-29T18:03:52.900Z"
   },
   {
    "duration": 24,
    "start_time": "2023-03-29T18:05:44.998Z"
   },
   {
    "duration": 24,
    "start_time": "2023-03-29T18:05:57.662Z"
   },
   {
    "duration": 29,
    "start_time": "2023-03-29T18:06:29.492Z"
   },
   {
    "duration": 26,
    "start_time": "2023-03-29T18:06:42.080Z"
   },
   {
    "duration": 55,
    "start_time": "2023-03-31T14:25:39.305Z"
   },
   {
    "duration": 442,
    "start_time": "2023-03-31T14:25:43.258Z"
   },
   {
    "duration": 2839,
    "start_time": "2023-03-31T14:25:43.702Z"
   },
   {
    "duration": 9,
    "start_time": "2023-03-31T14:25:46.543Z"
   },
   {
    "duration": 143,
    "start_time": "2023-03-31T14:25:46.553Z"
   },
   {
    "duration": 16,
    "start_time": "2023-03-31T14:25:46.698Z"
   },
   {
    "duration": 486,
    "start_time": "2023-03-31T14:25:46.715Z"
   },
   {
    "duration": 509,
    "start_time": "2023-03-31T14:25:47.203Z"
   },
   {
    "duration": 40,
    "start_time": "2023-03-31T14:25:47.713Z"
   },
   {
    "duration": 89,
    "start_time": "2023-03-31T14:25:47.755Z"
   },
   {
    "duration": 105,
    "start_time": "2023-03-31T14:25:47.846Z"
   },
   {
    "duration": 94,
    "start_time": "2023-03-31T14:25:48.882Z"
   },
   {
    "duration": 90,
    "start_time": "2023-03-31T14:25:49.931Z"
   },
   {
    "duration": 654,
    "start_time": "2023-03-31T14:25:50.667Z"
   },
   {
    "duration": 24,
    "start_time": "2023-03-31T14:25:51.323Z"
   },
   {
    "duration": 51,
    "start_time": "2023-03-31T14:25:52.243Z"
   },
   {
    "duration": 3,
    "start_time": "2023-03-31T14:25:52.547Z"
   },
   {
    "duration": 78914,
    "start_time": "2023-03-31T14:25:53.219Z"
   },
   {
    "duration": 90,
    "start_time": "2023-03-31T14:27:12.134Z"
   },
   {
    "duration": 67,
    "start_time": "2023-03-31T14:27:12.226Z"
   },
   {
    "duration": 25,
    "start_time": "2023-03-31T14:27:12.295Z"
   },
   {
    "duration": 8,
    "start_time": "2023-03-31T14:27:12.322Z"
   },
   {
    "duration": 75,
    "start_time": "2023-03-31T14:27:12.331Z"
   },
   {
    "duration": 20,
    "start_time": "2023-03-31T14:27:12.408Z"
   },
   {
    "duration": 26,
    "start_time": "2023-03-31T14:27:12.430Z"
   },
   {
    "duration": 42,
    "start_time": "2023-03-31T14:27:12.458Z"
   },
   {
    "duration": 23,
    "start_time": "2023-03-31T14:27:12.502Z"
   },
   {
    "duration": 443,
    "start_time": "2023-03-31T14:27:12.527Z"
   },
   {
    "duration": 168,
    "start_time": "2023-03-31T14:28:18.727Z"
   },
   {
    "duration": 15265,
    "start_time": "2023-03-31T14:28:48.308Z"
   },
   {
    "duration": 172,
    "start_time": "2023-03-31T14:29:11.269Z"
   },
   {
    "duration": 3533,
    "start_time": "2023-03-31T14:29:21.094Z"
   },
   {
    "duration": 3446,
    "start_time": "2023-03-31T14:31:07.355Z"
   },
   {
    "duration": 36,
    "start_time": "2023-03-31T14:31:23.131Z"
   },
   {
    "duration": 34,
    "start_time": "2023-03-31T14:31:36.642Z"
   },
   {
    "duration": 35,
    "start_time": "2023-03-31T14:31:39.344Z"
   },
   {
    "duration": 149,
    "start_time": "2023-03-31T14:32:02.315Z"
   },
   {
    "duration": 40,
    "start_time": "2023-03-31T14:32:08.949Z"
   },
   {
    "duration": 37,
    "start_time": "2023-03-31T14:32:45.581Z"
   },
   {
    "duration": 8,
    "start_time": "2023-03-31T14:33:49.039Z"
   },
   {
    "duration": 3,
    "start_time": "2023-03-31T14:34:05.880Z"
   },
   {
    "duration": 16,
    "start_time": "2023-03-31T14:34:11.747Z"
   },
   {
    "duration": 19,
    "start_time": "2023-03-31T14:34:27.655Z"
   },
   {
    "duration": 19,
    "start_time": "2023-03-31T14:34:38.719Z"
   },
   {
    "duration": 8,
    "start_time": "2023-03-31T15:27:41.272Z"
   },
   {
    "duration": 3,
    "start_time": "2023-03-31T15:27:48.211Z"
   },
   {
    "duration": 833,
    "start_time": "2023-03-31T15:27:48.701Z"
   },
   {
    "duration": 4,
    "start_time": "2023-03-31T15:27:49.535Z"
   },
   {
    "duration": 141,
    "start_time": "2023-03-31T15:27:49.541Z"
   },
   {
    "duration": 15,
    "start_time": "2023-03-31T15:27:49.684Z"
   },
   {
    "duration": 465,
    "start_time": "2023-03-31T15:27:50.341Z"
   },
   {
    "duration": 459,
    "start_time": "2023-03-31T15:27:50.809Z"
   },
   {
    "duration": 32,
    "start_time": "2023-03-31T15:27:51.270Z"
   },
   {
    "duration": 30,
    "start_time": "2023-03-31T15:27:51.662Z"
   },
   {
    "duration": 115,
    "start_time": "2023-03-31T15:27:52.082Z"
   },
   {
    "duration": 90,
    "start_time": "2023-03-31T15:27:52.668Z"
   },
   {
    "duration": 84,
    "start_time": "2023-03-31T15:27:53.720Z"
   },
   {
    "duration": 338,
    "start_time": "2023-03-31T15:27:54.261Z"
   },
   {
    "duration": 22,
    "start_time": "2023-03-31T15:27:54.742Z"
   },
   {
    "duration": 36,
    "start_time": "2023-03-31T15:27:55.362Z"
   },
   {
    "duration": 3,
    "start_time": "2023-03-31T15:27:55.542Z"
   },
   {
    "duration": 80444,
    "start_time": "2023-03-31T15:27:55.953Z"
   },
   {
    "duration": 105,
    "start_time": "2023-03-31T15:29:16.399Z"
   },
   {
    "duration": 50,
    "start_time": "2023-03-31T15:29:37.261Z"
   },
   {
    "duration": 25,
    "start_time": "2023-03-31T15:29:37.432Z"
   },
   {
    "duration": 9,
    "start_time": "2023-03-31T15:29:37.581Z"
   },
   {
    "duration": 64,
    "start_time": "2023-03-31T15:29:37.771Z"
   },
   {
    "duration": 23,
    "start_time": "2023-03-31T15:29:38.900Z"
   },
   {
    "duration": 25,
    "start_time": "2023-03-31T15:29:39.040Z"
   },
   {
    "duration": 21,
    "start_time": "2023-03-31T15:29:39.302Z"
   },
   {
    "duration": 25,
    "start_time": "2023-03-31T15:29:39.654Z"
   },
   {
    "duration": 20,
    "start_time": "2023-03-31T15:29:41.000Z"
   },
   {
    "duration": 8,
    "start_time": "2023-03-31T15:29:42.211Z"
   },
   {
    "duration": 3,
    "start_time": "2023-03-31T15:30:12.261Z"
   },
   {
    "duration": 129,
    "start_time": "2023-03-31T15:30:17.301Z"
   },
   {
    "duration": 1764,
    "start_time": "2023-03-31T15:30:22.631Z"
   },
   {
    "duration": 1609,
    "start_time": "2023-03-31T15:30:51.212Z"
   },
   {
    "duration": 7,
    "start_time": "2023-03-31T15:32:00.462Z"
   },
   {
    "duration": 180,
    "start_time": "2023-03-31T15:34:00.421Z"
   },
   {
    "duration": 134,
    "start_time": "2023-03-31T15:34:08.541Z"
   },
   {
    "duration": 133,
    "start_time": "2023-03-31T15:34:19.921Z"
   },
   {
    "duration": 18,
    "start_time": "2023-03-31T15:35:48.411Z"
   },
   {
    "duration": 51,
    "start_time": "2023-03-31T15:36:18.982Z"
   },
   {
    "duration": 26,
    "start_time": "2023-03-31T15:36:26.463Z"
   },
   {
    "duration": 18,
    "start_time": "2023-03-31T15:36:31.254Z"
   },
   {
    "duration": 124,
    "start_time": "2023-03-31T15:36:45.500Z"
   },
   {
    "duration": 1682,
    "start_time": "2023-03-31T15:37:37.262Z"
   },
   {
    "duration": 14,
    "start_time": "2023-03-31T15:39:51.981Z"
   },
   {
    "duration": 48,
    "start_time": "2023-03-31T15:41:07.799Z"
   },
   {
    "duration": 827,
    "start_time": "2023-04-01T10:21:18.947Z"
   },
   {
    "duration": 1243,
    "start_time": "2023-04-01T10:21:21.147Z"
   },
   {
    "duration": 7,
    "start_time": "2023-04-01T10:21:22.392Z"
   },
   {
    "duration": 128,
    "start_time": "2023-04-01T10:21:22.513Z"
   },
   {
    "duration": 19,
    "start_time": "2023-04-01T10:21:23.122Z"
   },
   {
    "duration": 491,
    "start_time": "2023-04-01T10:21:24.951Z"
   },
   {
    "duration": 515,
    "start_time": "2023-04-01T10:21:25.940Z"
   },
   {
    "duration": 38,
    "start_time": "2023-04-01T10:21:27.448Z"
   },
   {
    "duration": 76,
    "start_time": "2023-04-01T10:21:28.543Z"
   },
   {
    "duration": 93,
    "start_time": "2023-04-01T10:21:29.054Z"
   },
   {
    "duration": 94,
    "start_time": "2023-04-01T10:21:30.416Z"
   },
   {
    "duration": 73,
    "start_time": "2023-04-01T10:21:33.095Z"
   },
   {
    "duration": 202,
    "start_time": "2023-04-01T10:21:34.021Z"
   },
   {
    "duration": 23,
    "start_time": "2023-04-01T10:21:34.852Z"
   },
   {
    "duration": 35,
    "start_time": "2023-04-01T10:21:35.852Z"
   },
   {
    "duration": 3,
    "start_time": "2023-04-01T10:21:36.241Z"
   },
   {
    "duration": 74388,
    "start_time": "2023-04-01T10:21:37.005Z"
   },
   {
    "duration": 68,
    "start_time": "2023-04-01T10:22:51.404Z"
   },
   {
    "duration": 72,
    "start_time": "2023-04-01T10:22:51.474Z"
   },
   {
    "duration": 25,
    "start_time": "2023-04-01T10:22:51.549Z"
   },
   {
    "duration": 7,
    "start_time": "2023-04-01T10:22:51.576Z"
   },
   {
    "duration": 69,
    "start_time": "2023-04-01T10:22:51.585Z"
   },
   {
    "duration": 22,
    "start_time": "2023-04-01T10:22:51.656Z"
   },
   {
    "duration": 40,
    "start_time": "2023-04-01T10:22:51.679Z"
   },
   {
    "duration": 20,
    "start_time": "2023-04-01T10:22:51.721Z"
   },
   {
    "duration": 25,
    "start_time": "2023-04-01T10:22:51.744Z"
   },
   {
    "duration": 18,
    "start_time": "2023-04-01T10:24:18.627Z"
   },
   {
    "duration": 80,
    "start_time": "2023-04-01T10:25:04.798Z"
   },
   {
    "duration": 21,
    "start_time": "2023-04-01T10:28:25.127Z"
   },
   {
    "duration": 22,
    "start_time": "2023-04-01T10:28:39.021Z"
   },
   {
    "duration": 17,
    "start_time": "2023-04-01T10:29:01.781Z"
   },
   {
    "duration": 17,
    "start_time": "2023-04-01T10:29:10.813Z"
   },
   {
    "duration": 26,
    "start_time": "2023-04-01T10:29:43.841Z"
   },
   {
    "duration": 32,
    "start_time": "2023-04-01T10:29:59.158Z"
   },
   {
    "duration": 37,
    "start_time": "2023-04-01T10:30:25.115Z"
   },
   {
    "duration": 11,
    "start_time": "2023-04-01T10:31:15.098Z"
   },
   {
    "duration": 25,
    "start_time": "2023-04-01T10:31:22.042Z"
   },
   {
    "duration": 27,
    "start_time": "2023-04-01T10:32:05.114Z"
   },
   {
    "duration": 18,
    "start_time": "2023-04-01T10:32:19.171Z"
   },
   {
    "duration": 8,
    "start_time": "2023-04-01T10:32:57.485Z"
   },
   {
    "duration": 402,
    "start_time": "2023-04-01T10:33:30.606Z"
   },
   {
    "duration": 480,
    "start_time": "2023-04-01T10:34:11.870Z"
   },
   {
    "duration": 39,
    "start_time": "2023-04-01T10:35:12.104Z"
   },
   {
    "duration": 26,
    "start_time": "2023-04-01T10:35:22.975Z"
   },
   {
    "duration": 22,
    "start_time": "2023-04-01T10:35:47.050Z"
   },
   {
    "duration": 29,
    "start_time": "2023-04-01T10:36:21.782Z"
   },
   {
    "duration": 28,
    "start_time": "2023-04-01T10:36:29.948Z"
   },
   {
    "duration": 24,
    "start_time": "2023-04-01T10:37:02.788Z"
   },
   {
    "duration": 419,
    "start_time": "2023-04-01T10:37:03.416Z"
   },
   {
    "duration": 308,
    "start_time": "2023-04-01T10:37:10.978Z"
   },
   {
    "duration": 463,
    "start_time": "2023-04-01T10:38:21.818Z"
   },
   {
    "duration": 9,
    "start_time": "2023-04-01T10:39:10.445Z"
   },
   {
    "duration": 22,
    "start_time": "2023-04-01T10:39:22.252Z"
   },
   {
    "duration": 20,
    "start_time": "2023-04-01T10:39:23.729Z"
   },
   {
    "duration": 1433,
    "start_time": "2023-04-01T10:39:24.670Z"
   },
   {
    "duration": 17,
    "start_time": "2023-04-01T10:39:27.664Z"
   },
   {
    "duration": 30,
    "start_time": "2023-04-01T10:39:28.918Z"
   },
   {
    "duration": 389,
    "start_time": "2023-04-01T10:39:33.794Z"
   },
   {
    "duration": 21,
    "start_time": "2023-04-01T10:39:34.755Z"
   },
   {
    "duration": 33,
    "start_time": "2023-04-01T10:39:35.880Z"
   },
   {
    "duration": 295,
    "start_time": "2023-04-01T10:39:36.409Z"
   },
   {
    "duration": 181,
    "start_time": "2023-04-01T10:39:38.271Z"
   },
   {
    "duration": 98,
    "start_time": "2023-04-01T10:41:31.491Z"
   },
   {
    "duration": 24,
    "start_time": "2023-04-01T10:43:23.506Z"
   },
   {
    "duration": 23,
    "start_time": "2023-04-01T10:43:33.535Z"
   },
   {
    "duration": 23,
    "start_time": "2023-04-01T10:43:53.032Z"
   },
   {
    "duration": 87,
    "start_time": "2023-04-01T10:44:47.989Z"
   },
   {
    "duration": 8,
    "start_time": "2023-04-01T10:45:01.562Z"
   },
   {
    "duration": 17,
    "start_time": "2023-04-01T10:45:24.002Z"
   },
   {
    "duration": 9,
    "start_time": "2023-04-01T10:45:32.199Z"
   },
   {
    "duration": 14,
    "start_time": "2023-04-01T10:45:49.347Z"
   },
   {
    "duration": 40,
    "start_time": "2023-04-01T10:45:56.288Z"
   },
   {
    "duration": 32,
    "start_time": "2023-04-01T10:46:04.387Z"
   },
   {
    "duration": 12,
    "start_time": "2023-04-01T10:46:45.810Z"
   },
   {
    "duration": 29,
    "start_time": "2023-04-01T10:46:49.866Z"
   },
   {
    "duration": 34,
    "start_time": "2023-04-01T10:46:53.559Z"
   },
   {
    "duration": 37,
    "start_time": "2023-04-01T10:48:39.439Z"
   },
   {
    "duration": 28,
    "start_time": "2023-04-01T10:48:45.712Z"
   },
   {
    "duration": 27,
    "start_time": "2023-04-01T10:49:44.126Z"
   },
   {
    "duration": 39,
    "start_time": "2023-04-01T10:49:48.033Z"
   },
   {
    "duration": 31,
    "start_time": "2023-04-01T10:49:54.623Z"
   },
   {
    "duration": 64,
    "start_time": "2023-04-01T10:50:04.118Z"
   },
   {
    "duration": 29,
    "start_time": "2023-04-01T10:50:16.421Z"
   },
   {
    "duration": 8,
    "start_time": "2023-04-01T11:08:18.541Z"
   },
   {
    "duration": 23,
    "start_time": "2023-04-01T11:08:25.791Z"
   },
   {
    "duration": 894,
    "start_time": "2023-04-01T11:08:34.802Z"
   },
   {
    "duration": 83,
    "start_time": "2023-04-01T11:09:17.472Z"
   },
   {
    "duration": 23,
    "start_time": "2023-04-01T11:09:26.754Z"
   },
   {
    "duration": 47,
    "start_time": "2023-04-01T11:09:36.479Z"
   },
   {
    "duration": 9,
    "start_time": "2023-04-01T11:10:38.551Z"
   },
   {
    "duration": 7,
    "start_time": "2023-04-01T11:10:50.665Z"
   },
   {
    "duration": 9,
    "start_time": "2023-04-01T11:10:54.691Z"
   },
   {
    "duration": 1767,
    "start_time": "2023-04-01T11:11:16.298Z"
   },
   {
    "duration": 72,
    "start_time": "2023-04-01T11:11:38.376Z"
   },
   {
    "duration": 901,
    "start_time": "2023-04-01T11:11:44.959Z"
   },
   {
    "duration": 10,
    "start_time": "2023-04-01T11:11:54.310Z"
   },
   {
    "duration": 30,
    "start_time": "2023-04-01T11:12:31.602Z"
   },
   {
    "duration": 12308,
    "start_time": "2023-04-01T11:12:38.730Z"
   },
   {
    "duration": 38,
    "start_time": "2023-04-01T11:13:59.134Z"
   },
   {
    "duration": 49,
    "start_time": "2023-04-01T11:18:38.739Z"
   },
   {
    "duration": 680,
    "start_time": "2023-04-01T11:30:16.993Z"
   },
   {
    "duration": 804,
    "start_time": "2023-04-01T11:30:17.675Z"
   },
   {
    "duration": 6,
    "start_time": "2023-04-01T11:30:18.480Z"
   },
   {
    "duration": 124,
    "start_time": "2023-04-01T11:30:18.488Z"
   },
   {
    "duration": 16,
    "start_time": "2023-04-01T11:30:18.614Z"
   },
   {
    "duration": 475,
    "start_time": "2023-04-01T11:30:18.632Z"
   },
   {
    "duration": 484,
    "start_time": "2023-04-01T11:30:19.108Z"
   },
   {
    "duration": 37,
    "start_time": "2023-04-01T11:30:19.594Z"
   },
   {
    "duration": 86,
    "start_time": "2023-04-01T11:30:19.633Z"
   },
   {
    "duration": 88,
    "start_time": "2023-04-01T11:30:19.722Z"
   },
   {
    "duration": 100,
    "start_time": "2023-04-01T11:30:19.812Z"
   },
   {
    "duration": 72,
    "start_time": "2023-04-01T11:30:19.914Z"
   },
   {
    "duration": 216,
    "start_time": "2023-04-01T11:30:19.987Z"
   },
   {
    "duration": 21,
    "start_time": "2023-04-01T11:30:20.204Z"
   },
   {
    "duration": 35,
    "start_time": "2023-04-01T11:30:20.227Z"
   },
   {
    "duration": 2,
    "start_time": "2023-04-01T11:30:20.264Z"
   },
   {
    "duration": 72152,
    "start_time": "2023-04-01T11:30:20.268Z"
   },
   {
    "duration": 85,
    "start_time": "2023-04-01T11:31:32.421Z"
   },
   {
    "duration": 48,
    "start_time": "2023-04-01T11:31:32.508Z"
   },
   {
    "duration": 23,
    "start_time": "2023-04-01T11:31:32.557Z"
   },
   {
    "duration": 24,
    "start_time": "2023-04-01T11:31:32.582Z"
   },
   {
    "duration": 53,
    "start_time": "2023-04-01T11:31:32.608Z"
   },
   {
    "duration": 41,
    "start_time": "2023-04-01T11:31:32.663Z"
   },
   {
    "duration": 22,
    "start_time": "2023-04-01T11:31:32.706Z"
   },
   {
    "duration": 20,
    "start_time": "2023-04-01T11:31:32.730Z"
   },
   {
    "duration": 23,
    "start_time": "2023-04-01T11:31:32.751Z"
   },
   {
    "duration": 37,
    "start_time": "2023-04-01T11:31:32.775Z"
   },
   {
    "duration": 1600,
    "start_time": "2023-04-01T11:31:32.816Z"
   },
   {
    "duration": 19,
    "start_time": "2023-04-01T11:31:34.419Z"
   },
   {
    "duration": 100,
    "start_time": "2023-04-01T11:31:34.440Z"
   },
   {
    "duration": 462,
    "start_time": "2023-04-01T11:31:34.542Z"
   },
   {
    "duration": 18,
    "start_time": "2023-04-01T11:31:35.006Z"
   },
   {
    "duration": 22,
    "start_time": "2023-04-01T11:31:35.026Z"
   },
   {
    "duration": 353,
    "start_time": "2023-04-01T11:31:35.050Z"
   },
   {
    "duration": 108,
    "start_time": "2023-04-01T11:31:35.405Z"
   },
   {
    "duration": 22,
    "start_time": "2023-04-01T11:31:35.514Z"
   },
   {
    "duration": 30,
    "start_time": "2023-04-01T11:31:35.537Z"
   },
   {
    "duration": 78,
    "start_time": "2023-04-01T11:31:35.569Z"
   },
   {
    "duration": 35,
    "start_time": "2023-04-01T11:31:35.649Z"
   },
   {
    "duration": 17,
    "start_time": "2023-04-01T11:31:35.686Z"
   },
   {
    "duration": 778,
    "start_time": "2023-04-01T11:54:55.158Z"
   },
   {
    "duration": 72,
    "start_time": "2023-04-01T11:56:05.398Z"
   },
   {
    "duration": 5,
    "start_time": "2023-04-01T11:56:06.436Z"
   },
   {
    "duration": 23,
    "start_time": "2023-04-01T12:12:38.216Z"
   },
   {
    "duration": 3,
    "start_time": "2023-04-01T12:14:29.924Z"
   },
   {
    "duration": 109,
    "start_time": "2023-04-01T12:17:43.871Z"
   },
   {
    "duration": 4,
    "start_time": "2023-04-01T12:17:57.716Z"
   },
   {
    "duration": 4,
    "start_time": "2023-04-01T12:21:09.692Z"
   },
   {
    "duration": 4,
    "start_time": "2023-04-01T12:21:15.275Z"
   },
   {
    "duration": 3,
    "start_time": "2023-04-01T12:26:10.496Z"
   },
   {
    "duration": 19,
    "start_time": "2023-04-01T13:10:07.773Z"
   },
   {
    "duration": 19,
    "start_time": "2023-04-01T13:13:53.694Z"
   },
   {
    "duration": 1419,
    "start_time": "2023-04-01T13:17:28.608Z"
   },
   {
    "duration": 811,
    "start_time": "2023-04-01T13:17:30.029Z"
   },
   {
    "duration": 6,
    "start_time": "2023-04-01T13:17:30.842Z"
   },
   {
    "duration": 133,
    "start_time": "2023-04-01T13:17:30.850Z"
   },
   {
    "duration": 27,
    "start_time": "2023-04-01T13:17:30.985Z"
   },
   {
    "duration": 494,
    "start_time": "2023-04-01T13:17:31.014Z"
   },
   {
    "duration": 508,
    "start_time": "2023-04-01T13:17:31.510Z"
   },
   {
    "duration": 43,
    "start_time": "2023-04-01T13:17:32.020Z"
   },
   {
    "duration": 99,
    "start_time": "2023-04-01T13:17:32.067Z"
   },
   {
    "duration": 123,
    "start_time": "2023-04-01T13:17:32.169Z"
   },
   {
    "duration": 112,
    "start_time": "2023-04-01T13:17:32.295Z"
   },
   {
    "duration": 19,
    "start_time": "2023-04-01T13:17:32.409Z"
   },
   {
    "duration": 84,
    "start_time": "2023-04-01T13:17:32.429Z"
   },
   {
    "duration": 196,
    "start_time": "2023-04-01T13:17:32.516Z"
   },
   {
    "duration": 21,
    "start_time": "2023-04-01T13:17:32.713Z"
   },
   {
    "duration": 32,
    "start_time": "2023-04-01T13:17:32.736Z"
   },
   {
    "duration": 3,
    "start_time": "2023-04-01T13:17:32.770Z"
   },
   {
    "duration": 72997,
    "start_time": "2023-04-01T13:17:32.775Z"
   },
   {
    "duration": 78,
    "start_time": "2023-04-01T13:18:45.774Z"
   },
   {
    "duration": 63,
    "start_time": "2023-04-01T13:18:45.853Z"
   },
   {
    "duration": 24,
    "start_time": "2023-04-01T13:18:45.918Z"
   },
   {
    "duration": 8,
    "start_time": "2023-04-01T13:18:45.944Z"
   },
   {
    "duration": 75,
    "start_time": "2023-04-01T13:18:45.954Z"
   },
   {
    "duration": 23,
    "start_time": "2023-04-01T13:18:46.031Z"
   },
   {
    "duration": 30,
    "start_time": "2023-04-01T13:18:46.056Z"
   },
   {
    "duration": 36,
    "start_time": "2023-04-01T13:18:46.088Z"
   },
   {
    "duration": 23,
    "start_time": "2023-04-01T13:18:46.126Z"
   },
   {
    "duration": 17,
    "start_time": "2023-04-01T13:18:46.151Z"
   },
   {
    "duration": 1580,
    "start_time": "2023-04-01T13:18:46.170Z"
   },
   {
    "duration": 16,
    "start_time": "2023-04-01T13:18:47.752Z"
   },
   {
    "duration": 40,
    "start_time": "2023-04-01T13:18:47.770Z"
   },
   {
    "duration": 430,
    "start_time": "2023-04-01T13:18:47.812Z"
   },
   {
    "duration": 16,
    "start_time": "2023-04-01T13:18:48.244Z"
   },
   {
    "duration": 45,
    "start_time": "2023-04-01T13:18:48.262Z"
   },
   {
    "duration": 301,
    "start_time": "2023-04-01T13:18:48.309Z"
   },
   {
    "duration": 108,
    "start_time": "2023-04-01T13:18:48.612Z"
   },
   {
    "duration": 28,
    "start_time": "2023-04-01T13:18:48.721Z"
   },
   {
    "duration": 40,
    "start_time": "2023-04-01T13:18:48.751Z"
   },
   {
    "duration": 55,
    "start_time": "2023-04-01T13:18:48.792Z"
   },
   {
    "duration": 37,
    "start_time": "2023-04-01T13:18:48.849Z"
   },
   {
    "duration": 11,
    "start_time": "2023-04-01T13:18:48.903Z"
   },
   {
    "duration": 62,
    "start_time": "2023-04-01T13:18:48.916Z"
   },
   {
    "duration": 5,
    "start_time": "2023-04-01T13:18:48.980Z"
   },
   {
    "duration": 3,
    "start_time": "2023-04-01T13:18:49.003Z"
   },
   {
    "duration": 131,
    "start_time": "2023-04-01T13:18:49.007Z"
   },
   {
    "duration": 4,
    "start_time": "2023-04-01T13:25:33.404Z"
   },
   {
    "duration": 3,
    "start_time": "2023-04-01T13:29:49.979Z"
   },
   {
    "duration": 13,
    "start_time": "2023-04-01T13:34:35.722Z"
   },
   {
    "duration": 22,
    "start_time": "2023-04-01T13:36:50.761Z"
   },
   {
    "duration": 49,
    "start_time": "2023-04-01T13:37:02.935Z"
   },
   {
    "duration": 56,
    "start_time": "2023-04-01T13:37:14.797Z"
   },
   {
    "duration": 226,
    "start_time": "2023-04-01T13:44:50.602Z"
   },
   {
    "duration": 10,
    "start_time": "2023-04-01T13:44:58.427Z"
   },
   {
    "duration": 24,
    "start_time": "2023-04-01T13:45:21.258Z"
   },
   {
    "duration": 44,
    "start_time": "2023-04-01T13:45:21.569Z"
   },
   {
    "duration": 6,
    "start_time": "2023-04-01T13:45:21.999Z"
   },
   {
    "duration": 14558,
    "start_time": "2023-04-01T13:45:33.157Z"
   },
   {
    "duration": 5096,
    "start_time": "2023-04-01T13:48:03.415Z"
   },
   {
    "duration": 4,
    "start_time": "2023-04-01T13:49:21.621Z"
   },
   {
    "duration": 5347,
    "start_time": "2023-04-01T13:49:53.158Z"
   },
   {
    "duration": 5402,
    "start_time": "2023-04-01T13:49:58.510Z"
   },
   {
    "duration": 5,
    "start_time": "2023-04-01T13:50:03.914Z"
   },
   {
    "duration": 4,
    "start_time": "2023-04-01T13:50:49.895Z"
   },
   {
    "duration": 1487,
    "start_time": "2023-04-01T17:28:16.833Z"
   },
   {
    "duration": 981,
    "start_time": "2023-04-01T17:28:18.335Z"
   },
   {
    "duration": 4,
    "start_time": "2023-04-01T17:28:19.318Z"
   },
   {
    "duration": 111,
    "start_time": "2023-04-01T17:28:19.324Z"
   },
   {
    "duration": 15,
    "start_time": "2023-04-01T17:28:19.436Z"
   },
   {
    "duration": 393,
    "start_time": "2023-04-01T17:28:19.829Z"
   },
   {
    "duration": 429,
    "start_time": "2023-04-01T17:28:20.223Z"
   },
   {
    "duration": 36,
    "start_time": "2023-04-01T17:28:20.930Z"
   },
   {
    "duration": 67,
    "start_time": "2023-04-01T17:28:21.548Z"
   },
   {
    "duration": 82,
    "start_time": "2023-04-01T17:28:21.749Z"
   },
   {
    "duration": 78,
    "start_time": "2023-04-01T17:28:22.435Z"
   },
   {
    "duration": 18,
    "start_time": "2023-04-01T17:28:22.671Z"
   },
   {
    "duration": 72,
    "start_time": "2023-04-01T17:28:23.960Z"
   },
   {
    "duration": 183,
    "start_time": "2023-04-01T17:28:24.327Z"
   },
   {
    "duration": 21,
    "start_time": "2023-04-01T17:28:24.730Z"
   },
   {
    "duration": 32,
    "start_time": "2023-04-01T17:28:25.308Z"
   },
   {
    "duration": 3,
    "start_time": "2023-04-01T17:28:25.476Z"
   },
   {
    "duration": 70161,
    "start_time": "2023-04-01T17:28:25.832Z"
   },
   {
    "duration": 72,
    "start_time": "2023-04-01T17:29:35.995Z"
   },
   {
    "duration": 53,
    "start_time": "2023-04-01T17:29:36.069Z"
   },
   {
    "duration": 35,
    "start_time": "2023-04-01T17:29:36.124Z"
   },
   {
    "duration": 6,
    "start_time": "2023-04-01T17:29:36.161Z"
   },
   {
    "duration": 77,
    "start_time": "2023-04-01T17:29:36.168Z"
   },
   {
    "duration": 25,
    "start_time": "2023-04-01T17:29:36.248Z"
   },
   {
    "duration": 36,
    "start_time": "2023-04-01T17:29:36.275Z"
   },
   {
    "duration": 50,
    "start_time": "2023-04-01T17:29:36.313Z"
   },
   {
    "duration": 23,
    "start_time": "2023-04-01T17:29:36.366Z"
   },
   {
    "duration": 15,
    "start_time": "2023-04-01T17:29:36.391Z"
   },
   {
    "duration": 1459,
    "start_time": "2023-04-01T17:29:36.408Z"
   },
   {
    "duration": 16,
    "start_time": "2023-04-01T17:29:37.869Z"
   },
   {
    "duration": 24,
    "start_time": "2023-04-01T17:29:37.887Z"
   },
   {
    "duration": 367,
    "start_time": "2023-04-01T17:29:37.912Z"
   },
   {
    "duration": 15,
    "start_time": "2023-04-01T17:29:38.281Z"
   },
   {
    "duration": 21,
    "start_time": "2023-04-01T17:29:38.298Z"
   },
   {
    "duration": 295,
    "start_time": "2023-04-01T17:29:38.321Z"
   },
   {
    "duration": 99,
    "start_time": "2023-04-01T17:29:38.618Z"
   },
   {
    "duration": 33,
    "start_time": "2023-04-01T17:29:38.718Z"
   },
   {
    "duration": 28,
    "start_time": "2023-04-01T17:29:38.752Z"
   },
   {
    "duration": 64,
    "start_time": "2023-04-01T17:29:38.781Z"
   },
   {
    "duration": 32,
    "start_time": "2023-04-01T17:29:38.847Z"
   },
   {
    "duration": 222,
    "start_time": "2023-04-01T17:29:38.880Z"
   },
   {
    "duration": 14,
    "start_time": "2023-04-01T17:29:39.103Z"
   },
   {
    "duration": 48,
    "start_time": "2023-04-01T17:29:39.119Z"
   },
   {
    "duration": 6,
    "start_time": "2023-04-01T17:29:39.168Z"
   },
   {
    "duration": 324,
    "start_time": "2023-04-01T18:00:10.491Z"
   },
   {
    "duration": 5869,
    "start_time": "2023-04-01T18:00:24.583Z"
   },
   {
    "duration": 35964,
    "start_time": "2023-04-01T18:00:39.689Z"
   },
   {
    "duration": 27397,
    "start_time": "2023-04-01T18:02:14.650Z"
   },
   {
    "duration": 4,
    "start_time": "2023-04-01T18:02:49.284Z"
   },
   {
    "duration": 37864,
    "start_time": "2023-04-01T18:03:02.283Z"
   },
   {
    "duration": 13352,
    "start_time": "2023-04-01T18:03:49.804Z"
   },
   {
    "duration": 63452,
    "start_time": "2023-04-01T18:04:45.396Z"
   },
   {
    "duration": 178010,
    "start_time": "2023-04-01T18:05:55.048Z"
   },
   {
    "duration": 1306,
    "start_time": "2023-04-01T18:09:01.100Z"
   },
   {
    "duration": 787,
    "start_time": "2023-04-01T18:09:02.408Z"
   },
   {
    "duration": 5,
    "start_time": "2023-04-01T18:09:03.196Z"
   },
   {
    "duration": 130,
    "start_time": "2023-04-01T18:09:03.203Z"
   },
   {
    "duration": 19,
    "start_time": "2023-04-01T18:09:03.335Z"
   },
   {
    "duration": 417,
    "start_time": "2023-04-01T18:09:03.356Z"
   },
   {
    "duration": 418,
    "start_time": "2023-04-01T18:09:03.775Z"
   },
   {
    "duration": 35,
    "start_time": "2023-04-01T18:09:04.195Z"
   },
   {
    "duration": 67,
    "start_time": "2023-04-01T18:09:04.240Z"
   },
   {
    "duration": 85,
    "start_time": "2023-04-01T18:09:04.310Z"
   },
   {
    "duration": 87,
    "start_time": "2023-04-01T18:09:04.396Z"
   },
   {
    "duration": 19,
    "start_time": "2023-04-01T18:09:04.484Z"
   },
   {
    "duration": 94,
    "start_time": "2023-04-01T18:09:04.505Z"
   },
   {
    "duration": 174,
    "start_time": "2023-04-01T18:09:04.600Z"
   },
   {
    "duration": 20,
    "start_time": "2023-04-01T18:09:04.775Z"
   },
   {
    "duration": 45,
    "start_time": "2023-04-01T18:09:04.796Z"
   },
   {
    "duration": 3,
    "start_time": "2023-04-01T18:09:04.842Z"
   },
   {
    "duration": 70939,
    "start_time": "2023-04-01T18:09:04.847Z"
   },
   {
    "duration": 72,
    "start_time": "2023-04-01T18:10:15.787Z"
   },
   {
    "duration": 47,
    "start_time": "2023-04-01T18:10:15.860Z"
   },
   {
    "duration": 37,
    "start_time": "2023-04-01T18:10:15.909Z"
   },
   {
    "duration": 6,
    "start_time": "2023-04-01T18:10:15.948Z"
   },
   {
    "duration": 55,
    "start_time": "2023-04-01T18:10:15.955Z"
   },
   {
    "duration": 39,
    "start_time": "2023-04-01T18:10:16.011Z"
   },
   {
    "duration": 25,
    "start_time": "2023-04-01T18:10:16.052Z"
   },
   {
    "duration": 23,
    "start_time": "2023-04-01T18:10:16.079Z"
   },
   {
    "duration": 48,
    "start_time": "2023-04-01T18:10:16.103Z"
   },
   {
    "duration": 16,
    "start_time": "2023-04-01T18:10:16.155Z"
   },
   {
    "duration": 1434,
    "start_time": "2023-04-01T18:10:16.172Z"
   },
   {
    "duration": 18,
    "start_time": "2023-04-01T18:10:17.608Z"
   },
   {
    "duration": 39,
    "start_time": "2023-04-01T18:10:17.628Z"
   },
   {
    "duration": 423,
    "start_time": "2023-04-01T18:10:17.669Z"
   },
   {
    "duration": 17,
    "start_time": "2023-04-01T18:10:18.094Z"
   },
   {
    "duration": 35,
    "start_time": "2023-04-01T18:10:18.112Z"
   },
   {
    "duration": 280,
    "start_time": "2023-04-01T18:10:18.149Z"
   },
   {
    "duration": 110,
    "start_time": "2023-04-01T18:10:18.431Z"
   },
   {
    "duration": 21,
    "start_time": "2023-04-01T18:10:18.543Z"
   },
   {
    "duration": 27,
    "start_time": "2023-04-01T18:10:18.566Z"
   },
   {
    "duration": 61,
    "start_time": "2023-04-01T18:10:18.594Z"
   },
   {
    "duration": 31,
    "start_time": "2023-04-01T18:10:18.656Z"
   },
   {
    "duration": 226,
    "start_time": "2023-04-01T18:10:18.688Z"
   },
   {
    "duration": 15,
    "start_time": "2023-04-01T18:10:18.915Z"
   },
   {
    "duration": 30,
    "start_time": "2023-04-01T18:10:18.940Z"
   },
   {
    "duration": 5,
    "start_time": "2023-04-01T18:10:18.972Z"
   },
   {
    "duration": 78085,
    "start_time": "2023-04-01T18:10:18.978Z"
   },
   {
    "duration": 60,
    "start_time": "2023-04-03T19:32:16.222Z"
   },
   {
    "duration": 10228,
    "start_time": "2023-04-03T19:32:19.748Z"
   },
   {
    "duration": 3090,
    "start_time": "2023-04-03T19:32:29.979Z"
   },
   {
    "duration": 6,
    "start_time": "2023-04-03T19:32:33.071Z"
   },
   {
    "duration": 127,
    "start_time": "2023-04-03T19:32:33.078Z"
   },
   {
    "duration": 20,
    "start_time": "2023-04-03T19:32:33.208Z"
   },
   {
    "duration": 552,
    "start_time": "2023-04-03T19:32:33.230Z"
   },
   {
    "duration": 600,
    "start_time": "2023-04-03T19:32:33.784Z"
   },
   {
    "duration": 44,
    "start_time": "2023-04-03T19:32:34.386Z"
   },
   {
    "duration": 88,
    "start_time": "2023-04-03T19:32:34.442Z"
   },
   {
    "duration": 94,
    "start_time": "2023-04-03T19:32:34.532Z"
   },
   {
    "duration": 113,
    "start_time": "2023-04-03T19:32:34.628Z"
   },
   {
    "duration": 20,
    "start_time": "2023-04-03T19:32:34.743Z"
   },
   {
    "duration": 85,
    "start_time": "2023-04-03T19:32:34.765Z"
   },
   {
    "duration": 202,
    "start_time": "2023-04-03T19:32:34.852Z"
   },
   {
    "duration": 21,
    "start_time": "2023-04-03T19:32:35.056Z"
   },
   {
    "duration": 52,
    "start_time": "2023-04-03T19:32:35.079Z"
   },
   {
    "duration": 8,
    "start_time": "2023-04-03T19:32:35.133Z"
   },
   {
    "duration": 4,
    "start_time": "2023-04-03T19:33:32.700Z"
   },
   {
    "duration": 3,
    "start_time": "2023-04-03T19:34:03.471Z"
   },
   {
    "duration": 5,
    "start_time": "2023-04-03T19:34:04.614Z"
   },
   {
    "duration": 76,
    "start_time": "2023-04-03T19:34:06.000Z"
   },
   {
    "duration": 3,
    "start_time": "2023-04-03T19:34:19.169Z"
   },
   {
    "duration": 12,
    "start_time": "2023-04-03T19:34:19.415Z"
   },
   {
    "duration": 3,
    "start_time": "2023-04-03T19:34:40.845Z"
   },
   {
    "duration": 12338,
    "start_time": "2023-04-03T19:34:41.070Z"
   },
   {
    "duration": 20,
    "start_time": "2023-04-03T19:35:05.850Z"
   },
   {
    "duration": 65,
    "start_time": "2023-04-03T19:35:09.991Z"
   },
   {
    "duration": 23394,
    "start_time": "2023-04-03T19:35:22.050Z"
   },
   {
    "duration": 61,
    "start_time": "2023-04-03T19:35:45.446Z"
   },
   {
    "duration": 20366,
    "start_time": "2023-04-03T19:35:48.472Z"
   },
   {
    "duration": 68,
    "start_time": "2023-04-03T19:36:08.840Z"
   },
   {
    "duration": 73,
    "start_time": "2023-04-03T19:36:22.102Z"
   }
  ],
  "kernelspec": {
   "display_name": "Python 3 (ipykernel)",
   "language": "python",
   "name": "python3"
  },
  "language_info": {
   "codemirror_mode": {
    "name": "ipython",
    "version": 3
   },
   "file_extension": ".py",
   "mimetype": "text/x-python",
   "name": "python",
   "nbconvert_exporter": "python",
   "pygments_lexer": "ipython3",
   "version": "3.9.16"
  },
  "toc": {
   "base_numbering": 1,
   "nav_menu": {},
   "number_sections": true,
   "sideBar": true,
   "skip_h1_title": true,
   "title_cell": "Table of Contents",
   "title_sidebar": "Contents",
   "toc_cell": false,
   "toc_position": {
    "height": "calc(100% - 180px)",
    "left": "10px",
    "top": "150px",
    "width": "299.2px"
   },
   "toc_section_display": true,
   "toc_window_display": true
  },
  "varInspector": {
   "cols": {
    "lenName": 16,
    "lenType": 16,
    "lenVar": 40
   },
   "kernels_config": {
    "python": {
     "delete_cmd_postfix": "",
     "delete_cmd_prefix": "del ",
     "library": "var_list.py",
     "varRefreshCmd": "print(var_dic_list())"
    },
    "r": {
     "delete_cmd_postfix": ") ",
     "delete_cmd_prefix": "rm(",
     "library": "var_list.r",
     "varRefreshCmd": "cat(var_dic_list()) "
    }
   },
   "types_to_exclude": [
    "module",
    "function",
    "builtin_function_or_method",
    "instance",
    "_Feature"
   ],
   "window_display": false
  }
 },
 "nbformat": 4,
 "nbformat_minor": 2
}
