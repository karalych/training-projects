{
 "cells": [
  {
   "cell_type": "code",
   "execution_count": 1,
   "metadata": {},
   "outputs": [],
   "source": [
    "import pandas as pd\n",
    "import matplotlib.pyplot as plt\n",
    "\n",
    "from tqdm import tqdm\n",
    "from sklearn.model_selection import train_test_split\n",
    "from sklearn.tree import DecisionTreeClassifier\n",
    "from sklearn.ensemble import RandomForestClassifier\n",
    "from sklearn.linear_model import LogisticRegression\n",
    "from sklearn.metrics import accuracy_score\n",
    "from statsmodels.stats.outliers_influence import variance_inflation_factor\n",
    "from sklearn.dummy import DummyClassifier"
   ]
  },
  {
   "cell_type": "markdown",
   "metadata": {},
   "source": [
    "## Обзор данных"
   ]
  },
  {
   "cell_type": "code",
   "execution_count": 2,
   "metadata": {},
   "outputs": [
    {
     "name": "stdout",
     "output_type": "stream",
     "text": [
      "<class 'pandas.core.frame.DataFrame'>\n",
      "RangeIndex: 3214 entries, 0 to 3213\n",
      "Data columns (total 5 columns):\n",
      " #   Column    Non-Null Count  Dtype  \n",
      "---  ------    --------------  -----  \n",
      " 0   calls     3214 non-null   float64\n",
      " 1   minutes   3214 non-null   float64\n",
      " 2   messages  3214 non-null   float64\n",
      " 3   mb_used   3214 non-null   float64\n",
      " 4   is_ultra  3214 non-null   int64  \n",
      "dtypes: float64(4), int64(1)\n",
      "memory usage: 125.7 KB\n"
     ]
    },
    {
     "data": {
      "text/html": [
       "<div>\n",
       "<style scoped>\n",
       "    .dataframe tbody tr th:only-of-type {\n",
       "        vertical-align: middle;\n",
       "    }\n",
       "\n",
       "    .dataframe tbody tr th {\n",
       "        vertical-align: top;\n",
       "    }\n",
       "\n",
       "    .dataframe thead th {\n",
       "        text-align: right;\n",
       "    }\n",
       "</style>\n",
       "<table border=\"1\" class=\"dataframe\">\n",
       "  <thead>\n",
       "    <tr style=\"text-align: right;\">\n",
       "      <th></th>\n",
       "      <th>calls</th>\n",
       "      <th>minutes</th>\n",
       "      <th>messages</th>\n",
       "      <th>mb_used</th>\n",
       "      <th>is_ultra</th>\n",
       "    </tr>\n",
       "  </thead>\n",
       "  <tbody>\n",
       "    <tr>\n",
       "      <th>0</th>\n",
       "      <td>40.0</td>\n",
       "      <td>311.90</td>\n",
       "      <td>83.0</td>\n",
       "      <td>19915.42</td>\n",
       "      <td>0</td>\n",
       "    </tr>\n",
       "    <tr>\n",
       "      <th>1</th>\n",
       "      <td>85.0</td>\n",
       "      <td>516.75</td>\n",
       "      <td>56.0</td>\n",
       "      <td>22696.96</td>\n",
       "      <td>0</td>\n",
       "    </tr>\n",
       "    <tr>\n",
       "      <th>2</th>\n",
       "      <td>77.0</td>\n",
       "      <td>467.66</td>\n",
       "      <td>86.0</td>\n",
       "      <td>21060.45</td>\n",
       "      <td>0</td>\n",
       "    </tr>\n",
       "    <tr>\n",
       "      <th>3</th>\n",
       "      <td>106.0</td>\n",
       "      <td>745.53</td>\n",
       "      <td>81.0</td>\n",
       "      <td>8437.39</td>\n",
       "      <td>1</td>\n",
       "    </tr>\n",
       "    <tr>\n",
       "      <th>4</th>\n",
       "      <td>66.0</td>\n",
       "      <td>418.74</td>\n",
       "      <td>1.0</td>\n",
       "      <td>14502.75</td>\n",
       "      <td>0</td>\n",
       "    </tr>\n",
       "    <tr>\n",
       "      <th>5</th>\n",
       "      <td>58.0</td>\n",
       "      <td>344.56</td>\n",
       "      <td>21.0</td>\n",
       "      <td>15823.37</td>\n",
       "      <td>0</td>\n",
       "    </tr>\n",
       "    <tr>\n",
       "      <th>6</th>\n",
       "      <td>57.0</td>\n",
       "      <td>431.64</td>\n",
       "      <td>20.0</td>\n",
       "      <td>3738.90</td>\n",
       "      <td>1</td>\n",
       "    </tr>\n",
       "    <tr>\n",
       "      <th>7</th>\n",
       "      <td>15.0</td>\n",
       "      <td>132.40</td>\n",
       "      <td>6.0</td>\n",
       "      <td>21911.60</td>\n",
       "      <td>0</td>\n",
       "    </tr>\n",
       "    <tr>\n",
       "      <th>8</th>\n",
       "      <td>7.0</td>\n",
       "      <td>43.39</td>\n",
       "      <td>3.0</td>\n",
       "      <td>2538.67</td>\n",
       "      <td>1</td>\n",
       "    </tr>\n",
       "    <tr>\n",
       "      <th>9</th>\n",
       "      <td>90.0</td>\n",
       "      <td>665.41</td>\n",
       "      <td>38.0</td>\n",
       "      <td>17358.61</td>\n",
       "      <td>0</td>\n",
       "    </tr>\n",
       "  </tbody>\n",
       "</table>\n",
       "</div>"
      ],
      "text/plain": [
       "   calls  minutes  messages   mb_used  is_ultra\n",
       "0   40.0   311.90      83.0  19915.42         0\n",
       "1   85.0   516.75      56.0  22696.96         0\n",
       "2   77.0   467.66      86.0  21060.45         0\n",
       "3  106.0   745.53      81.0   8437.39         1\n",
       "4   66.0   418.74       1.0  14502.75         0\n",
       "5   58.0   344.56      21.0  15823.37         0\n",
       "6   57.0   431.64      20.0   3738.90         1\n",
       "7   15.0   132.40       6.0  21911.60         0\n",
       "8    7.0    43.39       3.0   2538.67         1\n",
       "9   90.0   665.41      38.0  17358.61         0"
      ]
     },
     "execution_count": 2,
     "metadata": {},
     "output_type": "execute_result"
    }
   ],
   "source": [
    "data = pd.read_csv('users_behavior.csv')\n",
    "\n",
    "data.info()\n",
    "\n",
    "data.head(10)"
   ]
  },
  {
   "cell_type": "code",
   "execution_count": 3,
   "metadata": {},
   "outputs": [
    {
     "data": {
      "image/png": "[encoded data removed]",
      "text/plain": [
       "<Figure size 1000x800 with 6 Axes>"
      ]
     },
     "metadata": {},
     "output_type": "display_data"
    }
   ],
   "source": [
    "data.hist(figsize=(10, 8));"
   ]
  },
  {
   "cell_type": "markdown",
   "metadata": {},
   "source": [
    "В задании заявлено, что предобработка данных не требуется, единственное, что можно заменить типы данных в столбцах `calls` и `messages` на `int`, проверить данные на явные дубликаты и сразу перейти к следующей части."
   ]
  },
  {
   "cell_type": "code",
   "execution_count": 4,
   "metadata": {},
   "outputs": [],
   "source": [
    "data[['calls', 'messages']] = data[['calls', 'messages']].astype('int')"
   ]
  },
  {
   "cell_type": "code",
   "execution_count": 5,
   "metadata": {},
   "outputs": [
    {
     "data": {
      "text/plain": [
       "0"
      ]
     },
     "execution_count": 5,
     "metadata": {},
     "output_type": "execute_result"
    }
   ],
   "source": [
    "data.duplicated().sum()"
   ]
  },
  {
   "cell_type": "code",
   "execution_count": 6,
   "metadata": {},
   "outputs": [
    {
     "name": "stdout",
     "output_type": "stream",
     "text": [
      "<class 'pandas.core.frame.DataFrame'>\n",
      "RangeIndex: 3214 entries, 0 to 3213\n",
      "Data columns (total 5 columns):\n",
      " #   Column    Non-Null Count  Dtype  \n",
      "---  ------    --------------  -----  \n",
      " 0   calls     3214 non-null   int32  \n",
      " 1   minutes   3214 non-null   float64\n",
      " 2   messages  3214 non-null   int32  \n",
      " 3   mb_used   3214 non-null   float64\n",
      " 4   is_ultra  3214 non-null   int64  \n",
      "dtypes: float64(2), int32(2), int64(1)\n",
      "memory usage: 100.6 KB\n"
     ]
    }
   ],
   "source": [
    "data.info()"
   ]
  },
  {
   "cell_type": "markdown",
   "metadata": {},
   "source": [
    "Посмотрим на коореляции в данных"
   ]
  },
  {
   "cell_type": "code",
   "execution_count": 7,
   "metadata": {},
   "outputs": [
    {
     "data": {
      "text/html": [
       "<div>\n",
       "<style scoped>\n",
       "    .dataframe tbody tr th:only-of-type {\n",
       "        vertical-align: middle;\n",
       "    }\n",
       "\n",
       "    .dataframe tbody tr th {\n",
       "        vertical-align: top;\n",
       "    }\n",
       "\n",
       "    .dataframe thead th {\n",
       "        text-align: right;\n",
       "    }\n",
       "</style>\n",
       "<table border=\"1\" class=\"dataframe\">\n",
       "  <thead>\n",
       "    <tr style=\"text-align: right;\">\n",
       "      <th></th>\n",
       "      <th>calls</th>\n",
       "      <th>minutes</th>\n",
       "      <th>messages</th>\n",
       "      <th>mb_used</th>\n",
       "    </tr>\n",
       "  </thead>\n",
       "  <tbody>\n",
       "    <tr>\n",
       "      <th>calls</th>\n",
       "      <td>1.000000</td>\n",
       "      <td>0.982083</td>\n",
       "      <td>0.177385</td>\n",
       "      <td>0.286442</td>\n",
       "    </tr>\n",
       "    <tr>\n",
       "      <th>minutes</th>\n",
       "      <td>0.982083</td>\n",
       "      <td>1.000000</td>\n",
       "      <td>0.173110</td>\n",
       "      <td>0.280967</td>\n",
       "    </tr>\n",
       "    <tr>\n",
       "      <th>messages</th>\n",
       "      <td>0.177385</td>\n",
       "      <td>0.173110</td>\n",
       "      <td>1.000000</td>\n",
       "      <td>0.195721</td>\n",
       "    </tr>\n",
       "    <tr>\n",
       "      <th>mb_used</th>\n",
       "      <td>0.286442</td>\n",
       "      <td>0.280967</td>\n",
       "      <td>0.195721</td>\n",
       "      <td>1.000000</td>\n",
       "    </tr>\n",
       "  </tbody>\n",
       "</table>\n",
       "</div>"
      ],
      "text/plain": [
       "             calls   minutes  messages   mb_used\n",
       "calls     1.000000  0.982083  0.177385  0.286442\n",
       "minutes   0.982083  1.000000  0.173110  0.280967\n",
       "messages  0.177385  0.173110  1.000000  0.195721\n",
       "mb_used   0.286442  0.280967  0.195721  1.000000"
      ]
     },
     "execution_count": 7,
     "metadata": {},
     "output_type": "execute_result"
    }
   ],
   "source": [
    "data[['calls', 'minutes', 'messages', 'mb_used']].corr()"
   ]
  },
  {
   "cell_type": "markdown",
   "metadata": {},
   "source": [
    "Посмотрим на мультиколлинеарность"
   ]
  },
  {
   "cell_type": "code",
   "execution_count": 8,
   "metadata": {},
   "outputs": [
    {
     "data": {
      "text/html": [
       "<div>\n",
       "<style scoped>\n",
       "    .dataframe tbody tr th:only-of-type {\n",
       "        vertical-align: middle;\n",
       "    }\n",
       "\n",
       "    .dataframe tbody tr th {\n",
       "        vertical-align: top;\n",
       "    }\n",
       "\n",
       "    .dataframe thead th {\n",
       "        text-align: right;\n",
       "    }\n",
       "</style>\n",
       "<table border=\"1\" class=\"dataframe\">\n",
       "  <thead>\n",
       "    <tr style=\"text-align: right;\">\n",
       "      <th></th>\n",
       "      <th>feature</th>\n",
       "      <th>VIF</th>\n",
       "    </tr>\n",
       "  </thead>\n",
       "  <tbody>\n",
       "    <tr>\n",
       "      <th>0</th>\n",
       "      <td>calls</td>\n",
       "      <td>129.350246</td>\n",
       "    </tr>\n",
       "    <tr>\n",
       "      <th>1</th>\n",
       "      <td>minutes</td>\n",
       "      <td>126.448586</td>\n",
       "    </tr>\n",
       "    <tr>\n",
       "      <th>2</th>\n",
       "      <td>messages</td>\n",
       "      <td>2.184385</td>\n",
       "    </tr>\n",
       "    <tr>\n",
       "      <th>3</th>\n",
       "      <td>mb_used</td>\n",
       "      <td>4.380105</td>\n",
       "    </tr>\n",
       "  </tbody>\n",
       "</table>\n",
       "</div>"
      ],
      "text/plain": [
       "    feature         VIF\n",
       "0     calls  129.350246\n",
       "1   minutes  126.448586\n",
       "2  messages    2.184385\n",
       "3   mb_used    4.380105"
      ]
     },
     "execution_count": 8,
     "metadata": {},
     "output_type": "execute_result"
    }
   ],
   "source": [
    "X_variables = data[['calls', 'minutes', 'messages', 'mb_used']]\n",
    "\n",
    "vif_data = pd.DataFrame()\n",
    "vif_data['feature'] = X_variables.columns\n",
    "vif_data['VIF'] = [variance_inflation_factor(X_variables.values, i) for i in range(len(X_variables.columns))]\n",
    "vif_data"
   ]
  },
  {
   "cell_type": "markdown",
   "metadata": {},
   "source": [
    "Мультиколлинеарность присутствует, но в рамках задачи с ней бороться не обязательно."
   ]
  },
  {
   "cell_type": "markdown",
   "metadata": {},
   "source": [
    "## Разделение данных на выборки"
   ]
  },
  {
   "cell_type": "markdown",
   "metadata": {},
   "source": [
    "Данные нужно разбить на три части: обучающую, валидационную и тестовую. Используем стандартное соотношение 3:1:1."
   ]
  },
  {
   "cell_type": "code",
   "execution_count": 9,
   "metadata": {},
   "outputs": [],
   "source": [
    "data_train, data_valid_and_test = train_test_split(data, test_size=0.4, random_state=345, stratify=data['is_ultra'])\n",
    "data_valid, data_test = train_test_split(data_valid_and_test, test_size=0.5, random_state=345, stratify=data_valid_and_test['is_ultra'])"
   ]
  },
  {
   "cell_type": "code",
   "execution_count": 10,
   "metadata": {},
   "outputs": [
    {
     "data": {
      "text/plain": [
       "(1928, 5)"
      ]
     },
     "execution_count": 10,
     "metadata": {},
     "output_type": "execute_result"
    }
   ],
   "source": [
    "data_train.shape"
   ]
  },
  {
   "cell_type": "code",
   "execution_count": 11,
   "metadata": {},
   "outputs": [
    {
     "data": {
      "text/plain": [
       "(643, 5)"
      ]
     },
     "execution_count": 11,
     "metadata": {},
     "output_type": "execute_result"
    }
   ],
   "source": [
    "data_valid.shape"
   ]
  },
  {
   "cell_type": "code",
   "execution_count": 12,
   "metadata": {},
   "outputs": [
    {
     "data": {
      "text/plain": [
       "(643, 5)"
      ]
     },
     "execution_count": 12,
     "metadata": {},
     "output_type": "execute_result"
    }
   ],
   "source": [
    "data_test.shape"
   ]
  },
  {
   "cell_type": "markdown",
   "metadata": {},
   "source": [
    "## Исследование моделей"
   ]
  },
  {
   "cell_type": "markdown",
   "metadata": {},
   "source": [
    "Данные разбили, теперь исследуем разные модели. Перед нами стоит задача классификации. В обучающем курсе было 3 модели: решающее дерево, случайный лес и логическая регрессия."
   ]
  },
  {
   "cell_type": "markdown",
   "metadata": {},
   "source": [
    "Вначале разобьем выборки на целевые признаки и обучающие."
   ]
  },
  {
   "cell_type": "code",
   "execution_count": 13,
   "metadata": {},
   "outputs": [],
   "source": [
    "train_features = data_train.drop(['is_ultra'], axis=1)\n",
    "train_target = data_train['is_ultra']\n",
    "\n",
    "valid_features = data_valid.drop(['is_ultra'], axis=1)\n",
    "valid_target = data_valid['is_ultra']\n",
    "\n",
    "test_features = data_test.drop(['is_ultra'], axis=1)\n",
    "test_target = data_test['is_ultra']"
   ]
  },
  {
   "cell_type": "markdown",
   "metadata": {},
   "source": [
    "### Решающее дерево"
   ]
  },
  {
   "cell_type": "markdown",
   "metadata": {},
   "source": [
    "Изучим модель решающего дерева с вариацией критериев и глубины дерева."
   ]
  },
  {
   "cell_type": "code",
   "execution_count": 14,
   "metadata": {},
   "outputs": [
    {
     "data": {
      "text/html": [
       "<div>\n",
       "<style scoped>\n",
       "    .dataframe tbody tr th:only-of-type {\n",
       "        vertical-align: middle;\n",
       "    }\n",
       "\n",
       "    .dataframe tbody tr th {\n",
       "        vertical-align: top;\n",
       "    }\n",
       "\n",
       "    .dataframe thead th {\n",
       "        text-align: right;\n",
       "    }\n",
       "</style>\n",
       "<table border=\"1\" class=\"dataframe\">\n",
       "  <thead>\n",
       "    <tr style=\"text-align: right;\">\n",
       "      <th></th>\n",
       "      <th>criterion</th>\n",
       "      <th>max_depth</th>\n",
       "      <th>accuracy</th>\n",
       "    </tr>\n",
       "  </thead>\n",
       "  <tbody>\n",
       "    <tr>\n",
       "      <th>57</th>\n",
       "      <td>entropy</td>\n",
       "      <td>8</td>\n",
       "      <td>0.805599</td>\n",
       "    </tr>\n",
       "    <tr>\n",
       "      <th>59</th>\n",
       "      <td>entropy</td>\n",
       "      <td>10</td>\n",
       "      <td>0.802488</td>\n",
       "    </tr>\n",
       "    <tr>\n",
       "      <th>7</th>\n",
       "      <td>gini</td>\n",
       "      <td>8</td>\n",
       "      <td>0.793157</td>\n",
       "    </tr>\n",
       "    <tr>\n",
       "      <th>9</th>\n",
       "      <td>gini</td>\n",
       "      <td>10</td>\n",
       "      <td>0.788491</td>\n",
       "    </tr>\n",
       "    <tr>\n",
       "      <th>56</th>\n",
       "      <td>entropy</td>\n",
       "      <td>7</td>\n",
       "      <td>0.786936</td>\n",
       "    </tr>\n",
       "    <tr>\n",
       "      <th>...</th>\n",
       "      <td>...</td>\n",
       "      <td>...</td>\n",
       "      <td>...</td>\n",
       "    </tr>\n",
       "    <tr>\n",
       "      <th>73</th>\n",
       "      <td>entropy</td>\n",
       "      <td>24</td>\n",
       "      <td>0.729393</td>\n",
       "    </tr>\n",
       "    <tr>\n",
       "      <th>70</th>\n",
       "      <td>entropy</td>\n",
       "      <td>21</td>\n",
       "      <td>0.727838</td>\n",
       "    </tr>\n",
       "    <tr>\n",
       "      <th>72</th>\n",
       "      <td>entropy</td>\n",
       "      <td>23</td>\n",
       "      <td>0.723173</td>\n",
       "    </tr>\n",
       "    <tr>\n",
       "      <th>19</th>\n",
       "      <td>gini</td>\n",
       "      <td>20</td>\n",
       "      <td>0.723173</td>\n",
       "    </tr>\n",
       "    <tr>\n",
       "      <th>21</th>\n",
       "      <td>gini</td>\n",
       "      <td>22</td>\n",
       "      <td>0.718507</td>\n",
       "    </tr>\n",
       "  </tbody>\n",
       "</table>\n",
       "<p>100 rows × 3 columns</p>\n",
       "</div>"
      ],
      "text/plain": [
       "   criterion max_depth  accuracy\n",
       "57   entropy         8  0.805599\n",
       "59   entropy        10  0.802488\n",
       "7       gini         8  0.793157\n",
       "9       gini        10  0.788491\n",
       "56   entropy         7  0.786936\n",
       "..       ...       ...       ...\n",
       "73   entropy        24  0.729393\n",
       "70   entropy        21  0.727838\n",
       "72   entropy        23  0.723173\n",
       "19      gini        20  0.723173\n",
       "21      gini        22  0.718507\n",
       "\n",
       "[100 rows x 3 columns]"
      ]
     },
     "execution_count": 14,
     "metadata": {},
     "output_type": "execute_result"
    },
    {
     "data": {
      "image/png": "[encoded data removed]",
      "text/plain": [
       "<Figure size 640x480 with 1 Axes>"
      ]
     },
     "metadata": {},
     "output_type": "display_data"
    },
    {
     "data": {
      "image/png": "[encoded data removed]",
      "text/plain": [
       "<Figure size 640x480 with 1 Axes>"
      ]
     },
     "metadata": {},
     "output_type": "display_data"
    }
   ],
   "source": [
    "test_of_tree = pd.DataFrame(columns=['criterion', 'max_depth', 'accuracy'])\n",
    "\n",
    "criterions = ('gini', 'entropy')\n",
    "\n",
    "for criterion in criterions:\n",
    "    accuracy_valid = []\n",
    "    accuracy_train = []\n",
    "    for depth in range(1, 51):\n",
    "        tree_model = DecisionTreeClassifier(\n",
    "            criterion=criterion,\n",
    "            max_depth=depth,\n",
    "            random_state=345\n",
    "        )\n",
    "        tree_model.fit(train_features, train_target)\n",
    "        predictions_valid = tree_model.predict(valid_features)\n",
    "        predictions_train = tree_model.predict(train_features)\n",
    "        test_of_tree = test_of_tree.append(\n",
    "            pd.DataFrame(\n",
    "                [[criterion, depth, accuracy_score(valid_target, predictions_valid)]], \n",
    "                columns=['criterion', 'max_depth', 'accuracy']),\n",
    "            ignore_index=True)\n",
    "        accuracy_valid.append(accuracy_score(valid_target, predictions_valid))\n",
    "        accuracy_train.append(accuracy_score(train_target, predictions_train))\n",
    "    \n",
    "    fig, ax = plt.subplots()\n",
    "    fig.suptitle(criterion)\n",
    "    \n",
    "    ax.plot(accuracy_valid, label='Валидационная выборка')\n",
    "    ax.plot(accuracy_train, label='Тренировочная выборка')\n",
    "    ax.set(xlabel='Глубина', ylabel='Accuracy')\n",
    "    \n",
    "    fig.tight_layout()\n",
    "\n",
    "test_of_tree.sort_values(by='accuracy', ascending=False)"
   ]
  },
  {
   "cell_type": "markdown",
   "metadata": {},
   "source": [
    "**Вывод:** оптимально использовать модель с критерием `entropy` и `max_depth=8`, при этом значение `accuracy` = 0.805599"
   ]
  },
  {
   "cell_type": "markdown",
   "metadata": {},
   "source": [
    "### Случайный лес"
   ]
  },
  {
   "cell_type": "markdown",
   "metadata": {},
   "source": [
    "Изучим модель случайного леса с вариацией глубины дерева и числом деревьев."
   ]
  },
  {
   "cell_type": "code",
   "execution_count": 15,
   "metadata": {
    "scrolled": true
   },
   "outputs": [
    {
     "name": "stderr",
     "output_type": "stream",
     "text": [
      "100%|██████████████████████████████████████████████████████████████████████████████████| 50/50 [00:42<00:00,  1.19it/s]\n"
     ]
    },
    {
     "data": {
      "text/html": [
       "<div>\n",
       "<style scoped>\n",
       "    .dataframe tbody tr th:only-of-type {\n",
       "        vertical-align: middle;\n",
       "    }\n",
       "\n",
       "    .dataframe tbody tr th {\n",
       "        vertical-align: top;\n",
       "    }\n",
       "\n",
       "    .dataframe thead th {\n",
       "        text-align: right;\n",
       "    }\n",
       "</style>\n",
       "<table border=\"1\" class=\"dataframe\">\n",
       "  <thead>\n",
       "    <tr style=\"text-align: right;\">\n",
       "      <th></th>\n",
       "      <th>n_estimators</th>\n",
       "      <th>max_depth</th>\n",
       "      <th>accuracy</th>\n",
       "    </tr>\n",
       "  </thead>\n",
       "  <tbody>\n",
       "    <tr>\n",
       "      <th>407</th>\n",
       "      <td>41</td>\n",
       "      <td>8</td>\n",
       "      <td>0.828927</td>\n",
       "    </tr>\n",
       "    <tr>\n",
       "      <th>477</th>\n",
       "      <td>48</td>\n",
       "      <td>8</td>\n",
       "      <td>0.828927</td>\n",
       "    </tr>\n",
       "    <tr>\n",
       "      <th>397</th>\n",
       "      <td>40</td>\n",
       "      <td>8</td>\n",
       "      <td>0.828927</td>\n",
       "    </tr>\n",
       "    <tr>\n",
       "      <th>497</th>\n",
       "      <td>50</td>\n",
       "      <td>8</td>\n",
       "      <td>0.828927</td>\n",
       "    </tr>\n",
       "    <tr>\n",
       "      <th>347</th>\n",
       "      <td>35</td>\n",
       "      <td>8</td>\n",
       "      <td>0.827372</td>\n",
       "    </tr>\n",
       "    <tr>\n",
       "      <th>...</th>\n",
       "      <td>...</td>\n",
       "      <td>...</td>\n",
       "      <td>...</td>\n",
       "    </tr>\n",
       "    <tr>\n",
       "      <th>60</th>\n",
       "      <td>7</td>\n",
       "      <td>1</td>\n",
       "      <td>0.726283</td>\n",
       "    </tr>\n",
       "    <tr>\n",
       "      <th>19</th>\n",
       "      <td>2</td>\n",
       "      <td>10</td>\n",
       "      <td>0.726283</td>\n",
       "    </tr>\n",
       "    <tr>\n",
       "      <th>100</th>\n",
       "      <td>11</td>\n",
       "      <td>1</td>\n",
       "      <td>0.723173</td>\n",
       "    </tr>\n",
       "    <tr>\n",
       "      <th>90</th>\n",
       "      <td>10</td>\n",
       "      <td>1</td>\n",
       "      <td>0.723173</td>\n",
       "    </tr>\n",
       "    <tr>\n",
       "      <th>80</th>\n",
       "      <td>9</td>\n",
       "      <td>1</td>\n",
       "      <td>0.723173</td>\n",
       "    </tr>\n",
       "  </tbody>\n",
       "</table>\n",
       "<p>500 rows × 3 columns</p>\n",
       "</div>"
      ],
      "text/plain": [
       "    n_estimators max_depth  accuracy\n",
       "407           41         8  0.828927\n",
       "477           48         8  0.828927\n",
       "397           40         8  0.828927\n",
       "497           50         8  0.828927\n",
       "347           35         8  0.827372\n",
       "..           ...       ...       ...\n",
       "60             7         1  0.726283\n",
       "19             2        10  0.726283\n",
       "100           11         1  0.723173\n",
       "90            10         1  0.723173\n",
       "80             9         1  0.723173\n",
       "\n",
       "[500 rows x 3 columns]"
      ]
     },
     "execution_count": 15,
     "metadata": {},
     "output_type": "execute_result"
    }
   ],
   "source": [
    "test_of_forest = pd.DataFrame(columns=['n_estimators', 'max_depth', 'accuracy'])\n",
    "for est in tqdm(range(1, 51)):\n",
    "    for depth in range(1, 11):\n",
    "        forest_model = RandomForestClassifier(\n",
    "            n_estimators=est, \n",
    "            max_depth=depth, \n",
    "            random_state=345\n",
    "        )\n",
    "        forest_model.fit(train_features, train_target)\n",
    "        predictions_valid = forest_model.predict(valid_features)\n",
    "        test_of_forest = test_of_forest.append(pd.DataFrame([[est, depth, accuracy_score(valid_target, predictions_valid)]], columns=['n_estimators', 'max_depth', 'accuracy']), ignore_index=True)\n",
    "\n",
    "test_of_forest.sort_values(by='accuracy', ascending=False)"
   ]
  },
  {
   "cell_type": "markdown",
   "metadata": {},
   "source": [
    "**Вывод:** очевидно, лучшая модель имеет `n_estimators=40` и `max_depth=8`, при этом значение `accuracy` = 0.828927"
   ]
  },
  {
   "cell_type": "markdown",
   "metadata": {},
   "source": [
    "### Логичестикая регрессия"
   ]
  },
  {
   "cell_type": "code",
   "execution_count": 16,
   "metadata": {
    "scrolled": true
   },
   "outputs": [
    {
     "name": "stdout",
     "output_type": "stream",
     "text": [
      "Accuracy: 0.7060653188180405\n"
     ]
    }
   ],
   "source": [
    "logistic_model = LogisticRegression(random_state=345)\n",
    "logistic_model.fit(train_features, train_target)\n",
    "predictions_valid = logistic_model.predict(valid_features)\n",
    "print('Accuracy:', accuracy_score(valid_target, predictions_valid))"
   ]
  },
  {
   "cell_type": "markdown",
   "metadata": {},
   "source": [
    "## Вывод"
   ]
  },
  {
   "cell_type": "markdown",
   "metadata": {},
   "source": [
    "Лучшую точность `0.828927` мы получили на модели случайного леса, при этом, точность модели решающего дерева `0.805599`, а логистической регрессии `0.706065`."
   ]
  },
  {
   "cell_type": "markdown",
   "metadata": {},
   "source": [
    "## Проверка модели на тестовой выборке"
   ]
  },
  {
   "cell_type": "markdown",
   "metadata": {},
   "source": [
    "Возьмем лучшую модель: случайный лес с с `n_estimators=40` и `max_depth=8`"
   ]
  },
  {
   "cell_type": "code",
   "execution_count": 17,
   "metadata": {
    "scrolled": true
   },
   "outputs": [
    {
     "name": "stdout",
     "output_type": "stream",
     "text": [
      "Accuracy: 0.8164852255054432\n"
     ]
    }
   ],
   "source": [
    "forest_model = RandomForestClassifier(n_estimators=40, max_depth=8, random_state=345)\n",
    "forest_model.fit(train_features, train_target)\n",
    "predictions_test = forest_model.predict(test_features)\n",
    "\n",
    "print('Accuracy:', accuracy_score(test_target, predictions_test))"
   ]
  },
  {
   "cell_type": "markdown",
   "metadata": {},
   "source": [
    "**Вывод:** По RF модели на тестовой выборке получена точность более 81,6%."
   ]
  },
  {
   "cell_type": "markdown",
   "metadata": {},
   "source": [
    "## Проверка модели на адекватность"
   ]
  },
  {
   "cell_type": "code",
   "execution_count": 18,
   "metadata": {},
   "outputs": [
    {
     "name": "stdout",
     "output_type": "stream",
     "text": [
      "Accuracy DummyClassifier: 0.6936236391912908\n"
     ]
    }
   ],
   "source": [
    "dummy_model = DummyClassifier(strategy='most_frequent', random_state=345)\n",
    "dummy_model.fit(train_features, train_target)\n",
    "result_dummy = dummy_model.score(valid_features, valid_target)\n",
    "print('Accuracy DummyClassifier:', result_dummy)"
   ]
  },
  {
   "cell_type": "markdown",
   "metadata": {},
   "source": [
    "**Вывод:** так как accuracy DC меньше, чем accuracy выбранной модели, то нашу модель можно считать адекватной."
   ]
  },
  {
   "cell_type": "markdown",
   "metadata": {},
   "source": [
    "## Общий вывод"
   ]
  },
  {
   "cell_type": "markdown",
   "metadata": {},
   "source": [
    "* Были исследованы модели `DecisionTree`, `RandomForest` и `LogisticRegression`\n",
    "* Наибольшую точность показали модели `DecisionTree` с критерием `gini` и гиперпараметром `max_depth=7` - `0.786936` и `RandomForest` с гиперпараметрами `n_estimators=9` и `max_depth=10` - `0.800933`\n",
    "* Выбранная нами модель RF показывает точность на тестовых данных более 81,6%.\n",
    "* Нашу модель можно назвать адекватной."
   ]
  }
 ],
 "metadata": {
  "ExecuteTimeLog": [
   {
    "duration": 415,
    "start_time": "2023-01-20T11:16:30.550Z"
   },
   {
    "duration": 153,
    "start_time": "2023-01-20T11:17:35.713Z"
   },
   {
    "duration": 45,
    "start_time": "2023-01-20T11:20:51.561Z"
   },
   {
    "duration": 944,
    "start_time": "2023-01-20T11:21:21.773Z"
   },
   {
    "duration": 488,
    "start_time": "2023-01-20T11:21:27.781Z"
   },
   {
    "duration": 422,
    "start_time": "2023-01-20T11:26:22.807Z"
   },
   {
    "duration": 503,
    "start_time": "2023-01-20T11:26:31.955Z"
   },
   {
    "duration": 547,
    "start_time": "2023-01-20T11:26:40.473Z"
   },
   {
    "duration": 77,
    "start_time": "2023-01-20T11:32:23.555Z"
   },
   {
    "duration": 762,
    "start_time": "2023-01-20T11:32:28.125Z"
   },
   {
    "duration": 7,
    "start_time": "2023-01-20T11:32:32.893Z"
   },
   {
    "duration": 12,
    "start_time": "2023-01-20T11:32:38.367Z"
   },
   {
    "duration": 11,
    "start_time": "2023-01-20T11:46:51.610Z"
   },
   {
    "duration": 11,
    "start_time": "2023-01-20T11:46:51.809Z"
   },
   {
    "duration": 11,
    "start_time": "2023-01-20T11:46:52.387Z"
   },
   {
    "duration": 49,
    "start_time": "2023-01-20T11:57:52.224Z"
   },
   {
    "duration": 3,
    "start_time": "2023-01-20T11:57:59.745Z"
   },
   {
    "duration": 1158,
    "start_time": "2023-01-21T09:16:40.138Z"
   },
   {
    "duration": 91,
    "start_time": "2023-01-21T09:16:45.468Z"
   },
   {
    "duration": 1039,
    "start_time": "2023-01-21T09:16:46.889Z"
   },
   {
    "duration": 72,
    "start_time": "2023-01-21T09:16:48.885Z"
   },
   {
    "duration": 8,
    "start_time": "2023-01-21T09:16:55.933Z"
   },
   {
    "duration": 12,
    "start_time": "2023-01-21T09:16:57.804Z"
   },
   {
    "duration": 10,
    "start_time": "2023-01-21T09:16:58.432Z"
   },
   {
    "duration": 11,
    "start_time": "2023-01-21T09:16:59.015Z"
   },
   {
    "duration": 6,
    "start_time": "2023-01-21T09:28:05.801Z"
   },
   {
    "duration": 3,
    "start_time": "2023-01-21T09:31:30.815Z"
   },
   {
    "duration": 3,
    "start_time": "2023-01-21T09:38:03.147Z"
   },
   {
    "duration": 108,
    "start_time": "2023-01-21T09:43:23.922Z"
   },
   {
    "duration": 17,
    "start_time": "2023-01-21T09:43:37.689Z"
   },
   {
    "duration": 4162,
    "start_time": "2023-01-21T09:43:55.192Z"
   },
   {
    "duration": 895,
    "start_time": "2023-01-21T09:46:07.207Z"
   },
   {
    "duration": 167,
    "start_time": "2023-01-21T09:48:41.125Z"
   },
   {
    "duration": 142,
    "start_time": "2023-01-21T09:51:39.267Z"
   },
   {
    "duration": 141,
    "start_time": "2023-01-21T09:51:49.660Z"
   },
   {
    "duration": 137,
    "start_time": "2023-01-21T09:53:24.263Z"
   },
   {
    "duration": 20,
    "start_time": "2023-01-21T09:56:25.421Z"
   },
   {
    "duration": 162,
    "start_time": "2023-01-21T09:57:15.929Z"
   },
   {
    "duration": 172,
    "start_time": "2023-01-21T09:57:27.989Z"
   },
   {
    "duration": 5,
    "start_time": "2023-01-21T09:58:10.539Z"
   },
   {
    "duration": 187,
    "start_time": "2023-01-21T09:58:17.631Z"
   },
   {
    "duration": 17,
    "start_time": "2023-01-21T09:58:55.015Z"
   },
   {
    "duration": 194,
    "start_time": "2023-01-21T10:00:18.038Z"
   },
   {
    "duration": 181,
    "start_time": "2023-01-21T10:00:34.191Z"
   },
   {
    "duration": 23,
    "start_time": "2023-01-21T10:01:25.799Z"
   },
   {
    "duration": 162,
    "start_time": "2023-01-21T10:01:32.796Z"
   },
   {
    "duration": 172,
    "start_time": "2023-01-21T10:03:01.250Z"
   },
   {
    "duration": 167,
    "start_time": "2023-01-21T10:03:11.327Z"
   },
   {
    "duration": 167,
    "start_time": "2023-01-21T10:13:31.728Z"
   },
   {
    "duration": 28,
    "start_time": "2023-01-21T10:15:13.618Z"
   },
   {
    "duration": 104,
    "start_time": "2023-01-21T10:57:20.995Z"
   },
   {
    "duration": 2002,
    "start_time": "2023-01-21T10:57:25.531Z"
   },
   {
    "duration": 1807,
    "start_time": "2023-01-21T10:57:50.685Z"
   },
   {
    "duration": 21851,
    "start_time": "2023-01-21T10:58:40.004Z"
   },
   {
    "duration": 1775,
    "start_time": "2023-01-21T10:59:08.049Z"
   },
   {
    "duration": 3,
    "start_time": "2023-01-21T11:05:07.243Z"
   },
   {
    "duration": 48,
    "start_time": "2023-01-21T11:05:07.247Z"
   },
   {
    "duration": 604,
    "start_time": "2023-01-21T11:05:07.298Z"
   },
   {
    "duration": 7,
    "start_time": "2023-01-21T11:05:07.903Z"
   },
   {
    "duration": 11,
    "start_time": "2023-01-21T11:05:07.912Z"
   },
   {
    "duration": 30,
    "start_time": "2023-01-21T11:05:07.925Z"
   },
   {
    "duration": 10,
    "start_time": "2023-01-21T11:05:07.957Z"
   },
   {
    "duration": 6,
    "start_time": "2023-01-21T11:05:07.968Z"
   },
   {
    "duration": 187,
    "start_time": "2023-01-21T11:05:07.975Z"
   },
   {
    "duration": 1828,
    "start_time": "2023-01-21T11:05:08.164Z"
   },
   {
    "duration": 27,
    "start_time": "2023-01-21T11:05:09.994Z"
   },
   {
    "duration": 1125,
    "start_time": "2023-01-21T11:51:50.832Z"
   },
   {
    "duration": 48,
    "start_time": "2023-01-21T11:51:51.959Z"
   },
   {
    "duration": 811,
    "start_time": "2023-01-21T11:51:52.009Z"
   },
   {
    "duration": 6,
    "start_time": "2023-01-21T11:51:52.822Z"
   },
   {
    "duration": 23,
    "start_time": "2023-01-21T11:51:52.830Z"
   },
   {
    "duration": 23,
    "start_time": "2023-01-21T11:51:52.855Z"
   },
   {
    "duration": 13,
    "start_time": "2023-01-21T11:51:52.880Z"
   },
   {
    "duration": 8,
    "start_time": "2023-01-21T11:51:52.895Z"
   },
   {
    "duration": 175,
    "start_time": "2023-01-21T11:51:52.905Z"
   },
   {
    "duration": 1780,
    "start_time": "2023-01-21T11:51:53.082Z"
   },
   {
    "duration": 22,
    "start_time": "2023-01-21T11:51:54.863Z"
   },
   {
    "duration": 13,
    "start_time": "2023-01-21T11:52:11.027Z"
   },
   {
    "duration": 38,
    "start_time": "2023-01-21T11:53:39.902Z"
   },
   {
    "duration": 5,
    "start_time": "2023-01-21T11:55:47.573Z"
   },
   {
    "duration": 68,
    "start_time": "2023-01-21T11:55:47.581Z"
   },
   {
    "duration": 618,
    "start_time": "2023-01-21T11:55:47.651Z"
   },
   {
    "duration": 7,
    "start_time": "2023-01-21T11:55:48.271Z"
   },
   {
    "duration": 19,
    "start_time": "2023-01-21T11:55:48.279Z"
   },
   {
    "duration": 9,
    "start_time": "2023-01-21T11:55:48.300Z"
   },
   {
    "duration": 19,
    "start_time": "2023-01-21T11:55:48.310Z"
   },
   {
    "duration": 9,
    "start_time": "2023-01-21T11:55:48.331Z"
   },
   {
    "duration": 173,
    "start_time": "2023-01-21T11:55:48.353Z"
   },
   {
    "duration": 1795,
    "start_time": "2023-01-21T11:55:48.527Z"
   },
   {
    "duration": 33,
    "start_time": "2023-01-21T11:55:50.324Z"
   },
   {
    "duration": 13,
    "start_time": "2023-01-21T11:55:50.359Z"
   },
   {
    "duration": 38,
    "start_time": "2023-01-21T11:55:50.373Z"
   },
   {
    "duration": 6,
    "start_time": "2023-01-21T12:06:31.857Z"
   },
   {
    "duration": 7,
    "start_time": "2023-01-21T12:06:45.097Z"
   },
   {
    "duration": 10,
    "start_time": "2023-01-21T12:06:53.151Z"
   },
   {
    "duration": 11,
    "start_time": "2023-01-21T12:07:04.265Z"
   },
   {
    "duration": 117,
    "start_time": "2023-01-21T12:07:35.596Z"
   },
   {
    "duration": 4,
    "start_time": "2023-01-21T12:07:38.911Z"
   },
   {
    "duration": 4,
    "start_time": "2023-01-21T12:07:49.140Z"
   },
   {
    "duration": 4,
    "start_time": "2023-01-21T12:07:49.439Z"
   },
   {
    "duration": 1150,
    "start_time": "2023-01-21T12:22:15.482Z"
   },
   {
    "duration": 51,
    "start_time": "2023-01-21T12:22:16.634Z"
   },
   {
    "duration": 811,
    "start_time": "2023-01-21T12:22:16.686Z"
   },
   {
    "duration": 7,
    "start_time": "2023-01-21T12:22:17.499Z"
   },
   {
    "duration": 13,
    "start_time": "2023-01-21T12:22:17.508Z"
   },
   {
    "duration": 18,
    "start_time": "2023-01-21T12:22:17.523Z"
   },
   {
    "duration": 10,
    "start_time": "2023-01-21T12:22:17.553Z"
   },
   {
    "duration": 8,
    "start_time": "2023-01-21T12:22:17.565Z"
   },
   {
    "duration": 16,
    "start_time": "2023-01-21T12:22:17.575Z"
   },
   {
    "duration": 11,
    "start_time": "2023-01-21T12:22:17.593Z"
   },
   {
    "duration": 14,
    "start_time": "2023-01-21T12:22:17.606Z"
   },
   {
    "duration": 216,
    "start_time": "2023-01-21T12:22:17.622Z"
   },
   {
    "duration": 2012,
    "start_time": "2023-01-21T12:22:17.841Z"
   },
   {
    "duration": 25,
    "start_time": "2023-01-21T12:22:19.855Z"
   },
   {
    "duration": 13,
    "start_time": "2023-01-21T12:22:19.882Z"
   },
   {
    "duration": 61,
    "start_time": "2023-01-21T12:22:19.897Z"
   },
   {
    "duration": 1995,
    "start_time": "2023-01-21T12:47:06.406Z"
   },
   {
    "duration": 154,
    "start_time": "2023-01-21T12:47:08.404Z"
   },
   {
    "duration": 886,
    "start_time": "2023-01-21T12:47:08.560Z"
   },
   {
    "duration": 8,
    "start_time": "2023-01-21T12:47:09.448Z"
   },
   {
    "duration": 27,
    "start_time": "2023-01-21T12:47:09.457Z"
   },
   {
    "duration": 38,
    "start_time": "2023-01-21T12:47:09.486Z"
   },
   {
    "duration": 27,
    "start_time": "2023-01-21T12:47:09.527Z"
   },
   {
    "duration": 24,
    "start_time": "2023-01-21T12:47:09.556Z"
   },
   {
    "duration": 29,
    "start_time": "2023-01-21T12:47:09.582Z"
   },
   {
    "duration": 38,
    "start_time": "2023-01-21T12:47:09.614Z"
   },
   {
    "duration": 26,
    "start_time": "2023-01-21T12:47:09.654Z"
   },
   {
    "duration": 230,
    "start_time": "2023-01-21T12:47:09.682Z"
   },
   {
    "duration": 2093,
    "start_time": "2023-01-21T12:47:09.913Z"
   },
   {
    "duration": 39,
    "start_time": "2023-01-21T12:47:12.008Z"
   },
   {
    "duration": 13,
    "start_time": "2023-01-21T12:47:12.051Z"
   },
   {
    "duration": 36,
    "start_time": "2023-01-21T12:47:12.065Z"
   },
   {
    "duration": 13,
    "start_time": "2023-01-21T13:29:44.682Z"
   },
   {
    "duration": 140,
    "start_time": "2023-01-21T13:34:31.607Z"
   },
   {
    "duration": 13,
    "start_time": "2023-01-21T13:34:48.254Z"
   },
   {
    "duration": 68,
    "start_time": "2023-01-21T13:34:58.492Z"
   },
   {
    "duration": 20,
    "start_time": "2023-01-21T13:42:15.605Z"
   },
   {
    "duration": 1191,
    "start_time": "2023-01-21T13:46:05.605Z"
   },
   {
    "duration": 5,
    "start_time": "2023-01-21T13:46:14.963Z"
   },
   {
    "duration": 54,
    "start_time": "2023-01-21T13:46:18.667Z"
   },
   {
    "duration": 875,
    "start_time": "2023-01-21T13:46:18.971Z"
   },
   {
    "duration": 9,
    "start_time": "2023-01-21T13:46:19.848Z"
   },
   {
    "duration": 7,
    "start_time": "2023-01-21T13:46:19.945Z"
   },
   {
    "duration": 13,
    "start_time": "2023-01-21T13:46:20.522Z"
   },
   {
    "duration": 12,
    "start_time": "2023-01-21T13:46:21.836Z"
   },
   {
    "duration": 158,
    "start_time": "2023-01-21T13:46:22.409Z"
   },
   {
    "duration": 11,
    "start_time": "2023-01-21T13:46:27.498Z"
   },
   {
    "duration": 4,
    "start_time": "2023-01-21T13:46:27.739Z"
   },
   {
    "duration": 5,
    "start_time": "2023-01-21T13:46:27.967Z"
   },
   {
    "duration": 80,
    "start_time": "2023-01-21T13:46:28.352Z"
   },
   {
    "duration": 6,
    "start_time": "2023-01-21T13:47:37.041Z"
   },
   {
    "duration": 200,
    "start_time": "2023-01-21T13:50:14.475Z"
   },
   {
    "duration": 4,
    "start_time": "2023-01-21T13:52:46.516Z"
   },
   {
    "duration": 1566,
    "start_time": "2023-01-21T13:53:16.706Z"
   },
   {
    "duration": 1305,
    "start_time": "2023-01-21T13:54:13.799Z"
   },
   {
    "duration": 1285,
    "start_time": "2023-01-21T13:54:40.050Z"
   },
   {
    "duration": 1372,
    "start_time": "2023-01-21T13:55:21.716Z"
   },
   {
    "duration": 1324,
    "start_time": "2023-01-21T14:39:22.087Z"
   },
   {
    "duration": 571,
    "start_time": "2023-01-21T14:40:54.275Z"
   },
   {
    "duration": 1377,
    "start_time": "2023-01-21T14:42:38.956Z"
   },
   {
    "duration": 1410,
    "start_time": "2023-01-21T14:42:56.679Z"
   },
   {
    "duration": 1311,
    "start_time": "2023-01-21T14:43:22.813Z"
   },
   {
    "duration": 1368,
    "start_time": "2023-01-21T14:43:37.797Z"
   },
   {
    "duration": 703,
    "start_time": "2023-01-21T14:44:59.024Z"
   },
   {
    "duration": 1374,
    "start_time": "2023-01-21T14:46:10.319Z"
   },
   {
    "duration": 1356,
    "start_time": "2023-01-21T14:46:12.863Z"
   },
   {
    "duration": 668,
    "start_time": "2023-01-21T14:46:32.588Z"
   },
   {
    "duration": 1423,
    "start_time": "2023-01-21T14:49:53.042Z"
   },
   {
    "duration": 7,
    "start_time": "2023-01-21T14:53:12.314Z"
   },
   {
    "duration": 4,
    "start_time": "2023-01-21T14:54:31.254Z"
   },
   {
    "duration": 53,
    "start_time": "2023-01-21T14:54:31.259Z"
   },
   {
    "duration": 622,
    "start_time": "2023-01-21T14:54:31.314Z"
   },
   {
    "duration": 6,
    "start_time": "2023-01-21T14:54:31.939Z"
   },
   {
    "duration": 19,
    "start_time": "2023-01-21T14:54:31.946Z"
   },
   {
    "duration": 19,
    "start_time": "2023-01-21T14:54:31.967Z"
   },
   {
    "duration": 14,
    "start_time": "2023-01-21T14:54:31.987Z"
   },
   {
    "duration": 60,
    "start_time": "2023-01-21T14:54:32.002Z"
   },
   {
    "duration": 9,
    "start_time": "2023-01-21T14:54:32.155Z"
   },
   {
    "duration": 4,
    "start_time": "2023-01-21T14:54:32.166Z"
   },
   {
    "duration": 6,
    "start_time": "2023-01-21T14:54:32.171Z"
   },
   {
    "duration": 9,
    "start_time": "2023-01-21T14:54:32.179Z"
   },
   {
    "duration": 11,
    "start_time": "2023-01-21T14:54:32.190Z"
   },
   {
    "duration": 1333,
    "start_time": "2023-01-21T14:54:32.202Z"
   },
   {
    "duration": 80940,
    "start_time": "2023-01-21T14:54:42.934Z"
   },
   {
    "duration": 4,
    "start_time": "2023-01-21T15:00:35.646Z"
   },
   {
    "duration": 46,
    "start_time": "2023-01-21T15:00:35.651Z"
   },
   {
    "duration": 521,
    "start_time": "2023-01-21T15:00:35.699Z"
   },
   {
    "duration": 5,
    "start_time": "2023-01-21T15:00:36.223Z"
   },
   {
    "duration": 7,
    "start_time": "2023-01-21T15:00:36.231Z"
   },
   {
    "duration": 11,
    "start_time": "2023-01-21T15:00:36.254Z"
   },
   {
    "duration": 15,
    "start_time": "2023-01-21T15:00:36.267Z"
   },
   {
    "duration": 76,
    "start_time": "2023-01-21T15:00:36.283Z"
   },
   {
    "duration": 19,
    "start_time": "2023-01-21T15:00:36.452Z"
   },
   {
    "duration": 4,
    "start_time": "2023-01-21T15:00:36.473Z"
   },
   {
    "duration": 9,
    "start_time": "2023-01-21T15:00:36.479Z"
   },
   {
    "duration": 6,
    "start_time": "2023-01-21T15:00:36.489Z"
   },
   {
    "duration": 8,
    "start_time": "2023-01-21T15:00:36.496Z"
   },
   {
    "duration": 1440,
    "start_time": "2023-01-21T15:00:36.505Z"
   },
   {
    "duration": 32809,
    "start_time": "2023-01-21T15:00:37.947Z"
   },
   {
    "duration": 19,
    "start_time": "2023-01-21T15:01:10.759Z"
   },
   {
    "duration": 92,
    "start_time": "2023-01-21T15:02:34.404Z"
   },
   {
    "duration": 26,
    "start_time": "2023-01-21T15:09:38.963Z"
   },
   {
    "duration": 867,
    "start_time": "2023-01-21T15:09:57.226Z"
   },
   {
    "duration": 812,
    "start_time": "2023-01-21T15:10:08.147Z"
   },
   {
    "duration": 1916,
    "start_time": "2023-01-21T15:10:15.849Z"
   },
   {
    "duration": 1699,
    "start_time": "2023-01-21T15:11:21.674Z"
   },
   {
    "duration": 1773,
    "start_time": "2023-01-21T15:11:41.451Z"
   },
   {
    "duration": 1824,
    "start_time": "2023-01-21T15:13:11.744Z"
   },
   {
    "duration": 1811,
    "start_time": "2023-01-21T15:13:21.164Z"
   },
   {
    "duration": 873,
    "start_time": "2023-01-21T15:14:44.746Z"
   },
   {
    "duration": 1824,
    "start_time": "2023-01-21T15:14:59.807Z"
   },
   {
    "duration": 2028,
    "start_time": "2023-01-21T15:16:53.611Z"
   },
   {
    "duration": 2045,
    "start_time": "2023-01-21T15:17:07.417Z"
   },
   {
    "duration": 4,
    "start_time": "2023-01-21T15:25:49.794Z"
   },
   {
    "duration": 42,
    "start_time": "2023-01-21T15:25:49.800Z"
   },
   {
    "duration": 612,
    "start_time": "2023-01-21T15:25:49.844Z"
   },
   {
    "duration": 5,
    "start_time": "2023-01-21T15:25:50.458Z"
   },
   {
    "duration": 16,
    "start_time": "2023-01-21T15:25:50.465Z"
   },
   {
    "duration": 18,
    "start_time": "2023-01-21T15:25:50.484Z"
   },
   {
    "duration": 17,
    "start_time": "2023-01-21T15:25:50.504Z"
   },
   {
    "duration": 133,
    "start_time": "2023-01-21T15:25:50.522Z"
   },
   {
    "duration": 102,
    "start_time": "2023-01-21T15:25:50.657Z"
   },
   {
    "duration": 15,
    "start_time": "2023-01-21T15:25:50.761Z"
   },
   {
    "duration": 17,
    "start_time": "2023-01-21T15:25:50.777Z"
   },
   {
    "duration": 17,
    "start_time": "2023-01-21T15:25:50.795Z"
   },
   {
    "duration": 22,
    "start_time": "2023-01-21T15:25:50.813Z"
   },
   {
    "duration": 2039,
    "start_time": "2023-01-21T15:25:50.837Z"
   },
   {
    "duration": 32563,
    "start_time": "2023-01-21T15:25:52.879Z"
   },
   {
    "duration": 30,
    "start_time": "2023-01-21T15:26:25.443Z"
   },
   {
    "duration": 121,
    "start_time": "2023-01-21T15:26:31.597Z"
   },
   {
    "duration": 4,
    "start_time": "2023-01-21T15:37:08.674Z"
   },
   {
    "duration": 6,
    "start_time": "2023-01-21T15:43:12.143Z"
   },
   {
    "duration": 1349,
    "start_time": "2023-01-21T15:47:10.669Z"
   },
   {
    "duration": 46,
    "start_time": "2023-01-21T15:47:12.020Z"
   },
   {
    "duration": 577,
    "start_time": "2023-01-21T15:47:12.068Z"
   },
   {
    "duration": 9,
    "start_time": "2023-01-21T15:47:12.647Z"
   },
   {
    "duration": 11,
    "start_time": "2023-01-21T15:47:12.657Z"
   },
   {
    "duration": 11,
    "start_time": "2023-01-21T15:47:12.670Z"
   },
   {
    "duration": 12,
    "start_time": "2023-01-21T15:47:12.682Z"
   },
   {
    "duration": 64,
    "start_time": "2023-01-21T15:47:12.696Z"
   },
   {
    "duration": 97,
    "start_time": "2023-01-21T15:47:12.762Z"
   },
   {
    "duration": 10,
    "start_time": "2023-01-21T15:47:12.861Z"
   },
   {
    "duration": 17,
    "start_time": "2023-01-21T15:47:12.873Z"
   },
   {
    "duration": 10,
    "start_time": "2023-01-21T15:47:12.891Z"
   },
   {
    "duration": 20,
    "start_time": "2023-01-21T15:47:12.903Z"
   },
   {
    "duration": 2168,
    "start_time": "2023-01-21T15:47:12.925Z"
   },
   {
    "duration": 32337,
    "start_time": "2023-01-21T15:47:15.095Z"
   },
   {
    "duration": 34,
    "start_time": "2023-01-21T15:47:47.433Z"
   },
   {
    "duration": 149,
    "start_time": "2023-01-21T15:47:47.469Z"
   },
   {
    "duration": 5,
    "start_time": "2023-01-21T15:47:47.619Z"
   }
  ],
  "kernelspec": {
   "display_name": "Python 3 (ipykernel)",
   "language": "python",
   "name": "python3"
  },
  "language_info": {
   "codemirror_mode": {
    "name": "ipython",
    "version": 3
   },
   "file_extension": ".py",
   "mimetype": "text/x-python",
   "name": "python",
   "nbconvert_exporter": "python",
   "pygments_lexer": "ipython3",
   "version": "3.9.16"
  },
  "toc": {
   "base_numbering": 1,
   "nav_menu": {},
   "number_sections": true,
   "sideBar": true,
   "skip_h1_title": true,
   "title_cell": "Table of Contents",
   "title_sidebar": "Contents",
   "toc_cell": false,
   "toc_position": {},
   "toc_section_display": true,
   "toc_window_display": false
  },
  "varInspector": {
   "cols": {
    "lenName": 16,
    "lenType": 16,
    "lenVar": 40
   },
   "kernels_config": {
    "python": {
     "delete_cmd_postfix": "",
     "delete_cmd_prefix": "del ",
     "library": "var_list.py",
     "varRefreshCmd": "print(var_dic_list())"
    },
    "r": {
     "delete_cmd_postfix": ") ",
     "delete_cmd_prefix": "rm(",
     "library": "var_list.r",
     "varRefreshCmd": "cat(var_dic_list()) "
    }
   },
   "types_to_exclude": [
    "module",
    "function",
    "builtin_function_or_method",
    "instance",
    "_Feature"
   ],
   "window_display": false
  }
 },
 "nbformat": 4,
 "nbformat_minor": 2
}
