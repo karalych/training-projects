{
 "cells": [
  {
   "cell_type": "code",
   "execution_count": 1,
   "metadata": {},
   "outputs": [],
   "source": [
    "import warnings\n",
    "warnings.filterwarnings(\"ignore\")\n",
    "\n",
    "import pandas as pd\n",
    "import numpy as np\n",
    "import matplotlib.pyplot as plt\n",
    "from sklearn.model_selection import train_test_split\n",
    "from sklearn.preprocessing import StandardScaler\n",
    "from sklearn.linear_model import LinearRegression\n",
    "from sklearn.metrics import mean_squared_error"
   ]
  },
  {
   "cell_type": "markdown",
   "metadata": {},
   "source": [
    "## Загрузка и подготовка данных"
   ]
  },
  {
   "cell_type": "markdown",
   "metadata": {},
   "source": [
    "### Обзор данных"
   ]
  },
  {
   "cell_type": "code",
   "execution_count": 2,
   "metadata": {},
   "outputs": [],
   "source": [
    "try:\n",
    "    data_reg_1 = pd.read_csv('/datasets/geo_data_0.csv')\n",
    "    data_reg_2 = pd.read_csv('/datasets/geo_data_1.csv')\n",
    "    data_reg_3 = pd.read_csv('/datasets/geo_data_2.csv')\n",
    "except:\n",
    "    data_reg_1 = pd.read_csv('geo_data_0.csv')\n",
    "    data_reg_2 = pd.read_csv('geo_data_1.csv')\n",
    "    data_reg_3 = pd.read_csv('geo_data_2.csv')"
   ]
  },
  {
   "cell_type": "code",
   "execution_count": 3,
   "metadata": {},
   "outputs": [],
   "source": [
    "data = {}\n",
    "\n",
    "data['Регион 1'] = data_reg_1\n",
    "data['Регион 2'] = data_reg_2\n",
    "data['Регион 3'] = data_reg_3"
   ]
  },
  {
   "cell_type": "code",
   "execution_count": 4,
   "metadata": {},
   "outputs": [
    {
     "name": "stdout",
     "output_type": "stream",
     "text": [
      "\n",
      " Регион 1 \n",
      "\n",
      "<class 'pandas.core.frame.DataFrame'>\n",
      "RangeIndex: 100000 entries, 0 to 99999\n",
      "Data columns (total 5 columns):\n",
      " #   Column   Non-Null Count   Dtype  \n",
      "---  ------   --------------   -----  \n",
      " 0   id       100000 non-null  object \n",
      " 1   f0       100000 non-null  float64\n",
      " 2   f1       100000 non-null  float64\n",
      " 3   f2       100000 non-null  float64\n",
      " 4   product  100000 non-null  float64\n",
      "dtypes: float64(4), object(1)\n",
      "memory usage: 3.8+ MB\n"
     ]
    },
    {
     "data": {
      "text/html": [
       "<div>\n",
       "<style scoped>\n",
       "    .dataframe tbody tr th:only-of-type {\n",
       "        vertical-align: middle;\n",
       "    }\n",
       "\n",
       "    .dataframe tbody tr th {\n",
       "        vertical-align: top;\n",
       "    }\n",
       "\n",
       "    .dataframe thead th {\n",
       "        text-align: right;\n",
       "    }\n",
       "</style>\n",
       "<table border=\"1\" class=\"dataframe\">\n",
       "  <thead>\n",
       "    <tr style=\"text-align: right;\">\n",
       "      <th></th>\n",
       "      <th>id</th>\n",
       "      <th>f0</th>\n",
       "      <th>f1</th>\n",
       "      <th>f2</th>\n",
       "      <th>product</th>\n",
       "    </tr>\n",
       "  </thead>\n",
       "  <tbody>\n",
       "    <tr>\n",
       "      <th>0</th>\n",
       "      <td>txEyH</td>\n",
       "      <td>0.705745</td>\n",
       "      <td>-0.497823</td>\n",
       "      <td>1.221170</td>\n",
       "      <td>105.280062</td>\n",
       "    </tr>\n",
       "    <tr>\n",
       "      <th>1</th>\n",
       "      <td>2acmU</td>\n",
       "      <td>1.334711</td>\n",
       "      <td>-0.340164</td>\n",
       "      <td>4.365080</td>\n",
       "      <td>73.037750</td>\n",
       "    </tr>\n",
       "    <tr>\n",
       "      <th>2</th>\n",
       "      <td>409Wp</td>\n",
       "      <td>1.022732</td>\n",
       "      <td>0.151990</td>\n",
       "      <td>1.419926</td>\n",
       "      <td>85.265647</td>\n",
       "    </tr>\n",
       "    <tr>\n",
       "      <th>3</th>\n",
       "      <td>iJLyR</td>\n",
       "      <td>-0.032172</td>\n",
       "      <td>0.139033</td>\n",
       "      <td>2.978566</td>\n",
       "      <td>168.620776</td>\n",
       "    </tr>\n",
       "    <tr>\n",
       "      <th>4</th>\n",
       "      <td>Xdl7t</td>\n",
       "      <td>1.988431</td>\n",
       "      <td>0.155413</td>\n",
       "      <td>4.751769</td>\n",
       "      <td>154.036647</td>\n",
       "    </tr>\n",
       "  </tbody>\n",
       "</table>\n",
       "</div>"
      ],
      "text/plain": [
       "      id        f0        f1        f2     product\n",
       "0  txEyH  0.705745 -0.497823  1.221170  105.280062\n",
       "1  2acmU  1.334711 -0.340164  4.365080   73.037750\n",
       "2  409Wp  1.022732  0.151990  1.419926   85.265647\n",
       "3  iJLyR -0.032172  0.139033  2.978566  168.620776\n",
       "4  Xdl7t  1.988431  0.155413  4.751769  154.036647"
      ]
     },
     "metadata": {},
     "output_type": "display_data"
    },
    {
     "name": "stdout",
     "output_type": "stream",
     "text": [
      "\n",
      " Регион 2 \n",
      "\n",
      "<class 'pandas.core.frame.DataFrame'>\n",
      "RangeIndex: 100000 entries, 0 to 99999\n",
      "Data columns (total 5 columns):\n",
      " #   Column   Non-Null Count   Dtype  \n",
      "---  ------   --------------   -----  \n",
      " 0   id       100000 non-null  object \n",
      " 1   f0       100000 non-null  float64\n",
      " 2   f1       100000 non-null  float64\n",
      " 3   f2       100000 non-null  float64\n",
      " 4   product  100000 non-null  float64\n",
      "dtypes: float64(4), object(1)\n",
      "memory usage: 3.8+ MB\n"
     ]
    },
    {
     "data": {
      "text/html": [
       "<div>\n",
       "<style scoped>\n",
       "    .dataframe tbody tr th:only-of-type {\n",
       "        vertical-align: middle;\n",
       "    }\n",
       "\n",
       "    .dataframe tbody tr th {\n",
       "        vertical-align: top;\n",
       "    }\n",
       "\n",
       "    .dataframe thead th {\n",
       "        text-align: right;\n",
       "    }\n",
       "</style>\n",
       "<table border=\"1\" class=\"dataframe\">\n",
       "  <thead>\n",
       "    <tr style=\"text-align: right;\">\n",
       "      <th></th>\n",
       "      <th>id</th>\n",
       "      <th>f0</th>\n",
       "      <th>f1</th>\n",
       "      <th>f2</th>\n",
       "      <th>product</th>\n",
       "    </tr>\n",
       "  </thead>\n",
       "  <tbody>\n",
       "    <tr>\n",
       "      <th>0</th>\n",
       "      <td>kBEdx</td>\n",
       "      <td>-15.001348</td>\n",
       "      <td>-8.276000</td>\n",
       "      <td>-0.005876</td>\n",
       "      <td>3.179103</td>\n",
       "    </tr>\n",
       "    <tr>\n",
       "      <th>1</th>\n",
       "      <td>62mP7</td>\n",
       "      <td>14.272088</td>\n",
       "      <td>-3.475083</td>\n",
       "      <td>0.999183</td>\n",
       "      <td>26.953261</td>\n",
       "    </tr>\n",
       "    <tr>\n",
       "      <th>2</th>\n",
       "      <td>vyE1P</td>\n",
       "      <td>6.263187</td>\n",
       "      <td>-5.948386</td>\n",
       "      <td>5.001160</td>\n",
       "      <td>134.766305</td>\n",
       "    </tr>\n",
       "    <tr>\n",
       "      <th>3</th>\n",
       "      <td>KcrkZ</td>\n",
       "      <td>-13.081196</td>\n",
       "      <td>-11.506057</td>\n",
       "      <td>4.999415</td>\n",
       "      <td>137.945408</td>\n",
       "    </tr>\n",
       "    <tr>\n",
       "      <th>4</th>\n",
       "      <td>AHL4O</td>\n",
       "      <td>12.702195</td>\n",
       "      <td>-8.147433</td>\n",
       "      <td>5.004363</td>\n",
       "      <td>134.766305</td>\n",
       "    </tr>\n",
       "  </tbody>\n",
       "</table>\n",
       "</div>"
      ],
      "text/plain": [
       "      id         f0         f1        f2     product\n",
       "0  kBEdx -15.001348  -8.276000 -0.005876    3.179103\n",
       "1  62mP7  14.272088  -3.475083  0.999183   26.953261\n",
       "2  vyE1P   6.263187  -5.948386  5.001160  134.766305\n",
       "3  KcrkZ -13.081196 -11.506057  4.999415  137.945408\n",
       "4  AHL4O  12.702195  -8.147433  5.004363  134.766305"
      ]
     },
     "metadata": {},
     "output_type": "display_data"
    },
    {
     "name": "stdout",
     "output_type": "stream",
     "text": [
      "\n",
      " Регион 3 \n",
      "\n",
      "<class 'pandas.core.frame.DataFrame'>\n",
      "RangeIndex: 100000 entries, 0 to 99999\n",
      "Data columns (total 5 columns):\n",
      " #   Column   Non-Null Count   Dtype  \n",
      "---  ------   --------------   -----  \n",
      " 0   id       100000 non-null  object \n",
      " 1   f0       100000 non-null  float64\n",
      " 2   f1       100000 non-null  float64\n",
      " 3   f2       100000 non-null  float64\n",
      " 4   product  100000 non-null  float64\n",
      "dtypes: float64(4), object(1)\n",
      "memory usage: 3.8+ MB\n"
     ]
    },
    {
     "data": {
      "text/html": [
       "<div>\n",
       "<style scoped>\n",
       "    .dataframe tbody tr th:only-of-type {\n",
       "        vertical-align: middle;\n",
       "    }\n",
       "\n",
       "    .dataframe tbody tr th {\n",
       "        vertical-align: top;\n",
       "    }\n",
       "\n",
       "    .dataframe thead th {\n",
       "        text-align: right;\n",
       "    }\n",
       "</style>\n",
       "<table border=\"1\" class=\"dataframe\">\n",
       "  <thead>\n",
       "    <tr style=\"text-align: right;\">\n",
       "      <th></th>\n",
       "      <th>id</th>\n",
       "      <th>f0</th>\n",
       "      <th>f1</th>\n",
       "      <th>f2</th>\n",
       "      <th>product</th>\n",
       "    </tr>\n",
       "  </thead>\n",
       "  <tbody>\n",
       "    <tr>\n",
       "      <th>0</th>\n",
       "      <td>fwXo0</td>\n",
       "      <td>-1.146987</td>\n",
       "      <td>0.963328</td>\n",
       "      <td>-0.828965</td>\n",
       "      <td>27.758673</td>\n",
       "    </tr>\n",
       "    <tr>\n",
       "      <th>1</th>\n",
       "      <td>WJtFt</td>\n",
       "      <td>0.262778</td>\n",
       "      <td>0.269839</td>\n",
       "      <td>-2.530187</td>\n",
       "      <td>56.069697</td>\n",
       "    </tr>\n",
       "    <tr>\n",
       "      <th>2</th>\n",
       "      <td>ovLUW</td>\n",
       "      <td>0.194587</td>\n",
       "      <td>0.289035</td>\n",
       "      <td>-5.586433</td>\n",
       "      <td>62.871910</td>\n",
       "    </tr>\n",
       "    <tr>\n",
       "      <th>3</th>\n",
       "      <td>q6cA6</td>\n",
       "      <td>2.236060</td>\n",
       "      <td>-0.553760</td>\n",
       "      <td>0.930038</td>\n",
       "      <td>114.572842</td>\n",
       "    </tr>\n",
       "    <tr>\n",
       "      <th>4</th>\n",
       "      <td>WPMUX</td>\n",
       "      <td>-0.515993</td>\n",
       "      <td>1.716266</td>\n",
       "      <td>5.899011</td>\n",
       "      <td>149.600746</td>\n",
       "    </tr>\n",
       "  </tbody>\n",
       "</table>\n",
       "</div>"
      ],
      "text/plain": [
       "      id        f0        f1        f2     product\n",
       "0  fwXo0 -1.146987  0.963328 -0.828965   27.758673\n",
       "1  WJtFt  0.262778  0.269839 -2.530187   56.069697\n",
       "2  ovLUW  0.194587  0.289035 -5.586433   62.871910\n",
       "3  q6cA6  2.236060 -0.553760  0.930038  114.572842\n",
       "4  WPMUX -0.515993  1.716266  5.899011  149.600746"
      ]
     },
     "metadata": {},
     "output_type": "display_data"
    }
   ],
   "source": [
    "for key in data:\n",
    "    print('\\n', key, '\\n')\n",
    "    data[key].info()\n",
    "    display(data[key].head())"
   ]
  },
  {
   "cell_type": "markdown",
   "metadata": {},
   "source": [
    "Все типы данных и названия колонок определены правильно, по условию, нам важны три признака `f0`, `f1`, `f2`, а от колонки `id` можно избавится, но для начала проверим данные на простые дубликаты."
   ]
  },
  {
   "cell_type": "markdown",
   "metadata": {},
   "source": [
    "### Предобработка "
   ]
  },
  {
   "cell_type": "markdown",
   "metadata": {},
   "source": [
    "Приведем все ID к нижнему регистру для проверки."
   ]
  },
  {
   "cell_type": "code",
   "execution_count": 5,
   "metadata": {},
   "outputs": [
    {
     "name": "stdout",
     "output_type": "stream",
     "text": [
      "Всего дубликатов в Регион 1: 0\n",
      "Всего дубликатов в Регион 2: 0\n",
      "Всего дубликатов в Регион 3: 0\n"
     ]
    }
   ],
   "source": [
    "for key in data:\n",
    "    data[key]['id'] = data[key]['id'].str.lower()\n",
    "    print(f'Всего дубликатов в {key}:', data[key].duplicated().sum())"
   ]
  },
  {
   "cell_type": "markdown",
   "metadata": {},
   "source": [
    "В данных нет простых дубликатов. Предобработка не требуется."
   ]
  },
  {
   "cell_type": "markdown",
   "metadata": {},
   "source": [
    "### Изучение данных\n",
    "\n",
    "Посмотрим на распределение признаков и их взаимную корреляцию."
   ]
  },
  {
   "cell_type": "code",
   "execution_count": 6,
   "metadata": {},
   "outputs": [
    {
     "name": "stdout",
     "output_type": "stream",
     "text": [
      "Регион 1\n"
     ]
    },
    {
     "data": {
      "text/html": [
       "<div>\n",
       "<style scoped>\n",
       "    .dataframe tbody tr th:only-of-type {\n",
       "        vertical-align: middle;\n",
       "    }\n",
       "\n",
       "    .dataframe tbody tr th {\n",
       "        vertical-align: top;\n",
       "    }\n",
       "\n",
       "    .dataframe thead th {\n",
       "        text-align: right;\n",
       "    }\n",
       "</style>\n",
       "<table border=\"1\" class=\"dataframe\">\n",
       "  <thead>\n",
       "    <tr style=\"text-align: right;\">\n",
       "      <th></th>\n",
       "      <th>f0</th>\n",
       "      <th>f1</th>\n",
       "      <th>f2</th>\n",
       "      <th>product</th>\n",
       "    </tr>\n",
       "  </thead>\n",
       "  <tbody>\n",
       "    <tr>\n",
       "      <th>f0</th>\n",
       "      <td>1.000000</td>\n",
       "      <td>-0.440723</td>\n",
       "      <td>-0.003153</td>\n",
       "      <td>0.143536</td>\n",
       "    </tr>\n",
       "    <tr>\n",
       "      <th>f1</th>\n",
       "      <td>-0.440723</td>\n",
       "      <td>1.000000</td>\n",
       "      <td>0.001724</td>\n",
       "      <td>-0.192356</td>\n",
       "    </tr>\n",
       "    <tr>\n",
       "      <th>f2</th>\n",
       "      <td>-0.003153</td>\n",
       "      <td>0.001724</td>\n",
       "      <td>1.000000</td>\n",
       "      <td>0.483663</td>\n",
       "    </tr>\n",
       "    <tr>\n",
       "      <th>product</th>\n",
       "      <td>0.143536</td>\n",
       "      <td>-0.192356</td>\n",
       "      <td>0.483663</td>\n",
       "      <td>1.000000</td>\n",
       "    </tr>\n",
       "  </tbody>\n",
       "</table>\n",
       "</div>"
      ],
      "text/plain": [
       "               f0        f1        f2   product\n",
       "f0       1.000000 -0.440723 -0.003153  0.143536\n",
       "f1      -0.440723  1.000000  0.001724 -0.192356\n",
       "f2      -0.003153  0.001724  1.000000  0.483663\n",
       "product  0.143536 -0.192356  0.483663  1.000000"
      ]
     },
     "metadata": {},
     "output_type": "display_data"
    },
    {
     "name": "stdout",
     "output_type": "stream",
     "text": [
      "Регион 2\n"
     ]
    },
    {
     "data": {
      "text/html": [
       "<div>\n",
       "<style scoped>\n",
       "    .dataframe tbody tr th:only-of-type {\n",
       "        vertical-align: middle;\n",
       "    }\n",
       "\n",
       "    .dataframe tbody tr th {\n",
       "        vertical-align: top;\n",
       "    }\n",
       "\n",
       "    .dataframe thead th {\n",
       "        text-align: right;\n",
       "    }\n",
       "</style>\n",
       "<table border=\"1\" class=\"dataframe\">\n",
       "  <thead>\n",
       "    <tr style=\"text-align: right;\">\n",
       "      <th></th>\n",
       "      <th>f0</th>\n",
       "      <th>f1</th>\n",
       "      <th>f2</th>\n",
       "      <th>product</th>\n",
       "    </tr>\n",
       "  </thead>\n",
       "  <tbody>\n",
       "    <tr>\n",
       "      <th>f0</th>\n",
       "      <td>1.000000</td>\n",
       "      <td>0.182287</td>\n",
       "      <td>-0.001777</td>\n",
       "      <td>-0.030491</td>\n",
       "    </tr>\n",
       "    <tr>\n",
       "      <th>f1</th>\n",
       "      <td>0.182287</td>\n",
       "      <td>1.000000</td>\n",
       "      <td>-0.002595</td>\n",
       "      <td>-0.010155</td>\n",
       "    </tr>\n",
       "    <tr>\n",
       "      <th>f2</th>\n",
       "      <td>-0.001777</td>\n",
       "      <td>-0.002595</td>\n",
       "      <td>1.000000</td>\n",
       "      <td>0.999397</td>\n",
       "    </tr>\n",
       "    <tr>\n",
       "      <th>product</th>\n",
       "      <td>-0.030491</td>\n",
       "      <td>-0.010155</td>\n",
       "      <td>0.999397</td>\n",
       "      <td>1.000000</td>\n",
       "    </tr>\n",
       "  </tbody>\n",
       "</table>\n",
       "</div>"
      ],
      "text/plain": [
       "               f0        f1        f2   product\n",
       "f0       1.000000  0.182287 -0.001777 -0.030491\n",
       "f1       0.182287  1.000000 -0.002595 -0.010155\n",
       "f2      -0.001777 -0.002595  1.000000  0.999397\n",
       "product -0.030491 -0.010155  0.999397  1.000000"
      ]
     },
     "metadata": {},
     "output_type": "display_data"
    },
    {
     "name": "stdout",
     "output_type": "stream",
     "text": [
      "Регион 3\n"
     ]
    },
    {
     "data": {
      "text/html": [
       "<div>\n",
       "<style scoped>\n",
       "    .dataframe tbody tr th:only-of-type {\n",
       "        vertical-align: middle;\n",
       "    }\n",
       "\n",
       "    .dataframe tbody tr th {\n",
       "        vertical-align: top;\n",
       "    }\n",
       "\n",
       "    .dataframe thead th {\n",
       "        text-align: right;\n",
       "    }\n",
       "</style>\n",
       "<table border=\"1\" class=\"dataframe\">\n",
       "  <thead>\n",
       "    <tr style=\"text-align: right;\">\n",
       "      <th></th>\n",
       "      <th>f0</th>\n",
       "      <th>f1</th>\n",
       "      <th>f2</th>\n",
       "      <th>product</th>\n",
       "    </tr>\n",
       "  </thead>\n",
       "  <tbody>\n",
       "    <tr>\n",
       "      <th>f0</th>\n",
       "      <td>1.000000</td>\n",
       "      <td>0.000528</td>\n",
       "      <td>-0.000448</td>\n",
       "      <td>-0.001987</td>\n",
       "    </tr>\n",
       "    <tr>\n",
       "      <th>f1</th>\n",
       "      <td>0.000528</td>\n",
       "      <td>1.000000</td>\n",
       "      <td>0.000779</td>\n",
       "      <td>-0.001012</td>\n",
       "    </tr>\n",
       "    <tr>\n",
       "      <th>f2</th>\n",
       "      <td>-0.000448</td>\n",
       "      <td>0.000779</td>\n",
       "      <td>1.000000</td>\n",
       "      <td>0.445871</td>\n",
       "    </tr>\n",
       "    <tr>\n",
       "      <th>product</th>\n",
       "      <td>-0.001987</td>\n",
       "      <td>-0.001012</td>\n",
       "      <td>0.445871</td>\n",
       "      <td>1.000000</td>\n",
       "    </tr>\n",
       "  </tbody>\n",
       "</table>\n",
       "</div>"
      ],
      "text/plain": [
       "               f0        f1        f2   product\n",
       "f0       1.000000  0.000528 -0.000448 -0.001987\n",
       "f1       0.000528  1.000000  0.000779 -0.001012\n",
       "f2      -0.000448  0.000779  1.000000  0.445871\n",
       "product -0.001987 -0.001012  0.445871  1.000000"
      ]
     },
     "metadata": {},
     "output_type": "display_data"
    }
   ],
   "source": [
    "for key in data:\n",
    "    print(key)\n",
    "    display(data[key].corr())"
   ]
  },
  {
   "cell_type": "markdown",
   "metadata": {},
   "source": [
    "Значительной корреляции между признаками не наблюдаестя (кроме `f2` и `product` в регионе 2)"
   ]
  },
  {
   "cell_type": "code",
   "execution_count": 7,
   "metadata": {
    "scrolled": false
   },
   "outputs": [
    {
     "data": {
      "image/png": "[encoded data removed]",
      "text/plain": [
       "<Figure size 432x288 with 4 Axes>"
      ]
     },
     "metadata": {
      "needs_background": "light"
     },
     "output_type": "display_data"
    },
    {
     "data": {
      "image/png": "[encoded data removed]",
      "text/plain": [
       "<Figure size 432x288 with 4 Axes>"
      ]
     },
     "metadata": {
      "needs_background": "light"
     },
     "output_type": "display_data"
    },
    {
     "data": {
      "image/png": "[encoded data removed]",
      "text/plain": [
       "<Figure size 432x288 with 4 Axes>"
      ]
     },
     "metadata": {
      "needs_background": "light"
     },
     "output_type": "display_data"
    }
   ],
   "source": [
    "for key in data:\n",
    "    figs, axs = plt.subplots(2, 2, constrained_layout=True)\n",
    "    figs.suptitle(f'{key}', fontsize=12)\n",
    "    data[key].hist(bins=20, figsize=(10, 8), ax=axs)\n",
    "    plt.tight_layout()\n",
    "    plt.show()"
   ]
  },
  {
   "cell_type": "code",
   "execution_count": 8,
   "metadata": {},
   "outputs": [
    {
     "name": "stdout",
     "output_type": "stream",
     "text": [
      "\n",
      " Регион 1\n"
     ]
    },
    {
     "data": {
      "text/html": [
       "<div>\n",
       "<style scoped>\n",
       "    .dataframe tbody tr th:only-of-type {\n",
       "        vertical-align: middle;\n",
       "    }\n",
       "\n",
       "    .dataframe tbody tr th {\n",
       "        vertical-align: top;\n",
       "    }\n",
       "\n",
       "    .dataframe thead th {\n",
       "        text-align: right;\n",
       "    }\n",
       "</style>\n",
       "<table border=\"1\" class=\"dataframe\">\n",
       "  <thead>\n",
       "    <tr style=\"text-align: right;\">\n",
       "      <th></th>\n",
       "      <th>count</th>\n",
       "      <th>mean</th>\n",
       "      <th>std</th>\n",
       "      <th>min</th>\n",
       "      <th>25%</th>\n",
       "      <th>50%</th>\n",
       "      <th>75%</th>\n",
       "      <th>max</th>\n",
       "    </tr>\n",
       "  </thead>\n",
       "  <tbody>\n",
       "    <tr>\n",
       "      <th>f0</th>\n",
       "      <td>100000.0</td>\n",
       "      <td>0.500419</td>\n",
       "      <td>0.871832</td>\n",
       "      <td>-1.408605</td>\n",
       "      <td>-0.072580</td>\n",
       "      <td>0.502360</td>\n",
       "      <td>1.073581</td>\n",
       "      <td>2.362331</td>\n",
       "    </tr>\n",
       "    <tr>\n",
       "      <th>f1</th>\n",
       "      <td>100000.0</td>\n",
       "      <td>0.250143</td>\n",
       "      <td>0.504433</td>\n",
       "      <td>-0.848218</td>\n",
       "      <td>-0.200881</td>\n",
       "      <td>0.250252</td>\n",
       "      <td>0.700646</td>\n",
       "      <td>1.343769</td>\n",
       "    </tr>\n",
       "    <tr>\n",
       "      <th>f2</th>\n",
       "      <td>100000.0</td>\n",
       "      <td>2.502647</td>\n",
       "      <td>3.248248</td>\n",
       "      <td>-12.088328</td>\n",
       "      <td>0.287748</td>\n",
       "      <td>2.515969</td>\n",
       "      <td>4.715088</td>\n",
       "      <td>16.003790</td>\n",
       "    </tr>\n",
       "    <tr>\n",
       "      <th>product</th>\n",
       "      <td>100000.0</td>\n",
       "      <td>92.500000</td>\n",
       "      <td>44.288691</td>\n",
       "      <td>0.000000</td>\n",
       "      <td>56.497507</td>\n",
       "      <td>91.849972</td>\n",
       "      <td>128.564089</td>\n",
       "      <td>185.364347</td>\n",
       "    </tr>\n",
       "  </tbody>\n",
       "</table>\n",
       "</div>"
      ],
      "text/plain": [
       "            count       mean        std        min        25%        50%  \\\n",
       "f0       100000.0   0.500419   0.871832  -1.408605  -0.072580   0.502360   \n",
       "f1       100000.0   0.250143   0.504433  -0.848218  -0.200881   0.250252   \n",
       "f2       100000.0   2.502647   3.248248 -12.088328   0.287748   2.515969   \n",
       "product  100000.0  92.500000  44.288691   0.000000  56.497507  91.849972   \n",
       "\n",
       "                75%         max  \n",
       "f0         1.073581    2.362331  \n",
       "f1         0.700646    1.343769  \n",
       "f2         4.715088   16.003790  \n",
       "product  128.564089  185.364347  "
      ]
     },
     "metadata": {},
     "output_type": "display_data"
    },
    {
     "name": "stdout",
     "output_type": "stream",
     "text": [
      "\n",
      " Регион 2\n"
     ]
    },
    {
     "data": {
      "text/html": [
       "<div>\n",
       "<style scoped>\n",
       "    .dataframe tbody tr th:only-of-type {\n",
       "        vertical-align: middle;\n",
       "    }\n",
       "\n",
       "    .dataframe tbody tr th {\n",
       "        vertical-align: top;\n",
       "    }\n",
       "\n",
       "    .dataframe thead th {\n",
       "        text-align: right;\n",
       "    }\n",
       "</style>\n",
       "<table border=\"1\" class=\"dataframe\">\n",
       "  <thead>\n",
       "    <tr style=\"text-align: right;\">\n",
       "      <th></th>\n",
       "      <th>count</th>\n",
       "      <th>mean</th>\n",
       "      <th>std</th>\n",
       "      <th>min</th>\n",
       "      <th>25%</th>\n",
       "      <th>50%</th>\n",
       "      <th>75%</th>\n",
       "      <th>max</th>\n",
       "    </tr>\n",
       "  </thead>\n",
       "  <tbody>\n",
       "    <tr>\n",
       "      <th>f0</th>\n",
       "      <td>100000.0</td>\n",
       "      <td>1.141296</td>\n",
       "      <td>8.965932</td>\n",
       "      <td>-31.609576</td>\n",
       "      <td>-6.298551</td>\n",
       "      <td>1.153055</td>\n",
       "      <td>8.621015</td>\n",
       "      <td>29.421755</td>\n",
       "    </tr>\n",
       "    <tr>\n",
       "      <th>f1</th>\n",
       "      <td>100000.0</td>\n",
       "      <td>-4.796579</td>\n",
       "      <td>5.119872</td>\n",
       "      <td>-26.358598</td>\n",
       "      <td>-8.267985</td>\n",
       "      <td>-4.813172</td>\n",
       "      <td>-1.332816</td>\n",
       "      <td>18.734063</td>\n",
       "    </tr>\n",
       "    <tr>\n",
       "      <th>f2</th>\n",
       "      <td>100000.0</td>\n",
       "      <td>2.494541</td>\n",
       "      <td>1.703572</td>\n",
       "      <td>-0.018144</td>\n",
       "      <td>1.000021</td>\n",
       "      <td>2.011479</td>\n",
       "      <td>3.999904</td>\n",
       "      <td>5.019721</td>\n",
       "    </tr>\n",
       "    <tr>\n",
       "      <th>product</th>\n",
       "      <td>100000.0</td>\n",
       "      <td>68.825000</td>\n",
       "      <td>45.944423</td>\n",
       "      <td>0.000000</td>\n",
       "      <td>26.953261</td>\n",
       "      <td>57.085625</td>\n",
       "      <td>107.813044</td>\n",
       "      <td>137.945408</td>\n",
       "    </tr>\n",
       "  </tbody>\n",
       "</table>\n",
       "</div>"
      ],
      "text/plain": [
       "            count       mean        std        min        25%        50%  \\\n",
       "f0       100000.0   1.141296   8.965932 -31.609576  -6.298551   1.153055   \n",
       "f1       100000.0  -4.796579   5.119872 -26.358598  -8.267985  -4.813172   \n",
       "f2       100000.0   2.494541   1.703572  -0.018144   1.000021   2.011479   \n",
       "product  100000.0  68.825000  45.944423   0.000000  26.953261  57.085625   \n",
       "\n",
       "                75%         max  \n",
       "f0         8.621015   29.421755  \n",
       "f1        -1.332816   18.734063  \n",
       "f2         3.999904    5.019721  \n",
       "product  107.813044  137.945408  "
      ]
     },
     "metadata": {},
     "output_type": "display_data"
    },
    {
     "name": "stdout",
     "output_type": "stream",
     "text": [
      "\n",
      " Регион 3\n"
     ]
    },
    {
     "data": {
      "text/html": [
       "<div>\n",
       "<style scoped>\n",
       "    .dataframe tbody tr th:only-of-type {\n",
       "        vertical-align: middle;\n",
       "    }\n",
       "\n",
       "    .dataframe tbody tr th {\n",
       "        vertical-align: top;\n",
       "    }\n",
       "\n",
       "    .dataframe thead th {\n",
       "        text-align: right;\n",
       "    }\n",
       "</style>\n",
       "<table border=\"1\" class=\"dataframe\">\n",
       "  <thead>\n",
       "    <tr style=\"text-align: right;\">\n",
       "      <th></th>\n",
       "      <th>count</th>\n",
       "      <th>mean</th>\n",
       "      <th>std</th>\n",
       "      <th>min</th>\n",
       "      <th>25%</th>\n",
       "      <th>50%</th>\n",
       "      <th>75%</th>\n",
       "      <th>max</th>\n",
       "    </tr>\n",
       "  </thead>\n",
       "  <tbody>\n",
       "    <tr>\n",
       "      <th>f0</th>\n",
       "      <td>100000.0</td>\n",
       "      <td>0.002023</td>\n",
       "      <td>1.732045</td>\n",
       "      <td>-8.760004</td>\n",
       "      <td>-1.162288</td>\n",
       "      <td>0.009424</td>\n",
       "      <td>1.158535</td>\n",
       "      <td>7.238262</td>\n",
       "    </tr>\n",
       "    <tr>\n",
       "      <th>f1</th>\n",
       "      <td>100000.0</td>\n",
       "      <td>-0.002081</td>\n",
       "      <td>1.730417</td>\n",
       "      <td>-7.084020</td>\n",
       "      <td>-1.174820</td>\n",
       "      <td>-0.009482</td>\n",
       "      <td>1.163678</td>\n",
       "      <td>7.844801</td>\n",
       "    </tr>\n",
       "    <tr>\n",
       "      <th>f2</th>\n",
       "      <td>100000.0</td>\n",
       "      <td>2.495128</td>\n",
       "      <td>3.473445</td>\n",
       "      <td>-11.970335</td>\n",
       "      <td>0.130359</td>\n",
       "      <td>2.484236</td>\n",
       "      <td>4.858794</td>\n",
       "      <td>16.739402</td>\n",
       "    </tr>\n",
       "    <tr>\n",
       "      <th>product</th>\n",
       "      <td>100000.0</td>\n",
       "      <td>95.000000</td>\n",
       "      <td>44.749921</td>\n",
       "      <td>0.000000</td>\n",
       "      <td>59.450441</td>\n",
       "      <td>94.925613</td>\n",
       "      <td>130.595027</td>\n",
       "      <td>190.029838</td>\n",
       "    </tr>\n",
       "  </tbody>\n",
       "</table>\n",
       "</div>"
      ],
      "text/plain": [
       "            count       mean        std        min        25%        50%  \\\n",
       "f0       100000.0   0.002023   1.732045  -8.760004  -1.162288   0.009424   \n",
       "f1       100000.0  -0.002081   1.730417  -7.084020  -1.174820  -0.009482   \n",
       "f2       100000.0   2.495128   3.473445 -11.970335   0.130359   2.484236   \n",
       "product  100000.0  95.000000  44.749921   0.000000  59.450441  94.925613   \n",
       "\n",
       "                75%         max  \n",
       "f0         1.158535    7.238262  \n",
       "f1         1.163678    7.844801  \n",
       "f2         4.858794   16.739402  \n",
       "product  130.595027  190.029838  "
      ]
     },
     "metadata": {},
     "output_type": "display_data"
    }
   ],
   "source": [
    "for key in data:\n",
    "    print('\\n', key)\n",
    "    display(data[key].describe().T)"
   ]
  },
  {
   "cell_type": "markdown",
   "metadata": {},
   "source": [
    "Данные не масштабированные, необходимо исправить это при подготовке."
   ]
  },
  {
   "cell_type": "markdown",
   "metadata": {},
   "source": [
    "### Подготовка"
   ]
  },
  {
   "cell_type": "markdown",
   "metadata": {},
   "source": [
    "От колонки `id` можно избавится, так как в ней вряд ли есть необходимая нам информация. Также необходимо разделить признаки на обучающие и целевые, разделить выборки на обучающую и валидационную, провести масштабирование количественных признаков."
   ]
  },
  {
   "cell_type": "markdown",
   "metadata": {},
   "source": [
    "#### Очистка данных"
   ]
  },
  {
   "cell_type": "markdown",
   "metadata": {},
   "source": [
    "Вначале почистим данные."
   ]
  },
  {
   "cell_type": "code",
   "execution_count": 9,
   "metadata": {},
   "outputs": [],
   "source": [
    "for key in data:\n",
    "    data[key] = data[key].drop(['id'], axis=1)"
   ]
  },
  {
   "cell_type": "markdown",
   "metadata": {},
   "source": [
    "#### Разделение выборок"
   ]
  },
  {
   "cell_type": "markdown",
   "metadata": {},
   "source": [
    "Теперь разделим признаки на обучающие и целевые. В нашем случае, целевой признак - запасы нефти в скважине `product`."
   ]
  },
  {
   "cell_type": "code",
   "execution_count": 10,
   "metadata": {},
   "outputs": [],
   "source": [
    "features = {}\n",
    "target = {}\n",
    "\n",
    "features_train = {}\n",
    "features_valid = {}\n",
    "target_train = {}\n",
    "target_valid = {}\n",
    "\n",
    "for key in data:\n",
    "    features[key] = data[key].drop(['product'], axis=1)\n",
    "    target[key] = data[key]['product']\n",
    "    features_train[key], features_valid[key], target_train[key], target_valid[key] = train_test_split(\n",
    "        features[key], target[key], test_size=0.25, random_state=7)\n",
    "    features_train[key] = features_train[key].reset_index(drop=True)\n",
    "    features_valid[key] = features_valid[key].reset_index(drop=True)\n",
    "    target_train[key] = target_train[key].reset_index(drop=True)\n",
    "    target_valid[key] = target_valid[key].reset_index(drop=True)"
   ]
  },
  {
   "cell_type": "code",
   "execution_count": 11,
   "metadata": {
    "scrolled": true
   },
   "outputs": [
    {
     "name": "stdout",
     "output_type": "stream",
     "text": [
      "Регион 1\n",
      "Обучающая выборка: признаки (75000, 3)\n",
      "Валидационная выборка: признаки (25000, 3)\n",
      "\n",
      "Обучающая выборка: цель (75000,)\n",
      "Валидационная выборка: цель (25000,)\n",
      "\n",
      "Регион 2\n",
      "Обучающая выборка: признаки (75000, 3)\n",
      "Валидационная выборка: признаки (25000, 3)\n",
      "\n",
      "Обучающая выборка: цель (75000,)\n",
      "Валидационная выборка: цель (25000,)\n",
      "\n",
      "Регион 3\n",
      "Обучающая выборка: признаки (75000, 3)\n",
      "Валидационная выборка: признаки (25000, 3)\n",
      "\n",
      "Обучающая выборка: цель (75000,)\n",
      "Валидационная выборка: цель (25000,)\n",
      "\n"
     ]
    }
   ],
   "source": [
    "for key in features:\n",
    "    print(f'{key}')\n",
    "    print('Обучающая выборка: признаки', features_train[key].shape)\n",
    "    print('Валидационная выборка: признаки', features_valid[key].shape)\n",
    "    print('')\n",
    "    print('Обучающая выборка: цель', target_train[key].shape)\n",
    "    print('Валидационная выборка: цель', target_valid[key].shape)\n",
    "    print('')"
   ]
  },
  {
   "cell_type": "markdown",
   "metadata": {},
   "source": [
    "#### Масштабирование"
   ]
  },
  {
   "cell_type": "markdown",
   "metadata": {},
   "source": [
    "Проведем масштабирование численных признаков"
   ]
  },
  {
   "cell_type": "code",
   "execution_count": 12,
   "metadata": {},
   "outputs": [],
   "source": [
    "numeric_columns = ['f0', 'f1', 'f2']"
   ]
  },
  {
   "cell_type": "code",
   "execution_count": 13,
   "metadata": {
    "scrolled": true
   },
   "outputs": [],
   "source": [
    "for key in features:\n",
    "    scaler = StandardScaler()\n",
    "    scaler.fit(features_train[key][numeric_columns])\n",
    "    \n",
    "    features_train[key][numeric_columns] = scaler.transform(features_train[key][numeric_columns])\n",
    "    features_valid[key][numeric_columns] = scaler.transform(features_valid[key][numeric_columns])"
   ]
  },
  {
   "cell_type": "code",
   "execution_count": 14,
   "metadata": {},
   "outputs": [
    {
     "name": "stdout",
     "output_type": "stream",
     "text": [
      "\n",
      " Регион 1\n"
     ]
    },
    {
     "data": {
      "text/html": [
       "<div>\n",
       "<style scoped>\n",
       "    .dataframe tbody tr th:only-of-type {\n",
       "        vertical-align: middle;\n",
       "    }\n",
       "\n",
       "    .dataframe tbody tr th {\n",
       "        vertical-align: top;\n",
       "    }\n",
       "\n",
       "    .dataframe thead th {\n",
       "        text-align: right;\n",
       "    }\n",
       "</style>\n",
       "<table border=\"1\" class=\"dataframe\">\n",
       "  <thead>\n",
       "    <tr style=\"text-align: right;\">\n",
       "      <th></th>\n",
       "      <th>count</th>\n",
       "      <th>mean</th>\n",
       "      <th>std</th>\n",
       "      <th>min</th>\n",
       "      <th>25%</th>\n",
       "      <th>50%</th>\n",
       "      <th>75%</th>\n",
       "      <th>max</th>\n",
       "    </tr>\n",
       "  </thead>\n",
       "  <tbody>\n",
       "    <tr>\n",
       "      <th>f0</th>\n",
       "      <td>75000.0</td>\n",
       "      <td>-1.052314e-16</td>\n",
       "      <td>1.000007</td>\n",
       "      <td>-2.190477</td>\n",
       "      <td>-0.655668</td>\n",
       "      <td>-0.000315</td>\n",
       "      <td>0.656121</td>\n",
       "      <td>2.110681</td>\n",
       "    </tr>\n",
       "    <tr>\n",
       "      <th>f1</th>\n",
       "      <td>75000.0</td>\n",
       "      <td>5.456968e-17</td>\n",
       "      <td>1.000007</td>\n",
       "      <td>-2.172589</td>\n",
       "      <td>-0.894598</td>\n",
       "      <td>-0.000283</td>\n",
       "      <td>0.894505</td>\n",
       "      <td>2.163132</td>\n",
       "    </tr>\n",
       "    <tr>\n",
       "      <th>f2</th>\n",
       "      <td>75000.0</td>\n",
       "      <td>6.818842e-17</td>\n",
       "      <td>1.000007</td>\n",
       "      <td>-4.487017</td>\n",
       "      <td>-0.683397</td>\n",
       "      <td>0.005767</td>\n",
       "      <td>0.683476</td>\n",
       "      <td>4.150236</td>\n",
       "    </tr>\n",
       "  </tbody>\n",
       "</table>\n",
       "</div>"
      ],
      "text/plain": [
       "      count          mean       std       min       25%       50%       75%  \\\n",
       "f0  75000.0 -1.052314e-16  1.000007 -2.190477 -0.655668 -0.000315  0.656121   \n",
       "f1  75000.0  5.456968e-17  1.000007 -2.172589 -0.894598 -0.000283  0.894505   \n",
       "f2  75000.0  6.818842e-17  1.000007 -4.487017 -0.683397  0.005767  0.683476   \n",
       "\n",
       "         max  \n",
       "f0  2.110681  \n",
       "f1  2.163132  \n",
       "f2  4.150236  "
      ]
     },
     "metadata": {},
     "output_type": "display_data"
    },
    {
     "name": "stdout",
     "output_type": "stream",
     "text": [
      "\n",
      " Регион 2\n"
     ]
    },
    {
     "data": {
      "text/html": [
       "<div>\n",
       "<style scoped>\n",
       "    .dataframe tbody tr th:only-of-type {\n",
       "        vertical-align: middle;\n",
       "    }\n",
       "\n",
       "    .dataframe tbody tr th {\n",
       "        vertical-align: top;\n",
       "    }\n",
       "\n",
       "    .dataframe thead th {\n",
       "        text-align: right;\n",
       "    }\n",
       "</style>\n",
       "<table border=\"1\" class=\"dataframe\">\n",
       "  <thead>\n",
       "    <tr style=\"text-align: right;\">\n",
       "      <th></th>\n",
       "      <th>count</th>\n",
       "      <th>mean</th>\n",
       "      <th>std</th>\n",
       "      <th>min</th>\n",
       "      <th>25%</th>\n",
       "      <th>50%</th>\n",
       "      <th>75%</th>\n",
       "      <th>max</th>\n",
       "    </tr>\n",
       "  </thead>\n",
       "  <tbody>\n",
       "    <tr>\n",
       "      <th>f0</th>\n",
       "      <td>75000.0</td>\n",
       "      <td>-1.378453e-17</td>\n",
       "      <td>1.000007</td>\n",
       "      <td>-3.647548</td>\n",
       "      <td>-0.830663</td>\n",
       "      <td>0.000976</td>\n",
       "      <td>0.834382</td>\n",
       "      <td>3.145717</td>\n",
       "    </tr>\n",
       "    <tr>\n",
       "      <th>f1</th>\n",
       "      <td>75000.0</td>\n",
       "      <td>-1.230660e-16</td>\n",
       "      <td>1.000007</td>\n",
       "      <td>-4.213514</td>\n",
       "      <td>-0.677769</td>\n",
       "      <td>-0.004569</td>\n",
       "      <td>0.676204</td>\n",
       "      <td>4.595606</td>\n",
       "    </tr>\n",
       "    <tr>\n",
       "      <th>f2</th>\n",
       "      <td>75000.0</td>\n",
       "      <td>2.373213e-17</td>\n",
       "      <td>1.000007</td>\n",
       "      <td>-1.474667</td>\n",
       "      <td>-0.877255</td>\n",
       "      <td>-0.283751</td>\n",
       "      <td>0.883355</td>\n",
       "      <td>1.481878</td>\n",
       "    </tr>\n",
       "  </tbody>\n",
       "</table>\n",
       "</div>"
      ],
      "text/plain": [
       "      count          mean       std       min       25%       50%       75%  \\\n",
       "f0  75000.0 -1.378453e-17  1.000007 -3.647548 -0.830663  0.000976  0.834382   \n",
       "f1  75000.0 -1.230660e-16  1.000007 -4.213514 -0.677769 -0.004569  0.676204   \n",
       "f2  75000.0  2.373213e-17  1.000007 -1.474667 -0.877255 -0.283751  0.883355   \n",
       "\n",
       "         max  \n",
       "f0  3.145717  \n",
       "f1  4.595606  \n",
       "f2  1.481878  "
      ]
     },
     "metadata": {},
     "output_type": "display_data"
    },
    {
     "name": "stdout",
     "output_type": "stream",
     "text": [
      "\n",
      " Регион 3\n"
     ]
    },
    {
     "data": {
      "text/html": [
       "<div>\n",
       "<style scoped>\n",
       "    .dataframe tbody tr th:only-of-type {\n",
       "        vertical-align: middle;\n",
       "    }\n",
       "\n",
       "    .dataframe tbody tr th {\n",
       "        vertical-align: top;\n",
       "    }\n",
       "\n",
       "    .dataframe thead th {\n",
       "        text-align: right;\n",
       "    }\n",
       "</style>\n",
       "<table border=\"1\" class=\"dataframe\">\n",
       "  <thead>\n",
       "    <tr style=\"text-align: right;\">\n",
       "      <th></th>\n",
       "      <th>count</th>\n",
       "      <th>mean</th>\n",
       "      <th>std</th>\n",
       "      <th>min</th>\n",
       "      <th>25%</th>\n",
       "      <th>50%</th>\n",
       "      <th>75%</th>\n",
       "      <th>max</th>\n",
       "    </tr>\n",
       "  </thead>\n",
       "  <tbody>\n",
       "    <tr>\n",
       "      <th>f0</th>\n",
       "      <td>75000.0</td>\n",
       "      <td>-5.802766e-18</td>\n",
       "      <td>1.000007</td>\n",
       "      <td>-5.058747</td>\n",
       "      <td>-0.670875</td>\n",
       "      <td>0.003187</td>\n",
       "      <td>0.669080</td>\n",
       "      <td>4.172532</td>\n",
       "    </tr>\n",
       "    <tr>\n",
       "      <th>f1</th>\n",
       "      <td>75000.0</td>\n",
       "      <td>-2.993753e-17</td>\n",
       "      <td>1.000007</td>\n",
       "      <td>-4.087357</td>\n",
       "      <td>-0.678492</td>\n",
       "      <td>-0.005341</td>\n",
       "      <td>0.676618</td>\n",
       "      <td>4.534743</td>\n",
       "    </tr>\n",
       "    <tr>\n",
       "      <th>f2</th>\n",
       "      <td>75000.0</td>\n",
       "      <td>2.993753e-17</td>\n",
       "      <td>1.000007</td>\n",
       "      <td>-4.162670</td>\n",
       "      <td>-0.677446</td>\n",
       "      <td>-0.002774</td>\n",
       "      <td>0.679060</td>\n",
       "      <td>4.093727</td>\n",
       "    </tr>\n",
       "  </tbody>\n",
       "</table>\n",
       "</div>"
      ],
      "text/plain": [
       "      count          mean       std       min       25%       50%       75%  \\\n",
       "f0  75000.0 -5.802766e-18  1.000007 -5.058747 -0.670875  0.003187  0.669080   \n",
       "f1  75000.0 -2.993753e-17  1.000007 -4.087357 -0.678492 -0.005341  0.676618   \n",
       "f2  75000.0  2.993753e-17  1.000007 -4.162670 -0.677446 -0.002774  0.679060   \n",
       "\n",
       "         max  \n",
       "f0  4.172532  \n",
       "f1  4.534743  \n",
       "f2  4.093727  "
      ]
     },
     "metadata": {},
     "output_type": "display_data"
    }
   ],
   "source": [
    "for key in features:\n",
    "    print('\\n', key)\n",
    "    display(features_train[key].describe().T)"
   ]
  },
  {
   "cell_type": "markdown",
   "metadata": {},
   "source": [
    "### Вывод\n",
    "\n",
    " * Данные чистые, типы правильные, простых дубликатов и пропусков нет\n",
    " * Подготовили данные: избавились от колонки `id`, разделили на обучающую и валидационную выборки в соотношении 75:25, произвели масштабирование признаков."
   ]
  },
  {
   "cell_type": "markdown",
   "metadata": {},
   "source": [
    "## Обучение и проверка модели"
   ]
  },
  {
   "cell_type": "markdown",
   "metadata": {},
   "source": [
    "По условию нам подходит только модель линейной регрессии, обучим ее и проверим на валидационной выборке. Правильные ответы и предсказания необходимо сохранить по условию задачи."
   ]
  },
  {
   "cell_type": "markdown",
   "metadata": {},
   "source": [
    "### Обучение моделей по регионам"
   ]
  },
  {
   "cell_type": "code",
   "execution_count": 15,
   "metadata": {
    "scrolled": false
   },
   "outputs": [
    {
     "name": "stdout",
     "output_type": "stream",
     "text": [
      "Регион 1\n",
      "RMSE: 37.61698862149409\n",
      "Mean oil reserves: 92.50122097236377 \n",
      "\n",
      "Регион 2\n",
      "RMSE: 0.8901574284390847\n",
      "Mean oil reserves: 68.81713795297324 \n",
      "\n",
      "Регион 3\n",
      "RMSE: 39.92612735265435\n",
      "Mean oil reserves: 94.82396409311703 \n",
      "\n"
     ]
    }
   ],
   "source": [
    "pred = {}\n",
    "rmse = []\n",
    "pred_res = []\n",
    "\n",
    "model = LinearRegression()\n",
    "for key in features:\n",
    "    model.fit(features_train[key], target_train[key])\n",
    "    pred[key] = pd.Series(model.predict(features_valid[key]))\n",
    "    rmse.append(mean_squared_error(target_valid[key], pred[key]) ** 0.5)\n",
    "    pred_res.append(pred[key].mean())\n",
    "    print(f'{key}')\n",
    "    print('RMSE:', mean_squared_error(target_valid[key], pred[key]) ** 0.5)\n",
    "    print('Mean oil reserves:', pred[key].mean(), '\\n')"
   ]
  },
  {
   "cell_type": "markdown",
   "metadata": {},
   "source": [
    "### Вывод"
   ]
  },
  {
   "cell_type": "markdown",
   "metadata": {},
   "source": [
    "Наблюдаем достаточно интересную картину.\n",
    "\n",
    "В первом и третьем регионах примерно одинаковые средние предсказанные запасы, но довольно высокая средняя квадратичная ошибка - почти 40% от предсказанных значений.\n",
    "\n",
    "Во втором региона средние запасы меньше примерно на четверть, но RMSE всего около 1%, то есть, точность предсказаний во 2 регионе намного выше.\n",
    "\n",
    "Интересно, что покажут нам расчеты прибыли."
   ]
  },
  {
   "cell_type": "markdown",
   "metadata": {},
   "source": [
    "## Подготовка к расчёту прибыли"
   ]
  },
  {
   "cell_type": "markdown",
   "metadata": {},
   "source": [
    "Подготовимся к расчету прибыли: сохраним все ключевые значения для расчётов в отдельных переменных и рассчитаем достаточный объём сырья для безубыточной разработки новой скважины.\n",
    "\n",
    "Затем сравним полученный объём сырья со средним запасом в каждом регионе.\n",
    "\n",
    "Объявим функцию, с помощью которой будем считать прибыль по выбранным скважинам и предсказаниям модели."
   ]
  },
  {
   "cell_type": "markdown",
   "metadata": {},
   "source": [
    "### Определение среднего объема для безубыточной работы"
   ]
  },
  {
   "cell_type": "markdown",
   "metadata": {},
   "source": [
    "Для расчетов нам нужны:\n",
    " - стартовый капитал на бурение скважин - `IN_CAP`\n",
    " - количество скважин, которые будут пробурены - `WELL_COUNT`\n",
    " - стоимость 1 единицы продукта, 1000 баррелей нефти - `OIL_PRICE`"
   ]
  },
  {
   "cell_type": "code",
   "execution_count": 16,
   "metadata": {},
   "outputs": [],
   "source": [
    "IN_CAP = 10 * 10 ** 9\n",
    "WELL_COUNT = 200\n",
    "OIL_PRICE = 450_000"
   ]
  },
  {
   "cell_type": "markdown",
   "metadata": {},
   "source": [
    "Теперь вычислим, при каком объеме извлекаемых запасов в скважине, она окупится."
   ]
  },
  {
   "cell_type": "code",
   "execution_count": 17,
   "metadata": {},
   "outputs": [],
   "source": [
    "zero_income_vol = IN_CAP / (WELL_COUNT * OIL_PRICE)"
   ]
  },
  {
   "cell_type": "code",
   "execution_count": 18,
   "metadata": {},
   "outputs": [
    {
     "data": {
      "text/plain": [
       "111.11111111111111"
      ]
     },
     "execution_count": 18,
     "metadata": {},
     "output_type": "execute_result"
    }
   ],
   "source": [
    "zero_income_vol"
   ]
  },
  {
   "cell_type": "markdown",
   "metadata": {},
   "source": [
    "**Вывод:** для безубыточой работы необходимо, чтобы в среднем в каждой из 200 скважин было 111.(1) тыс. баррелей извлекаемых запасов. По прогнозу, ни в одном регионе среднее значение запасов не достигает этого значения. Но в регионах 10 000 скважин, нам достаточно, чтобы только 200 были такими, так что будем изучать прибыли."
   ]
  },
  {
   "cell_type": "markdown",
   "metadata": {},
   "source": [
    "### Функция для расчета прибыли"
   ]
  },
  {
   "cell_type": "markdown",
   "metadata": {},
   "source": [
    "Объявим функцию для расчёта прибыли по выбранным скважинам и предсказаниям модели, которая:\n",
    " - Выберет скважины с максимальными значениями предсказаний. \n",
    " - Просуммирует целевое значение объёма сырья, соответствующее этим предсказаниям.\n",
    " - Рассчитает прибыль для полученного объёма сырья."
   ]
  },
  {
   "cell_type": "code",
   "execution_count": 73,
   "metadata": {},
   "outputs": [],
   "source": [
    "def oil_income(predictions, targets, well_count, oil_price, in_cap):\n",
    "    '''\n",
    "    Функция считает прибыль от первых well_count предсказанных скважин. \n",
    "        predictions - датасет с предсказаниями\n",
    "        targets - датасет с истиными параметрами\n",
    "        well_count - количество скважин\n",
    "        in_cap - начальный капитал: расходы на бурение скважин\n",
    "    '''\n",
    "    best_well = predictions[~predictions.index.duplicated(keep='first')]\n",
    "    best_well = best_well.sort_values(ascending=False)[:well_count]\n",
    "    oil_volume = targets[best_well.index][:well_count].values\n",
    "    return pd.Series(oil_volume).sum() * oil_price - in_cap"
   ]
  },
  {
   "cell_type": "markdown",
   "metadata": {},
   "source": [
    "## Расчёт прибыли и рисков "
   ]
  },
  {
   "cell_type": "markdown",
   "metadata": {},
   "source": [
    "По каждому региону необходимо применить технику Бутсреп с 1000 выборок чтобы найти распределение прибыли. По условию, размер выборки - 500 скважин.\n",
    "\n",
    "Затем, оценим среднюю прибыль в регионе, найдем 95% доверительный интервал и посчитаем риск убытков (то есть, вероятность  отрицательной прибыли)"
   ]
  },
  {
   "cell_type": "markdown",
   "metadata": {},
   "source": [
    "### Расчет прибыли техникой Bootstrap"
   ]
  },
  {
   "cell_type": "code",
   "execution_count": 64,
   "metadata": {},
   "outputs": [],
   "source": [
    "state = np.random.RandomState(7)"
   ]
  },
  {
   "cell_type": "code",
   "execution_count": 75,
   "metadata": {
    "scrolled": true
   },
   "outputs": [
    {
     "name": "stdout",
     "output_type": "stream",
     "text": [
      "CPU times: user 3.93 s, sys: 0 ns, total: 3.93 s\n",
      "Wall time: 3.93 s\n"
     ]
    }
   ],
   "source": [
    "%%time\n",
    "bootstrap_samples = 1000\n",
    "\n",
    "pred_income = {}\n",
    "for key in pred:\n",
    "    pred_income[key] = []\n",
    "    for i in range(bootstrap_samples):\n",
    "        pred_subsample = pred[key].sample(n=500, replace=True, random_state=state)\n",
    "        target_subsample = target_valid[key][pred_subsample.index]\n",
    "        pred_income[key].append(oil_income(pred_subsample, target_subsample, WELL_COUNT, OIL_PRICE, IN_CAP))\n",
    "    pred_income[key] = pd.Series(pred_income[key])"
   ]
  },
  {
   "cell_type": "markdown",
   "metadata": {},
   "source": [
    "### Обзор средней прибыли и 95%-квантили"
   ]
  },
  {
   "cell_type": "code",
   "execution_count": 88,
   "metadata": {},
   "outputs": [
    {
     "name": "stdout",
     "output_type": "stream",
     "text": [
      "Регион 1\n",
      "Средняя прибыль: 438200000.0   95% квантиль: [-80200000.0 - 935600000.0]   Вероятность убытков в %: 5.04 \n",
      "\n",
      "Регион 2\n",
      "Средняя прибыль: 438700000.0   95% квантиль: [31000000.0 - 813800000.0]   Вероятность убытков в %: 1.63 \n",
      "\n",
      "Регион 3\n",
      "Средняя прибыль: 352200000.0   95% квантиль: [-155100000.0 - 863100000.0]   Вероятность убытков в %: 10.62 \n",
      "\n"
     ]
    }
   ],
   "source": [
    "for key in pred_income:\n",
    "    print(f'{key}')\n",
    "    print('Средняя прибыль:', \n",
    "          pred_income[key].mean().round(-5), \n",
    "          '  95% квантиль:', \n",
    "          f'[{pred_income[key].quantile(0.025).round(-5)} - {pred_income[key].quantile(0.975).round(-5)}]',\n",
    "          '  Вероятность убытков в %:',\n",
    "          f'{(pred_income[key].lt(0).sum() / pred_income[key].ge(0).sum() * 100).round(2)}', \n",
    "          '\\n')"
   ]
  },
  {
   "cell_type": "markdown",
   "metadata": {},
   "source": [
    "| Регион      | Средняя прибыль млн. руб. | 95% квантиль, млн. руб. | Вероятность убытков, % |\n",
    "| ----------- | ------------------------- | ------------------------| ---------------------- |\n",
    "| Регион 1    | 438.2                     | -80.2 - 935.6           | 5.04                   |\n",
    "| Регион 2    | 438.7                     | 31.0 - 813.8            | 1.63                   |\n",
    "| Регион 3    | 352.2                     | -155.1 - 863.1          | 10.62                  |"
   ]
  },
  {
   "cell_type": "markdown",
   "metadata": {},
   "source": [
    "### Вывод"
   ]
  },
  {
   "cell_type": "markdown",
   "metadata": {},
   "source": [
    "Из вероятности убытко видно, что лишь 2 регион подходит под условия задачи - только в нем вероятность убытков ниже 2,5%.\n",
    "\n",
    "Значит, стоит порекомендовать бурение новых скважин по 2 регионе, средняя прибыль на 1 скважину составит 438.7 млн. рублей."
   ]
  },
  {
   "cell_type": "markdown",
   "metadata": {},
   "source": [
    "## Вывод"
   ]
  },
  {
   "cell_type": "markdown",
   "metadata": {},
   "source": [
    "Были изучены 3 разных региона с целью определить, где бурить новые скважины.\n",
    "\n",
    "Данные оказались чистыми, без дубликатов и не требовали предобработки. Для дальнейшей работы, они были разделены на обучающую и валидационную выборки в соотношении 3:1 и отмасштабированы.\n",
    "\n",
    "По условию задачи, на каждом регионе в отдельности была обучена модель линейной регрессии. По метрике `RMSE` наилучшая точность прогноза была достигнута в **регионе 2**.\n",
    "\n",
    "Для расчета прибыли и рисков на каждом регионе была использована техника Bootstrap с 1000 выборок по 500 скважин. По условию задачи, на основе прогноза модели выбирались 200 лучших и по ним подсчитывалась реальная прибыль по известным данным.\n",
    "\n",
    "Результаты применения техники сведены в таблице ниже:"
   ]
  },
  {
   "cell_type": "markdown",
   "metadata": {},
   "source": [
    "| Регион      | Средняя прибыль млн. руб. | 95% квантиль, млн. руб. | Вероятность убытков, % |\n",
    "| ----------- | ------------------------- | ------------------------| ---------------------- |\n",
    "| Регион 1    | 438.2                     | -80.2 - 935.6           | 5.04                   |\n",
    "| Регион 2    | 438.7                     | 31.0 - 813.8            | 1.63                   |\n",
    "| Регион 3    | 352.2                     | -155.1 - 863.1          | 10.62                  |"
   ]
  },
  {
   "cell_type": "markdown",
   "metadata": {},
   "source": [
    "С учетом поставленных условий (вероятность убытка <2,5% и максимальная средняя прибыль) для бурения новых скважин можно порекомендовать **Регион 2**."
   ]
  }
 ],
 "metadata": {
  "ExecuteTimeLog": [
   {
    "duration": 459,
    "start_time": "2023-02-09T08:43:55.993Z"
   },
   {
    "duration": 3,
    "start_time": "2023-02-09T08:47:39.496Z"
   },
   {
    "duration": 47,
    "start_time": "2023-02-09T08:51:16.425Z"
   },
   {
    "duration": 1661,
    "start_time": "2023-02-09T08:53:54.086Z"
   },
   {
    "duration": 57,
    "start_time": "2023-02-09T08:54:59.581Z"
   },
   {
    "duration": 402,
    "start_time": "2023-02-09T08:57:27.875Z"
   },
   {
    "duration": 17,
    "start_time": "2023-02-09T08:57:56.370Z"
   },
   {
    "duration": 34,
    "start_time": "2023-02-09T08:58:14.410Z"
   },
   {
    "duration": 26,
    "start_time": "2023-02-09T08:58:22.334Z"
   },
   {
    "duration": 27,
    "start_time": "2023-02-09T08:58:42.398Z"
   },
   {
    "duration": 26,
    "start_time": "2023-02-09T08:58:52.170Z"
   },
   {
    "duration": 29,
    "start_time": "2023-02-09T08:58:56.822Z"
   },
   {
    "duration": 42,
    "start_time": "2023-02-09T08:59:45.365Z"
   },
   {
    "duration": 43,
    "start_time": "2023-02-09T09:00:14.971Z"
   },
   {
    "duration": 40,
    "start_time": "2023-02-09T09:00:35.284Z"
   },
   {
    "duration": 18,
    "start_time": "2023-02-09T09:00:50.029Z"
   },
   {
    "duration": 10,
    "start_time": "2023-02-09T09:01:00.728Z"
   },
   {
    "duration": 9,
    "start_time": "2023-02-09T09:01:08.466Z"
   },
   {
    "duration": 51,
    "start_time": "2023-02-09T09:04:15.565Z"
   },
   {
    "duration": 147,
    "start_time": "2023-02-09T09:05:16.472Z"
   },
   {
    "duration": 88,
    "start_time": "2023-02-09T09:05:50.881Z"
   },
   {
    "duration": 245,
    "start_time": "2023-02-09T09:05:54.467Z"
   },
   {
    "duration": 50,
    "start_time": "2023-02-09T09:07:57.290Z"
   },
   {
    "duration": 35,
    "start_time": "2023-02-09T09:09:04.299Z"
   },
   {
    "duration": 20,
    "start_time": "2023-02-09T09:10:23.709Z"
   },
   {
    "duration": 15,
    "start_time": "2023-02-09T09:11:28.170Z"
   },
   {
    "duration": 15,
    "start_time": "2023-02-09T09:11:28.767Z"
   },
   {
    "duration": 16,
    "start_time": "2023-02-09T09:11:29.370Z"
   },
   {
    "duration": 954,
    "start_time": "2023-02-09T09:12:44.960Z"
   },
   {
    "duration": 610,
    "start_time": "2023-02-09T09:13:16.427Z"
   },
   {
    "duration": 545,
    "start_time": "2023-02-09T09:13:17.038Z"
   },
   {
    "duration": 72,
    "start_time": "2023-02-09T09:13:54.674Z"
   },
   {
    "duration": 45,
    "start_time": "2023-02-09T09:14:01.089Z"
   },
   {
    "duration": 41,
    "start_time": "2023-02-09T09:14:23.028Z"
   },
   {
    "duration": 38,
    "start_time": "2023-02-09T09:14:23.178Z"
   },
   {
    "duration": 2,
    "start_time": "2023-02-09T09:18:02.296Z"
   },
   {
    "duration": 16,
    "start_time": "2023-02-09T09:18:14.200Z"
   },
   {
    "duration": 2,
    "start_time": "2023-02-09T09:22:29.630Z"
   },
   {
    "duration": 44,
    "start_time": "2023-02-09T09:22:30.391Z"
   },
   {
    "duration": 38,
    "start_time": "2023-02-09T09:22:55.604Z"
   },
   {
    "duration": 84,
    "start_time": "2023-02-09T09:24:00.869Z"
   },
   {
    "duration": 12,
    "start_time": "2023-02-09T09:24:03.970Z"
   },
   {
    "duration": 4,
    "start_time": "2023-02-09T09:24:25.866Z"
   },
   {
    "duration": 10,
    "start_time": "2023-02-09T09:24:45.673Z"
   },
   {
    "duration": 13,
    "start_time": "2023-02-09T09:25:03.679Z"
   },
   {
    "duration": 11,
    "start_time": "2023-02-09T09:26:34.471Z"
   },
   {
    "duration": 47,
    "start_time": "2023-02-09T09:26:46.971Z"
   },
   {
    "duration": 7,
    "start_time": "2023-02-09T09:26:53.566Z"
   },
   {
    "duration": 18,
    "start_time": "2023-02-09T09:30:21.117Z"
   },
   {
    "duration": 3,
    "start_time": "2023-02-09T09:30:24.136Z"
   },
   {
    "duration": 48,
    "start_time": "2023-02-09T09:30:24.468Z"
   },
   {
    "duration": 3,
    "start_time": "2023-02-09T09:30:55.247Z"
   },
   {
    "duration": 36,
    "start_time": "2023-02-09T09:31:50.334Z"
   },
   {
    "duration": 39,
    "start_time": "2023-02-09T09:32:04.895Z"
   },
   {
    "duration": 47,
    "start_time": "2023-02-09T09:32:25.663Z"
   },
   {
    "duration": 7,
    "start_time": "2023-02-09T09:32:43.104Z"
   },
   {
    "duration": 4,
    "start_time": "2023-02-09T09:32:49.873Z"
   },
   {
    "duration": 14,
    "start_time": "2023-02-09T09:33:39.770Z"
   },
   {
    "duration": 50,
    "start_time": "2023-02-09T09:33:48.992Z"
   },
   {
    "duration": 11,
    "start_time": "2023-02-09T09:33:52.372Z"
   },
   {
    "duration": 10,
    "start_time": "2023-02-09T09:33:56.336Z"
   },
   {
    "duration": 10,
    "start_time": "2023-02-09T09:34:03.427Z"
   },
   {
    "duration": 10,
    "start_time": "2023-02-09T09:34:04.934Z"
   },
   {
    "duration": 85,
    "start_time": "2023-02-09T09:34:18.097Z"
   },
   {
    "duration": 4,
    "start_time": "2023-02-09T09:34:44.438Z"
   },
   {
    "duration": 67,
    "start_time": "2023-02-09T09:34:44.999Z"
   },
   {
    "duration": 429,
    "start_time": "2023-02-09T09:35:50.623Z"
   },
   {
    "duration": 399,
    "start_time": "2023-02-09T09:35:51.909Z"
   },
   {
    "duration": 3,
    "start_time": "2023-02-09T09:35:52.310Z"
   },
   {
    "duration": 70,
    "start_time": "2023-02-09T09:35:53.025Z"
   },
   {
    "duration": 94,
    "start_time": "2023-02-09T09:35:56.166Z"
   },
   {
    "duration": 14,
    "start_time": "2023-02-09T09:36:05.888Z"
   },
   {
    "duration": 223,
    "start_time": "2023-02-09T09:36:39.171Z"
   },
   {
    "duration": 25,
    "start_time": "2023-02-09T09:37:07.638Z"
   },
   {
    "duration": 41,
    "start_time": "2023-02-09T09:37:15.928Z"
   },
   {
    "duration": 39,
    "start_time": "2023-02-09T09:37:34.325Z"
   },
   {
    "duration": 47,
    "start_time": "2023-02-09T09:37:39.428Z"
   },
   {
    "duration": 2019,
    "start_time": "2023-02-09T09:37:59.660Z"
   },
   {
    "duration": 1681,
    "start_time": "2023-02-09T09:38:05.180Z"
   },
   {
    "duration": 63,
    "start_time": "2023-02-09T09:38:12.721Z"
   },
   {
    "duration": 56,
    "start_time": "2023-02-09T09:38:15.330Z"
   },
   {
    "duration": 1784,
    "start_time": "2023-02-09T09:38:18.105Z"
   },
   {
    "duration": 1744,
    "start_time": "2023-02-09T09:38:39.068Z"
   },
   {
    "duration": 1085,
    "start_time": "2023-02-09T09:41:53.108Z"
   },
   {
    "duration": 767,
    "start_time": "2023-02-09T09:43:07.537Z"
   },
   {
    "duration": 515,
    "start_time": "2023-02-09T09:48:52.138Z"
   },
   {
    "duration": 527,
    "start_time": "2023-02-09T09:48:58.871Z"
   },
   {
    "duration": 1744,
    "start_time": "2023-02-09T09:49:10.863Z"
   },
   {
    "duration": 91,
    "start_time": "2023-02-09T09:50:02.362Z"
   },
   {
    "duration": 125,
    "start_time": "2023-02-09T09:50:12.063Z"
   },
   {
    "duration": 120,
    "start_time": "2023-02-09T09:50:22.531Z"
   },
   {
    "duration": 5,
    "start_time": "2023-02-09T09:52:06.803Z"
   },
   {
    "duration": 1756,
    "start_time": "2023-02-09T09:52:38.315Z"
   },
   {
    "duration": 351,
    "start_time": "2023-02-09T10:00:42.999Z"
   },
   {
    "duration": 1847,
    "start_time": "2023-02-09T10:01:37.804Z"
   },
   {
    "duration": 1732,
    "start_time": "2023-02-09T10:03:21.911Z"
   },
   {
    "duration": 3,
    "start_time": "2023-02-09T10:10:21.424Z"
   },
   {
    "duration": 1467,
    "start_time": "2023-02-09T10:15:12.170Z"
   },
   {
    "duration": 1663,
    "start_time": "2023-02-09T10:15:25.567Z"
   },
   {
    "duration": 1937,
    "start_time": "2023-02-09T10:16:02.866Z"
   },
   {
    "duration": 654,
    "start_time": "2023-02-09T10:16:40.868Z"
   },
   {
    "duration": 1942,
    "start_time": "2023-02-09T10:16:46.370Z"
   },
   {
    "duration": 1734,
    "start_time": "2023-02-09T10:16:57.450Z"
   },
   {
    "duration": 10,
    "start_time": "2023-02-09T10:19:47.936Z"
   },
   {
    "duration": 10,
    "start_time": "2023-02-09T10:19:48.977Z"
   },
   {
    "duration": 12,
    "start_time": "2023-02-09T11:01:22.910Z"
   },
   {
    "duration": 768,
    "start_time": "2023-02-09T11:04:47.924Z"
   },
   {
    "duration": 47,
    "start_time": "2023-02-09T11:11:47.601Z"
   },
   {
    "duration": 40,
    "start_time": "2023-02-09T11:12:02.375Z"
   },
   {
    "duration": 10,
    "start_time": "2023-02-09T11:12:29.979Z"
   },
   {
    "duration": 5,
    "start_time": "2023-02-09T11:12:48.302Z"
   },
   {
    "duration": 7,
    "start_time": "2023-02-09T11:16:11.295Z"
   },
   {
    "duration": 8,
    "start_time": "2023-02-09T11:16:23.250Z"
   },
   {
    "duration": 7,
    "start_time": "2023-02-09T11:16:36.840Z"
   },
   {
    "duration": 4,
    "start_time": "2023-02-09T11:17:09.698Z"
   },
   {
    "duration": 29,
    "start_time": "2023-02-09T11:22:26.533Z"
   },
   {
    "duration": 15,
    "start_time": "2023-02-09T11:22:56.068Z"
   },
   {
    "duration": 9,
    "start_time": "2023-02-09T11:23:08.642Z"
   },
   {
    "duration": 7,
    "start_time": "2023-02-09T11:24:25.737Z"
   },
   {
    "duration": 11,
    "start_time": "2023-02-09T11:24:26.905Z"
   },
   {
    "duration": 10,
    "start_time": "2023-02-09T11:24:27.295Z"
   },
   {
    "duration": 10,
    "start_time": "2023-02-09T11:25:01.707Z"
   },
   {
    "duration": 5,
    "start_time": "2023-02-09T11:25:10.596Z"
   },
   {
    "duration": 1394,
    "start_time": "2023-02-09T11:25:41.948Z"
   },
   {
    "duration": 429,
    "start_time": "2023-02-09T11:25:43.344Z"
   },
   {
    "duration": 3,
    "start_time": "2023-02-09T11:25:43.775Z"
   },
   {
    "duration": 80,
    "start_time": "2023-02-09T11:25:43.780Z"
   },
   {
    "duration": 266,
    "start_time": "2023-02-09T11:25:43.861Z"
   },
   {
    "duration": 46,
    "start_time": "2023-02-09T11:25:44.128Z"
   },
   {
    "duration": 2024,
    "start_time": "2023-02-09T11:25:44.176Z"
   },
   {
    "duration": 136,
    "start_time": "2023-02-09T11:25:46.202Z"
   },
   {
    "duration": 10,
    "start_time": "2023-02-09T11:25:46.340Z"
   },
   {
    "duration": 45,
    "start_time": "2023-02-09T11:25:46.353Z"
   },
   {
    "duration": 27,
    "start_time": "2023-02-09T11:25:46.400Z"
   },
   {
    "duration": 13,
    "start_time": "2023-02-09T11:25:58.131Z"
   },
   {
    "duration": 13,
    "start_time": "2023-02-09T11:26:10.614Z"
   },
   {
    "duration": 111,
    "start_time": "2023-02-09T11:26:21.098Z"
   },
   {
    "duration": 4,
    "start_time": "2023-02-09T11:26:36.775Z"
   },
   {
    "duration": 13,
    "start_time": "2023-02-09T11:26:40.360Z"
   },
   {
    "duration": 45,
    "start_time": "2023-02-09T11:26:45.189Z"
   },
   {
    "duration": 31,
    "start_time": "2023-02-09T11:26:47.850Z"
   },
   {
    "duration": 92,
    "start_time": "2023-02-09T11:27:01.306Z"
   },
   {
    "duration": 1628,
    "start_time": "2023-02-10T06:04:13.332Z"
   },
   {
    "duration": 2182,
    "start_time": "2023-02-10T06:04:17.251Z"
   },
   {
    "duration": 2,
    "start_time": "2023-02-10T06:04:19.435Z"
   },
   {
    "duration": 78,
    "start_time": "2023-02-10T06:04:19.439Z"
   },
   {
    "duration": 225,
    "start_time": "2023-02-10T06:04:19.519Z"
   },
   {
    "duration": 62,
    "start_time": "2023-02-10T06:04:19.746Z"
   },
   {
    "duration": 1933,
    "start_time": "2023-02-10T06:04:19.810Z"
   },
   {
    "duration": 121,
    "start_time": "2023-02-10T06:04:21.745Z"
   },
   {
    "duration": 9,
    "start_time": "2023-02-10T06:04:21.868Z"
   },
   {
    "duration": 48,
    "start_time": "2023-02-10T06:04:21.892Z"
   },
   {
    "duration": 8,
    "start_time": "2023-02-10T06:04:21.942Z"
   },
   {
    "duration": 2,
    "start_time": "2023-02-10T06:04:21.953Z"
   },
   {
    "duration": 39,
    "start_time": "2023-02-10T06:04:22.036Z"
   },
   {
    "duration": 89,
    "start_time": "2023-02-10T06:04:22.228Z"
   },
   {
    "duration": 4,
    "start_time": "2023-02-10T06:11:12.243Z"
   },
   {
    "duration": 235,
    "start_time": "2023-02-10T06:22:59.374Z"
   },
   {
    "duration": 193,
    "start_time": "2023-02-10T06:26:12.204Z"
   },
   {
    "duration": 3,
    "start_time": "2023-02-10T07:01:24.783Z"
   },
   {
    "duration": 51,
    "start_time": "2023-02-10T10:43:19.490Z"
   },
   {
    "duration": 6,
    "start_time": "2023-02-10T10:43:19.854Z"
   },
   {
    "duration": 1489,
    "start_time": "2023-02-10T10:43:26.162Z"
   },
   {
    "duration": 1620,
    "start_time": "2023-02-10T10:43:27.653Z"
   },
   {
    "duration": 3,
    "start_time": "2023-02-10T10:43:29.275Z"
   },
   {
    "duration": 118,
    "start_time": "2023-02-10T10:43:29.280Z"
   },
   {
    "duration": 239,
    "start_time": "2023-02-10T10:43:29.400Z"
   },
   {
    "duration": 44,
    "start_time": "2023-02-10T10:43:29.641Z"
   },
   {
    "duration": 1864,
    "start_time": "2023-02-10T10:43:29.687Z"
   },
   {
    "duration": 130,
    "start_time": "2023-02-10T10:43:31.553Z"
   },
   {
    "duration": 9,
    "start_time": "2023-02-10T10:43:31.685Z"
   },
   {
    "duration": 70,
    "start_time": "2023-02-10T10:43:31.698Z"
   },
   {
    "duration": 17,
    "start_time": "2023-02-10T10:43:31.769Z"
   },
   {
    "duration": 48,
    "start_time": "2023-02-10T10:43:31.788Z"
   },
   {
    "duration": 70,
    "start_time": "2023-02-10T10:43:31.838Z"
   },
   {
    "duration": 85,
    "start_time": "2023-02-10T10:43:31.910Z"
   },
   {
    "duration": 243,
    "start_time": "2023-02-10T10:43:31.997Z"
   },
   {
    "duration": 3,
    "start_time": "2023-02-10T10:43:35.588Z"
   },
   {
    "duration": 3,
    "start_time": "2023-02-10T10:43:36.056Z"
   },
   {
    "duration": 5,
    "start_time": "2023-02-10T10:43:36.759Z"
   },
   {
    "duration": 84,
    "start_time": "2023-02-10T12:06:06.284Z"
   },
   {
    "duration": 1400,
    "start_time": "2023-02-10T12:07:00.949Z"
   },
   {
    "duration": 429,
    "start_time": "2023-02-10T12:07:02.351Z"
   },
   {
    "duration": 4,
    "start_time": "2023-02-10T12:07:02.782Z"
   },
   {
    "duration": 87,
    "start_time": "2023-02-10T12:07:02.788Z"
   },
   {
    "duration": 243,
    "start_time": "2023-02-10T12:07:02.877Z"
   },
   {
    "duration": 53,
    "start_time": "2023-02-10T12:07:03.122Z"
   },
   {
    "duration": 1869,
    "start_time": "2023-02-10T12:07:03.177Z"
   },
   {
    "duration": 128,
    "start_time": "2023-02-10T12:07:05.047Z"
   },
   {
    "duration": 10,
    "start_time": "2023-02-10T12:07:05.177Z"
   },
   {
    "duration": 57,
    "start_time": "2023-02-10T12:07:05.188Z"
   },
   {
    "duration": 8,
    "start_time": "2023-02-10T12:07:05.247Z"
   },
   {
    "duration": 17,
    "start_time": "2023-02-10T12:07:05.256Z"
   },
   {
    "duration": 66,
    "start_time": "2023-02-10T12:07:05.275Z"
   },
   {
    "duration": 101,
    "start_time": "2023-02-10T12:07:05.343Z"
   },
   {
    "duration": 296,
    "start_time": "2023-02-10T12:07:05.446Z"
   },
   {
    "duration": 5,
    "start_time": "2023-02-10T12:07:08.392Z"
   },
   {
    "duration": 4,
    "start_time": "2023-02-10T12:11:15.245Z"
   },
   {
    "duration": 4,
    "start_time": "2023-02-10T12:11:19.674Z"
   },
   {
    "duration": 3,
    "start_time": "2023-02-10T12:11:30.063Z"
   },
   {
    "duration": 4,
    "start_time": "2023-02-10T12:12:35.516Z"
   },
   {
    "duration": 252,
    "start_time": "2023-02-10T12:12:38.091Z"
   },
   {
    "duration": 6,
    "start_time": "2023-02-10T12:12:39.170Z"
   },
   {
    "duration": 3,
    "start_time": "2023-02-10T12:12:50.068Z"
   },
   {
    "duration": 5,
    "start_time": "2023-02-10T12:13:07.949Z"
   },
   {
    "duration": 120,
    "start_time": "2023-02-10T12:13:14.045Z"
   },
   {
    "duration": 5,
    "start_time": "2023-02-10T12:13:16.357Z"
   },
   {
    "duration": 11,
    "start_time": "2023-02-10T12:13:25.878Z"
   },
   {
    "duration": 4,
    "start_time": "2023-02-10T12:13:35.053Z"
   },
   {
    "duration": 3,
    "start_time": "2023-02-10T12:14:03.596Z"
   },
   {
    "duration": 4,
    "start_time": "2023-02-10T12:14:20.529Z"
   },
   {
    "duration": 5,
    "start_time": "2023-02-10T12:14:28.104Z"
   },
   {
    "duration": 4,
    "start_time": "2023-02-10T12:14:31.914Z"
   },
   {
    "duration": 4,
    "start_time": "2023-02-10T12:14:37.479Z"
   },
   {
    "duration": 5,
    "start_time": "2023-02-10T12:14:46.676Z"
   },
   {
    "duration": 4,
    "start_time": "2023-02-10T12:14:57.838Z"
   },
   {
    "duration": 5,
    "start_time": "2023-02-10T12:15:05.966Z"
   },
   {
    "duration": 7,
    "start_time": "2023-02-10T12:15:59.821Z"
   },
   {
    "duration": 3,
    "start_time": "2023-02-10T12:37:29.987Z"
   },
   {
    "duration": 1475,
    "start_time": "2023-02-10T18:53:15.795Z"
   },
   {
    "duration": 1518,
    "start_time": "2023-02-10T18:53:17.272Z"
   },
   {
    "duration": 3,
    "start_time": "2023-02-10T18:53:18.792Z"
   },
   {
    "duration": 61,
    "start_time": "2023-02-10T18:53:18.797Z"
   },
   {
    "duration": 210,
    "start_time": "2023-02-10T18:53:18.861Z"
   },
   {
    "duration": 49,
    "start_time": "2023-02-10T18:53:19.073Z"
   },
   {
    "duration": 1691,
    "start_time": "2023-02-10T18:53:19.123Z"
   },
   {
    "duration": 115,
    "start_time": "2023-02-10T18:53:20.815Z"
   },
   {
    "duration": 9,
    "start_time": "2023-02-10T18:53:20.932Z"
   },
   {
    "duration": 55,
    "start_time": "2023-02-10T18:53:20.943Z"
   },
   {
    "duration": 7,
    "start_time": "2023-02-10T18:53:21.000Z"
   },
   {
    "duration": 7,
    "start_time": "2023-02-10T18:53:21.008Z"
   },
   {
    "duration": 42,
    "start_time": "2023-02-10T18:53:21.016Z"
   },
   {
    "duration": 97,
    "start_time": "2023-02-10T18:53:21.062Z"
   },
   {
    "duration": 240,
    "start_time": "2023-02-10T18:53:21.160Z"
   },
   {
    "duration": 91,
    "start_time": "2023-02-10T18:53:21.402Z"
   },
   {
    "duration": 102,
    "start_time": "2023-02-10T18:53:21.495Z"
   },
   {
    "duration": 6,
    "start_time": "2023-02-10T18:53:21.599Z"
   },
   {
    "duration": 5,
    "start_time": "2023-02-10T18:53:21.607Z"
   },
   {
    "duration": 4,
    "start_time": "2023-02-10T18:53:21.614Z"
   },
   {
    "duration": 107,
    "start_time": "2023-02-10T18:53:23.171Z"
   },
   {
    "duration": 11,
    "start_time": "2023-02-10T18:53:57.452Z"
   },
   {
    "duration": 8,
    "start_time": "2023-02-10T18:54:05.467Z"
   },
   {
    "duration": 269,
    "start_time": "2023-02-10T18:55:17.924Z"
   },
   {
    "duration": 3,
    "start_time": "2023-02-10T18:55:26.540Z"
   },
   {
    "duration": 2,
    "start_time": "2023-02-10T18:55:26.855Z"
   },
   {
    "duration": 3,
    "start_time": "2023-02-10T18:55:26.995Z"
   },
   {
    "duration": 3,
    "start_time": "2023-02-10T18:55:28.905Z"
   },
   {
    "duration": 3,
    "start_time": "2023-02-10T18:55:31.371Z"
   },
   {
    "duration": 22,
    "start_time": "2023-02-10T18:55:31.814Z"
   },
   {
    "duration": 4,
    "start_time": "2023-02-10T18:58:36.018Z"
   },
   {
    "duration": 5,
    "start_time": "2023-02-10T18:58:42.687Z"
   },
   {
    "duration": 4,
    "start_time": "2023-02-10T18:58:52.735Z"
   },
   {
    "duration": 5,
    "start_time": "2023-02-10T18:59:14.875Z"
   },
   {
    "duration": 5,
    "start_time": "2023-02-10T18:59:40.530Z"
   },
   {
    "duration": 29,
    "start_time": "2023-02-10T19:02:31.802Z"
   },
   {
    "duration": 9,
    "start_time": "2023-02-10T19:02:34.897Z"
   },
   {
    "duration": 3,
    "start_time": "2023-02-10T19:02:38.912Z"
   },
   {
    "duration": 36,
    "start_time": "2023-02-10T19:02:39.090Z"
   },
   {
    "duration": 76,
    "start_time": "2023-02-10T19:02:39.277Z"
   },
   {
    "duration": 320,
    "start_time": "2023-02-10T19:02:40.980Z"
   },
   {
    "duration": 2,
    "start_time": "2023-02-10T19:02:43.214Z"
   },
   {
    "duration": 3,
    "start_time": "2023-02-10T19:02:43.557Z"
   },
   {
    "duration": 4,
    "start_time": "2023-02-10T19:02:43.760Z"
   },
   {
    "duration": 3,
    "start_time": "2023-02-10T19:02:46.939Z"
   },
   {
    "duration": 4,
    "start_time": "2023-02-10T19:02:47.575Z"
   },
   {
    "duration": 6478,
    "start_time": "2023-02-10T19:02:48.164Z"
   },
   {
    "duration": 6441,
    "start_time": "2023-02-10T19:02:58.953Z"
   },
   {
    "duration": 11,
    "start_time": "2023-02-10T19:05:13.048Z"
   },
   {
    "duration": 7203,
    "start_time": "2023-02-10T19:05:16.402Z"
   },
   {
    "duration": 36222,
    "start_time": "2023-02-10T19:06:45.608Z"
   },
   {
    "duration": 15,
    "start_time": "2023-02-10T19:07:31.365Z"
   },
   {
    "duration": 95,
    "start_time": "2023-02-10T19:30:07.742Z"
   },
   {
    "duration": 8,
    "start_time": "2023-02-10T19:30:12.183Z"
   },
   {
    "duration": 3,
    "start_time": "2023-02-10T19:30:53.733Z"
   },
   {
    "duration": 610,
    "start_time": "2023-02-10T19:30:56.699Z"
   },
   {
    "duration": 726,
    "start_time": "2023-02-10T19:31:10.292Z"
   },
   {
    "duration": 606,
    "start_time": "2023-02-10T19:31:21.442Z"
   },
   {
    "duration": 5,
    "start_time": "2023-02-10T19:31:44.920Z"
   },
   {
    "duration": 12,
    "start_time": "2023-02-10T19:31:47.335Z"
   },
   {
    "duration": 11,
    "start_time": "2023-02-10T19:31:53.762Z"
   },
   {
    "duration": 8,
    "start_time": "2023-02-10T19:32:03.882Z"
   },
   {
    "duration": 5,
    "start_time": "2023-02-10T19:32:18.459Z"
   },
   {
    "duration": 7,
    "start_time": "2023-02-10T19:32:24.288Z"
   },
   {
    "duration": 4,
    "start_time": "2023-02-10T19:32:36.254Z"
   },
   {
    "duration": 10,
    "start_time": "2023-02-10T19:44:24.633Z"
   },
   {
    "duration": 11,
    "start_time": "2023-02-10T19:45:03.763Z"
   },
   {
    "duration": 5,
    "start_time": "2023-02-10T19:45:30.709Z"
   },
   {
    "duration": 400,
    "start_time": "2023-02-10T19:45:30.716Z"
   },
   {
    "duration": 3,
    "start_time": "2023-02-10T19:45:31.118Z"
   },
   {
    "duration": 110,
    "start_time": "2023-02-10T19:45:31.122Z"
   },
   {
    "duration": 219,
    "start_time": "2023-02-10T19:45:31.234Z"
   },
   {
    "duration": 52,
    "start_time": "2023-02-10T19:45:31.455Z"
   },
   {
    "duration": 2538,
    "start_time": "2023-02-10T19:45:31.508Z"
   },
   {
    "duration": 105,
    "start_time": "2023-02-10T19:45:34.048Z"
   },
   {
    "duration": 6,
    "start_time": "2023-02-10T19:45:34.155Z"
   },
   {
    "duration": 1067,
    "start_time": "2023-02-10T19:45:34.162Z"
   },
   {
    "duration": 7,
    "start_time": "2023-02-10T19:45:35.230Z"
   },
   {
    "duration": 5,
    "start_time": "2023-02-10T19:45:35.238Z"
   },
   {
    "duration": 59,
    "start_time": "2023-02-10T19:45:35.244Z"
   },
   {
    "duration": 78,
    "start_time": "2023-02-10T19:45:35.306Z"
   },
   {
    "duration": 211,
    "start_time": "2023-02-10T19:45:35.385Z"
   },
   {
    "duration": 3,
    "start_time": "2023-02-10T19:45:35.597Z"
   },
   {
    "duration": 107,
    "start_time": "2023-02-10T19:45:35.602Z"
   },
   {
    "duration": 8,
    "start_time": "2023-02-10T19:45:35.711Z"
   },
   {
    "duration": 13,
    "start_time": "2023-02-10T19:45:35.721Z"
   },
   {
    "duration": 8,
    "start_time": "2023-02-10T19:45:35.735Z"
   },
   {
    "duration": 13,
    "start_time": "2023-02-10T19:45:45.288Z"
   },
   {
    "duration": 8,
    "start_time": "2023-02-10T19:45:56.158Z"
   },
   {
    "duration": 8,
    "start_time": "2023-02-10T19:46:08.710Z"
   },
   {
    "duration": 3,
    "start_time": "2023-02-10T19:46:24.071Z"
   },
   {
    "duration": 3,
    "start_time": "2023-02-10T19:46:25.085Z"
   },
   {
    "duration": 6102,
    "start_time": "2023-02-10T19:46:25.541Z"
   },
   {
    "duration": 6182,
    "start_time": "2023-02-10T19:46:40.042Z"
   },
   {
    "duration": 19,
    "start_time": "2023-02-10T19:47:29.862Z"
   },
   {
    "duration": 38,
    "start_time": "2023-02-10T19:48:35.269Z"
   },
   {
    "duration": 21,
    "start_time": "2023-02-10T19:49:05.282Z"
   },
   {
    "duration": 12,
    "start_time": "2023-02-10T19:49:14.647Z"
   },
   {
    "duration": 3,
    "start_time": "2023-02-10T19:49:34.559Z"
   },
   {
    "duration": 381,
    "start_time": "2023-02-10T19:49:34.564Z"
   },
   {
    "duration": 3,
    "start_time": "2023-02-10T19:49:34.947Z"
   },
   {
    "duration": 81,
    "start_time": "2023-02-10T19:49:34.952Z"
   },
   {
    "duration": 241,
    "start_time": "2023-02-10T19:49:35.035Z"
   },
   {
    "duration": 48,
    "start_time": "2023-02-10T19:49:35.278Z"
   },
   {
    "duration": 1733,
    "start_time": "2023-02-10T19:49:35.328Z"
   },
   {
    "duration": 117,
    "start_time": "2023-02-10T19:49:37.062Z"
   },
   {
    "duration": 12,
    "start_time": "2023-02-10T19:49:37.193Z"
   },
   {
    "duration": 32,
    "start_time": "2023-02-10T19:49:37.207Z"
   },
   {
    "duration": 8,
    "start_time": "2023-02-10T19:49:37.240Z"
   },
   {
    "duration": 13,
    "start_time": "2023-02-10T19:49:37.249Z"
   },
   {
    "duration": 54,
    "start_time": "2023-02-10T19:49:37.263Z"
   },
   {
    "duration": 97,
    "start_time": "2023-02-10T19:49:37.320Z"
   },
   {
    "duration": 186,
    "start_time": "2023-02-10T19:49:37.419Z"
   },
   {
    "duration": 86,
    "start_time": "2023-02-10T19:49:37.607Z"
   },
   {
    "duration": 129,
    "start_time": "2023-02-10T19:49:37.695Z"
   },
   {
    "duration": 42,
    "start_time": "2023-02-10T19:49:37.826Z"
   },
   {
    "duration": 28,
    "start_time": "2023-02-10T19:49:37.870Z"
   },
   {
    "duration": 28,
    "start_time": "2023-02-10T19:49:37.901Z"
   },
   {
    "duration": 10,
    "start_time": "2023-02-10T19:50:55.726Z"
   },
   {
    "duration": 8,
    "start_time": "2023-02-10T19:51:39.175Z"
   },
   {
    "duration": 9,
    "start_time": "2023-02-10T19:53:03.924Z"
   },
   {
    "duration": 6479,
    "start_time": "2023-02-10T19:54:12.683Z"
   },
   {
    "duration": 19,
    "start_time": "2023-02-10T19:54:24.227Z"
   },
   {
    "duration": 10,
    "start_time": "2023-02-10T19:54:47.242Z"
   },
   {
    "duration": 6354,
    "start_time": "2023-02-10T19:55:11.976Z"
   },
   {
    "duration": 2025,
    "start_time": "2023-02-10T19:55:19.391Z"
   },
   {
    "duration": 4,
    "start_time": "2023-02-10T19:57:48.850Z"
   },
   {
    "duration": 6965,
    "start_time": "2023-02-10T19:57:53.720Z"
   },
   {
    "duration": 13,
    "start_time": "2023-02-10T19:58:02.566Z"
   },
   {
    "duration": 4,
    "start_time": "2023-02-10T20:08:07.111Z"
   },
   {
    "duration": 10,
    "start_time": "2023-02-10T20:08:11.338Z"
   },
   {
    "duration": 6566,
    "start_time": "2023-02-10T20:08:45.359Z"
   },
   {
    "duration": 5,
    "start_time": "2023-02-10T20:08:51.927Z"
   },
   {
    "duration": 5,
    "start_time": "2023-02-10T20:10:05.346Z"
   },
   {
    "duration": 6,
    "start_time": "2023-02-10T20:10:09.803Z"
   },
   {
    "duration": 5,
    "start_time": "2023-02-10T20:10:15.230Z"
   },
   {
    "duration": 4,
    "start_time": "2023-02-10T20:10:24.734Z"
   },
   {
    "duration": 4,
    "start_time": "2023-02-10T20:11:50.696Z"
   },
   {
    "duration": 4,
    "start_time": "2023-02-10T20:11:57.550Z"
   },
   {
    "duration": 6422,
    "start_time": "2023-02-10T20:12:05.322Z"
   },
   {
    "duration": 5,
    "start_time": "2023-02-10T20:12:11.746Z"
   },
   {
    "duration": 3,
    "start_time": "2023-02-10T20:13:04.522Z"
   },
   {
    "duration": 3,
    "start_time": "2023-02-10T20:13:05.886Z"
   },
   {
    "duration": 6611,
    "start_time": "2023-02-10T20:13:06.110Z"
   },
   {
    "duration": 5,
    "start_time": "2023-02-10T20:13:12.723Z"
   },
   {
    "duration": 5,
    "start_time": "2023-02-10T20:14:03.522Z"
   },
   {
    "duration": 10,
    "start_time": "2023-02-10T20:19:37.575Z"
   },
   {
    "duration": 14,
    "start_time": "2023-02-10T20:19:49.462Z"
   },
   {
    "duration": 11,
    "start_time": "2023-02-10T20:20:10.734Z"
   },
   {
    "duration": 10,
    "start_time": "2023-02-10T20:20:20.735Z"
   },
   {
    "duration": 10,
    "start_time": "2023-02-10T20:28:51.099Z"
   },
   {
    "duration": 10,
    "start_time": "2023-02-10T20:28:58.724Z"
   },
   {
    "duration": 11,
    "start_time": "2023-02-10T20:29:23.338Z"
   },
   {
    "duration": 3,
    "start_time": "2023-02-10T20:40:20.486Z"
   },
   {
    "duration": 6416,
    "start_time": "2023-02-10T20:40:23.921Z"
   },
   {
    "duration": 9,
    "start_time": "2023-02-10T20:40:30.339Z"
   },
   {
    "duration": 6625,
    "start_time": "2023-02-10T20:40:41.716Z"
   },
   {
    "duration": 11,
    "start_time": "2023-02-10T20:40:48.343Z"
   },
   {
    "duration": 7,
    "start_time": "2023-02-10T20:41:53.128Z"
   },
   {
    "duration": 7,
    "start_time": "2023-02-10T20:42:16.079Z"
   },
   {
    "duration": 12,
    "start_time": "2023-02-10T20:43:32.465Z"
   },
   {
    "duration": 3607,
    "start_time": "2023-02-10T20:46:42.585Z"
   },
   {
    "duration": 9,
    "start_time": "2023-02-10T20:46:46.195Z"
   },
   {
    "duration": 6,
    "start_time": "2023-02-10T20:47:34.427Z"
   },
   {
    "duration": 1572,
    "start_time": "2023-02-11T08:15:54.188Z"
   },
   {
    "duration": 1488,
    "start_time": "2023-02-11T08:15:55.762Z"
   },
   {
    "duration": 3,
    "start_time": "2023-02-11T08:15:57.251Z"
   },
   {
    "duration": 76,
    "start_time": "2023-02-11T08:15:57.256Z"
   },
   {
    "duration": 240,
    "start_time": "2023-02-11T08:15:57.333Z"
   },
   {
    "duration": 43,
    "start_time": "2023-02-11T08:15:57.574Z"
   },
   {
    "duration": 1859,
    "start_time": "2023-02-11T08:15:57.638Z"
   },
   {
    "duration": 116,
    "start_time": "2023-02-11T08:15:59.498Z"
   },
   {
    "duration": 23,
    "start_time": "2023-02-11T08:15:59.615Z"
   },
   {
    "duration": 55,
    "start_time": "2023-02-11T08:15:59.641Z"
   },
   {
    "duration": 7,
    "start_time": "2023-02-11T08:15:59.698Z"
   },
   {
    "duration": 15,
    "start_time": "2023-02-11T08:15:59.706Z"
   },
   {
    "duration": 47,
    "start_time": "2023-02-11T08:15:59.723Z"
   },
   {
    "duration": 99,
    "start_time": "2023-02-11T08:15:59.772Z"
   },
   {
    "duration": 274,
    "start_time": "2023-02-11T08:15:59.873Z"
   },
   {
    "duration": 89,
    "start_time": "2023-02-11T08:16:00.149Z"
   },
   {
    "duration": 114,
    "start_time": "2023-02-11T08:16:00.246Z"
   },
   {
    "duration": 39,
    "start_time": "2023-02-11T08:16:00.363Z"
   },
   {
    "duration": 52,
    "start_time": "2023-02-11T08:16:00.404Z"
   },
   {
    "duration": 42,
    "start_time": "2023-02-11T08:16:00.458Z"
   },
   {
    "duration": 3988,
    "start_time": "2023-02-11T08:16:00.501Z"
   },
   {
    "duration": 11,
    "start_time": "2023-02-11T08:16:04.491Z"
   },
   {
    "duration": 11,
    "start_time": "2023-02-11T08:16:13.937Z"
   },
   {
    "duration": 10,
    "start_time": "2023-02-11T08:17:40.131Z"
   },
   {
    "duration": 10,
    "start_time": "2023-02-11T08:23:54.333Z"
   },
   {
    "duration": 11,
    "start_time": "2023-02-11T08:24:06.698Z"
   },
   {
    "duration": 12,
    "start_time": "2023-02-11T08:24:58.154Z"
   },
   {
    "duration": 127,
    "start_time": "2023-02-11T21:09:55.211Z"
   },
   {
    "duration": 7509,
    "start_time": "2023-02-11T21:09:58.172Z"
   },
   {
    "duration": 1677,
    "start_time": "2023-02-11T21:10:05.684Z"
   },
   {
    "duration": 3,
    "start_time": "2023-02-11T21:10:07.364Z"
   },
   {
    "duration": 84,
    "start_time": "2023-02-11T21:10:07.369Z"
   },
   {
    "duration": 262,
    "start_time": "2023-02-11T21:10:07.456Z"
   },
   {
    "duration": 63,
    "start_time": "2023-02-11T21:10:07.719Z"
   },
   {
    "duration": 1913,
    "start_time": "2023-02-11T21:10:07.784Z"
   },
   {
    "duration": 119,
    "start_time": "2023-02-11T21:10:09.699Z"
   },
   {
    "duration": 19,
    "start_time": "2023-02-11T21:10:09.820Z"
   },
   {
    "duration": 47,
    "start_time": "2023-02-11T21:10:09.841Z"
   },
   {
    "duration": 7,
    "start_time": "2023-02-11T21:10:09.891Z"
   },
   {
    "duration": 6,
    "start_time": "2023-02-11T21:10:09.900Z"
   },
   {
    "duration": 54,
    "start_time": "2023-02-11T21:10:09.907Z"
   },
   {
    "duration": 96,
    "start_time": "2023-02-11T21:10:09.964Z"
   },
   {
    "duration": 181,
    "start_time": "2023-02-11T21:10:10.061Z"
   },
   {
    "duration": 95,
    "start_time": "2023-02-11T21:10:10.244Z"
   },
   {
    "duration": 97,
    "start_time": "2023-02-11T21:10:10.340Z"
   },
   {
    "duration": 70,
    "start_time": "2023-02-11T21:10:10.439Z"
   },
   {
    "duration": 26,
    "start_time": "2023-02-11T21:10:10.511Z"
   },
   {
    "duration": 4,
    "start_time": "2023-02-11T21:10:10.539Z"
   },
   {
    "duration": 3898,
    "start_time": "2023-02-11T21:10:10.545Z"
   },
   {
    "duration": 11,
    "start_time": "2023-02-11T21:10:14.445Z"
   },
   {
    "duration": 4,
    "start_time": "2023-02-11T21:10:19.822Z"
   },
   {
    "duration": 3,
    "start_time": "2023-02-11T21:10:20.850Z"
   },
   {
    "duration": 3912,
    "start_time": "2023-02-11T21:10:21.020Z"
   },
   {
    "duration": 4029,
    "start_time": "2023-02-11T21:11:11.853Z"
   },
   {
    "duration": 508,
    "start_time": "2023-02-12T06:59:15.688Z"
   },
   {
    "duration": 1153,
    "start_time": "2023-02-12T06:59:26.519Z"
   },
   {
    "duration": 60,
    "start_time": "2023-02-12T07:03:56.411Z"
   },
   {
    "duration": 3,
    "start_time": "2023-02-12T07:04:02.785Z"
   },
   {
    "duration": 3,
    "start_time": "2023-02-12T07:14:21.073Z"
   },
   {
    "duration": 3,
    "start_time": "2023-02-12T07:14:24.140Z"
   },
   {
    "duration": 78,
    "start_time": "2023-02-12T07:14:37.080Z"
   },
   {
    "duration": 1440,
    "start_time": "2023-02-12T09:04:26.662Z"
   },
   {
    "duration": 963,
    "start_time": "2023-02-12T09:04:29.209Z"
   },
   {
    "duration": 3,
    "start_time": "2023-02-12T09:04:30.174Z"
   },
   {
    "duration": 93,
    "start_time": "2023-02-12T09:04:30.178Z"
   },
   {
    "duration": 184,
    "start_time": "2023-02-12T09:04:31.643Z"
   },
   {
    "duration": 41,
    "start_time": "2023-02-12T09:04:32.104Z"
   },
   {
    "duration": 1717,
    "start_time": "2023-02-12T09:04:32.826Z"
   },
   {
    "duration": 107,
    "start_time": "2023-02-12T09:04:34.544Z"
   },
   {
    "duration": 9,
    "start_time": "2023-02-12T09:04:37.791Z"
   },
   {
    "duration": 43,
    "start_time": "2023-02-12T09:04:38.308Z"
   },
   {
    "duration": 7,
    "start_time": "2023-02-12T09:04:38.776Z"
   },
   {
    "duration": 3,
    "start_time": "2023-02-12T09:04:39.870Z"
   },
   {
    "duration": 37,
    "start_time": "2023-02-12T09:04:40.063Z"
   },
   {
    "duration": 71,
    "start_time": "2023-02-12T09:04:40.810Z"
   },
   {
    "duration": 163,
    "start_time": "2023-02-12T09:04:43.374Z"
   },
   {
    "duration": 3,
    "start_time": "2023-02-12T09:04:47.493Z"
   },
   {
    "duration": 2,
    "start_time": "2023-02-12T09:04:49.585Z"
   },
   {
    "duration": 3,
    "start_time": "2023-02-12T09:04:50.023Z"
   },
   {
    "duration": 4,
    "start_time": "2023-02-12T09:05:42.301Z"
   },
   {
    "duration": 3,
    "start_time": "2023-02-12T09:05:44.262Z"
   },
   {
    "duration": 3608,
    "start_time": "2023-02-12T09:05:44.697Z"
   },
   {
    "duration": 116,
    "start_time": "2023-02-12T09:10:09.110Z"
   },
   {
    "duration": 3,
    "start_time": "2023-02-12T09:10:16.493Z"
   },
   {
    "duration": 5,
    "start_time": "2023-02-12T09:10:18.293Z"
   },
   {
    "duration": 3,
    "start_time": "2023-02-12T09:10:56.567Z"
   },
   {
    "duration": 6,
    "start_time": "2023-02-12T09:11:00.413Z"
   },
   {
    "duration": 82,
    "start_time": "2023-02-12T09:13:15.486Z"
   },
   {
    "duration": 86,
    "start_time": "2023-02-12T09:13:19.087Z"
   },
   {
    "duration": 5167,
    "start_time": "2023-02-12T09:14:21.137Z"
   },
   {
    "duration": 3703,
    "start_time": "2023-02-12T09:14:36.901Z"
   },
   {
    "duration": 11,
    "start_time": "2023-02-12T09:14:49.002Z"
   },
   {
    "duration": 3,
    "start_time": "2023-02-12T09:15:13.784Z"
   },
   {
    "duration": 3822,
    "start_time": "2023-02-12T09:15:14.024Z"
   },
   {
    "duration": 11,
    "start_time": "2023-02-12T09:15:17.848Z"
   },
   {
    "duration": 4,
    "start_time": "2023-02-12T09:16:52.698Z"
   },
   {
    "duration": 3659,
    "start_time": "2023-02-12T09:16:52.881Z"
   },
   {
    "duration": 14,
    "start_time": "2023-02-12T09:16:56.542Z"
   },
   {
    "duration": 5,
    "start_time": "2023-02-12T09:17:13.315Z"
   },
   {
    "duration": 3,
    "start_time": "2023-02-12T09:17:19.162Z"
   },
   {
    "duration": 90,
    "start_time": "2023-02-12T09:17:19.471Z"
   },
   {
    "duration": 4,
    "start_time": "2023-02-12T09:18:01.042Z"
   },
   {
    "duration": 4,
    "start_time": "2023-02-12T09:18:03.601Z"
   },
   {
    "duration": 88,
    "start_time": "2023-02-12T09:18:03.905Z"
   },
   {
    "duration": 4,
    "start_time": "2023-02-12T09:18:36.743Z"
   },
   {
    "duration": 87,
    "start_time": "2023-02-12T09:18:36.909Z"
   },
   {
    "duration": 5,
    "start_time": "2023-02-12T09:18:53.389Z"
   },
   {
    "duration": 4,
    "start_time": "2023-02-12T09:18:54.594Z"
   },
   {
    "duration": 3995,
    "start_time": "2023-02-12T09:18:55.108Z"
   },
   {
    "duration": 14,
    "start_time": "2023-02-12T09:18:59.105Z"
   },
   {
    "duration": 4,
    "start_time": "2023-02-12T09:20:49.096Z"
   },
   {
    "duration": 4,
    "start_time": "2023-02-12T09:20:50.059Z"
   },
   {
    "duration": 3684,
    "start_time": "2023-02-12T09:20:50.218Z"
   },
   {
    "duration": 9,
    "start_time": "2023-02-12T09:20:53.904Z"
   },
   {
    "duration": 3653,
    "start_time": "2023-02-12T09:21:01.743Z"
   },
   {
    "duration": 11,
    "start_time": "2023-02-12T09:21:05.398Z"
   },
   {
    "duration": 4,
    "start_time": "2023-02-12T09:23:06.702Z"
   },
   {
    "duration": 7974,
    "start_time": "2023-02-12T09:23:08.974Z"
   },
   {
    "duration": 4,
    "start_time": "2023-02-12T09:24:22.614Z"
   },
   {
    "duration": 6159,
    "start_time": "2023-02-12T09:24:24.991Z"
   },
   {
    "duration": 4,
    "start_time": "2023-02-12T09:24:38.904Z"
   },
   {
    "duration": 3,
    "start_time": "2023-02-12T09:24:40.734Z"
   },
   {
    "duration": 6707,
    "start_time": "2023-02-12T09:24:41.034Z"
   },
   {
    "duration": 5,
    "start_time": "2023-02-12T09:25:41.678Z"
   },
   {
    "duration": 3,
    "start_time": "2023-02-12T09:25:43.444Z"
   },
   {
    "duration": 5752,
    "start_time": "2023-02-12T09:25:43.825Z"
   },
   {
    "duration": 6641,
    "start_time": "2023-02-12T09:28:11.960Z"
   },
   {
    "duration": 4,
    "start_time": "2023-02-12T09:51:35.295Z"
   },
   {
    "duration": 5932,
    "start_time": "2023-02-12T09:51:40.842Z"
   },
   {
    "duration": 4,
    "start_time": "2023-02-12T09:52:33.070Z"
   },
   {
    "duration": 6966,
    "start_time": "2023-02-12T09:52:35.341Z"
   },
   {
    "duration": 3,
    "start_time": "2023-02-12T09:53:13.524Z"
   },
   {
    "duration": 5998,
    "start_time": "2023-02-12T09:53:15.829Z"
   },
   {
    "duration": 4,
    "start_time": "2023-02-12T09:53:24.611Z"
   },
   {
    "duration": 3852,
    "start_time": "2023-02-12T09:53:26.966Z"
   },
   {
    "duration": 3935,
    "start_time": "2023-02-12T09:53:32.266Z"
   },
   {
    "duration": 10,
    "start_time": "2023-02-12T09:53:58.420Z"
   },
   {
    "duration": 5,
    "start_time": "2023-02-12T10:13:39.373Z"
   },
   {
    "duration": 6,
    "start_time": "2023-02-12T10:14:16.802Z"
   },
   {
    "duration": 69,
    "start_time": "2023-02-12T10:15:06.363Z"
   },
   {
    "duration": 7,
    "start_time": "2023-02-12T10:15:10.363Z"
   },
   {
    "duration": 6,
    "start_time": "2023-02-12T10:15:25.049Z"
   },
   {
    "duration": 6,
    "start_time": "2023-02-12T10:15:32.507Z"
   },
   {
    "duration": 6,
    "start_time": "2023-02-12T10:18:37.873Z"
   },
   {
    "duration": 5,
    "start_time": "2023-02-12T10:18:41.825Z"
   },
   {
    "duration": 11,
    "start_time": "2023-02-12T10:20:38.102Z"
   },
   {
    "duration": 13,
    "start_time": "2023-02-12T10:21:04.827Z"
   },
   {
    "duration": 12,
    "start_time": "2023-02-12T10:21:08.104Z"
   },
   {
    "duration": 12,
    "start_time": "2023-02-12T10:21:19.825Z"
   }
  ],
  "kernelspec": {
   "display_name": "Python 3 (ipykernel)",
   "language": "python",
   "name": "python3"
  },
  "language_info": {
   "codemirror_mode": {
    "name": "ipython",
    "version": 3
   },
   "file_extension": ".py",
   "mimetype": "text/x-python",
   "name": "python",
   "nbconvert_exporter": "python",
   "pygments_lexer": "ipython3",
   "version": "3.9.16"
  },
  "toc": {
   "base_numbering": 1,
   "nav_menu": {},
   "number_sections": true,
   "sideBar": true,
   "skip_h1_title": true,
   "title_cell": "Table of Contents",
   "title_sidebar": "Contents",
   "toc_cell": false,
   "toc_position": {
    "height": "calc(100% - 180px)",
    "left": "10px",
    "top": "150px",
    "width": "281.438px"
   },
   "toc_section_display": true,
   "toc_window_display": false
  },
  "varInspector": {
   "cols": {
    "lenName": 16,
    "lenType": 16,
    "lenVar": 40
   },
   "kernels_config": {
    "python": {
     "delete_cmd_postfix": "",
     "delete_cmd_prefix": "del ",
     "library": "var_list.py",
     "varRefreshCmd": "print(var_dic_list())"
    },
    "r": {
     "delete_cmd_postfix": ") ",
     "delete_cmd_prefix": "rm(",
     "library": "var_list.r",
     "varRefreshCmd": "cat(var_dic_list()) "
    }
   },
   "types_to_exclude": [
    "module",
    "function",
    "builtin_function_or_method",
    "instance",
    "_Feature"
   ],
   "window_display": false
  }
 },
 "nbformat": 4,
 "nbformat_minor": 2
}
