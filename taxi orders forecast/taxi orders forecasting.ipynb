{
 "cells": [
  {
   "cell_type": "markdown",
   "metadata": {
    "toc": true
   },
   "source": [
    "<h1>Содержание<span class=\"tocSkip\"></span></h1>\n",
    "<div class=\"toc\"><ul class=\"toc-item\"><li><span><a href=\"#Подготовка\" data-toc-modified-id=\"Подготовка-1\"><span class=\"toc-item-num\">1&nbsp;&nbsp;</span>Подготовка</a></span><ul class=\"toc-item\"><li><span><a href=\"#Загрузка-и-обзор-данных\" data-toc-modified-id=\"Загрузка-и-обзор-данных-1.1\"><span class=\"toc-item-num\">1.1&nbsp;&nbsp;</span>Загрузка и обзор данных</a></span></li><li><span><a href=\"#Подготовка-данных\" data-toc-modified-id=\"Подготовка-данных-1.2\"><span class=\"toc-item-num\">1.2&nbsp;&nbsp;</span>Подготовка данных</a></span></li><li><span><a href=\"#Ресемплирование\" data-toc-modified-id=\"Ресемплирование-1.3\"><span class=\"toc-item-num\">1.3&nbsp;&nbsp;</span>Ресемплирование</a></span></li></ul></li><li><span><a href=\"#Анализ\" data-toc-modified-id=\"Анализ-2\"><span class=\"toc-item-num\">2&nbsp;&nbsp;</span>Анализ</a></span></li><li><span><a href=\"#Обучение\" data-toc-modified-id=\"Обучение-3\"><span class=\"toc-item-num\">3&nbsp;&nbsp;</span>Обучение</a></span><ul class=\"toc-item\"><li><span><a href=\"#Создание-признаков\" data-toc-modified-id=\"Создание-признаков-3.1\"><span class=\"toc-item-num\">3.1&nbsp;&nbsp;</span>Создание признаков</a></span></li><li><span><a href=\"#Разделение-на-выборки\" data-toc-modified-id=\"Разделение-на-выборки-3.2\"><span class=\"toc-item-num\">3.2&nbsp;&nbsp;</span>Разделение на выборки</a></span></li><li><span><a href=\"#Линейная-регрессия\" data-toc-modified-id=\"Линейная-регрессия-3.3\"><span class=\"toc-item-num\">3.3&nbsp;&nbsp;</span>Линейная регрессия</a></span></li><li><span><a href=\"#Случайный-лес\" data-toc-modified-id=\"Случайный-лес-3.4\"><span class=\"toc-item-num\">3.4&nbsp;&nbsp;</span>Случайный лес</a></span></li></ul></li><li><span><a href=\"#Тестирование\" data-toc-modified-id=\"Тестирование-4\"><span class=\"toc-item-num\">4&nbsp;&nbsp;</span>Тестирование</a></span><ul class=\"toc-item\"><li><span><a href=\"#Обзор-модели\" data-toc-modified-id=\"Обзор-модели-4.1\"><span class=\"toc-item-num\">4.1&nbsp;&nbsp;</span>Обзор модели</a></span></li></ul></li><li><span><a href=\"#Вывод\" data-toc-modified-id=\"Вывод-5\"><span class=\"toc-item-num\">5&nbsp;&nbsp;</span>Вывод</a></span></li><li><span><a href=\"#Чек-лист-проверки\" data-toc-modified-id=\"Чек-лист-проверки-6\"><span class=\"toc-item-num\">6&nbsp;&nbsp;</span>Чек-лист проверки</a></span></li></ul></div>"
   ]
  },
  {
   "cell_type": "code",
   "execution_count": 42,
   "metadata": {},
   "outputs": [],
   "source": [
    "import pandas as pd\n",
    "import numpy as np\n",
    "import matplotlib.pyplot as plt\n",
    "\n",
    "from statsmodels.tsa.seasonal import seasonal_decompose\n",
    "from statsmodels.graphics.tsaplots import plot_acf\n",
    "from sklearn.model_selection import train_test_split\n",
    "from sklearn.metrics import mean_squared_error\n",
    "from sklearn.linear_model import LinearRegression\n",
    "from sklearn.ensemble import RandomForestRegressor\n",
    "from tqdm import tqdm"
   ]
  },
  {
   "cell_type": "markdown",
   "metadata": {},
   "source": [
    "## Подготовка"
   ]
  },
  {
   "cell_type": "markdown",
   "metadata": {},
   "source": [
    "### Загрузка и обзор данных"
   ]
  },
  {
   "cell_type": "code",
   "execution_count": 43,
   "metadata": {},
   "outputs": [],
   "source": [
    "try:\n",
    "    df = pd.read_csv('/datasets/taxi.csv')\n",
    "except:\n",
    "    df = pd.read_csv('taxi.csv')"
   ]
  },
  {
   "cell_type": "code",
   "execution_count": 44,
   "metadata": {},
   "outputs": [
    {
     "data": {
      "text/html": [
       "<div>\n",
       "<style scoped>\n",
       "    .dataframe tbody tr th:only-of-type {\n",
       "        vertical-align: middle;\n",
       "    }\n",
       "\n",
       "    .dataframe tbody tr th {\n",
       "        vertical-align: top;\n",
       "    }\n",
       "\n",
       "    .dataframe thead th {\n",
       "        text-align: right;\n",
       "    }\n",
       "</style>\n",
       "<table border=\"1\" class=\"dataframe\">\n",
       "  <thead>\n",
       "    <tr style=\"text-align: right;\">\n",
       "      <th></th>\n",
       "      <th>datetime</th>\n",
       "      <th>num_orders</th>\n",
       "    </tr>\n",
       "  </thead>\n",
       "  <tbody>\n",
       "    <tr>\n",
       "      <th>0</th>\n",
       "      <td>2018-03-01 00:00:00</td>\n",
       "      <td>9</td>\n",
       "    </tr>\n",
       "    <tr>\n",
       "      <th>1</th>\n",
       "      <td>2018-03-01 00:10:00</td>\n",
       "      <td>14</td>\n",
       "    </tr>\n",
       "    <tr>\n",
       "      <th>2</th>\n",
       "      <td>2018-03-01 00:20:00</td>\n",
       "      <td>28</td>\n",
       "    </tr>\n",
       "    <tr>\n",
       "      <th>3</th>\n",
       "      <td>2018-03-01 00:30:00</td>\n",
       "      <td>20</td>\n",
       "    </tr>\n",
       "    <tr>\n",
       "      <th>4</th>\n",
       "      <td>2018-03-01 00:40:00</td>\n",
       "      <td>32</td>\n",
       "    </tr>\n",
       "  </tbody>\n",
       "</table>\n",
       "</div>"
      ],
      "text/plain": [
       "              datetime  num_orders\n",
       "0  2018-03-01 00:00:00           9\n",
       "1  2018-03-01 00:10:00          14\n",
       "2  2018-03-01 00:20:00          28\n",
       "3  2018-03-01 00:30:00          20\n",
       "4  2018-03-01 00:40:00          32"
      ]
     },
     "execution_count": 44,
     "metadata": {},
     "output_type": "execute_result"
    }
   ],
   "source": [
    "df.head()"
   ]
  },
  {
   "cell_type": "code",
   "execution_count": 45,
   "metadata": {},
   "outputs": [
    {
     "data": {
      "text/plain": [
       "(26496, 2)"
      ]
     },
     "execution_count": 45,
     "metadata": {},
     "output_type": "execute_result"
    }
   ],
   "source": [
    "df.shape"
   ]
  },
  {
   "cell_type": "code",
   "execution_count": 46,
   "metadata": {},
   "outputs": [
    {
     "name": "stdout",
     "output_type": "stream",
     "text": [
      "<class 'pandas.core.frame.DataFrame'>\n",
      "RangeIndex: 26496 entries, 0 to 26495\n",
      "Data columns (total 2 columns):\n",
      " #   Column      Non-Null Count  Dtype \n",
      "---  ------      --------------  ----- \n",
      " 0   datetime    26496 non-null  object\n",
      " 1   num_orders  26496 non-null  int64 \n",
      "dtypes: int64(1), object(1)\n",
      "memory usage: 414.1+ KB\n"
     ]
    }
   ],
   "source": [
    "df.info()"
   ]
  },
  {
   "cell_type": "markdown",
   "metadata": {},
   "source": [
    "Данные даны с шагом 10 минут, пропусков нет, тип правильный."
   ]
  },
  {
   "cell_type": "markdown",
   "metadata": {},
   "source": [
    "### Подготовка данных"
   ]
  },
  {
   "cell_type": "markdown",
   "metadata": {},
   "source": [
    "Вначале приведем столбец datetime к правильному типу данных, и сделаем его индексным."
   ]
  },
  {
   "cell_type": "code",
   "execution_count": 47,
   "metadata": {},
   "outputs": [],
   "source": [
    "df = df.set_index(pd.to_datetime(df.datetime, format=\"%Y-%m-%d %H:%M:%S\")).drop(['datetime'], axis=1)"
   ]
  },
  {
   "cell_type": "code",
   "execution_count": 48,
   "metadata": {},
   "outputs": [
    {
     "data": {
      "text/html": [
       "<div>\n",
       "<style scoped>\n",
       "    .dataframe tbody tr th:only-of-type {\n",
       "        vertical-align: middle;\n",
       "    }\n",
       "\n",
       "    .dataframe tbody tr th {\n",
       "        vertical-align: top;\n",
       "    }\n",
       "\n",
       "    .dataframe thead th {\n",
       "        text-align: right;\n",
       "    }\n",
       "</style>\n",
       "<table border=\"1\" class=\"dataframe\">\n",
       "  <thead>\n",
       "    <tr style=\"text-align: right;\">\n",
       "      <th></th>\n",
       "      <th>num_orders</th>\n",
       "    </tr>\n",
       "    <tr>\n",
       "      <th>datetime</th>\n",
       "      <th></th>\n",
       "    </tr>\n",
       "  </thead>\n",
       "  <tbody>\n",
       "    <tr>\n",
       "      <th>2018-03-01 00:00:00</th>\n",
       "      <td>9</td>\n",
       "    </tr>\n",
       "    <tr>\n",
       "      <th>2018-03-01 00:10:00</th>\n",
       "      <td>14</td>\n",
       "    </tr>\n",
       "    <tr>\n",
       "      <th>2018-03-01 00:20:00</th>\n",
       "      <td>28</td>\n",
       "    </tr>\n",
       "    <tr>\n",
       "      <th>2018-03-01 00:30:00</th>\n",
       "      <td>20</td>\n",
       "    </tr>\n",
       "    <tr>\n",
       "      <th>2018-03-01 00:40:00</th>\n",
       "      <td>32</td>\n",
       "    </tr>\n",
       "  </tbody>\n",
       "</table>\n",
       "</div>"
      ],
      "text/plain": [
       "                     num_orders\n",
       "datetime                       \n",
       "2018-03-01 00:00:00           9\n",
       "2018-03-01 00:10:00          14\n",
       "2018-03-01 00:20:00          28\n",
       "2018-03-01 00:30:00          20\n",
       "2018-03-01 00:40:00          32"
      ]
     },
     "execution_count": 48,
     "metadata": {},
     "output_type": "execute_result"
    }
   ],
   "source": [
    "df.head()"
   ]
  },
  {
   "cell_type": "markdown",
   "metadata": {},
   "source": [
    "Проверим на монотонность"
   ]
  },
  {
   "cell_type": "code",
   "execution_count": 49,
   "metadata": {},
   "outputs": [
    {
     "data": {
      "text/plain": [
       "True"
      ]
     },
     "execution_count": 49,
     "metadata": {},
     "output_type": "execute_result"
    }
   ],
   "source": [
    "df.index.is_monotonic"
   ]
  },
  {
   "cell_type": "markdown",
   "metadata": {},
   "source": [
    "Взглянем на данные"
   ]
  },
  {
   "cell_type": "code",
   "execution_count": 50,
   "metadata": {},
   "outputs": [
    {
     "data": {
      "image/png": "[encoded data removed]",
      "text/plain": [
       "<Figure size 432x288 with 1 Axes>"
      ]
     },
     "metadata": {
      "needs_background": "light"
     },
     "output_type": "display_data"
    }
   ],
   "source": [
    "df.plot().set_title('График данных');"
   ]
  },
  {
   "cell_type": "markdown",
   "metadata": {},
   "source": [
    "### Ресемплирование"
   ]
  },
  {
   "cell_type": "markdown",
   "metadata": {},
   "source": [
    "Выполним ресемплирование данных по 1 часу, посчитаем сумму заказов в час."
   ]
  },
  {
   "cell_type": "code",
   "execution_count": 51,
   "metadata": {},
   "outputs": [],
   "source": [
    "df = df.resample('1H').sum()"
   ]
  },
  {
   "cell_type": "code",
   "execution_count": 52,
   "metadata": {},
   "outputs": [
    {
     "data": {
      "text/plain": [
       "(4416, 1)"
      ]
     },
     "execution_count": 52,
     "metadata": {},
     "output_type": "execute_result"
    }
   ],
   "source": [
    "df.shape"
   ]
  },
  {
   "cell_type": "code",
   "execution_count": 53,
   "metadata": {
    "scrolled": true
   },
   "outputs": [
    {
     "data": {
      "text/html": [
       "<div>\n",
       "<style scoped>\n",
       "    .dataframe tbody tr th:only-of-type {\n",
       "        vertical-align: middle;\n",
       "    }\n",
       "\n",
       "    .dataframe tbody tr th {\n",
       "        vertical-align: top;\n",
       "    }\n",
       "\n",
       "    .dataframe thead th {\n",
       "        text-align: right;\n",
       "    }\n",
       "</style>\n",
       "<table border=\"1\" class=\"dataframe\">\n",
       "  <thead>\n",
       "    <tr style=\"text-align: right;\">\n",
       "      <th></th>\n",
       "      <th>num_orders</th>\n",
       "    </tr>\n",
       "    <tr>\n",
       "      <th>datetime</th>\n",
       "      <th></th>\n",
       "    </tr>\n",
       "  </thead>\n",
       "  <tbody>\n",
       "    <tr>\n",
       "      <th>2018-03-01 00:00:00</th>\n",
       "      <td>124</td>\n",
       "    </tr>\n",
       "    <tr>\n",
       "      <th>2018-03-01 01:00:00</th>\n",
       "      <td>85</td>\n",
       "    </tr>\n",
       "    <tr>\n",
       "      <th>2018-03-01 02:00:00</th>\n",
       "      <td>71</td>\n",
       "    </tr>\n",
       "    <tr>\n",
       "      <th>2018-03-01 03:00:00</th>\n",
       "      <td>66</td>\n",
       "    </tr>\n",
       "    <tr>\n",
       "      <th>2018-03-01 04:00:00</th>\n",
       "      <td>43</td>\n",
       "    </tr>\n",
       "  </tbody>\n",
       "</table>\n",
       "</div>"
      ],
      "text/plain": [
       "                     num_orders\n",
       "datetime                       \n",
       "2018-03-01 00:00:00         124\n",
       "2018-03-01 01:00:00          85\n",
       "2018-03-01 02:00:00          71\n",
       "2018-03-01 03:00:00          66\n",
       "2018-03-01 04:00:00          43"
      ]
     },
     "execution_count": 53,
     "metadata": {},
     "output_type": "execute_result"
    }
   ],
   "source": [
    "df.head()"
   ]
  },
  {
   "cell_type": "code",
   "execution_count": 54,
   "metadata": {},
   "outputs": [
    {
     "data": {
      "image/png": "[encoded data removed]",
      "text/plain": [
       "<Figure size 432x288 with 1 Axes>"
      ]
     },
     "metadata": {
      "needs_background": "light"
     },
     "output_type": "display_data"
    }
   ],
   "source": [
    "df.plot().set_title('График ресемплированных данных');"
   ]
  },
  {
   "cell_type": "markdown",
   "metadata": {},
   "source": [
    "## Анализ"
   ]
  },
  {
   "cell_type": "markdown",
   "metadata": {},
   "source": [
    "Взглянем на данные поближе, выберем первые 5 дней"
   ]
  },
  {
   "cell_type": "code",
   "execution_count": 55,
   "metadata": {},
   "outputs": [
    {
     "data": {
      "image/png": "[encoded data removed]",
      "text/plain": [
       "<Figure size 432x288 with 1 Axes>"
      ]
     },
     "metadata": {
      "needs_background": "light"
     },
     "output_type": "display_data"
    }
   ],
   "source": [
    "df['2018-03-01': '2018-03-5'].plot().set_title('График заказов в первые 5 дней');"
   ]
  },
  {
   "cell_type": "markdown",
   "metadata": {},
   "source": [
    "К ночи количество заказов растет, к утру падает, днем примерно стабильно. Шум, вероятно, связан с прибытиями самолетов."
   ]
  },
  {
   "cell_type": "markdown",
   "metadata": {},
   "source": [
    "Разложим на тренды и сезонность, чтобы посмотреть подробнее."
   ]
  },
  {
   "cell_type": "code",
   "execution_count": 56,
   "metadata": {},
   "outputs": [
    {
     "data": {
      "image/png": "[encoded data removed]",
      "text/plain": [
       "<Figure size 432x576 with 3 Axes>"
      ]
     },
     "metadata": {
      "needs_background": "light"
     },
     "output_type": "display_data"
    }
   ],
   "source": [
    "decomposed = seasonal_decompose(df)\n",
    "\n",
    "plt.figure(figsize=(6, 8))\n",
    "plt.subplot(311)\n",
    "decomposed.trend.plot(ax=plt.gca())\n",
    "plt.title('Тренд')\n",
    "plt.subplot(312)\n",
    "decomposed.seasonal.plot(ax=plt.gca())\n",
    "plt.title('Сезонная составляющая')\n",
    "plt.subplot(313)\n",
    "decomposed.resid.plot(ax=plt.gca())\n",
    "plt.title('Остатки')\n",
    "plt.tight_layout()"
   ]
  },
  {
   "cell_type": "markdown",
   "metadata": {},
   "source": [
    "С сезонным трендом не совсем ясно, рассмотрим поближе."
   ]
  },
  {
   "cell_type": "code",
   "execution_count": 57,
   "metadata": {},
   "outputs": [
    {
     "data": {
      "image/png": "[encoded data removed]",
      "text/plain": [
       "<Figure size 432x288 with 1 Axes>"
      ]
     },
     "metadata": {
      "needs_background": "light"
     },
     "output_type": "display_data"
    }
   ],
   "source": [
    "decomposed.seasonal['2018-03-01': '2018-03-2'].plot();"
   ]
  },
  {
   "cell_type": "code",
   "execution_count": 58,
   "metadata": {},
   "outputs": [
    {
     "data": {
      "image/png": "[encoded data removed]",
      "text/plain": [
       "<Figure size 432x288 with 1 Axes>"
      ]
     },
     "metadata": {
      "needs_background": "light"
     },
     "output_type": "display_data"
    }
   ],
   "source": [
    "decomposed.resid['2018-03-01': '2018-03-2'].plot();"
   ]
  },
  {
   "cell_type": "markdown",
   "metadata": {},
   "source": [
    "В целом, мы видим, что количество заказов к лету растет.\n",
    "\n",
    "Остатки по амплитуде выше получившейся сезонной составляющей. Значит, тренд роста количества заказов от утра к ночи и падению к утру слабее, чем, например, прилеты самолетов.\n",
    "\n",
    "Заметен суточный цикл, в 6 утра заказов меньше всего, в 00 больше всего."
   ]
  },
  {
   "cell_type": "code",
   "execution_count": 59,
   "metadata": {},
   "outputs": [],
   "source": [
    "df_ = df.copy()\n",
    "df_['mean'] = df_['num_orders'].rolling(24).mean()\n",
    "df_['std'] = df_['num_orders'].rolling(24).std()"
   ]
  },
  {
   "cell_type": "code",
   "execution_count": 60,
   "metadata": {
    "scrolled": false
   },
   "outputs": [
    {
     "data": {
      "image/png": "[encoded data removed]",
      "text/plain": [
       "<Figure size 720x576 with 1 Axes>"
      ]
     },
     "metadata": {
      "needs_background": "light"
     },
     "output_type": "display_data"
    }
   ],
   "source": [
    "df_.plot(figsize=(10, 8));"
   ]
  },
  {
   "cell_type": "markdown",
   "metadata": {},
   "source": [
    "По графику скользяцего среднего подтверждается рост заказов к лету."
   ]
  },
  {
   "cell_type": "code",
   "execution_count": 61,
   "metadata": {
    "scrolled": true
   },
   "outputs": [
    {
     "data": {
      "image/png": "[encoded data removed]",
      "text/plain": [
       "<Figure size 432x288 with 1 Axes>"
      ]
     },
     "metadata": {
      "needs_background": "light"
     },
     "output_type": "display_data"
    }
   ],
   "source": [
    "plot_acf(df)\n",
    "plt.show()"
   ]
  },
  {
   "cell_type": "markdown",
   "metadata": {},
   "source": [
    "График автокорреляции подтверждает наличие суточной составляющей, а то, что она постоянно положительная - наличие тренда."
   ]
  },
  {
   "cell_type": "markdown",
   "metadata": {},
   "source": [
    "## Обучение"
   ]
  },
  {
   "cell_type": "markdown",
   "metadata": {},
   "source": [
    "Вначале создадим побольше признаков."
   ]
  },
  {
   "cell_type": "markdown",
   "metadata": {},
   "source": [
    "### Создание признаков"
   ]
  },
  {
   "cell_type": "code",
   "execution_count": 62,
   "metadata": {},
   "outputs": [],
   "source": [
    "def make_features(data, lag_start, lag_end, rolling_mean_size):\n",
    "    df = data.copy()\n",
    "    df['month'] = df.index.month\n",
    "    df['day'] = df.index.day\n",
    "    df['dayofweek'] = df.index.dayofweek\n",
    "    \n",
    "    for lag in range(lag_start, lag_end + 1):\n",
    "        df['lag_{}'.format(lag)] = df['num_orders'].shift(lag)\n",
    "\n",
    "    df['rolling_mean'] = df['num_orders'].shift().rolling(rolling_mean_size).mean()\n",
    "    return df"
   ]
  },
  {
   "cell_type": "code",
   "execution_count": 63,
   "metadata": {},
   "outputs": [],
   "source": [
    "df_big = make_features(df, 1, 24, 24)"
   ]
  },
  {
   "cell_type": "code",
   "execution_count": 64,
   "metadata": {
    "scrolled": true
   },
   "outputs": [
    {
     "data": {
      "text/html": [
       "<div>\n",
       "<style scoped>\n",
       "    .dataframe tbody tr th:only-of-type {\n",
       "        vertical-align: middle;\n",
       "    }\n",
       "\n",
       "    .dataframe tbody tr th {\n",
       "        vertical-align: top;\n",
       "    }\n",
       "\n",
       "    .dataframe thead th {\n",
       "        text-align: right;\n",
       "    }\n",
       "</style>\n",
       "<table border=\"1\" class=\"dataframe\">\n",
       "  <thead>\n",
       "    <tr style=\"text-align: right;\">\n",
       "      <th></th>\n",
       "      <th>num_orders</th>\n",
       "      <th>month</th>\n",
       "      <th>day</th>\n",
       "      <th>dayofweek</th>\n",
       "      <th>lag_1</th>\n",
       "      <th>lag_2</th>\n",
       "      <th>lag_3</th>\n",
       "      <th>lag_4</th>\n",
       "      <th>lag_5</th>\n",
       "      <th>lag_6</th>\n",
       "      <th>...</th>\n",
       "      <th>lag_16</th>\n",
       "      <th>lag_17</th>\n",
       "      <th>lag_18</th>\n",
       "      <th>lag_19</th>\n",
       "      <th>lag_20</th>\n",
       "      <th>lag_21</th>\n",
       "      <th>lag_22</th>\n",
       "      <th>lag_23</th>\n",
       "      <th>lag_24</th>\n",
       "      <th>rolling_mean</th>\n",
       "    </tr>\n",
       "    <tr>\n",
       "      <th>datetime</th>\n",
       "      <th></th>\n",
       "      <th></th>\n",
       "      <th></th>\n",
       "      <th></th>\n",
       "      <th></th>\n",
       "      <th></th>\n",
       "      <th></th>\n",
       "      <th></th>\n",
       "      <th></th>\n",
       "      <th></th>\n",
       "      <th></th>\n",
       "      <th></th>\n",
       "      <th></th>\n",
       "      <th></th>\n",
       "      <th></th>\n",
       "      <th></th>\n",
       "      <th></th>\n",
       "      <th></th>\n",
       "      <th></th>\n",
       "      <th></th>\n",
       "      <th></th>\n",
       "    </tr>\n",
       "  </thead>\n",
       "  <tbody>\n",
       "    <tr>\n",
       "      <th>2018-03-01 00:00:00</th>\n",
       "      <td>124</td>\n",
       "      <td>3</td>\n",
       "      <td>1</td>\n",
       "      <td>3</td>\n",
       "      <td>NaN</td>\n",
       "      <td>NaN</td>\n",
       "      <td>NaN</td>\n",
       "      <td>NaN</td>\n",
       "      <td>NaN</td>\n",
       "      <td>NaN</td>\n",
       "      <td>...</td>\n",
       "      <td>NaN</td>\n",
       "      <td>NaN</td>\n",
       "      <td>NaN</td>\n",
       "      <td>NaN</td>\n",
       "      <td>NaN</td>\n",
       "      <td>NaN</td>\n",
       "      <td>NaN</td>\n",
       "      <td>NaN</td>\n",
       "      <td>NaN</td>\n",
       "      <td>NaN</td>\n",
       "    </tr>\n",
       "    <tr>\n",
       "      <th>2018-03-01 01:00:00</th>\n",
       "      <td>85</td>\n",
       "      <td>3</td>\n",
       "      <td>1</td>\n",
       "      <td>3</td>\n",
       "      <td>124.0</td>\n",
       "      <td>NaN</td>\n",
       "      <td>NaN</td>\n",
       "      <td>NaN</td>\n",
       "      <td>NaN</td>\n",
       "      <td>NaN</td>\n",
       "      <td>...</td>\n",
       "      <td>NaN</td>\n",
       "      <td>NaN</td>\n",
       "      <td>NaN</td>\n",
       "      <td>NaN</td>\n",
       "      <td>NaN</td>\n",
       "      <td>NaN</td>\n",
       "      <td>NaN</td>\n",
       "      <td>NaN</td>\n",
       "      <td>NaN</td>\n",
       "      <td>NaN</td>\n",
       "    </tr>\n",
       "    <tr>\n",
       "      <th>2018-03-01 02:00:00</th>\n",
       "      <td>71</td>\n",
       "      <td>3</td>\n",
       "      <td>1</td>\n",
       "      <td>3</td>\n",
       "      <td>85.0</td>\n",
       "      <td>124.0</td>\n",
       "      <td>NaN</td>\n",
       "      <td>NaN</td>\n",
       "      <td>NaN</td>\n",
       "      <td>NaN</td>\n",
       "      <td>...</td>\n",
       "      <td>NaN</td>\n",
       "      <td>NaN</td>\n",
       "      <td>NaN</td>\n",
       "      <td>NaN</td>\n",
       "      <td>NaN</td>\n",
       "      <td>NaN</td>\n",
       "      <td>NaN</td>\n",
       "      <td>NaN</td>\n",
       "      <td>NaN</td>\n",
       "      <td>NaN</td>\n",
       "    </tr>\n",
       "    <tr>\n",
       "      <th>2018-03-01 03:00:00</th>\n",
       "      <td>66</td>\n",
       "      <td>3</td>\n",
       "      <td>1</td>\n",
       "      <td>3</td>\n",
       "      <td>71.0</td>\n",
       "      <td>85.0</td>\n",
       "      <td>124.0</td>\n",
       "      <td>NaN</td>\n",
       "      <td>NaN</td>\n",
       "      <td>NaN</td>\n",
       "      <td>...</td>\n",
       "      <td>NaN</td>\n",
       "      <td>NaN</td>\n",
       "      <td>NaN</td>\n",
       "      <td>NaN</td>\n",
       "      <td>NaN</td>\n",
       "      <td>NaN</td>\n",
       "      <td>NaN</td>\n",
       "      <td>NaN</td>\n",
       "      <td>NaN</td>\n",
       "      <td>NaN</td>\n",
       "    </tr>\n",
       "    <tr>\n",
       "      <th>2018-03-01 04:00:00</th>\n",
       "      <td>43</td>\n",
       "      <td>3</td>\n",
       "      <td>1</td>\n",
       "      <td>3</td>\n",
       "      <td>66.0</td>\n",
       "      <td>71.0</td>\n",
       "      <td>85.0</td>\n",
       "      <td>124.0</td>\n",
       "      <td>NaN</td>\n",
       "      <td>NaN</td>\n",
       "      <td>...</td>\n",
       "      <td>NaN</td>\n",
       "      <td>NaN</td>\n",
       "      <td>NaN</td>\n",
       "      <td>NaN</td>\n",
       "      <td>NaN</td>\n",
       "      <td>NaN</td>\n",
       "      <td>NaN</td>\n",
       "      <td>NaN</td>\n",
       "      <td>NaN</td>\n",
       "      <td>NaN</td>\n",
       "    </tr>\n",
       "  </tbody>\n",
       "</table>\n",
       "<p>5 rows × 29 columns</p>\n",
       "</div>"
      ],
      "text/plain": [
       "                     num_orders  month  day  dayofweek  lag_1  lag_2  lag_3  \\\n",
       "datetime                                                                      \n",
       "2018-03-01 00:00:00         124      3    1          3    NaN    NaN    NaN   \n",
       "2018-03-01 01:00:00          85      3    1          3  124.0    NaN    NaN   \n",
       "2018-03-01 02:00:00          71      3    1          3   85.0  124.0    NaN   \n",
       "2018-03-01 03:00:00          66      3    1          3   71.0   85.0  124.0   \n",
       "2018-03-01 04:00:00          43      3    1          3   66.0   71.0   85.0   \n",
       "\n",
       "                     lag_4  lag_5  lag_6  ...  lag_16  lag_17  lag_18  lag_19  \\\n",
       "datetime                                  ...                                   \n",
       "2018-03-01 00:00:00    NaN    NaN    NaN  ...     NaN     NaN     NaN     NaN   \n",
       "2018-03-01 01:00:00    NaN    NaN    NaN  ...     NaN     NaN     NaN     NaN   \n",
       "2018-03-01 02:00:00    NaN    NaN    NaN  ...     NaN     NaN     NaN     NaN   \n",
       "2018-03-01 03:00:00    NaN    NaN    NaN  ...     NaN     NaN     NaN     NaN   \n",
       "2018-03-01 04:00:00  124.0    NaN    NaN  ...     NaN     NaN     NaN     NaN   \n",
       "\n",
       "                     lag_20  lag_21  lag_22  lag_23  lag_24  rolling_mean  \n",
       "datetime                                                                   \n",
       "2018-03-01 00:00:00     NaN     NaN     NaN     NaN     NaN           NaN  \n",
       "2018-03-01 01:00:00     NaN     NaN     NaN     NaN     NaN           NaN  \n",
       "2018-03-01 02:00:00     NaN     NaN     NaN     NaN     NaN           NaN  \n",
       "2018-03-01 03:00:00     NaN     NaN     NaN     NaN     NaN           NaN  \n",
       "2018-03-01 04:00:00     NaN     NaN     NaN     NaN     NaN           NaN  \n",
       "\n",
       "[5 rows x 29 columns]"
      ]
     },
     "execution_count": 64,
     "metadata": {},
     "output_type": "execute_result"
    }
   ],
   "source": [
    "df_big.head()"
   ]
  },
  {
   "cell_type": "code",
   "execution_count": 65,
   "metadata": {},
   "outputs": [
    {
     "data": {
      "text/plain": [
       "(4416, 29)"
      ]
     },
     "execution_count": 65,
     "metadata": {},
     "output_type": "execute_result"
    }
   ],
   "source": [
    "df_big.shape"
   ]
  },
  {
   "cell_type": "markdown",
   "metadata": {},
   "source": [
    "### Разделение на выборки"
   ]
  },
  {
   "cell_type": "code",
   "execution_count": 66,
   "metadata": {},
   "outputs": [
    {
     "name": "stdout",
     "output_type": "stream",
     "text": [
      "2018-03-01 00:00:00 2018-08-13 13:00:00\n",
      "2018-08-13 14:00:00 2018-08-31 23:00:00\n"
     ]
    }
   ],
   "source": [
    "train_valid, test = train_test_split(df_big, shuffle=False, test_size=0.1)\n",
    "\n",
    "print(train_valid.index.min(), train_valid.index.max())\n",
    "print(test.index.min(), test.index.max())"
   ]
  },
  {
   "cell_type": "code",
   "execution_count": 67,
   "metadata": {},
   "outputs": [
    {
     "name": "stdout",
     "output_type": "stream",
     "text": [
      "2018-03-01 00:00:00 2018-07-27 23:00:00\n",
      "2018-07-28 00:00:00 2018-08-13 13:00:00\n"
     ]
    }
   ],
   "source": [
    "train, valid = train_test_split(train_valid, shuffle=False, test_size=0.1)\n",
    "\n",
    "print(train.index.min(), train.index.max())\n",
    "print(valid.index.min(), valid.index.max())"
   ]
  },
  {
   "cell_type": "code",
   "execution_count": 68,
   "metadata": {},
   "outputs": [],
   "source": [
    "train = train.dropna()\n",
    "\n",
    "feature_train = train.drop(['num_orders'], axis=1)\n",
    "target_train = train['num_orders']\n",
    "\n",
    "feature_valid = valid.drop(['num_orders'], axis=1)\n",
    "target_valid = valid['num_orders']\n",
    "\n",
    "feature_test = test.drop(['num_orders'], axis=1)\n",
    "target_test = test['num_orders']"
   ]
  },
  {
   "cell_type": "markdown",
   "metadata": {},
   "source": [
    "### Линейная регрессия"
   ]
  },
  {
   "cell_type": "code",
   "execution_count": 69,
   "metadata": {},
   "outputs": [],
   "source": [
    "lr_model = LinearRegression()\n",
    "\n",
    "lr_model.fit(feature_train, target_train);"
   ]
  },
  {
   "cell_type": "code",
   "execution_count": 70,
   "metadata": {
    "scrolled": true
   },
   "outputs": [
    {
     "name": "stdout",
     "output_type": "stream",
     "text": [
      "RMSE обучающей выборки: 34.136280205461254\n"
     ]
    }
   ],
   "source": [
    "pred_valid = lr_model.predict(feature_valid)\n",
    "\n",
    "print('RMSE обучающей выборки:', mean_squared_error(target_valid, pred_valid) ** .5)"
   ]
  },
  {
   "cell_type": "markdown",
   "metadata": {},
   "source": [
    "### Случайный лес"
   ]
  },
  {
   "cell_type": "code",
   "execution_count": 71,
   "metadata": {},
   "outputs": [
    {
     "name": "stderr",
     "output_type": "stream",
     "text": [
      "100%|██████████| 5/5 [00:51<00:00, 10.36s/it]\n"
     ]
    }
   ],
   "source": [
    "test_rf = pd.DataFrame(columns=['n_estimators', 'max_depth', 'rmse'])\n",
    "\n",
    "for est in tqdm(range(20, 120, 20)):\n",
    "    for depth in range(10, 50, 10):\n",
    "        rf_model = RandomForestRegressor(n_estimators=est, max_depth=depth, random_state=0)\n",
    "        rf_model.fit(feature_train, target_train)\n",
    "        rf_pred = rf_model.predict(feature_valid)\n",
    "        test_rf = test_rf.append(\n",
    "            pd.DataFrame([[est, depth, mean_squared_error(target_valid, rf_pred) ** .5]],\n",
    "            columns=['n_estimators', 'max_depth', 'rmse']), ignore_index=True\n",
    "        )"
   ]
  },
  {
   "cell_type": "code",
   "execution_count": 72,
   "metadata": {},
   "outputs": [
    {
     "data": {
      "text/html": [
       "<div>\n",
       "<style scoped>\n",
       "    .dataframe tbody tr th:only-of-type {\n",
       "        vertical-align: middle;\n",
       "    }\n",
       "\n",
       "    .dataframe tbody tr th {\n",
       "        vertical-align: top;\n",
       "    }\n",
       "\n",
       "    .dataframe thead th {\n",
       "        text-align: right;\n",
       "    }\n",
       "</style>\n",
       "<table border=\"1\" class=\"dataframe\">\n",
       "  <thead>\n",
       "    <tr style=\"text-align: right;\">\n",
       "      <th></th>\n",
       "      <th>n_estimators</th>\n",
       "      <th>max_depth</th>\n",
       "      <th>rmse</th>\n",
       "    </tr>\n",
       "  </thead>\n",
       "  <tbody>\n",
       "    <tr>\n",
       "      <th>19</th>\n",
       "      <td>100</td>\n",
       "      <td>40</td>\n",
       "      <td>33.466803</td>\n",
       "    </tr>\n",
       "    <tr>\n",
       "      <th>18</th>\n",
       "      <td>100</td>\n",
       "      <td>30</td>\n",
       "      <td>33.467678</td>\n",
       "    </tr>\n",
       "    <tr>\n",
       "      <th>17</th>\n",
       "      <td>100</td>\n",
       "      <td>20</td>\n",
       "      <td>33.568385</td>\n",
       "    </tr>\n",
       "    <tr>\n",
       "      <th>13</th>\n",
       "      <td>80</td>\n",
       "      <td>20</td>\n",
       "      <td>33.582669</td>\n",
       "    </tr>\n",
       "    <tr>\n",
       "      <th>15</th>\n",
       "      <td>80</td>\n",
       "      <td>40</td>\n",
       "      <td>33.613182</td>\n",
       "    </tr>\n",
       "    <tr>\n",
       "      <th>14</th>\n",
       "      <td>80</td>\n",
       "      <td>30</td>\n",
       "      <td>33.614616</td>\n",
       "    </tr>\n",
       "    <tr>\n",
       "      <th>10</th>\n",
       "      <td>60</td>\n",
       "      <td>30</td>\n",
       "      <td>33.686452</td>\n",
       "    </tr>\n",
       "    <tr>\n",
       "      <th>11</th>\n",
       "      <td>60</td>\n",
       "      <td>40</td>\n",
       "      <td>33.721707</td>\n",
       "    </tr>\n",
       "    <tr>\n",
       "      <th>9</th>\n",
       "      <td>60</td>\n",
       "      <td>20</td>\n",
       "      <td>33.741826</td>\n",
       "    </tr>\n",
       "    <tr>\n",
       "      <th>16</th>\n",
       "      <td>100</td>\n",
       "      <td>10</td>\n",
       "      <td>33.801592</td>\n",
       "    </tr>\n",
       "    <tr>\n",
       "      <th>12</th>\n",
       "      <td>80</td>\n",
       "      <td>10</td>\n",
       "      <td>33.831112</td>\n",
       "    </tr>\n",
       "    <tr>\n",
       "      <th>8</th>\n",
       "      <td>60</td>\n",
       "      <td>10</td>\n",
       "      <td>34.049238</td>\n",
       "    </tr>\n",
       "    <tr>\n",
       "      <th>6</th>\n",
       "      <td>40</td>\n",
       "      <td>30</td>\n",
       "      <td>34.096329</td>\n",
       "    </tr>\n",
       "    <tr>\n",
       "      <th>5</th>\n",
       "      <td>40</td>\n",
       "      <td>20</td>\n",
       "      <td>34.110560</td>\n",
       "    </tr>\n",
       "    <tr>\n",
       "      <th>7</th>\n",
       "      <td>40</td>\n",
       "      <td>40</td>\n",
       "      <td>34.115795</td>\n",
       "    </tr>\n",
       "    <tr>\n",
       "      <th>4</th>\n",
       "      <td>40</td>\n",
       "      <td>10</td>\n",
       "      <td>34.444422</td>\n",
       "    </tr>\n",
       "    <tr>\n",
       "      <th>3</th>\n",
       "      <td>20</td>\n",
       "      <td>40</td>\n",
       "      <td>34.521745</td>\n",
       "    </tr>\n",
       "    <tr>\n",
       "      <th>2</th>\n",
       "      <td>20</td>\n",
       "      <td>30</td>\n",
       "      <td>34.521745</td>\n",
       "    </tr>\n",
       "    <tr>\n",
       "      <th>0</th>\n",
       "      <td>20</td>\n",
       "      <td>10</td>\n",
       "      <td>34.576415</td>\n",
       "    </tr>\n",
       "    <tr>\n",
       "      <th>1</th>\n",
       "      <td>20</td>\n",
       "      <td>20</td>\n",
       "      <td>34.628495</td>\n",
       "    </tr>\n",
       "  </tbody>\n",
       "</table>\n",
       "</div>"
      ],
      "text/plain": [
       "   n_estimators max_depth       rmse\n",
       "19          100        40  33.466803\n",
       "18          100        30  33.467678\n",
       "17          100        20  33.568385\n",
       "13           80        20  33.582669\n",
       "15           80        40  33.613182\n",
       "14           80        30  33.614616\n",
       "10           60        30  33.686452\n",
       "11           60        40  33.721707\n",
       "9            60        20  33.741826\n",
       "16          100        10  33.801592\n",
       "12           80        10  33.831112\n",
       "8            60        10  34.049238\n",
       "6            40        30  34.096329\n",
       "5            40        20  34.110560\n",
       "7            40        40  34.115795\n",
       "4            40        10  34.444422\n",
       "3            20        40  34.521745\n",
       "2            20        30  34.521745\n",
       "0            20        10  34.576415\n",
       "1            20        20  34.628495"
      ]
     },
     "execution_count": 72,
     "metadata": {},
     "output_type": "execute_result"
    }
   ],
   "source": [
    "test_rf.sort_values(by='rmse', ascending=True)"
   ]
  },
  {
   "cell_type": "markdown",
   "metadata": {},
   "source": [
    "Выбираем гиперпараметры `n_estimators = 100`, `max_depth = 40`.\t"
   ]
  },
  {
   "cell_type": "code",
   "execution_count": 73,
   "metadata": {},
   "outputs": [],
   "source": [
    "rf_model = RandomForestRegressor(n_estimators=100, max_depth=40, random_state=0)"
   ]
  },
  {
   "cell_type": "code",
   "execution_count": 74,
   "metadata": {},
   "outputs": [],
   "source": [
    "rf_model.fit(feature_train, target_train);"
   ]
  },
  {
   "cell_type": "code",
   "execution_count": 75,
   "metadata": {},
   "outputs": [
    {
     "name": "stdout",
     "output_type": "stream",
     "text": [
      "RMSE обучающей выборки: 33.46680276687909\n"
     ]
    }
   ],
   "source": [
    "pred_valid = rf_model.predict(feature_valid)\n",
    "\n",
    "print('RMSE обучающей выборки:', mean_squared_error(target_valid, pred_valid) ** .5)"
   ]
  },
  {
   "cell_type": "code",
   "execution_count": 76,
   "metadata": {},
   "outputs": [
    {
     "data": {
      "image/png": "[encoded data removed]",
      "text/plain": [
       "<Figure size 720x576 with 1 Axes>"
      ]
     },
     "metadata": {
      "needs_background": "light"
     },
     "output_type": "display_data"
    }
   ],
   "source": [
    "(\n",
    "    pd.DataFrame(\n",
    "        rf_model.feature_importances_,\n",
    "        index=feature_train.columns,\n",
    "        columns=['Feature importance']\n",
    "    ).plot(kind='barh', figsize=(10, 8))\n",
    ");"
   ]
  },
  {
   "cell_type": "markdown",
   "metadata": {},
   "source": [
    "**Вывод:** выбираем RF модель, так как ее RMSE на обучающей выборке значительно меньше."
   ]
  },
  {
   "cell_type": "markdown",
   "metadata": {},
   "source": [
    "## Тестирование"
   ]
  },
  {
   "cell_type": "markdown",
   "metadata": {},
   "source": [
    "Для более точного предсказания нам придется объединить валидационную и обучающую выборки, ведь прогноз зависит от предыдущих значаний очень сильно, а в валидационной выборке мы убрали большую часть значений, близких к тестовым."
   ]
  },
  {
   "cell_type": "code",
   "execution_count": 77,
   "metadata": {},
   "outputs": [
    {
     "name": "stdout",
     "output_type": "stream",
     "text": [
      "2018-03-01 00:00:00 2018-08-13 13:00:00\n",
      "2018-08-13 14:00:00 2018-08-31 23:00:00\n"
     ]
    }
   ],
   "source": [
    "train, test = train_test_split(df_big, shuffle=False, test_size=0.1)\n",
    "\n",
    "train = train.dropna()\n",
    "\n",
    "feature_train = train.drop(['num_orders'], axis=1)\n",
    "target_train = train['num_orders']\n",
    "\n",
    "feature_test = test.drop(['num_orders'], axis=1)\n",
    "target_test = test['num_orders']"
   ]
  },
  {
   "cell_type": "code",
   "execution_count": 79,
   "metadata": {},
   "outputs": [],
   "source": [
    "rf_model.fit(feature_train, target_train);"
   ]
  },
  {
   "cell_type": "code",
   "execution_count": 80,
   "metadata": {},
   "outputs": [
    {
     "name": "stdout",
     "output_type": "stream",
     "text": [
      "RMSE тестовой выборки: 43.905131712864524\n"
     ]
    }
   ],
   "source": [
    "pred_test = rf_model.predict(feature_test)\n",
    "print('RMSE тестовой выборки:', mean_squared_error(target_test, pred_test) ** .5)"
   ]
  },
  {
   "cell_type": "markdown",
   "metadata": {},
   "source": [
    "**Вывод:** RMSE RF модели на тестовой выборке `RMSE = 43.91`, что ниже требуемого значения."
   ]
  },
  {
   "cell_type": "markdown",
   "metadata": {},
   "source": [
    "Проверим, что будет, если мы предскажем медианой или предыдущим значением."
   ]
  },
  {
   "cell_type": "code",
   "execution_count": 37,
   "metadata": {},
   "outputs": [
    {
     "name": "stdout",
     "output_type": "stream",
     "text": [
      "RMSE: 85.5164440667252\n"
     ]
    }
   ],
   "source": [
    "pred_median = np.ones(test.shape) *  train['num_orders'].median()\n",
    "\n",
    "print('RMSE:', mean_squared_error(pred_median, test) ** .5)"
   ]
  },
  {
   "cell_type": "code",
   "execution_count": 38,
   "metadata": {
    "scrolled": true
   },
   "outputs": [
    {
     "name": "stdout",
     "output_type": "stream",
     "text": [
      "RMSE: 55.29777630332717\n"
     ]
    }
   ],
   "source": [
    "pred_previous = test.shift()\n",
    "pred_previous.iloc[0] = train.iloc[-1]\n",
    "print('RMSE:', mean_squared_error(test, pred_previous) ** .5)"
   ]
  },
  {
   "cell_type": "markdown",
   "metadata": {},
   "source": [
    "**Вывод:** модель прошла проверку на адекватность."
   ]
  },
  {
   "cell_type": "markdown",
   "metadata": {},
   "source": [
    "### Обзор модели"
   ]
  },
  {
   "cell_type": "markdown",
   "metadata": {},
   "source": [
    "Посмотрим на то, как модель предсказывает данные: построим график тестового интервала и предсказаний модели."
   ]
  },
  {
   "cell_type": "code",
   "execution_count": 85,
   "metadata": {},
   "outputs": [
    {
     "data": {
      "image/png": "[encoded data removed]",
      "text/plain": [
       "<Figure size 720x576 with 1 Axes>"
      ]
     },
     "metadata": {
      "needs_background": "light"
     },
     "output_type": "display_data"
    }
   ],
   "source": [
    "ax, fig = plt.subplots(figsize=(10, 8))\n",
    "\n",
    "ax = plt.plot(test.index[:100], target_test[:100], color = 'red', alpha=0.7)\n",
    "ax = plt.plot(test.index[:100], pred_test[:100], color = 'green', alpha=0.7)\n",
    " \n",
    "plt.title('Прогноз и тестовая выборка')\n",
    "plt.ylabel('Количество заказов')\n",
    "plt.xlabel('Время')\n",
    " \n",
    "plt.grid()\n",
    "plt.show()"
   ]
  },
  {
   "cell_type": "markdown",
   "metadata": {},
   "source": [
    "Неплохо получилось, отдельные выбросы, конечно, не предсказываются, но в целом тренд соблюдается."
   ]
  },
  {
   "cell_type": "markdown",
   "metadata": {},
   "source": [
    "## Вывод"
   ]
  },
  {
   "cell_type": "markdown",
   "metadata": {},
   "source": [
    "Изучили данные, провели ресемплирование, выделили тренд и сезонные (дневные) циклы. Создали дополнительные признаки: среднее, месяц, день, день недели, сдвиги между данными.\n",
    "С помощью RF модели с подобранными гиперпараметрами получили предсказания с метрикой RMSE на тетовой выборке 43.91."
   ]
  }
 ],
 "metadata": {
  "ExecuteTimeLog": [
   {
    "duration": 490,
    "start_time": "2023-04-06T14:11:36.584Z"
   },
   {
    "duration": 167,
    "start_time": "2023-04-06T14:12:06.060Z"
   },
   {
    "duration": 17,
    "start_time": "2023-04-06T14:12:14.030Z"
   },
   {
    "duration": 50,
    "start_time": "2023-04-06T14:13:05.778Z"
   },
   {
    "duration": 10,
    "start_time": "2023-04-06T14:13:06.292Z"
   },
   {
    "duration": 4,
    "start_time": "2023-04-06T14:13:16.812Z"
   },
   {
    "duration": 17,
    "start_time": "2023-04-06T14:13:26.381Z"
   },
   {
    "duration": 3,
    "start_time": "2023-04-06T14:16:54.182Z"
   },
   {
    "duration": 56,
    "start_time": "2023-04-06T14:18:28.510Z"
   },
   {
    "duration": 14,
    "start_time": "2023-04-06T14:18:29.385Z"
   },
   {
    "duration": 9,
    "start_time": "2023-04-06T14:18:31.898Z"
   },
   {
    "duration": 12,
    "start_time": "2023-04-06T14:18:33.458Z"
   },
   {
    "duration": 55,
    "start_time": "2023-04-06T14:19:02.384Z"
   },
   {
    "duration": 24,
    "start_time": "2023-04-06T14:19:02.886Z"
   },
   {
    "duration": 5,
    "start_time": "2023-04-06T14:19:03.279Z"
   },
   {
    "duration": 14,
    "start_time": "2023-04-06T14:19:04.131Z"
   },
   {
    "duration": 1340,
    "start_time": "2023-04-06T14:21:31.006Z"
   },
   {
    "duration": 10,
    "start_time": "2023-04-06T14:21:48.447Z"
   },
   {
    "duration": 8,
    "start_time": "2023-04-06T14:21:56.621Z"
   },
   {
    "duration": 5,
    "start_time": "2023-04-06T14:22:40.180Z"
   },
   {
    "duration": 1289,
    "start_time": "2023-04-06T14:23:30.249Z"
   },
   {
    "duration": 858,
    "start_time": "2023-04-06T14:23:42.299Z"
   },
   {
    "duration": 806,
    "start_time": "2023-04-06T14:23:57.615Z"
   },
   {
    "duration": 686,
    "start_time": "2023-04-06T14:24:06.975Z"
   },
   {
    "duration": 3,
    "start_time": "2023-04-06T14:26:35.910Z"
   },
   {
    "duration": 9,
    "start_time": "2023-04-06T14:26:55.859Z"
   },
   {
    "duration": 7,
    "start_time": "2023-04-06T14:27:01.254Z"
   },
   {
    "duration": 244,
    "start_time": "2023-04-06T14:27:08.500Z"
   },
   {
    "duration": 265,
    "start_time": "2023-04-06T14:28:08.189Z"
   },
   {
    "duration": 686,
    "start_time": "2023-04-06T14:34:40.358Z"
   },
   {
    "duration": 67,
    "start_time": "2023-04-06T14:35:19.519Z"
   },
   {
    "duration": 3,
    "start_time": "2023-04-06T14:35:36.602Z"
   },
   {
    "duration": 252,
    "start_time": "2023-04-06T14:35:44.364Z"
   },
   {
    "duration": 877,
    "start_time": "2023-04-06T14:36:30.707Z"
   },
   {
    "duration": 937,
    "start_time": "2023-04-06T14:45:01.202Z"
   },
   {
    "duration": 217,
    "start_time": "2023-04-06T14:48:09.819Z"
   },
   {
    "duration": 186,
    "start_time": "2023-04-06T14:48:13.857Z"
   },
   {
    "duration": 190,
    "start_time": "2023-04-06T14:48:16.383Z"
   },
   {
    "duration": 138,
    "start_time": "2023-04-06T14:48:23.505Z"
   },
   {
    "duration": 165,
    "start_time": "2023-04-06T14:49:42.698Z"
   },
   {
    "duration": 165,
    "start_time": "2023-04-06T14:49:45.700Z"
   },
   {
    "duration": 143,
    "start_time": "2023-04-06T14:51:04.851Z"
   },
   {
    "duration": 9,
    "start_time": "2023-04-06T14:54:21.971Z"
   },
   {
    "duration": 1299,
    "start_time": "2023-04-06T14:54:31.187Z"
   },
   {
    "duration": 7,
    "start_time": "2023-04-06T14:55:07.025Z"
   },
   {
    "duration": 11,
    "start_time": "2023-04-06T14:55:24.699Z"
   },
   {
    "duration": 18,
    "start_time": "2023-04-06T14:55:31.689Z"
   },
   {
    "duration": 329,
    "start_time": "2023-04-06T14:55:45.075Z"
   },
   {
    "duration": 291,
    "start_time": "2023-04-06T14:55:51.449Z"
   },
   {
    "duration": 584,
    "start_time": "2023-04-06T14:56:01.803Z"
   },
   {
    "duration": 5,
    "start_time": "2023-04-06T14:56:25.455Z"
   },
   {
    "duration": 328,
    "start_time": "2023-04-06T14:56:26.056Z"
   },
   {
    "duration": 834,
    "start_time": "2023-04-06T14:58:36.354Z"
   },
   {
    "duration": 319,
    "start_time": "2023-04-06T14:58:44.654Z"
   },
   {
    "duration": 11,
    "start_time": "2023-04-06T14:59:17.128Z"
   },
   {
    "duration": 41,
    "start_time": "2023-04-06T14:59:22.341Z"
   },
   {
    "duration": 12,
    "start_time": "2023-04-06T14:59:22.696Z"
   },
   {
    "duration": 4,
    "start_time": "2023-04-06T14:59:23.027Z"
   },
   {
    "duration": 13,
    "start_time": "2023-04-06T14:59:23.324Z"
   },
   {
    "duration": 10,
    "start_time": "2023-04-06T14:59:24.644Z"
   },
   {
    "duration": 8,
    "start_time": "2023-04-06T14:59:25.018Z"
   },
   {
    "duration": 4,
    "start_time": "2023-04-06T14:59:25.810Z"
   },
   {
    "duration": 694,
    "start_time": "2023-04-06T14:59:26.222Z"
   },
   {
    "duration": 7,
    "start_time": "2023-04-06T14:59:29.006Z"
   },
   {
    "duration": 8,
    "start_time": "2023-04-06T14:59:29.561Z"
   },
   {
    "duration": 436,
    "start_time": "2023-04-06T14:59:30.865Z"
   },
   {
    "duration": 176,
    "start_time": "2023-04-06T14:59:33.410Z"
   },
   {
    "duration": 820,
    "start_time": "2023-04-06T14:59:35.009Z"
   },
   {
    "duration": 172,
    "start_time": "2023-04-06T14:59:37.111Z"
   },
   {
    "duration": 192,
    "start_time": "2023-04-06T14:59:37.285Z"
   },
   {
    "duration": 273,
    "start_time": "2023-04-06T14:59:45.170Z"
   },
   {
    "duration": 362,
    "start_time": "2023-04-06T14:59:54.274Z"
   },
   {
    "duration": 450,
    "start_time": "2023-04-06T15:00:00.546Z"
   },
   {
    "duration": 524,
    "start_time": "2023-04-06T15:00:10.830Z"
   },
   {
    "duration": 10,
    "start_time": "2023-04-06T15:01:19.668Z"
   },
   {
    "duration": 272,
    "start_time": "2023-04-06T15:01:36.752Z"
   },
   {
    "duration": 7,
    "start_time": "2023-04-06T15:01:47.322Z"
   },
   {
    "duration": 3,
    "start_time": "2023-04-06T15:02:48.994Z"
   },
   {
    "duration": 21,
    "start_time": "2023-04-06T15:05:01.154Z"
   },
   {
    "duration": 3,
    "start_time": "2023-04-06T15:05:16.159Z"
   },
   {
    "duration": 3,
    "start_time": "2023-04-06T15:05:19.849Z"
   },
   {
    "duration": 6,
    "start_time": "2023-04-06T15:05:25.374Z"
   },
   {
    "duration": 8,
    "start_time": "2023-04-06T15:06:15.443Z"
   },
   {
    "duration": 14,
    "start_time": "2023-04-06T15:07:09.555Z"
   },
   {
    "duration": 999,
    "start_time": "2023-04-06T15:07:15.320Z"
   },
   {
    "duration": 10,
    "start_time": "2023-04-06T15:07:38.213Z"
   },
   {
    "duration": 13,
    "start_time": "2023-04-06T15:07:44.906Z"
   },
   {
    "duration": 8,
    "start_time": "2023-04-06T15:09:35.533Z"
   },
   {
    "duration": 27,
    "start_time": "2023-04-06T15:10:09.843Z"
   },
   {
    "duration": 75,
    "start_time": "2023-04-06T15:10:14.657Z"
   },
   {
    "duration": 14,
    "start_time": "2023-04-06T15:10:31.088Z"
   },
   {
    "duration": 1523,
    "start_time": "2023-04-06T15:15:56.781Z"
   },
   {
    "duration": 49,
    "start_time": "2023-04-06T15:15:58.916Z"
   },
   {
    "duration": 13,
    "start_time": "2023-04-06T15:15:59.500Z"
   },
   {
    "duration": 5,
    "start_time": "2023-04-06T15:15:59.906Z"
   },
   {
    "duration": 17,
    "start_time": "2023-04-06T15:16:00.298Z"
   },
   {
    "duration": 10,
    "start_time": "2023-04-06T15:16:01.660Z"
   },
   {
    "duration": 7,
    "start_time": "2023-04-06T15:16:02.015Z"
   },
   {
    "duration": 4,
    "start_time": "2023-04-06T15:16:02.804Z"
   },
   {
    "duration": 691,
    "start_time": "2023-04-06T15:16:03.216Z"
   },
   {
    "duration": 123,
    "start_time": "2023-04-06T15:16:21.760Z"
   },
   {
    "duration": 10,
    "start_time": "2023-04-06T15:16:25.254Z"
   },
   {
    "duration": 6,
    "start_time": "2023-04-06T15:16:31.548Z"
   },
   {
    "duration": 7,
    "start_time": "2023-04-06T15:19:14.170Z"
   },
   {
    "duration": 7,
    "start_time": "2023-04-06T15:19:25.001Z"
   },
   {
    "duration": 11,
    "start_time": "2023-04-06T15:19:43.161Z"
   },
   {
    "duration": 45,
    "start_time": "2023-04-06T15:20:14.263Z"
   },
   {
    "duration": 6,
    "start_time": "2023-04-06T15:20:14.612Z"
   },
   {
    "duration": 3,
    "start_time": "2023-04-06T15:20:14.961Z"
   },
   {
    "duration": 11,
    "start_time": "2023-04-06T15:20:15.457Z"
   },
   {
    "duration": 10,
    "start_time": "2023-04-06T15:20:17.217Z"
   },
   {
    "duration": 7,
    "start_time": "2023-04-06T15:20:18.328Z"
   },
   {
    "duration": 4,
    "start_time": "2023-04-06T15:20:21.156Z"
   },
   {
    "duration": 683,
    "start_time": "2023-04-06T15:20:22.858Z"
   },
   {
    "duration": 8,
    "start_time": "2023-04-06T15:20:25.959Z"
   },
   {
    "duration": 7,
    "start_time": "2023-04-06T15:20:26.423Z"
   },
   {
    "duration": 221,
    "start_time": "2023-04-06T15:20:27.188Z"
   },
   {
    "duration": 165,
    "start_time": "2023-04-06T15:20:28.862Z"
   },
   {
    "duration": 809,
    "start_time": "2023-04-06T15:20:30.556Z"
   },
   {
    "duration": 213,
    "start_time": "2023-04-06T15:20:32.328Z"
   },
   {
    "duration": 142,
    "start_time": "2023-04-06T15:20:33.227Z"
   },
   {
    "duration": 6,
    "start_time": "2023-04-06T15:20:34.555Z"
   },
   {
    "duration": 364,
    "start_time": "2023-04-06T15:20:36.155Z"
   },
   {
    "duration": 354,
    "start_time": "2023-04-06T15:20:37.067Z"
   },
   {
    "duration": 13,
    "start_time": "2023-04-06T15:20:38.895Z"
   },
   {
    "duration": 15,
    "start_time": "2023-04-06T15:20:39.513Z"
   },
   {
    "duration": 11,
    "start_time": "2023-04-06T15:20:40.579Z"
   },
   {
    "duration": 10,
    "start_time": "2023-04-06T15:20:41.584Z"
   },
   {
    "duration": 17,
    "start_time": "2023-04-06T15:20:42.477Z"
   },
   {
    "duration": 11,
    "start_time": "2023-04-06T15:20:45.725Z"
   },
   {
    "duration": 10,
    "start_time": "2023-04-06T15:20:49.156Z"
   },
   {
    "duration": 8,
    "start_time": "2023-04-06T15:20:56.896Z"
   },
   {
    "duration": 20,
    "start_time": "2023-04-06T15:21:28.307Z"
   },
   {
    "duration": 13,
    "start_time": "2023-04-06T15:22:03.456Z"
   },
   {
    "duration": 22,
    "start_time": "2023-04-06T15:22:34.706Z"
   },
   {
    "duration": 24,
    "start_time": "2023-04-06T15:22:35.308Z"
   },
   {
    "duration": 6,
    "start_time": "2023-04-06T15:22:37.470Z"
   },
   {
    "duration": 7,
    "start_time": "2023-04-06T15:22:38.590Z"
   },
   {
    "duration": 15,
    "start_time": "2023-04-06T15:22:39.392Z"
   },
   {
    "duration": 9,
    "start_time": "2023-04-06T15:22:42.426Z"
   },
   {
    "duration": 10,
    "start_time": "2023-04-06T15:22:43.048Z"
   },
   {
    "duration": 13,
    "start_time": "2023-04-06T15:22:43.823Z"
   },
   {
    "duration": 1784,
    "start_time": "2023-04-06T15:25:07.923Z"
   },
   {
    "duration": 44,
    "start_time": "2023-04-06T15:25:09.709Z"
   },
   {
    "duration": 10,
    "start_time": "2023-04-06T15:25:09.755Z"
   },
   {
    "duration": 7,
    "start_time": "2023-04-06T15:25:09.767Z"
   },
   {
    "duration": 16,
    "start_time": "2023-04-06T15:25:09.775Z"
   },
   {
    "duration": 10,
    "start_time": "2023-04-06T15:25:09.793Z"
   },
   {
    "duration": 9,
    "start_time": "2023-04-06T15:25:09.805Z"
   },
   {
    "duration": 5,
    "start_time": "2023-04-06T15:25:09.816Z"
   },
   {
    "duration": 765,
    "start_time": "2023-04-06T15:25:09.823Z"
   },
   {
    "duration": 97,
    "start_time": "2023-04-06T15:25:10.590Z"
   },
   {
    "duration": 7,
    "start_time": "2023-04-06T15:25:10.689Z"
   },
   {
    "duration": 239,
    "start_time": "2023-04-06T15:25:10.697Z"
   },
   {
    "duration": 168,
    "start_time": "2023-04-06T15:25:10.938Z"
   },
   {
    "duration": 713,
    "start_time": "2023-04-06T15:25:11.108Z"
   },
   {
    "duration": 138,
    "start_time": "2023-04-06T15:25:11.823Z"
   },
   {
    "duration": 145,
    "start_time": "2023-04-06T15:25:11.962Z"
   },
   {
    "duration": 6,
    "start_time": "2023-04-06T15:25:12.109Z"
   },
   {
    "duration": 446,
    "start_time": "2023-04-06T15:25:12.117Z"
   },
   {
    "duration": 330,
    "start_time": "2023-04-06T15:25:12.565Z"
   },
   {
    "duration": 25,
    "start_time": "2023-04-06T15:25:12.897Z"
   },
   {
    "duration": 25,
    "start_time": "2023-04-06T15:25:12.923Z"
   },
   {
    "duration": 7,
    "start_time": "2023-04-06T15:25:12.949Z"
   },
   {
    "duration": 34,
    "start_time": "2023-04-06T15:25:12.957Z"
   },
   {
    "duration": 15,
    "start_time": "2023-04-06T15:25:12.992Z"
   },
   {
    "duration": 11,
    "start_time": "2023-04-06T15:25:13.008Z"
   },
   {
    "duration": 68,
    "start_time": "2023-04-06T15:25:13.020Z"
   },
   {
    "duration": 111,
    "start_time": "2023-04-06T15:25:13.090Z"
   },
   {
    "duration": 13,
    "start_time": "2023-04-06T15:25:37.382Z"
   },
   {
    "duration": 21,
    "start_time": "2023-04-06T15:25:37.733Z"
   },
   {
    "duration": 6,
    "start_time": "2023-04-06T15:25:38.587Z"
   },
   {
    "duration": 7,
    "start_time": "2023-04-06T15:25:39.292Z"
   },
   {
    "duration": 14,
    "start_time": "2023-04-06T15:25:39.706Z"
   },
   {
    "duration": 9,
    "start_time": "2023-04-06T15:25:40.961Z"
   },
   {
    "duration": 11,
    "start_time": "2023-04-06T15:25:41.394Z"
   },
   {
    "duration": 14,
    "start_time": "2023-04-06T15:25:41.868Z"
   },
   {
    "duration": 13,
    "start_time": "2023-04-06T15:25:51.786Z"
   },
   {
    "duration": 22,
    "start_time": "2023-04-06T15:25:52.941Z"
   },
   {
    "duration": 1398,
    "start_time": "2023-04-06T15:26:26.023Z"
   },
   {
    "duration": 44,
    "start_time": "2023-04-06T15:26:27.423Z"
   },
   {
    "duration": 17,
    "start_time": "2023-04-06T15:26:27.475Z"
   },
   {
    "duration": 4,
    "start_time": "2023-04-06T15:26:27.494Z"
   },
   {
    "duration": 22,
    "start_time": "2023-04-06T15:26:27.500Z"
   },
   {
    "duration": 11,
    "start_time": "2023-04-06T15:26:27.524Z"
   },
   {
    "duration": 9,
    "start_time": "2023-04-06T15:26:27.537Z"
   },
   {
    "duration": 5,
    "start_time": "2023-04-06T15:26:27.548Z"
   },
   {
    "duration": 672,
    "start_time": "2023-04-06T15:26:27.555Z"
   },
   {
    "duration": 93,
    "start_time": "2023-04-06T15:26:28.230Z"
   },
   {
    "duration": 8,
    "start_time": "2023-04-06T15:26:28.325Z"
   },
   {
    "duration": 238,
    "start_time": "2023-04-06T15:26:28.334Z"
   },
   {
    "duration": 162,
    "start_time": "2023-04-06T15:26:28.574Z"
   },
   {
    "duration": 721,
    "start_time": "2023-04-06T15:26:28.738Z"
   },
   {
    "duration": 146,
    "start_time": "2023-04-06T15:26:29.461Z"
   },
   {
    "duration": 159,
    "start_time": "2023-04-06T15:26:29.609Z"
   },
   {
    "duration": 17,
    "start_time": "2023-04-06T15:26:29.770Z"
   },
   {
    "duration": 430,
    "start_time": "2023-04-06T15:26:29.789Z"
   },
   {
    "duration": 352,
    "start_time": "2023-04-06T15:26:30.221Z"
   },
   {
    "duration": 11,
    "start_time": "2023-04-06T15:26:30.576Z"
   },
   {
    "duration": 74,
    "start_time": "2023-04-06T15:26:30.590Z"
   },
   {
    "duration": 122,
    "start_time": "2023-04-06T15:26:30.666Z"
   },
   {
    "duration": 0,
    "start_time": "2023-04-06T15:26:30.790Z"
   },
   {
    "duration": 0,
    "start_time": "2023-04-06T15:26:30.792Z"
   },
   {
    "duration": 0,
    "start_time": "2023-04-06T15:26:30.793Z"
   },
   {
    "duration": 0,
    "start_time": "2023-04-06T15:26:30.794Z"
   },
   {
    "duration": 0,
    "start_time": "2023-04-06T15:26:30.795Z"
   },
   {
    "duration": 0,
    "start_time": "2023-04-06T15:26:30.797Z"
   },
   {
    "duration": 5,
    "start_time": "2023-04-06T15:26:58.351Z"
   },
   {
    "duration": 13,
    "start_time": "2023-04-06T15:26:58.983Z"
   },
   {
    "duration": 32,
    "start_time": "2023-04-06T15:26:59.521Z"
   },
   {
    "duration": 8,
    "start_time": "2023-04-06T15:27:17.060Z"
   },
   {
    "duration": 26,
    "start_time": "2023-04-06T15:27:17.654Z"
   },
   {
    "duration": 5,
    "start_time": "2023-04-06T15:27:29.205Z"
   },
   {
    "duration": 8,
    "start_time": "2023-04-06T15:27:29.594Z"
   },
   {
    "duration": 24,
    "start_time": "2023-04-06T15:27:30.114Z"
   },
   {
    "duration": 1465,
    "start_time": "2023-04-06T15:28:00.803Z"
   },
   {
    "duration": 43,
    "start_time": "2023-04-06T15:28:02.270Z"
   },
   {
    "duration": 13,
    "start_time": "2023-04-06T15:28:02.315Z"
   },
   {
    "duration": 16,
    "start_time": "2023-04-06T15:28:02.330Z"
   },
   {
    "duration": 37,
    "start_time": "2023-04-06T15:28:02.347Z"
   },
   {
    "duration": 10,
    "start_time": "2023-04-06T15:28:02.386Z"
   },
   {
    "duration": 23,
    "start_time": "2023-04-06T15:28:02.398Z"
   },
   {
    "duration": 9,
    "start_time": "2023-04-06T15:28:02.423Z"
   },
   {
    "duration": 687,
    "start_time": "2023-04-06T15:28:02.433Z"
   },
   {
    "duration": 88,
    "start_time": "2023-04-06T15:28:03.123Z"
   },
   {
    "duration": 38,
    "start_time": "2023-04-06T15:28:03.214Z"
   },
   {
    "duration": 244,
    "start_time": "2023-04-06T15:28:03.254Z"
   },
   {
    "duration": 169,
    "start_time": "2023-04-06T15:28:03.500Z"
   },
   {
    "duration": 724,
    "start_time": "2023-04-06T15:28:03.671Z"
   },
   {
    "duration": 140,
    "start_time": "2023-04-06T15:28:04.397Z"
   },
   {
    "duration": 145,
    "start_time": "2023-04-06T15:28:04.539Z"
   },
   {
    "duration": 7,
    "start_time": "2023-04-06T15:28:04.687Z"
   },
   {
    "duration": 472,
    "start_time": "2023-04-06T15:28:04.695Z"
   },
   {
    "duration": 330,
    "start_time": "2023-04-06T15:28:05.168Z"
   },
   {
    "duration": 4,
    "start_time": "2023-04-06T15:28:05.500Z"
   },
   {
    "duration": 24,
    "start_time": "2023-04-06T15:28:05.506Z"
   },
   {
    "duration": 17,
    "start_time": "2023-04-06T15:28:05.532Z"
   },
   {
    "duration": 28,
    "start_time": "2023-04-06T15:28:05.550Z"
   },
   {
    "duration": 18,
    "start_time": "2023-04-06T15:28:05.580Z"
   },
   {
    "duration": 27,
    "start_time": "2023-04-06T15:28:05.600Z"
   },
   {
    "duration": 13,
    "start_time": "2023-04-06T15:28:05.629Z"
   },
   {
    "duration": 28,
    "start_time": "2023-04-06T15:28:05.644Z"
   },
   {
    "duration": 200,
    "start_time": "2023-04-06T15:28:05.687Z"
   },
   {
    "duration": 9,
    "start_time": "2023-04-06T15:28:22.425Z"
   },
   {
    "duration": 17,
    "start_time": "2023-04-06T15:28:23.014Z"
   },
   {
    "duration": 4,
    "start_time": "2023-04-06T15:29:08.803Z"
   },
   {
    "duration": 9,
    "start_time": "2023-04-06T15:29:09.867Z"
   },
   {
    "duration": 21,
    "start_time": "2023-04-06T15:29:10.491Z"
   },
   {
    "duration": 1312,
    "start_time": "2023-04-06T15:29:15.943Z"
   },
   {
    "duration": 44,
    "start_time": "2023-04-06T15:29:17.257Z"
   },
   {
    "duration": 11,
    "start_time": "2023-04-06T15:29:17.303Z"
   },
   {
    "duration": 4,
    "start_time": "2023-04-06T15:29:17.317Z"
   },
   {
    "duration": 15,
    "start_time": "2023-04-06T15:29:17.322Z"
   },
   {
    "duration": 11,
    "start_time": "2023-04-06T15:29:17.339Z"
   },
   {
    "duration": 9,
    "start_time": "2023-04-06T15:29:17.351Z"
   },
   {
    "duration": 4,
    "start_time": "2023-04-06T15:29:17.388Z"
   },
   {
    "duration": 670,
    "start_time": "2023-04-06T15:29:17.394Z"
   },
   {
    "duration": 90,
    "start_time": "2023-04-06T15:29:18.067Z"
   },
   {
    "duration": 9,
    "start_time": "2023-04-06T15:29:18.158Z"
   },
   {
    "duration": 228,
    "start_time": "2023-04-06T15:29:18.168Z"
   },
   {
    "duration": 165,
    "start_time": "2023-04-06T15:29:18.398Z"
   },
   {
    "duration": 762,
    "start_time": "2023-04-06T15:29:18.565Z"
   },
   {
    "duration": 135,
    "start_time": "2023-04-06T15:29:19.330Z"
   },
   {
    "duration": 140,
    "start_time": "2023-04-06T15:29:19.466Z"
   },
   {
    "duration": 6,
    "start_time": "2023-04-06T15:29:19.608Z"
   },
   {
    "duration": 423,
    "start_time": "2023-04-06T15:29:19.616Z"
   },
   {
    "duration": 322,
    "start_time": "2023-04-06T15:29:20.041Z"
   },
   {
    "duration": 6,
    "start_time": "2023-04-06T15:29:20.365Z"
   },
   {
    "duration": 33,
    "start_time": "2023-04-06T15:29:20.374Z"
   },
   {
    "duration": 35,
    "start_time": "2023-04-06T15:29:20.409Z"
   },
   {
    "duration": 35,
    "start_time": "2023-04-06T15:29:20.446Z"
   },
   {
    "duration": 13,
    "start_time": "2023-04-06T15:29:20.483Z"
   },
   {
    "duration": 22,
    "start_time": "2023-04-06T15:29:20.498Z"
   },
   {
    "duration": 15,
    "start_time": "2023-04-06T15:29:20.522Z"
   },
   {
    "duration": 7,
    "start_time": "2023-04-06T15:29:20.540Z"
   },
   {
    "duration": 137,
    "start_time": "2023-04-06T15:29:20.551Z"
   },
   {
    "duration": 14,
    "start_time": "2023-04-06T15:29:30.332Z"
   },
   {
    "duration": 17,
    "start_time": "2023-04-06T15:29:31.064Z"
   },
   {
    "duration": 7,
    "start_time": "2023-04-06T15:29:34.661Z"
   },
   {
    "duration": 7,
    "start_time": "2023-04-06T15:29:35.410Z"
   },
   {
    "duration": 12,
    "start_time": "2023-04-06T15:29:36.097Z"
   },
   {
    "duration": 8,
    "start_time": "2023-04-06T15:29:37.280Z"
   },
   {
    "duration": 7,
    "start_time": "2023-04-06T15:29:37.778Z"
   },
   {
    "duration": 11,
    "start_time": "2023-04-06T15:29:38.240Z"
   },
   {
    "duration": 23,
    "start_time": "2023-04-06T15:29:52.271Z"
   },
   {
    "duration": 27,
    "start_time": "2023-04-06T15:29:52.967Z"
   },
   {
    "duration": 8,
    "start_time": "2023-04-06T15:29:53.817Z"
   },
   {
    "duration": 7,
    "start_time": "2023-04-06T15:29:54.226Z"
   },
   {
    "duration": 16,
    "start_time": "2023-04-06T15:29:54.508Z"
   },
   {
    "duration": 8,
    "start_time": "2023-04-06T15:29:55.671Z"
   },
   {
    "duration": 10,
    "start_time": "2023-04-06T15:29:56.115Z"
   },
   {
    "duration": 13,
    "start_time": "2023-04-06T15:29:56.579Z"
   },
   {
    "duration": 7,
    "start_time": "2023-04-06T15:30:13.744Z"
   },
   {
    "duration": 6,
    "start_time": "2023-04-06T15:30:21.718Z"
   },
   {
    "duration": 5,
    "start_time": "2023-04-06T15:43:14.559Z"
   },
   {
    "duration": 4,
    "start_time": "2023-04-06T15:43:22.903Z"
   },
   {
    "duration": 4,
    "start_time": "2023-04-06T15:43:47.595Z"
   },
   {
    "duration": 4,
    "start_time": "2023-04-06T15:44:35.055Z"
   },
   {
    "duration": 39,
    "start_time": "2023-04-06T15:44:35.833Z"
   },
   {
    "duration": 7,
    "start_time": "2023-04-06T15:44:36.083Z"
   },
   {
    "duration": 3,
    "start_time": "2023-04-06T15:44:36.366Z"
   },
   {
    "duration": 11,
    "start_time": "2023-04-06T15:44:36.625Z"
   },
   {
    "duration": 16,
    "start_time": "2023-04-06T15:44:37.721Z"
   },
   {
    "duration": 7,
    "start_time": "2023-04-06T15:44:38.029Z"
   },
   {
    "duration": 4,
    "start_time": "2023-04-06T15:44:38.717Z"
   },
   {
    "duration": 635,
    "start_time": "2023-04-06T15:44:39.232Z"
   },
   {
    "duration": 7,
    "start_time": "2023-04-06T15:44:40.904Z"
   },
   {
    "duration": 4,
    "start_time": "2023-04-06T15:44:41.363Z"
   },
   {
    "duration": 27,
    "start_time": "2023-04-06T15:45:49.638Z"
   },
   {
    "duration": 266,
    "start_time": "2023-04-06T15:46:17.383Z"
   },
   {
    "duration": 483,
    "start_time": "2023-04-06T17:05:32.545Z"
   },
   {
    "duration": 286,
    "start_time": "2023-04-06T17:05:39.994Z"
   },
   {
    "duration": 177,
    "start_time": "2023-04-06T17:05:55.076Z"
   },
   {
    "duration": 3,
    "start_time": "2023-04-06T17:06:23.354Z"
   },
   {
    "duration": 2309,
    "start_time": "2023-04-06T17:06:31.504Z"
   },
   {
    "duration": 4,
    "start_time": "2023-04-06T17:06:48.351Z"
   },
   {
    "duration": 1501,
    "start_time": "2023-04-06T17:15:51.943Z"
   },
   {
    "duration": 46,
    "start_time": "2023-04-06T17:15:56.197Z"
   },
   {
    "duration": 12,
    "start_time": "2023-04-06T17:15:56.573Z"
   },
   {
    "duration": 5,
    "start_time": "2023-04-06T17:15:56.909Z"
   },
   {
    "duration": 19,
    "start_time": "2023-04-06T17:15:57.213Z"
   },
   {
    "duration": 11,
    "start_time": "2023-04-06T17:15:58.430Z"
   },
   {
    "duration": 8,
    "start_time": "2023-04-06T17:15:58.868Z"
   },
   {
    "duration": 5,
    "start_time": "2023-04-06T17:15:59.646Z"
   },
   {
    "duration": 742,
    "start_time": "2023-04-06T17:15:59.970Z"
   },
   {
    "duration": 10,
    "start_time": "2023-04-06T17:16:01.778Z"
   },
   {
    "duration": 5,
    "start_time": "2023-04-06T17:16:02.097Z"
   },
   {
    "duration": 7,
    "start_time": "2023-04-06T17:16:02.446Z"
   },
   {
    "duration": 314,
    "start_time": "2023-04-06T17:16:02.775Z"
   },
   {
    "duration": 159,
    "start_time": "2023-04-06T17:16:04.215Z"
   },
   {
    "duration": 700,
    "start_time": "2023-04-06T17:16:05.417Z"
   },
   {
    "duration": 132,
    "start_time": "2023-04-06T17:16:06.942Z"
   },
   {
    "duration": 136,
    "start_time": "2023-04-06T17:16:07.599Z"
   },
   {
    "duration": 6,
    "start_time": "2023-04-06T17:16:08.545Z"
   },
   {
    "duration": 410,
    "start_time": "2023-04-06T17:16:09.089Z"
   },
   {
    "duration": 316,
    "start_time": "2023-04-06T17:16:09.501Z"
   },
   {
    "duration": 290,
    "start_time": "2023-04-06T17:16:10.061Z"
   },
   {
    "duration": 5,
    "start_time": "2023-04-06T17:16:20.197Z"
   },
   {
    "duration": 131,
    "start_time": "2023-04-06T17:16:20.694Z"
   },
   {
    "duration": 20,
    "start_time": "2023-04-06T17:16:39.241Z"
   },
   {
    "duration": 24,
    "start_time": "2023-04-06T17:16:40.748Z"
   },
   {
    "duration": 5,
    "start_time": "2023-04-06T17:16:44.014Z"
   },
   {
    "duration": 8,
    "start_time": "2023-04-06T17:16:46.400Z"
   },
   {
    "duration": 9,
    "start_time": "2023-04-06T17:16:50.201Z"
   },
   {
    "duration": 13,
    "start_time": "2023-04-06T17:16:50.894Z"
   },
   {
    "duration": 9,
    "start_time": "2023-04-06T17:16:53.026Z"
   },
   {
    "duration": 4,
    "start_time": "2023-04-06T17:16:53.702Z"
   },
   {
    "duration": 6,
    "start_time": "2023-04-06T17:17:20.963Z"
   },
   {
    "duration": 11,
    "start_time": "2023-04-06T17:17:33.831Z"
   },
   {
    "duration": 24,
    "start_time": "2023-04-06T17:17:35.864Z"
   },
   {
    "duration": 25,
    "start_time": "2023-04-06T17:18:07.091Z"
   },
   {
    "duration": 36,
    "start_time": "2023-04-06T17:18:08.031Z"
   },
   {
    "duration": 5,
    "start_time": "2023-04-06T17:18:11.377Z"
   },
   {
    "duration": 10,
    "start_time": "2023-04-06T17:18:12.452Z"
   },
   {
    "duration": 10,
    "start_time": "2023-04-06T17:18:13.539Z"
   },
   {
    "duration": 17,
    "start_time": "2023-04-06T17:18:13.980Z"
   },
   {
    "duration": 10,
    "start_time": "2023-04-06T17:18:15.505Z"
   },
   {
    "duration": 20,
    "start_time": "2023-04-06T17:18:15.914Z"
   },
   {
    "duration": 159,
    "start_time": "2023-04-06T17:18:16.528Z"
   },
   {
    "duration": 20,
    "start_time": "2023-04-06T17:19:24.442Z"
   },
   {
    "duration": 36,
    "start_time": "2023-04-06T17:24:50.656Z"
   },
   {
    "duration": 4,
    "start_time": "2023-04-06T17:27:20.163Z"
   },
   {
    "duration": 32,
    "start_time": "2023-04-06T17:27:38.796Z"
   },
   {
    "duration": 26,
    "start_time": "2023-04-06T17:27:39.881Z"
   },
   {
    "duration": 4,
    "start_time": "2023-04-06T17:27:48.256Z"
   },
   {
    "duration": 1134,
    "start_time": "2023-04-06T17:27:49.435Z"
   },
   {
    "duration": 1125,
    "start_time": "2023-04-06T17:27:51.898Z"
   },
   {
    "duration": 1156,
    "start_time": "2023-04-06T17:27:56.161Z"
   },
   {
    "duration": 31,
    "start_time": "2023-04-06T17:28:14.618Z"
   },
   {
    "duration": 25,
    "start_time": "2023-04-06T17:28:42.571Z"
   },
   {
    "duration": 417,
    "start_time": "2023-04-06T17:29:01.195Z"
   },
   {
    "duration": 4,
    "start_time": "2023-04-06T17:29:44.813Z"
   },
   {
    "duration": 22,
    "start_time": "2023-04-06T17:29:45.832Z"
   },
   {
    "duration": 25,
    "start_time": "2023-04-06T17:29:46.890Z"
   },
   {
    "duration": 4,
    "start_time": "2023-04-06T17:29:47.853Z"
   },
   {
    "duration": 8,
    "start_time": "2023-04-06T17:29:49.094Z"
   },
   {
    "duration": 9,
    "start_time": "2023-04-06T17:29:49.904Z"
   },
   {
    "duration": 18,
    "start_time": "2023-04-06T17:29:51.364Z"
   },
   {
    "duration": 9,
    "start_time": "2023-04-06T17:29:52.047Z"
   },
   {
    "duration": 3,
    "start_time": "2023-04-06T17:29:53.862Z"
   },
   {
    "duration": 1138,
    "start_time": "2023-04-06T17:29:54.580Z"
   },
   {
    "duration": 24,
    "start_time": "2023-04-06T17:29:55.721Z"
   },
   {
    "duration": 295,
    "start_time": "2023-04-06T17:29:56.635Z"
   },
   {
    "duration": 297,
    "start_time": "2023-04-06T17:30:23.502Z"
   },
   {
    "duration": 12,
    "start_time": "2023-04-06T17:30:56.009Z"
   },
   {
    "duration": 7,
    "start_time": "2023-04-06T17:31:07.420Z"
   },
   {
    "duration": 13,
    "start_time": "2023-04-06T17:31:08.297Z"
   },
   {
    "duration": 18,
    "start_time": "2023-04-06T17:36:20.116Z"
   },
   {
    "duration": 104,
    "start_time": "2023-04-06T17:36:48.732Z"
   },
   {
    "duration": 31675,
    "start_time": "2023-04-06T17:36:55.163Z"
   },
   {
    "duration": 10,
    "start_time": "2023-04-06T17:37:41.910Z"
   },
   {
    "duration": 5495,
    "start_time": "2023-04-06T17:38:15.092Z"
   },
   {
    "duration": 63139,
    "start_time": "2023-04-06T17:38:23.525Z"
   },
   {
    "duration": 10,
    "start_time": "2023-04-06T17:39:28.911Z"
   },
   {
    "duration": 4,
    "start_time": "2023-04-06T17:39:47.009Z"
   },
   {
    "duration": 5703,
    "start_time": "2023-04-06T17:39:48.304Z"
   },
   {
    "duration": 98,
    "start_time": "2023-04-06T17:39:54.009Z"
   },
   {
    "duration": 324,
    "start_time": "2023-04-06T17:39:54.109Z"
   },
   {
    "duration": 25,
    "start_time": "2023-04-06T17:39:59.428Z"
   },
   {
    "duration": 8,
    "start_time": "2023-04-06T17:40:03.801Z"
   },
   {
    "duration": 16,
    "start_time": "2023-04-06T17:40:04.374Z"
   },
   {
    "duration": 1525,
    "start_time": "2023-04-06T18:07:59.497Z"
   },
   {
    "duration": 47,
    "start_time": "2023-04-06T18:08:01.025Z"
   },
   {
    "duration": 13,
    "start_time": "2023-04-06T18:08:01.074Z"
   },
   {
    "duration": 49,
    "start_time": "2023-04-06T18:08:01.089Z"
   },
   {
    "duration": 53,
    "start_time": "2023-04-06T18:08:01.142Z"
   },
   {
    "duration": 55,
    "start_time": "2023-04-06T18:08:01.197Z"
   },
   {
    "duration": 58,
    "start_time": "2023-04-06T18:08:01.255Z"
   },
   {
    "duration": 33,
    "start_time": "2023-04-06T18:08:01.316Z"
   },
   {
    "duration": 850,
    "start_time": "2023-04-06T18:08:01.351Z"
   },
   {
    "duration": 8,
    "start_time": "2023-04-06T18:08:02.203Z"
   },
   {
    "duration": 11,
    "start_time": "2023-04-06T18:08:02.213Z"
   },
   {
    "duration": 15,
    "start_time": "2023-04-06T18:08:02.225Z"
   },
   {
    "duration": 255,
    "start_time": "2023-04-06T18:08:02.241Z"
   },
   {
    "duration": 177,
    "start_time": "2023-04-06T18:08:02.499Z"
   },
   {
    "duration": 801,
    "start_time": "2023-04-06T18:08:02.687Z"
   },
   {
    "duration": 144,
    "start_time": "2023-04-06T18:08:03.491Z"
   },
   {
    "duration": 148,
    "start_time": "2023-04-06T18:08:03.636Z"
   },
   {
    "duration": 6,
    "start_time": "2023-04-06T18:08:03.787Z"
   },
   {
    "duration": 460,
    "start_time": "2023-04-06T18:08:03.795Z"
   },
   {
    "duration": 336,
    "start_time": "2023-04-06T18:08:04.257Z"
   },
   {
    "duration": 258,
    "start_time": "2023-04-06T18:08:04.595Z"
   },
   {
    "duration": 4,
    "start_time": "2023-04-06T18:08:04.855Z"
   },
   {
    "duration": 47,
    "start_time": "2023-04-06T18:08:04.861Z"
   },
   {
    "duration": 27,
    "start_time": "2023-04-06T18:08:04.910Z"
   },
   {
    "duration": 4,
    "start_time": "2023-04-06T18:08:04.939Z"
   },
   {
    "duration": 16,
    "start_time": "2023-04-06T18:08:04.945Z"
   },
   {
    "duration": 31,
    "start_time": "2023-04-06T18:08:04.963Z"
   },
   {
    "duration": 94,
    "start_time": "2023-04-06T18:08:04.996Z"
   },
   {
    "duration": 8,
    "start_time": "2023-04-06T18:08:05.093Z"
   },
   {
    "duration": 64294,
    "start_time": "2023-04-06T18:08:05.194Z"
   },
   {
    "duration": 14,
    "start_time": "2023-04-06T18:09:09.490Z"
   },
   {
    "duration": 15,
    "start_time": "2023-04-06T18:09:09.505Z"
   },
   {
    "duration": 5614,
    "start_time": "2023-04-06T18:09:09.521Z"
   },
   {
    "duration": 99,
    "start_time": "2023-04-06T18:09:15.137Z"
   },
   {
    "duration": 336,
    "start_time": "2023-04-06T18:09:15.237Z"
   },
   {
    "duration": 31,
    "start_time": "2023-04-06T18:09:15.576Z"
   },
   {
    "duration": 8,
    "start_time": "2023-04-06T18:09:15.608Z"
   },
   {
    "duration": 14,
    "start_time": "2023-04-06T18:09:15.617Z"
   },
   {
    "duration": 161,
    "start_time": "2023-04-06T18:09:54.588Z"
   },
   {
    "duration": 150,
    "start_time": "2023-04-06T18:10:02.529Z"
   },
   {
    "duration": 47,
    "start_time": "2023-04-07T14:13:17.422Z"
   },
   {
    "duration": 1689,
    "start_time": "2023-04-07T14:13:23.362Z"
   },
   {
    "duration": 124,
    "start_time": "2023-04-07T14:13:25.053Z"
   },
   {
    "duration": 11,
    "start_time": "2023-04-07T14:13:25.179Z"
   },
   {
    "duration": 28,
    "start_time": "2023-04-07T14:13:25.191Z"
   },
   {
    "duration": 16,
    "start_time": "2023-04-07T14:13:25.221Z"
   },
   {
    "duration": 15,
    "start_time": "2023-04-07T14:13:25.238Z"
   },
   {
    "duration": 26,
    "start_time": "2023-04-07T14:13:25.254Z"
   },
   {
    "duration": 17,
    "start_time": "2023-04-07T14:13:25.282Z"
   },
   {
    "duration": 668,
    "start_time": "2023-04-07T14:13:25.301Z"
   },
   {
    "duration": 7,
    "start_time": "2023-04-07T14:13:25.972Z"
   },
   {
    "duration": 11,
    "start_time": "2023-04-07T14:13:25.981Z"
   },
   {
    "duration": 24,
    "start_time": "2023-04-07T14:13:25.993Z"
   },
   {
    "duration": 235,
    "start_time": "2023-04-07T14:13:26.019Z"
   },
   {
    "duration": 157,
    "start_time": "2023-04-07T14:13:26.256Z"
   },
   {
    "duration": 726,
    "start_time": "2023-04-07T14:13:26.414Z"
   },
   {
    "duration": 146,
    "start_time": "2023-04-07T14:13:27.141Z"
   },
   {
    "duration": 158,
    "start_time": "2023-04-07T14:13:27.289Z"
   },
   {
    "duration": 7,
    "start_time": "2023-04-07T14:13:27.449Z"
   },
   {
    "duration": 385,
    "start_time": "2023-04-07T14:13:27.458Z"
   },
   {
    "duration": 245,
    "start_time": "2023-04-07T14:13:27.845Z"
   },
   {
    "duration": 4,
    "start_time": "2023-04-07T14:13:28.091Z"
   },
   {
    "duration": 27,
    "start_time": "2023-04-07T14:13:28.096Z"
   },
   {
    "duration": 27,
    "start_time": "2023-04-07T14:13:28.134Z"
   },
   {
    "duration": 4,
    "start_time": "2023-04-07T14:13:28.163Z"
   },
   {
    "duration": 7,
    "start_time": "2023-04-07T14:13:30.446Z"
   },
   {
    "duration": 8,
    "start_time": "2023-04-07T14:14:04.523Z"
   },
   {
    "duration": 6,
    "start_time": "2023-04-07T14:14:17.932Z"
   },
   {
    "duration": 6,
    "start_time": "2023-04-07T14:14:18.791Z"
   },
   {
    "duration": 9,
    "start_time": "2023-04-07T14:15:00.034Z"
   },
   {
    "duration": 9,
    "start_time": "2023-04-07T14:15:11.554Z"
   },
   {
    "duration": 11,
    "start_time": "2023-04-07T14:15:11.997Z"
   },
   {
    "duration": 49532,
    "start_time": "2023-04-07T14:15:38.272Z"
   },
   {
    "duration": 10,
    "start_time": "2023-04-07T14:40:46.713Z"
   },
   {
    "duration": 3,
    "start_time": "2023-04-07T14:40:54.089Z"
   },
   {
    "duration": 4598,
    "start_time": "2023-04-07T14:41:14.852Z"
   },
   {
    "duration": 24,
    "start_time": "2023-04-07T14:41:28.865Z"
   },
   {
    "duration": 34,
    "start_time": "2023-04-07T14:41:34.341Z"
   },
   {
    "duration": 300,
    "start_time": "2023-04-07T14:41:38.894Z"
   },
   {
    "duration": 1707,
    "start_time": "2023-04-08T06:34:46.881Z"
   },
   {
    "duration": 135,
    "start_time": "2023-04-08T06:34:48.591Z"
   },
   {
    "duration": 11,
    "start_time": "2023-04-08T06:34:48.728Z"
   },
   {
    "duration": 6,
    "start_time": "2023-04-08T06:34:49.564Z"
   },
   {
    "duration": 14,
    "start_time": "2023-04-08T06:34:50.098Z"
   },
   {
    "duration": 10,
    "start_time": "2023-04-08T06:34:51.317Z"
   },
   {
    "duration": 7,
    "start_time": "2023-04-08T06:34:51.659Z"
   },
   {
    "duration": 5,
    "start_time": "2023-04-08T06:34:52.436Z"
   },
   {
    "duration": 733,
    "start_time": "2023-04-08T06:34:53.049Z"
   },
   {
    "duration": 9,
    "start_time": "2023-04-08T06:34:54.246Z"
   },
   {
    "duration": 4,
    "start_time": "2023-04-08T06:34:54.574Z"
   },
   {
    "duration": 7,
    "start_time": "2023-04-08T06:34:54.908Z"
   },
   {
    "duration": 226,
    "start_time": "2023-04-08T06:34:55.221Z"
   },
   {
    "duration": 144,
    "start_time": "2023-04-08T06:34:56.470Z"
   },
   {
    "duration": 771,
    "start_time": "2023-04-08T06:34:57.325Z"
   },
   {
    "duration": 143,
    "start_time": "2023-04-08T06:34:58.097Z"
   },
   {
    "duration": 148,
    "start_time": "2023-04-08T06:34:58.554Z"
   },
   {
    "duration": 9,
    "start_time": "2023-04-08T06:34:59.194Z"
   },
   {
    "duration": 408,
    "start_time": "2023-04-08T06:34:59.521Z"
   },
   {
    "duration": 235,
    "start_time": "2023-04-08T06:35:00.184Z"
   },
   {
    "duration": 4,
    "start_time": "2023-04-08T06:35:01.980Z"
   },
   {
    "duration": 21,
    "start_time": "2023-04-08T06:35:02.593Z"
   },
   {
    "duration": 23,
    "start_time": "2023-04-08T06:35:02.922Z"
   },
   {
    "duration": 4,
    "start_time": "2023-04-08T06:35:03.230Z"
   },
   {
    "duration": 8,
    "start_time": "2023-04-08T06:35:03.854Z"
   },
   {
    "duration": 6,
    "start_time": "2023-04-08T06:35:04.167Z"
   },
   {
    "duration": 10,
    "start_time": "2023-04-08T06:35:04.777Z"
   },
   {
    "duration": 64,
    "start_time": "2023-04-08T06:35:05.397Z"
   },
   {
    "duration": 63,
    "start_time": "2023-04-08T06:35:05.701Z"
   },
   {
    "duration": 51284,
    "start_time": "2023-04-08T06:35:31.768Z"
   },
   {
    "duration": 14,
    "start_time": "2023-04-08T06:36:23.054Z"
   },
   {
    "duration": 5,
    "start_time": "2023-04-08T06:36:23.070Z"
   },
   {
    "duration": 4689,
    "start_time": "2023-04-08T06:36:23.077Z"
   },
   {
    "duration": 22,
    "start_time": "2023-04-08T06:36:27.768Z"
   },
   {
    "duration": 302,
    "start_time": "2023-04-08T06:36:27.792Z"
   },
   {
    "duration": 27,
    "start_time": "2023-04-08T06:37:07.229Z"
   },
   {
    "duration": 8,
    "start_time": "2023-04-08T06:37:08.673Z"
   },
   {
    "duration": 14,
    "start_time": "2023-04-08T06:37:09.121Z"
   },
   {
    "duration": 204,
    "start_time": "2023-04-08T06:42:23.244Z"
   },
   {
    "duration": 79,
    "start_time": "2023-04-08T06:43:32.702Z"
   },
   {
    "duration": 190,
    "start_time": "2023-04-08T06:43:35.990Z"
   },
   {
    "duration": 3,
    "start_time": "2023-04-08T06:44:38.895Z"
   },
   {
    "duration": 38,
    "start_time": "2023-04-08T06:44:39.898Z"
   },
   {
    "duration": 8,
    "start_time": "2023-04-08T06:44:40.059Z"
   },
   {
    "duration": 4,
    "start_time": "2023-04-08T06:44:40.472Z"
   },
   {
    "duration": 11,
    "start_time": "2023-04-08T06:44:40.653Z"
   },
   {
    "duration": 15,
    "start_time": "2023-04-08T06:44:41.868Z"
   },
   {
    "duration": 10,
    "start_time": "2023-04-08T06:44:42.041Z"
   },
   {
    "duration": 5,
    "start_time": "2023-04-08T06:44:42.393Z"
   },
   {
    "duration": 672,
    "start_time": "2023-04-08T06:44:42.730Z"
   },
   {
    "duration": 9,
    "start_time": "2023-04-08T06:44:43.512Z"
   },
   {
    "duration": 4,
    "start_time": "2023-04-08T06:44:43.861Z"
   },
   {
    "duration": 7,
    "start_time": "2023-04-08T06:44:44.065Z"
   },
   {
    "duration": 208,
    "start_time": "2023-04-08T06:44:44.229Z"
   },
   {
    "duration": 149,
    "start_time": "2023-04-08T06:44:45.549Z"
   },
   {
    "duration": 651,
    "start_time": "2023-04-08T06:44:46.517Z"
   },
   {
    "duration": 143,
    "start_time": "2023-04-08T06:44:48.458Z"
   },
   {
    "duration": 150,
    "start_time": "2023-04-08T06:44:48.603Z"
   },
   {
    "duration": 6,
    "start_time": "2023-04-08T06:44:49.065Z"
   },
   {
    "duration": 398,
    "start_time": "2023-04-08T06:44:49.594Z"
   },
   {
    "duration": 232,
    "start_time": "2023-04-08T06:44:51.002Z"
   },
   {
    "duration": 5,
    "start_time": "2023-04-08T06:44:55.787Z"
   },
   {
    "duration": 21,
    "start_time": "2023-04-08T06:44:56.530Z"
   },
   {
    "duration": 22,
    "start_time": "2023-04-08T06:44:56.714Z"
   },
   {
    "duration": 4,
    "start_time": "2023-04-08T06:44:57.238Z"
   },
   {
    "duration": 8,
    "start_time": "2023-04-08T06:44:57.874Z"
   },
   {
    "duration": 6,
    "start_time": "2023-04-08T06:44:58.323Z"
   },
   {
    "duration": 11,
    "start_time": "2023-04-08T06:45:01.110Z"
   },
   {
    "duration": 9,
    "start_time": "2023-04-08T06:45:02.111Z"
   },
   {
    "duration": 15,
    "start_time": "2023-04-08T06:45:02.645Z"
   },
   {
    "duration": 51830,
    "start_time": "2023-04-08T06:45:05.708Z"
   },
   {
    "duration": 9,
    "start_time": "2023-04-08T06:46:10.486Z"
   },
   {
    "duration": 3,
    "start_time": "2023-04-08T06:46:16.681Z"
   },
   {
    "duration": 4618,
    "start_time": "2023-04-08T06:46:17.544Z"
   },
   {
    "duration": 22,
    "start_time": "2023-04-08T06:46:22.164Z"
   },
   {
    "duration": 297,
    "start_time": "2023-04-08T06:46:22.188Z"
   },
   {
    "duration": 16,
    "start_time": "2023-04-08T06:51:03.975Z"
   },
   {
    "duration": 25,
    "start_time": "2023-04-08T06:51:07.108Z"
   },
   {
    "duration": 5439,
    "start_time": "2023-04-08T06:51:33.198Z"
   },
   {
    "duration": 25,
    "start_time": "2023-04-08T06:51:49.063Z"
   },
   {
    "duration": 179,
    "start_time": "2023-04-08T06:51:58.407Z"
   },
   {
    "duration": 209,
    "start_time": "2023-04-08T06:52:37.146Z"
   },
   {
    "duration": 265,
    "start_time": "2023-04-08T06:53:48.447Z"
   },
   {
    "duration": 214,
    "start_time": "2023-04-08T06:55:19.257Z"
   },
   {
    "duration": 224,
    "start_time": "2023-04-08T06:55:38.923Z"
   }
  ],
  "kernelspec": {
   "display_name": "Python 3 (ipykernel)",
   "language": "python",
   "name": "python3"
  },
  "language_info": {
   "codemirror_mode": {
    "name": "ipython",
    "version": 3
   },
   "file_extension": ".py",
   "mimetype": "text/x-python",
   "name": "python",
   "nbconvert_exporter": "python",
   "pygments_lexer": "ipython3",
   "version": "3.9.16"
  },
  "toc": {
   "base_numbering": 1,
   "nav_menu": {},
   "number_sections": true,
   "sideBar": true,
   "skip_h1_title": true,
   "title_cell": "Содержание",
   "title_sidebar": "Contents",
   "toc_cell": true,
   "toc_position": {
    "height": "calc(100% - 180px)",
    "left": "10px",
    "top": "150px",
    "width": "165px"
   },
   "toc_section_display": true,
   "toc_window_display": true
  },
  "varInspector": {
   "cols": {
    "lenName": 16,
    "lenType": 16,
    "lenVar": 40
   },
   "kernels_config": {
    "python": {
     "delete_cmd_postfix": "",
     "delete_cmd_prefix": "del ",
     "library": "var_list.py",
     "varRefreshCmd": "print(var_dic_list())"
    },
    "r": {
     "delete_cmd_postfix": ") ",
     "delete_cmd_prefix": "rm(",
     "library": "var_list.r",
     "varRefreshCmd": "cat(var_dic_list()) "
    }
   },
   "types_to_exclude": [
    "module",
    "function",
    "builtin_function_or_method",
    "instance",
    "_Feature"
   ],
   "window_display": false
  }
 },
 "nbformat": 4,
 "nbformat_minor": 2
}
